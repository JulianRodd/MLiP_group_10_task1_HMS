{
 "cells": [
  {
   "cell_type": "markdown",
   "id": "29d39687",
   "metadata": {
    "papermill": {
     "duration": 0.004133,
     "end_time": "2024-03-04T14:33:46.585767",
     "exception": false,
     "start_time": "2024-03-04T14:33:46.581634",
     "status": "completed"
    },
    "tags": []
   },
   "source": [
    "# Setup Notebook and Repository"
   ]
  },
  {
   "cell_type": "code",
   "execution_count": 1,
   "id": "9771bd90",
   "metadata": {
    "_cell_guid": "b1076dfc-b9ad-4769-8c92-a6c4dae69d19",
    "_uuid": "8f2839f25d086af736a60e9eeb907d3b93b6e0e5",
    "execution": {
     "iopub.execute_input": "2024-03-04T14:33:46.595196Z",
     "iopub.status.busy": "2024-03-04T14:33:46.594346Z",
     "iopub.status.idle": "2024-03-04T14:33:46.676749Z",
     "shell.execute_reply": "2024-03-04T14:33:46.675767Z"
    },
    "papermill": {
     "duration": 0.089585,
     "end_time": "2024-03-04T14:33:46.679142",
     "exception": false,
     "start_time": "2024-03-04T14:33:46.589557",
     "status": "completed"
    },
    "tags": []
   },
   "outputs": [
    {
     "name": "stdout",
     "output_type": "stream",
     "text": [
      "Created/checked directory: /kaggle/working/.\n",
      "Copied /kaggle/input/repository24/generics.py to /kaggle/working/./generics.py\n",
      "Created/checked directory: /kaggle/working/utils\n",
      "Copied /kaggle/input/repository24/utils/inference_utils.py to /kaggle/working/utils/inference_utils.py\n",
      "Copied /kaggle/input/repository24/utils/failure_utils.py to /kaggle/working/utils/failure_utils.py\n",
      "Copied /kaggle/input/repository24/utils/mspca_utils.py to /kaggle/working/utils/mspca_utils.py\n",
      "Copied /kaggle/input/repository24/utils/loader_utils.py to /kaggle/working/utils/loader_utils.py\n",
      "Copied /kaggle/input/repository24/utils/ica_utils.py to /kaggle/working/utils/ica_utils.py\n",
      "Copied /kaggle/input/repository24/utils/grid_search_utils.py to /kaggle/working/utils/grid_search_utils.py\n",
      "Copied /kaggle/input/repository24/utils/signal_preprocessing_utils.py to /kaggle/working/utils/signal_preprocessing_utils.py\n",
      "Copied /kaggle/input/repository24/utils/eeg_processing_utils.py to /kaggle/working/utils/eeg_processing_utils.py\n",
      "Copied /kaggle/input/repository24/utils/visualisation_utils.py to /kaggle/working/utils/visualisation_utils.py\n",
      "Copied /kaggle/input/repository24/utils/training_utils.py to /kaggle/working/utils/training_utils.py\n",
      "Copied /kaggle/input/repository24/utils/data_preprocessing_utils.py to /kaggle/working/utils/data_preprocessing_utils.py\n",
      "Copied /kaggle/input/repository24/utils/__init__.py to /kaggle/working/utils/__init__.py\n",
      "Copied /kaggle/input/repository24/utils/general_utils.py to /kaggle/working/utils/general_utils.py\n",
      "Created/checked directory: /kaggle/working/datasets\n",
      "Copied /kaggle/input/repository24/datasets/data_loader.py to /kaggle/working/datasets/data_loader.py\n",
      "Copied /kaggle/input/repository24/datasets/data_loader_configs.py to /kaggle/working/datasets/data_loader_configs.py\n",
      "Copied /kaggle/input/repository24/datasets/__init__.py to /kaggle/working/datasets/__init__.py\n",
      "Created/checked directory: /kaggle/working/models\n",
      "Copied /kaggle/input/repository24/models/custom_model_configs.py to /kaggle/working/models/custom_model_configs.py\n",
      "Copied /kaggle/input/repository24/models/CustomModel.py to /kaggle/working/models/CustomModel.py\n",
      "Copied /kaggle/input/repository24/models/__init__.py to /kaggle/working/models/__init__.py\n",
      "Created/checked directory: /kaggle/working/logs\n",
      "Created/checked directory: /kaggle/working/data/cache\n",
      "Created/checked directory: /kaggle/working/checkpoints/other_models\n",
      "Created/checked directory: /kaggle/working/checkpoints/best_models\n"
     ]
    }
   ],
   "source": [
    "import os\n",
    "import shutil\n",
    "\n",
    "# Constants\n",
    "SRC_FOLDER = \"/kaggle/input/repository24\"\n",
    "DST_FOLDER = \"/kaggle/working\"\n",
    "DIRS_TO_CREATE = ['/kaggle/working/logs', '/kaggle/working/data/cache', '/kaggle/working/checkpoints/other_models', '/kaggle/working/checkpoints/best_models']\n",
    "\n",
    "def copy_all_python_files(src, dst):\n",
    "    for root, _, files in os.walk(src):\n",
    "        dest_path = os.path.join(dst, os.path.relpath(root, src))\n",
    "        os.makedirs(dest_path, exist_ok=True)\n",
    "        print(f\"Created/checked directory: {dest_path}\")\n",
    "        for file in filter(lambda f: f.endswith(\".py\"), files):\n",
    "            src_file = os.path.join(root, file)\n",
    "            dst_file = os.path.join(dest_path, file)\n",
    "            shutil.copyfile(src_file, dst_file)\n",
    "            print(f\"Copied {src_file} to {dst_file}\")\n",
    "\n",
    "def create_directories(dirs):\n",
    "    for directory in dirs:\n",
    "        os.makedirs(directory, exist_ok=True)\n",
    "        print(f\"Created/checked directory: {directory}\")\n",
    "\n",
    "# Execution\n",
    "copy_all_python_files(SRC_FOLDER, DST_FOLDER)\n",
    "create_directories(DIRS_TO_CREATE)"
   ]
  },
  {
   "cell_type": "code",
   "execution_count": 2,
   "id": "03e0522b",
   "metadata": {
    "execution": {
     "iopub.execute_input": "2024-03-04T14:33:46.687934Z",
     "iopub.status.busy": "2024-03-04T14:33:46.687617Z",
     "iopub.status.idle": "2024-03-04T14:33:50.450017Z",
     "shell.execute_reply": "2024-03-04T14:33:50.449109Z"
    },
    "papermill": {
     "duration": 3.769383,
     "end_time": "2024-03-04T14:33:50.452353",
     "exception": false,
     "start_time": "2024-03-04T14:33:46.682970",
     "status": "completed"
    },
    "tags": []
   },
   "outputs": [],
   "source": [
    "import sys\n",
    "best_checkpoints_folder_name = 'efficientnetb0config-big-weight-decay'\n",
    "class Paths:\n",
    "    PRE_LOADED_EEGS = \"/kaggle/input/brain-eeg-spectrograms/eeg_specs.npy\"\n",
    "    PRE_LOADED_SPECTROGRAMS = \"/kaggle/input/brain-spectrograms/specs.npy\"\n",
    "    TRAIN_CSV = (\n",
    "        \"/kaggle/input/hms-harmful-brain-activity-classification/train.csv\"\n",
    "    )\n",
    "    TEST_CSV = \"/kaggle/input/hms-harmful-brain-activity-classification/test.csv\"\n",
    "    TEST_EEGS = (\n",
    "        \"/kaggle/input/hms-harmful-brain-activity-classification/test_eegs/\"\n",
    "    )\n",
    "    TRAIN_EEGS = (\n",
    "        \"/kaggle/input/hms-harmful-brain-activity-classification/train_eegs/\"\n",
    "    )\n",
    "    TRAIN_SPECTROGRAMS = \"/kaggle/input/hms-harmful-brain-activity-classification/train_spectrograms/\"\n",
    "    TEST_SPECTROGRAMS = \"/kaggle/input/hms-harmful-brain-activity-classification/test_spectrograms/\"\n",
    "\n",
    "    OTHER_MODEL_CHECKPOINTS = \"/kaggle/working/checkpoints/other_models/\"\n",
    "    BEST_MODEL_CHECKPOINTS = f\"/kaggle/input/{best_checkpoints_folder_name}/\"\n",
    "    CACHE_PATH_READ = \"/kaggle/working/data/cache/\"\n",
    "    CACHE_PATH_WRITE = \"/kaggle/working/data/cache/\"\n",
    "    TENSORBOARD = \"/kaggle/working/tensorboard/\"\n",
    "    TENSORBOARD_MODELS = \"/kaggle/working/tensorboard/models/\"\n",
    "    TENSORBOARD_TRAINING = \"/kaggle/working/tensorboard/training/\"\n",
    "    TENSORBOARD_DATASETS = \"/kaggle/working/tensorboard/datasets/\"\n",
    "    TENSORBOARD_INFERENCE = \"/kaggle/working/tensorboard/inference/\"\n",
    "\n",
    "    LOG_PATH = \"/kaggle/working/logs/\"\n",
    "\n",
    "import generics\n",
    "generics.Paths = Paths\n",
    "sys.modules['generics'] = generics\n"
   ]
  },
  {
   "cell_type": "code",
   "execution_count": 3,
   "id": "aad1f6be",
   "metadata": {
    "execution": {
     "iopub.execute_input": "2024-03-04T14:33:50.461848Z",
     "iopub.status.busy": "2024-03-04T14:33:50.461056Z",
     "iopub.status.idle": "2024-03-04T14:33:50.465797Z",
     "shell.execute_reply": "2024-03-04T14:33:50.464931Z"
    },
    "papermill": {
     "duration": 0.011384,
     "end_time": "2024-03-04T14:33:50.467655",
     "exception": false,
     "start_time": "2024-03-04T14:33:50.456271",
     "status": "completed"
    },
    "tags": []
   },
   "outputs": [],
   "source": [
    "import torch\n",
    "from generics import Generics\n",
    "Generics.DEVICE = \"cuda\" if torch.cuda.is_available() else \"cpu\""
   ]
  },
  {
   "cell_type": "markdown",
   "id": "82668bed",
   "metadata": {
    "papermill": {
     "duration": 0.003331,
     "end_time": "2024-03-04T14:33:50.474587",
     "exception": false,
     "start_time": "2024-03-04T14:33:50.471256",
     "status": "completed"
    },
    "tags": []
   },
   "source": [
    "# Inference"
   ]
  },
  {
   "cell_type": "code",
   "execution_count": 4,
   "id": "f9d862e2",
   "metadata": {
    "execution": {
     "iopub.execute_input": "2024-03-04T14:33:50.483262Z",
     "iopub.status.busy": "2024-03-04T14:33:50.482461Z",
     "iopub.status.idle": "2024-03-04T14:34:09.053747Z",
     "shell.execute_reply": "2024-03-04T14:34:09.052933Z"
    },
    "papermill": {
     "duration": 18.578056,
     "end_time": "2024-03-04T14:34:09.056080",
     "exception": false,
     "start_time": "2024-03-04T14:33:50.478024",
     "status": "completed"
    },
    "tags": []
   },
   "outputs": [
    {
     "name": "stderr",
     "output_type": "stream",
     "text": [
      "2024-03-04 14:33:52.823049: E external/local_xla/xla/stream_executor/cuda/cuda_dnn.cc:9261] Unable to register cuDNN factory: Attempting to register factory for plugin cuDNN when one has already been registered\n",
      "2024-03-04 14:33:52.823186: E external/local_xla/xla/stream_executor/cuda/cuda_fft.cc:607] Unable to register cuFFT factory: Attempting to register factory for plugin cuFFT when one has already been registered\n",
      "2024-03-04 14:33:52.953101: E external/local_xla/xla/stream_executor/cuda/cuda_blas.cc:1515] Unable to register cuBLAS factory: Attempting to register factory for plugin cuBLAS when one has already been registered\n"
     ]
    }
   ],
   "source": [
    "from datasets.data_loader import CustomDataset\n",
    "from datasets.data_loader_configs import BaseDataConfig\n",
    "from generics import Paths\n",
    "from models.CustomModel import CustomModel\n",
    "from models.custom_model_configs import BaseModelConfig, EfficientNetB0Config_Big, EfficientNetB0Config_Big_Weight_Decay_FROZEN_32, EfficientNetB0Config_Big_Weight_Decay_Only_Custom_spectrograms\n",
    "from utils.data_preprocessing_utils import filter_by_agreement, filter_by_annotators\n",
    "from utils.general_utils import get_logger\n",
    "from utils.grid_search_utils import grid_search\n",
    "from utils.inference_utils import perform_inference\n",
    "from utils.training_utils import train\n",
    "from utils.loader_utils import load_main_dfs\n",
    "from generics import Generics\n",
    "import numpy as np\n",
    "import pandas as pd"
   ]
  },
  {
   "cell_type": "code",
   "execution_count": 5,
   "id": "5d8cfa42",
   "metadata": {
    "execution": {
     "iopub.execute_input": "2024-03-04T14:34:09.064949Z",
     "iopub.status.busy": "2024-03-04T14:34:09.064616Z",
     "iopub.status.idle": "2024-03-04T14:34:09.074514Z",
     "shell.execute_reply": "2024-03-04T14:34:09.073586Z"
    },
    "papermill": {
     "duration": 0.016731,
     "end_time": "2024-03-04T14:34:09.076595",
     "exception": false,
     "start_time": "2024-03-04T14:34:09.059864",
     "status": "completed"
    },
    "tags": []
   },
   "outputs": [],
   "source": [
    "def create_submission(test_df, predictions, target_columns, submission_file):\n",
    "    \"\"\"\n",
    "    Creates a submission file from the predictions.\n",
    "\n",
    "    Args:\n",
    "        test_df (pd.DataFrame): The test DataFrame containing 'eeg_id'.\n",
    "        predictions (np.ndarray): The predictions from the models.\n",
    "        target_columns (list): List of target column names.\n",
    "        submission_file (str): Path to the submission file.\n",
    "\n",
    "    Returns:\n",
    "        pd.DataFrame: The created submission DataFrame.\n",
    "    \"\"\"\n",
    "    # Ensure the number of rows in predictions matches test_df\n",
    "    assert len(test_df) == len(predictions), \"Mismatch in number of predictions and number of test samples\"\n",
    "    predictions = np.around(predictions, decimals=32, out=None)\n",
    "    predictions = np.float32(predictions)\n",
    "    predictions = predictions / np.sum(predictions, axis=1)[:, np.newaxis]\n",
    "    if not np.allclose(np.sum(predictions, axis = 1), np.float32(1.0), atol=1e-32, rtol=1e-32):\n",
    "        raise TypeError(f'Predictions must sum to one! Predictions: {predictions}')\n",
    "\n",
    "    # Create a DataFrame for submission\n",
    "    submission_df = pd.DataFrame(predictions, columns=target_columns, dtype='float32')\n",
    "    submission_df['eeg_id'] = test_df['eeg_id'].values\n",
    "\n",
    "    # Reorder the columns to have 'eeg_id' first\n",
    "    column_order = ['eeg_id'] + target_columns\n",
    "    submission_df = submission_df[column_order]\n",
    "    submission_df = submission_df.astype({'eeg_id': int,\n",
    "                                          'seizure_vote': 'float32',\n",
    "                                          'lpd_vote': 'float32',\n",
    "                                          'gpd_vote': 'float32',\n",
    "                                          'lrda_vote': 'float32',\n",
    "                                          'grda_vote': 'float32',\n",
    "                                          'other_vote': 'float32'})\n",
    "    pd.options.display.float_format = '{:,.32f}'.format\n",
    "    submission_df.head()\n",
    "    # Save the submission file\n",
    "    submission_df.to_csv(submission_file, index=None, float_format='%.32f')\n",
    "\n",
    "    print(f'Submission shape: {submission_df.shape}')\n",
    "    return submission_df"
   ]
  },
  {
   "cell_type": "code",
   "execution_count": 6,
   "id": "4a553953",
   "metadata": {
    "execution": {
     "iopub.execute_input": "2024-03-04T14:34:09.085347Z",
     "iopub.status.busy": "2024-03-04T14:34:09.084998Z",
     "iopub.status.idle": "2024-03-04T14:34:22.488655Z",
     "shell.execute_reply": "2024-03-04T14:34:22.487373Z"
    },
    "papermill": {
     "duration": 13.410242,
     "end_time": "2024-03-04T14:34:22.490646",
     "exception": false,
     "start_time": "2024-03-04T14:34:09.080404",
     "status": "completed"
    },
    "tags": []
   },
   "outputs": [
    {
     "name": "stderr",
     "output_type": "stream",
     "text": [
      "2024-03-04 14:34:09,563 - data_loader.log - INFO - Processing and caching new dataset\n",
      "2024-03-04 14:34:09,571 - eeg_data_loader.log - INFO - Loading 1 EEGs out of 1 available in dataset\n"
     ]
    },
    {
     "name": "stdout",
     "output_type": "stream",
     "text": [
      "Train non-overlapp eeg_id shape: (17089, 12)\n"
     ]
    },
    {
     "name": "stderr",
     "output_type": "stream",
     "text": [
      "100%|██████████| 1/1 [00:00<00:00,  6.33it/s]\n",
      "Processing EEG Data:   0%|          | 0/1 [00:00<?, ?it/s]/opt/conda/lib/python3.10/site-packages/sklearn/decomposition/_fastica.py:542: FutureWarning: Starting in v1.3, whiten='unit-variance' will be used by default.\n",
      "  warnings.warn(\n",
      "Processing EEG Data: 100%|██████████| 1/1 [00:10<00:00, 10.43s/it]\n",
      "2024-03-04 14:34:20,176 - spectrogram_loader.log - INFO - Loading 1 spectrograms out of 1 available in dataset\n",
      "Loading Spectrograms: 100%|██████████| 1/1 [00:00<00:00, 10.09it/s]\n",
      "2024-03-04 14:34:20,280 - data_loader.log - INFO - Dataset loaded: test mode, 1 samples, with config Config_Normalize_Group_Raw_ICA\n",
      "2024-03-04 14:34:20,284 - models/models.CustomModel - INFO - Using device: cuda\n",
      "2024-03-04 14:34:21,142 - models/models.CustomModel - INFO - tf_efficientnet_b0 initialized with config EfficientNetB0Config_Big_Weight_Decay\n",
      "Inference: 100%|██████████| 1/1 [00:00<00:00,  1.21test_batch/s]"
     ]
    },
    {
     "name": "stdout",
     "output_type": "stream",
     "text": [
      "Submission shape: (1, 7)\n"
     ]
    },
    {
     "name": "stderr",
     "output_type": "stream",
     "text": [
      "\n"
     ]
    },
    {
     "data": {
      "text/html": [
       "<div>\n",
       "<style scoped>\n",
       "    .dataframe tbody tr th:only-of-type {\n",
       "        vertical-align: middle;\n",
       "    }\n",
       "\n",
       "    .dataframe tbody tr th {\n",
       "        vertical-align: top;\n",
       "    }\n",
       "\n",
       "    .dataframe thead th {\n",
       "        text-align: right;\n",
       "    }\n",
       "</style>\n",
       "<table border=\"1\" class=\"dataframe\">\n",
       "  <thead>\n",
       "    <tr style=\"text-align: right;\">\n",
       "      <th></th>\n",
       "      <th>eeg_id</th>\n",
       "      <th>seizure_vote</th>\n",
       "      <th>lpd_vote</th>\n",
       "      <th>gpd_vote</th>\n",
       "      <th>lrda_vote</th>\n",
       "      <th>grda_vote</th>\n",
       "      <th>other_vote</th>\n",
       "    </tr>\n",
       "  </thead>\n",
       "  <tbody>\n",
       "    <tr>\n",
       "      <th>0</th>\n",
       "      <td>3911565283</td>\n",
       "      <td>0.01430489495396614074707031250000</td>\n",
       "      <td>0.01023497804999351501464843750000</td>\n",
       "      <td>0.00723244994878768920898437500000</td>\n",
       "      <td>0.01604069583117961883544921875000</td>\n",
       "      <td>0.03097870759665966033935546875000</td>\n",
       "      <td>0.92120832204818725585937500000000</td>\n",
       "    </tr>\n",
       "  </tbody>\n",
       "</table>\n",
       "</div>"
      ],
      "text/plain": [
       "       eeg_id                       seizure_vote  \\\n",
       "0  3911565283 0.01430489495396614074707031250000   \n",
       "\n",
       "                            lpd_vote                           gpd_vote  \\\n",
       "0 0.01023497804999351501464843750000 0.00723244994878768920898437500000   \n",
       "\n",
       "                           lrda_vote                          grda_vote  \\\n",
       "0 0.01604069583117961883544921875000 0.03097870759665966033935546875000   \n",
       "\n",
       "                          other_vote  \n",
       "0 0.92120832204818725585937500000000  "
      ]
     },
     "execution_count": 6,
     "metadata": {},
     "output_type": "execute_result"
    }
   ],
   "source": [
    "class Config_Normalize_Group_Raw_ICA(BaseDataConfig):\n",
    "    NORMALIZE_EEG_SPECTROGRAMS = True\n",
    "    NORMALIZE_INDIVIDUALLY = False\n",
    "    APPLY_ICA_RAW_EEG = True\n",
    "    USE_PRELOADED_EEG_SPECTROGRAMS = False\n",
    "    USE_PRELOADED_SPECTROGRAMS = False\n",
    "    BATCH_SIZE_TEST = 1\n",
    "\n",
    "\n",
    "class EfficientNetB0Config_Big_Weight_Decay(BaseModelConfig):\n",
    "    MODEL = \"tf_efficientnet_b0\"\n",
    "    FREEZE = False\n",
    "    EPOCHS = 20\n",
    "    GRADIENT_ACCUMULATION_STEPS = 1\n",
    "    WEIGHT_DECAY = 0.01\n",
    "    MAX_LEARNING_RATE_SCHEDULERER = 0.001\n",
    "    USE_KAGGLE_SPECTROGRAMS = True\n",
    "\n",
    "data_loader_config = Config_Normalize_Group_Raw_ICA\n",
    "model_config = EfficientNetB0Config_Big_Weight_Decay\n",
    "    \n",
    "_, _, test_df = load_main_dfs(data_loader_config, train_val_split=(0.8, 0.2))\n",
    "\n",
    "test_dataset = CustomDataset(config=data_loader_config, main_df = test_df, mode=\"test\", cache=False)\n",
    "\n",
    "model = CustomModel(model_config, pretrained = False)\n",
    "\n",
    "modelDir = f\"{Paths.BEST_MODEL_CHECKPOINTS}best_{model_config.MODEL}_{model_config.NAME}_{data_loader_config.NAME}.pth\"\n",
    "\n",
    "preds = perform_inference(test_dataset, model, modelDir)\n",
    "\n",
    "create_submission(test_df, preds, Generics.LABEL_COLS, \"submission.csv\")"
   ]
  },
  {
   "cell_type": "code",
   "execution_count": null,
   "id": "89c673b3",
   "metadata": {
    "papermill": {
     "duration": 0.005529,
     "end_time": "2024-03-04T14:34:22.501851",
     "exception": false,
     "start_time": "2024-03-04T14:34:22.496322",
     "status": "completed"
    },
    "tags": []
   },
   "outputs": [],
   "source": []
  }
 ],
 "metadata": {
  "kaggle": {
   "accelerator": "gpu",
   "dataSources": [
    {
     "databundleVersionId": 7469972,
     "sourceId": 59093,
     "sourceType": "competition"
    },
    {
     "datasetId": 4504346,
     "sourceId": 7713232,
     "sourceType": "datasetVersion"
    },
    {
     "datasetId": 4537606,
     "sourceId": 7759182,
     "sourceType": "datasetVersion"
    }
   ],
   "dockerImageVersionId": 30646,
   "isGpuEnabled": true,
   "isInternetEnabled": false,
   "language": "python",
   "sourceType": "notebook"
  },
  "kernelspec": {
   "display_name": "Python 3",
   "language": "python",
   "name": "python3"
  },
  "language_info": {
   "codemirror_mode": {
    "name": "ipython",
    "version": 3
   },
   "file_extension": ".py",
   "mimetype": "text/x-python",
   "name": "python",
   "nbconvert_exporter": "python",
   "pygments_lexer": "ipython3",
   "version": "3.10.13"
  },
  "papermill": {
   "default_parameters": {},
   "duration": 42.262408,
   "end_time": "2024-03-04T14:34:25.920188",
   "environment_variables": {},
   "exception": null,
   "input_path": "__notebook__.ipynb",
   "output_path": "__notebook__.ipynb",
   "parameters": {},
   "start_time": "2024-03-04T14:33:43.657780",
   "version": "2.5.0"
  }
 },
 "nbformat": 4,
 "nbformat_minor": 5
}
