{
 "cells": [
  {
   "cell_type": "markdown",
   "id": "e0c7df7f",
   "metadata": {
    "papermill": {
     "duration": 0.003341,
     "end_time": "2024-02-27T10:40:47.294687",
     "exception": false,
     "start_time": "2024-02-27T10:40:47.291346",
     "status": "completed"
    },
    "tags": []
   },
   "source": [
    "# Setup Notebook and Repository\n"
   ]
  },
  {
   "cell_type": "code",
   "execution_count": 1,
   "id": "f9211756",
   "metadata": {
    "execution": {
     "iopub.execute_input": "2024-02-27T10:40:47.302388Z",
     "iopub.status.busy": "2024-02-27T10:40:47.301707Z",
     "iopub.status.idle": "2024-02-27T10:40:47.378758Z",
     "shell.execute_reply": "2024-02-27T10:40:47.377658Z"
    },
    "papermill": {
     "duration": 0.08333,
     "end_time": "2024-02-27T10:40:47.381021",
     "exception": false,
     "start_time": "2024-02-27T10:40:47.297691",
     "status": "completed"
    },
    "tags": []
   },
   "outputs": [
    {
     "name": "stdout",
     "output_type": "stream",
     "text": [
      "Created/checked directory: /kaggle/working/.\n",
      "Copied /kaggle/input/repository8/generics.py to /kaggle/working/./generics.py\n",
      "Copied /kaggle/input/repository8/main.py to /kaggle/working/./main.py\n",
      "Created/checked directory: /kaggle/working/utils\n",
      "Copied /kaggle/input/repository8/utils/inference_utils.py to /kaggle/working/utils/inference_utils.py\n",
      "Copied /kaggle/input/repository8/utils/failure_utils.py to /kaggle/working/utils/failure_utils.py\n",
      "Copied /kaggle/input/repository8/utils/mspca_utils.py to /kaggle/working/utils/mspca_utils.py\n",
      "Copied /kaggle/input/repository8/utils/loader_utils.py to /kaggle/working/utils/loader_utils.py\n",
      "Copied /kaggle/input/repository8/utils/ica_utils.py to /kaggle/working/utils/ica_utils.py\n",
      "Copied /kaggle/input/repository8/utils/grid_search_utils.py to /kaggle/working/utils/grid_search_utils.py\n",
      "Copied /kaggle/input/repository8/utils/signal_preprocessing_utils.py to /kaggle/working/utils/signal_preprocessing_utils.py\n",
      "Copied /kaggle/input/repository8/utils/eeg_processing_utils.py to /kaggle/working/utils/eeg_processing_utils.py\n",
      "Copied /kaggle/input/repository8/utils/visualisation_utils.py to /kaggle/working/utils/visualisation_utils.py\n",
      "Copied /kaggle/input/repository8/utils/training_utils.py to /kaggle/working/utils/training_utils.py\n",
      "Copied /kaggle/input/repository8/utils/data_preprocessing_utils.py to /kaggle/working/utils/data_preprocessing_utils.py\n",
      "Copied /kaggle/input/repository8/utils/__init__.py to /kaggle/working/utils/__init__.py\n",
      "Copied /kaggle/input/repository8/utils/general_utils.py to /kaggle/working/utils/general_utils.py\n",
      "Created/checked directory: /kaggle/working/datasets\n",
      "Copied /kaggle/input/repository8/datasets/data_loader.py to /kaggle/working/datasets/data_loader.py\n",
      "Copied /kaggle/input/repository8/datasets/data_loader_configs.py to /kaggle/working/datasets/data_loader_configs.py\n",
      "Copied /kaggle/input/repository8/datasets/__init__.py to /kaggle/working/datasets/__init__.py\n",
      "Created/checked directory: /kaggle/working/models\n",
      "Copied /kaggle/input/repository8/models/custom_model_configs.py to /kaggle/working/models/custom_model_configs.py\n",
      "Copied /kaggle/input/repository8/models/CustomModel.py to /kaggle/working/models/CustomModel.py\n",
      "Copied /kaggle/input/repository8/models/__init__.py to /kaggle/working/models/__init__.py\n",
      "Created/checked directory: /kaggle/working/logs\n",
      "Created/checked directory: /kaggle/working/data/cache\n",
      "Created/checked directory: /kaggle/working/checkpoints/other_models\n",
      "Created/checked directory: /kaggle/working/checkpoints/best_models\n"
     ]
    }
   ],
   "source": [
    "import os\n",
    "import shutil\n",
    "\n",
    "# Constants\n",
    "SRC_FOLDER = \"/kaggle/input/repository8\"\n",
    "DST_FOLDER = \"/kaggle/working\"\n",
    "DIRS_TO_CREATE = [\n",
    "    \"/kaggle/working/logs\",\n",
    "    \"/kaggle/working/data/cache\",\n",
    "    \"/kaggle/working/checkpoints/other_models\",\n",
    "    \"/kaggle/working/checkpoints/best_models\",\n",
    "]\n",
    "\n",
    "\n",
    "def copy_all_python_files(src, dst):\n",
    "    for root, _, files in os.walk(src):\n",
    "        dest_path = os.path.join(dst, os.path.relpath(root, src))\n",
    "        os.makedirs(dest_path, exist_ok=True)\n",
    "        print(f\"Created/checked directory: {dest_path}\")\n",
    "        for file in filter(lambda f: f.endswith(\".py\"), files):\n",
    "            src_file = os.path.join(root, file)\n",
    "            dst_file = os.path.join(dest_path, file)\n",
    "            shutil.copyfile(src_file, dst_file)\n",
    "            print(f\"Copied {src_file} to {dst_file}\")\n",
    "\n",
    "\n",
    "def create_directories(dirs):\n",
    "    for directory in dirs:\n",
    "        os.makedirs(directory, exist_ok=True)\n",
    "        print(f\"Created/checked directory: {directory}\")\n",
    "\n",
    "\n",
    "# Execution\n",
    "copy_all_python_files(SRC_FOLDER, DST_FOLDER)\n",
    "create_directories(DIRS_TO_CREATE)"
   ]
  },
  {
   "cell_type": "code",
   "execution_count": 2,
   "id": "94b48754",
   "metadata": {
    "execution": {
     "iopub.execute_input": "2024-02-27T10:40:47.388194Z",
     "iopub.status.busy": "2024-02-27T10:40:47.387949Z",
     "iopub.status.idle": "2024-02-27T10:40:51.137287Z",
     "shell.execute_reply": "2024-02-27T10:40:51.136309Z"
    },
    "papermill": {
     "duration": 3.755483,
     "end_time": "2024-02-27T10:40:51.139580",
     "exception": false,
     "start_time": "2024-02-27T10:40:47.384097",
     "status": "completed"
    },
    "tags": []
   },
   "outputs": [],
   "source": [
    "import sys\n",
    "\n",
    "cache_folder_name = \"config-normalize-group-raw-ica-0\"\n",
    "\n",
    "\n",
    "class Paths:\n",
    "    PRE_LOADED_EEGS = \"/kaggle/input/brain-eeg-spectrograms/eeg_specs.npy\"\n",
    "    PRE_LOADED_SPECTROGRAMS = \"/kaggle/input/brain-spectrograms/specs.npy\"\n",
    "    TRAIN_CSV = \"/kaggle/input/hms-harmful-brain-activity-classification/train.csv\"\n",
    "    TEST_CSV = \"/kaggle/input/hms-harmful-brain-activity-classification/test.csv\"\n",
    "    TEST_EEGS = \"/kaggle/input/hms-harmful-brain-activity-classification/test_eegs/\"\n",
    "    TRAIN_EEGS = \"/kaggle/input/hms-harmful-brain-activity-classification/train_eegs/\"\n",
    "    TRAIN_SPECTROGRAMS = (\n",
    "        \"/kaggle/input/hms-harmful-brain-activity-classification/train_spectrograms/\"\n",
    "    )\n",
    "    TEST_SPECTROGRAMS = (\n",
    "        \"/kaggle/input/hms-harmful-brain-activity-classification/test_spectrograms/\"\n",
    "    )\n",
    "\n",
    "    OTHER_MODEL_CHECKPOINTS = \"/kaggle/working/checkpoints/other_models/\"\n",
    "    BEST_MODEL_CHECKPOINTS = \"/kaggle/working/checkpoints/best_models/\"\n",
    "    CACHE_PATH_READ = f\"/kaggle/input/{cache_folder_name}/\"\n",
    "    CACHE_PATH_WRITE = f\"/kaggle/working/data/cache/\"\n",
    "    TENSORBOARD = \"/kaggle/working/tensorboard/\"\n",
    "    TENSORBOARD_MODELS = \"/kaggle/working/tensorboard/models/\"\n",
    "    TENSORBOARD_TRAINING = \"/kaggle/working/tensorboard/training/\"\n",
    "    TENSORBOARD_DATASETS = \"/kaggle/working/tensorboard/datasets/\"\n",
    "    TENSORBOARD_INFERENCE = \"/kaggle/working/tensorboard/inference/\"\n",
    "\n",
    "    LOG_PATH = \"/kaggle/working/logs/\"\n",
    "\n",
    "\n",
    "import generics\n",
    "\n",
    "generics.Paths = Paths\n",
    "sys.modules[\"generics\"] = generics"
   ]
  },
  {
   "cell_type": "code",
   "execution_count": 3,
   "id": "980e9b20",
   "metadata": {
    "execution": {
     "iopub.execute_input": "2024-02-27T10:40:51.147882Z",
     "iopub.status.busy": "2024-02-27T10:40:51.147134Z",
     "iopub.status.idle": "2024-02-27T10:40:51.151437Z",
     "shell.execute_reply": "2024-02-27T10:40:51.150672Z"
    },
    "papermill": {
     "duration": 0.010273,
     "end_time": "2024-02-27T10:40:51.153294",
     "exception": false,
     "start_time": "2024-02-27T10:40:51.143021",
     "status": "completed"
    },
    "tags": []
   },
   "outputs": [],
   "source": [
    "import torch\n",
    "from generics import Generics\n",
    "\n",
    "Generics.DEVICE = \"cuda\" if torch.cuda.is_available() else \"cpu\""
   ]
  },
  {
   "cell_type": "markdown",
   "id": "d1850a87",
   "metadata": {
    "papermill": {
     "duration": 0.00284,
     "end_time": "2024-02-27T10:40:51.159111",
     "exception": false,
     "start_time": "2024-02-27T10:40:51.156271",
     "status": "completed"
    },
    "tags": []
   },
   "source": [
    "# Training\n"
   ]
  },
  {
   "cell_type": "code",
   "execution_count": 4,
   "id": "a31b1525",
   "metadata": {
    "_cell_guid": "b1076dfc-b9ad-4769-8c92-a6c4dae69d19",
    "_uuid": "8f2839f25d086af736a60e9eeb907d3b93b6e0e5",
    "execution": {
     "iopub.execute_input": "2024-02-27T10:40:51.166100Z",
     "iopub.status.busy": "2024-02-27T10:40:51.165836Z",
     "iopub.status.idle": "2024-02-27T11:25:16.002318Z",
     "shell.execute_reply": "2024-02-27T11:25:16.001446Z"
    },
    "papermill": {
     "duration": 2664.842314,
     "end_time": "2024-02-27T11:25:16.004445",
     "exception": false,
     "start_time": "2024-02-27T10:40:51.162131",
     "status": "completed"
    },
    "tags": []
   },
   "outputs": [
    {
     "name": "stderr",
     "output_type": "stream",
     "text": [
      "2024-02-27 10:40:53.544263: E external/local_xla/xla/stream_executor/cuda/cuda_dnn.cc:9261] Unable to register cuDNN factory: Attempting to register factory for plugin cuDNN when one has already been registered\n",
      "2024-02-27 10:40:53.544362: E external/local_xla/xla/stream_executor/cuda/cuda_fft.cc:607] Unable to register cuFFT factory: Attempting to register factory for plugin cuFFT when one has already been registered\n",
      "2024-02-27 10:40:53.696095: E external/local_xla/xla/stream_executor/cuda/cuda_blas.cc:1515] Unable to register cuBLAS factory: Attempting to register factory for plugin cuBLAS when one has already been registered\n",
      "2024-02-27 10:41:09,686 - data_loader.log - INFO - Loading dataset from cache: Config_Normalize_Group_Raw_ICA_0_train.npz\n"
     ]
    },
    {
     "name": "stdout",
     "output_type": "stream",
     "text": [
      "Train non-overlapp eeg_id shape: (17089, 12)\n"
     ]
    },
    {
     "name": "stderr",
     "output_type": "stream",
     "text": [
      "2024-02-27 10:41:24,100 - data_loader.log - INFO - Dataset loaded: train mode, 1560 samples, with config Config_Normalize_Group_Raw_ICA\n",
      "2024-02-27 10:41:24,104 - data_loader.log - INFO - Loading dataset from cache: Config_Normalize_Group_Raw_ICA_0_val.npz\n",
      "2024-02-27 10:41:24,104 - data_loader.log - INFO - Loading dataset from cache: Config_Normalize_Group_Raw_ICA_0_val.npz\n",
      "2024-02-27 10:41:27,566 - data_loader.log - INFO - Dataset loaded: val mode, 390 samples, with config Config_Normalize_Group_Raw_ICA\n",
      "2024-02-27 10:41:27,566 - data_loader.log - INFO - Dataset loaded: val mode, 390 samples, with config Config_Normalize_Group_Raw_ICA\n",
      "2024-02-27 10:41:27,615 - models/models.CustomModel - INFO - Using device: cuda\n"
     ]
    },
    {
     "name": "stdout",
     "output_type": "stream",
     "text": [
      "Dataset Summary:\n",
      "Mode: train\n",
      "Total Samples: 1560\n",
      "Unique Patients: 1560\n",
      "Unique EEGs: 1560\n",
      "Unique Spectrograms: 1560\n",
      "Augmentation: Disabled\n",
      "Label Distribution:\n",
      "seizure_vote    496.451309\n",
      "lpd_vote         61.605373\n",
      "gpd_vote         63.876083\n",
      "lrda_vote        92.379873\n",
      "grda_vote       315.493842\n",
      "other_vote      530.193520\n",
      "dtype: float64\n",
      "\n",
      "Vote Statistics:\n",
      "      seizure_vote  lpd_vote  gpd_vote  lrda_vote  grda_vote  other_vote\n",
      "mean      0.318238  0.039491  0.040946   0.059218   0.202240    0.339868\n",
      "var       0.196658  0.021626  0.024108   0.036461   0.133245    0.170138\n",
      "Spectrograms Loaded: 1560\n",
      "EEG Spectrograms Loaded: 1560\n",
      "\n",
      "Configuration Summary:\n",
      "+--------------------------------+--------------------------------------------------------------------------------------------------------------------------------------+\n",
      "| Configuration                  | Value                                                                                                                                |\n",
      "+--------------------------------+--------------------------------------------------------------------------------------------------------------------------------------+\n",
      "| APPLY_ICA_EEG_SPECTROGRAMS     | False                                                                                                                                |\n",
      "| APPLY_ICA_RAW_EEG              | True                                                                                                                                 |\n",
      "| APPLY_MSPCA_EEG_SPECTROGRAMS   | False                                                                                                                                |\n",
      "| APPLY_MSPCA_RAW_EEG            | False                                                                                                                                |\n",
      "| BATCH_SIZE_TEST                | 16                                                                                                                                   |\n",
      "| BATCH_SIZE_TRAIN               | 64                                                                                                                                   |\n",
      "| BATCH_SIZE_VAL                 | 16                                                                                                                                   |\n",
      "| DROP_LAST                      | True                                                                                                                                 |\n",
      "| FEATS                          | [['Fp1', 'F7', 'T3', 'T5', 'O1'], ['Fp1', 'F3', 'C3', 'P3', 'O1'], ['Fp2', 'F8', 'T4', 'T6', 'O2'], ['Fp2', 'F4', 'C4', 'P4', 'O2']] |\n",
      "| FILTER_BY_AGREEMENT            | False                                                                                                                                |\n",
      "| FILTER_BY_AGREEMENT_MIN        | 50                                                                                                                                   |\n",
      "| FILTER_BY_AGREEMENT_ON_VAL     | False                                                                                                                                |\n",
      "| FILTER_BY_ANNOTATOR            | False                                                                                                                                |\n",
      "| FILTER_BY_ANNOTATOR_MAX        | 22                                                                                                                                   |\n",
      "| FILTER_BY_ANNOTATOR_MIN        | 7                                                                                                                                    |\n",
      "| FILTER_BY_ANNOTATOR_ON_VAL     | False                                                                                                                                |\n",
      "| NAME                           | Config_Normalize_Group_Raw_ICA                                                                                                       |\n",
      "| NAMES                          | ['LL', 'LP', 'RP', 'RR']                                                                                                             |\n",
      "| NORMALIZE_EEG_SPECTROGRAMS     | True                                                                                                                                 |\n",
      "| NORMALIZE_INDIVIDUALLY         | False                                                                                                                                |\n",
      "| NORMALIZE_RAW_EEG              | False                                                                                                                                |\n",
      "| NUM_WORKERS                    | 0                                                                                                                                    |\n",
      "| N_COMPONENTS                   | 4                                                                                                                                    |\n",
      "| PIN_MEMORY                     | True                                                                                                                                 |\n",
      "| SHUFFLE_TRAIN                  | True                                                                                                                                 |\n",
      "| SUBSET_SAMPLE_COUNT            | 0                                                                                                                                    |\n",
      "| USE_PRELOADED_EEG_SPECTROGRAMS | False                                                                                                                                |\n",
      "| USE_PRELOADED_SPECTROGRAMS     | True                                                                                                                                 |\n",
      "| USE_WAVELET                    | None                                                                                                                                 |\n",
      "| VAL_SPLIT_RATIO                | 0.2                                                                                                                                  |\n",
      "+--------------------------------+--------------------------------------------------------------------------------------------------------------------------------------+\n",
      "Dataset Summary:\n",
      "Mode: val\n",
      "Total Samples: 390\n",
      "Unique Patients: 390\n",
      "Unique EEGs: 390\n",
      "Unique Spectrograms: 390\n",
      "Spectrograms Loaded: 390\n",
      "EEG Spectrograms Loaded: 390\n",
      "\n",
      "Configuration Summary:\n",
      "+--------------------------------+--------------------------------------------------------------------------------------------------------------------------------------+\n",
      "| Configuration                  | Value                                                                                                                                |\n",
      "+--------------------------------+--------------------------------------------------------------------------------------------------------------------------------------+\n",
      "| APPLY_ICA_EEG_SPECTROGRAMS     | False                                                                                                                                |\n",
      "| APPLY_ICA_RAW_EEG              | True                                                                                                                                 |\n",
      "| APPLY_MSPCA_EEG_SPECTROGRAMS   | False                                                                                                                                |\n",
      "| APPLY_MSPCA_RAW_EEG            | False                                                                                                                                |\n",
      "| BATCH_SIZE_TEST                | 16                                                                                                                                   |\n",
      "| BATCH_SIZE_TRAIN               | 64                                                                                                                                   |\n",
      "| BATCH_SIZE_VAL                 | 16                                                                                                                                   |\n",
      "| DROP_LAST                      | True                                                                                                                                 |\n",
      "| FEATS                          | [['Fp1', 'F7', 'T3', 'T5', 'O1'], ['Fp1', 'F3', 'C3', 'P3', 'O1'], ['Fp2', 'F8', 'T4', 'T6', 'O2'], ['Fp2', 'F4', 'C4', 'P4', 'O2']] |\n",
      "| FILTER_BY_AGREEMENT            | False                                                                                                                                |\n",
      "| FILTER_BY_AGREEMENT_MIN        | 50                                                                                                                                   |\n",
      "| FILTER_BY_AGREEMENT_ON_VAL     | False                                                                                                                                |\n",
      "| FILTER_BY_ANNOTATOR            | False                                                                                                                                |\n",
      "| FILTER_BY_ANNOTATOR_MAX        | 22                                                                                                                                   |\n",
      "| FILTER_BY_ANNOTATOR_MIN        | 7                                                                                                                                    |\n",
      "| FILTER_BY_ANNOTATOR_ON_VAL     | False                                                                                                                                |\n",
      "| NAME                           | Config_Normalize_Group_Raw_ICA                                                                                                       |\n",
      "| NAMES                          | ['LL', 'LP', 'RP', 'RR']                                                                                                             |\n",
      "| NORMALIZE_EEG_SPECTROGRAMS     | True                                                                                                                                 |\n",
      "| NORMALIZE_INDIVIDUALLY         | False                                                                                                                                |\n",
      "| NORMALIZE_RAW_EEG              | False                                                                                                                                |\n",
      "| NUM_WORKERS                    | 0                                                                                                                                    |\n",
      "| N_COMPONENTS                   | 4                                                                                                                                    |\n",
      "| PIN_MEMORY                     | True                                                                                                                                 |\n",
      "| SHUFFLE_TRAIN                  | True                                                                                                                                 |\n",
      "| SUBSET_SAMPLE_COUNT            | 0                                                                                                                                    |\n",
      "| USE_PRELOADED_EEG_SPECTROGRAMS | False                                                                                                                                |\n",
      "| USE_PRELOADED_SPECTROGRAMS     | True                                                                                                                                 |\n",
      "| USE_WAVELET                    | None                                                                                                                                 |\n",
      "| VAL_SPLIT_RATIO                | 0.2                                                                                                                                  |\n",
      "+--------------------------------+--------------------------------------------------------------------------------------------------------------------------------------+\n"
     ]
    },
    {
     "data": {
      "application/vnd.jupyter.widget-view+json": {
       "model_id": "dc1ba7e7e25a4202951b6c9b3e304ec1",
       "version_major": 2,
       "version_minor": 0
      },
      "text/plain": [
       "model.safetensors:   0%|          | 0.00/21.4M [00:00<?, ?B/s]"
      ]
     },
     "metadata": {},
     "output_type": "display_data"
    },
    {
     "name": "stderr",
     "output_type": "stream",
     "text": [
      "2024-02-27 10:41:28,494 - models/models.CustomModel - INFO - tf_efficientnet_b0 initialized with config EfficientNetB0Config_Big_Weight_Decay\n",
      "2024-02-27 10:41:28,499 - utils.training_utils - INFO - Epoch 1/20\n"
     ]
    },
    {
     "name": "stdout",
     "output_type": "stream",
     "text": [
      "starting training\n"
     ]
    },
    {
     "name": "stderr",
     "output_type": "stream",
     "text": [
      "Train:   4%|▍         | 1/24 [00:07<02:46,  7.25s/train_batch]"
     ]
    },
    {
     "name": "stdout",
     "output_type": "stream",
     "text": [
      "Epoch: [1][0/24] Elapsed 0m 7s (remain 2m 46s) Loss: 1.5544 Grad: 1.3234  LR: 0.00004447  \n"
     ]
    },
    {
     "name": "stderr",
     "output_type": "stream",
     "text": [
      "Train:  46%|████▌     | 11/24 [01:00<01:17,  5.98s/train_batch]"
     ]
    },
    {
     "name": "stdout",
     "output_type": "stream",
     "text": [
      "Epoch: [1][10/24] Elapsed 0m 58s (remain 1m 9s) Loss: 1.4942 Grad: 1.3983  LR: 0.00048724  \n"
     ]
    },
    {
     "name": "stderr",
     "output_type": "stream",
     "text": [
      "Train:  88%|████████▊ | 21/24 [01:53<00:17,  5.96s/train_batch]"
     ]
    },
    {
     "name": "stdout",
     "output_type": "stream",
     "text": [
      "Epoch: [1][20/24] Elapsed 1m 51s (remain 0m 15s) Loss: 1.3781 Grad: 1.3279  LR: 0.00098220  \n"
     ]
    },
    {
     "name": "stderr",
     "output_type": "stream",
     "text": [
      "Train: 100%|██████████| 24/24 [02:10<00:00,  5.42s/train_batch]\n"
     ]
    },
    {
     "name": "stdout",
     "output_type": "stream",
     "text": [
      "Epoch: [1][23/24] Elapsed 2m 7s (remain 0m 0s) Loss: 1.3371 Grad: 1.6213  LR: 0.00099999  \n"
     ]
    },
    {
     "name": "stderr",
     "output_type": "stream",
     "text": [
      "Validation:   4%|▍         | 1/24 [00:00<00:03,  6.53valid_batch/s]"
     ]
    },
    {
     "name": "stdout",
     "output_type": "stream",
     "text": [
      "1.6456375122070312\n",
      "EVAL: [0/24] Elapsed 0m 0s (remain 0m 3s) Loss: 1.6456 \n"
     ]
    },
    {
     "name": "stderr",
     "output_type": "stream",
     "text": [
      "Validation:   8%|▊         | 2/24 [00:00<00:02,  7.96valid_batch/s]"
     ]
    },
    {
     "name": "stdout",
     "output_type": "stream",
     "text": [
      "1.5108184218406677\n"
     ]
    },
    {
     "name": "stderr",
     "output_type": "stream",
     "text": [
      "Validation:  12%|█▎        | 3/24 [00:00<00:02,  8.49valid_batch/s]"
     ]
    },
    {
     "name": "stdout",
     "output_type": "stream",
     "text": [
      "1.6031612157821655\n"
     ]
    },
    {
     "name": "stderr",
     "output_type": "stream",
     "text": [
      "Validation:  17%|█▋        | 4/24 [00:00<00:02,  8.72valid_batch/s]"
     ]
    },
    {
     "name": "stdout",
     "output_type": "stream",
     "text": [
      "1.5987915992736816\n"
     ]
    },
    {
     "name": "stderr",
     "output_type": "stream",
     "text": [
      "Validation:  21%|██        | 5/24 [00:00<00:02,  9.04valid_batch/s]"
     ]
    },
    {
     "name": "stdout",
     "output_type": "stream",
     "text": [
      "1.6264193296432494\n",
      "1.6295072833697002\n"
     ]
    },
    {
     "name": "stderr",
     "output_type": "stream",
     "text": [
      "Validation:  29%|██▉       | 7/24 [00:00<00:01,  9.62valid_batch/s]"
     ]
    },
    {
     "name": "stdout",
     "output_type": "stream",
     "text": [
      "1.6432319368634904\n"
     ]
    },
    {
     "name": "stderr",
     "output_type": "stream",
     "text": [
      "Validation:  38%|███▊      | 9/24 [00:00<00:01,  9.85valid_batch/s]"
     ]
    },
    {
     "name": "stdout",
     "output_type": "stream",
     "text": [
      "1.6103477776050568\n",
      "1.6227399773067899\n"
     ]
    },
    {
     "name": "stderr",
     "output_type": "stream",
     "text": [
      "Validation:  46%|████▌     | 11/24 [00:01<00:01,  9.79valid_batch/s]"
     ]
    },
    {
     "name": "stdout",
     "output_type": "stream",
     "text": [
      "1.6105407357215882\n",
      "1.6203745711933484\n",
      "EVAL: [10/24] Elapsed 0m 1s (remain 0m 1s) Loss: 1.6204 \n"
     ]
    },
    {
     "name": "stderr",
     "output_type": "stream",
     "text": [
      "Validation:  58%|█████▊    | 14/24 [00:01<00:01,  9.95valid_batch/s]"
     ]
    },
    {
     "name": "stdout",
     "output_type": "stream",
     "text": [
      "1.615665078163147\n",
      "1.6225636372199426\n",
      "1.619274079799652\n"
     ]
    },
    {
     "name": "stderr",
     "output_type": "stream",
     "text": [
      "Validation:  71%|███████   | 17/24 [00:01<00:00, 10.01valid_batch/s]"
     ]
    },
    {
     "name": "stdout",
     "output_type": "stream",
     "text": [
      "1.6146862665812174\n",
      "1.5959220379590988\n",
      "1.579582186306224\n"
     ]
    },
    {
     "name": "stderr",
     "output_type": "stream",
     "text": [
      "Validation:  83%|████████▎ | 20/24 [00:02<00:00, 10.05valid_batch/s]"
     ]
    },
    {
     "name": "stdout",
     "output_type": "stream",
     "text": [
      "1.5761283901002672\n",
      "1.5669975155278255\n",
      "1.5631856083869935\n"
     ]
    },
    {
     "name": "stderr",
     "output_type": "stream",
     "text": [
      "Validation:  92%|█████████▏| 22/24 [00:02<00:00, 10.14valid_batch/s]"
     ]
    },
    {
     "name": "stdout",
     "output_type": "stream",
     "text": [
      "1.559870958328247\n",
      "EVAL: [20/24] Elapsed 0m 2s (remain 0m 0s) Loss: 1.5599 \n",
      "1.5606918172402815\n",
      "1.5613733685534934\n"
     ]
    },
    {
     "name": "stderr",
     "output_type": "stream",
     "text": [
      "Validation: 100%|██████████| 24/24 [00:02<00:00,  9.73valid_batch/s]\n",
      "2024-02-27 10:43:41,175 - utils.training_utils - INFO - Average Training Loss: 1.3371\n",
      "2024-02-27 10:43:41,176 - utils.training_utils - INFO - Average Validation Loss: 1.5595\n",
      "2024-02-27 10:43:41,259 - utils.training_utils - INFO - Epoch 2/20\n"
     ]
    },
    {
     "name": "stdout",
     "output_type": "stream",
     "text": [
      "1.5595246851444244\n",
      "EVAL: [23/24] Elapsed 0m 2s (remain 0m 0s) Loss: 1.5595 \n"
     ]
    },
    {
     "name": "stderr",
     "output_type": "stream",
     "text": [
      "Train:   4%|▍         | 1/24 [00:05<02:08,  5.59s/train_batch]"
     ]
    },
    {
     "name": "stdout",
     "output_type": "stream",
     "text": [
      "Epoch: [2][0/24] Elapsed 0m 3s (remain 1m 17s) Loss: 1.0682 Grad: 1.2375  LR: 0.00099995  \n"
     ]
    },
    {
     "name": "stderr",
     "output_type": "stream",
     "text": [
      "Train:  46%|████▌     | 11/24 [00:58<01:17,  5.97s/train_batch]"
     ]
    },
    {
     "name": "stdout",
     "output_type": "stream",
     "text": [
      "Epoch: [2][10/24] Elapsed 0m 56s (remain 1m 7s) Loss: 1.0268 Grad: 1.9192  LR: 0.00099829  \n"
     ]
    },
    {
     "name": "stderr",
     "output_type": "stream",
     "text": [
      "Train:  88%|████████▊ | 21/24 [01:52<00:17,  5.97s/train_batch]"
     ]
    },
    {
     "name": "stdout",
     "output_type": "stream",
     "text": [
      "Epoch: [2][20/24] Elapsed 1m 50s (remain 0m 15s) Loss: 0.9859 Grad: 1.5407  LR: 0.00099427  \n"
     ]
    },
    {
     "name": "stderr",
     "output_type": "stream",
     "text": [
      "Train: 100%|██████████| 24/24 [02:08<00:00,  5.36s/train_batch]\n"
     ]
    },
    {
     "name": "stdout",
     "output_type": "stream",
     "text": [
      "Epoch: [2][23/24] Elapsed 2m 6s (remain 0m 0s) Loss: 0.9826 Grad: 1.8986  LR: 0.00099260  \n"
     ]
    },
    {
     "name": "stderr",
     "output_type": "stream",
     "text": [
      "Validation:   4%|▍         | 1/24 [00:00<00:02,  9.01valid_batch/s]"
     ]
    },
    {
     "name": "stdout",
     "output_type": "stream",
     "text": [
      "2.284372329711914\n",
      "EVAL: [0/24] Elapsed 0m 0s (remain 0m 2s) Loss: 2.2844 \n"
     ]
    },
    {
     "name": "stderr",
     "output_type": "stream",
     "text": [
      "Validation:   8%|▊         | 2/24 [00:00<00:02,  9.35valid_batch/s]"
     ]
    },
    {
     "name": "stdout",
     "output_type": "stream",
     "text": [
      "2.1387978196144104\n"
     ]
    },
    {
     "name": "stderr",
     "output_type": "stream",
     "text": [
      "Validation:  12%|█▎        | 3/24 [00:00<00:02,  9.53valid_batch/s]"
     ]
    },
    {
     "name": "stdout",
     "output_type": "stream",
     "text": [
      "2.222091714541117\n"
     ]
    },
    {
     "name": "stderr",
     "output_type": "stream",
     "text": [
      "Validation:  17%|█▋        | 4/24 [00:00<00:02,  9.65valid_batch/s]"
     ]
    },
    {
     "name": "stdout",
     "output_type": "stream",
     "text": [
      "2.2204234898090363\n"
     ]
    },
    {
     "name": "stderr",
     "output_type": "stream",
     "text": [
      "Validation:  21%|██        | 5/24 [00:00<00:01,  9.75valid_batch/s]"
     ]
    },
    {
     "name": "stdout",
     "output_type": "stream",
     "text": [
      "2.242270016670227\n"
     ]
    },
    {
     "name": "stderr",
     "output_type": "stream",
     "text": [
      "Validation:  25%|██▌       | 6/24 [00:00<00:01,  9.36valid_batch/s]"
     ]
    },
    {
     "name": "stdout",
     "output_type": "stream",
     "text": [
      "2.2492828567822776\n"
     ]
    },
    {
     "name": "stderr",
     "output_type": "stream",
     "text": [
      "Validation:  29%|██▉       | 7/24 [00:00<00:01,  9.32valid_batch/s]"
     ]
    },
    {
     "name": "stdout",
     "output_type": "stream",
     "text": [
      "2.262227620397295\n"
     ]
    },
    {
     "name": "stderr",
     "output_type": "stream",
     "text": [
      "Validation:  33%|███▎      | 8/24 [00:00<00:01,  9.20valid_batch/s]"
     ]
    },
    {
     "name": "stdout",
     "output_type": "stream",
     "text": [
      "2.2418422549962997\n"
     ]
    },
    {
     "name": "stderr",
     "output_type": "stream",
     "text": [
      "Validation:  38%|███▊      | 9/24 [00:00<00:01,  8.72valid_batch/s]"
     ]
    },
    {
     "name": "stdout",
     "output_type": "stream",
     "text": [
      "2.2251715527640448\n"
     ]
    },
    {
     "name": "stderr",
     "output_type": "stream",
     "text": [
      "Validation:  42%|████▏     | 10/24 [00:01<00:01,  8.67valid_batch/s]"
     ]
    },
    {
     "name": "stdout",
     "output_type": "stream",
     "text": [
      "2.2173552393913267\n"
     ]
    },
    {
     "name": "stderr",
     "output_type": "stream",
     "text": [
      "Validation:  46%|████▌     | 11/24 [00:01<00:01,  8.89valid_batch/s]"
     ]
    },
    {
     "name": "stdout",
     "output_type": "stream",
     "text": [
      "2.1990291747179898\n",
      "EVAL: [10/24] Elapsed 0m 1s (remain 0m 1s) Loss: 2.1990 \n"
     ]
    },
    {
     "name": "stderr",
     "output_type": "stream",
     "text": [
      "Validation:  50%|█████     | 12/24 [00:01<00:01,  8.79valid_batch/s]"
     ]
    },
    {
     "name": "stdout",
     "output_type": "stream",
     "text": [
      "2.1974521776040397\n"
     ]
    },
    {
     "name": "stderr",
     "output_type": "stream",
     "text": [
      "Validation:  54%|█████▍    | 13/24 [00:01<00:01,  8.85valid_batch/s]"
     ]
    },
    {
     "name": "stdout",
     "output_type": "stream",
     "text": [
      "2.1939559074548574\n"
     ]
    },
    {
     "name": "stderr",
     "output_type": "stream",
     "text": [
      "Validation:  58%|█████▊    | 14/24 [00:01<00:01,  9.12valid_batch/s]"
     ]
    },
    {
     "name": "stdout",
     "output_type": "stream",
     "text": [
      "2.204531865460532\n"
     ]
    },
    {
     "name": "stderr",
     "output_type": "stream",
     "text": [
      "Validation:  62%|██████▎   | 15/24 [00:01<00:00,  9.29valid_batch/s]"
     ]
    },
    {
     "name": "stdout",
     "output_type": "stream",
     "text": [
      "2.19474880695343\n"
     ]
    },
    {
     "name": "stderr",
     "output_type": "stream",
     "text": [
      "Validation:  67%|██████▋   | 16/24 [00:01<00:00,  9.36valid_batch/s]"
     ]
    },
    {
     "name": "stdout",
     "output_type": "stream",
     "text": [
      "2.1828075870871544\n"
     ]
    },
    {
     "name": "stderr",
     "output_type": "stream",
     "text": [
      "Validation:  71%|███████   | 17/24 [00:01<00:00,  9.33valid_batch/s]"
     ]
    },
    {
     "name": "stdout",
     "output_type": "stream",
     "text": [
      "2.1824790099087883\n"
     ]
    },
    {
     "name": "stderr",
     "output_type": "stream",
     "text": [
      "Validation:  75%|███████▌  | 18/24 [00:01<00:00,  9.46valid_batch/s]"
     ]
    },
    {
     "name": "stdout",
     "output_type": "stream",
     "text": [
      "2.1783278584480286\n"
     ]
    },
    {
     "name": "stderr",
     "output_type": "stream",
     "text": [
      "Validation:  79%|███████▉  | 19/24 [00:02<00:00,  9.24valid_batch/s]"
     ]
    },
    {
     "name": "stdout",
     "output_type": "stream",
     "text": [
      "2.1729531350888704\n"
     ]
    },
    {
     "name": "stderr",
     "output_type": "stream",
     "text": [
      "Validation:  83%|████████▎ | 20/24 [00:02<00:00,  9.15valid_batch/s]"
     ]
    },
    {
     "name": "stdout",
     "output_type": "stream",
     "text": [
      "2.167411023378372\n"
     ]
    },
    {
     "name": "stderr",
     "output_type": "stream",
     "text": [
      "Validation:  88%|████████▊ | 21/24 [00:02<00:00,  9.10valid_batch/s]"
     ]
    },
    {
     "name": "stdout",
     "output_type": "stream",
     "text": [
      "2.1568037271499634\n",
      "EVAL: [20/24] Elapsed 0m 2s (remain 0m 0s) Loss: 2.1568 \n"
     ]
    },
    {
     "name": "stderr",
     "output_type": "stream",
     "text": [
      "Validation:  92%|█████████▏| 22/24 [00:02<00:00,  9.34valid_batch/s]"
     ]
    },
    {
     "name": "stdout",
     "output_type": "stream",
     "text": [
      "2.148586782542142\n"
     ]
    },
    {
     "name": "stderr",
     "output_type": "stream",
     "text": [
      "Validation:  96%|█████████▌| 23/24 [00:02<00:00,  9.48valid_batch/s]"
     ]
    },
    {
     "name": "stdout",
     "output_type": "stream",
     "text": [
      "2.1402179469232974\n"
     ]
    },
    {
     "name": "stderr",
     "output_type": "stream",
     "text": [
      "Validation: 100%|██████████| 24/24 [00:02<00:00,  9.25valid_batch/s]\n",
      "2024-02-27 10:45:52,456 - utils.training_utils - INFO - Average Training Loss: 0.9826\n",
      "2024-02-27 10:45:52,457 - utils.training_utils - INFO - Average Validation Loss: 2.1427\n",
      "2024-02-27 10:45:52,458 - utils.training_utils - INFO - Epoch 3/20\n"
     ]
    },
    {
     "name": "stdout",
     "output_type": "stream",
     "text": [
      "2.1426644126574197\n",
      "EVAL: [23/24] Elapsed 0m 2s (remain 0m 0s) Loss: 2.1427 \n"
     ]
    },
    {
     "name": "stderr",
     "output_type": "stream",
     "text": [
      "Train:   4%|▍         | 1/24 [00:05<02:08,  5.60s/train_batch]"
     ]
    },
    {
     "name": "stdout",
     "output_type": "stream",
     "text": [
      "Epoch: [3][0/24] Elapsed 0m 3s (remain 1m 17s) Loss: 0.7198 Grad: 1.6494  LR: 0.00099200  \n"
     ]
    },
    {
     "name": "stderr",
     "output_type": "stream",
     "text": [
      "Train:  46%|████▌     | 11/24 [00:58<01:17,  5.96s/train_batch]"
     ]
    },
    {
     "name": "stdout",
     "output_type": "stream",
     "text": [
      "Epoch: [3][10/24] Elapsed 0m 56s (remain 1m 7s) Loss: 0.8366 Grad: 1.8299  LR: 0.00098471  \n"
     ]
    },
    {
     "name": "stderr",
     "output_type": "stream",
     "text": [
      "Train:  88%|████████▊ | 21/24 [01:52<00:17,  5.97s/train_batch]"
     ]
    },
    {
     "name": "stdout",
     "output_type": "stream",
     "text": [
      "Epoch: [3][20/24] Elapsed 1m 50s (remain 0m 15s) Loss: 0.8601 Grad: 1.4039  LR: 0.00097511  \n"
     ]
    },
    {
     "name": "stderr",
     "output_type": "stream",
     "text": [
      "Train: 100%|██████████| 24/24 [02:08<00:00,  5.36s/train_batch]\n"
     ]
    },
    {
     "name": "stdout",
     "output_type": "stream",
     "text": [
      "Epoch: [3][23/24] Elapsed 2m 6s (remain 0m 0s) Loss: 0.8735 Grad: 2.1853  LR: 0.00097179  \n"
     ]
    },
    {
     "name": "stderr",
     "output_type": "stream",
     "text": [
      "Validation:   4%|▍         | 1/24 [00:00<00:02,  9.49valid_batch/s]"
     ]
    },
    {
     "name": "stdout",
     "output_type": "stream",
     "text": [
      "1.325207233428955\n",
      "EVAL: [0/24] Elapsed 0m 0s (remain 0m 2s) Loss: 1.3252 \n"
     ]
    },
    {
     "name": "stderr",
     "output_type": "stream",
     "text": [
      "Validation:   8%|▊         | 2/24 [00:00<00:02,  9.71valid_batch/s]"
     ]
    },
    {
     "name": "stdout",
     "output_type": "stream",
     "text": [
      "1.4515888690948486\n"
     ]
    },
    {
     "name": "stderr",
     "output_type": "stream",
     "text": [
      "Validation:  12%|█▎        | 3/24 [00:00<00:02,  9.76valid_batch/s]"
     ]
    },
    {
     "name": "stdout",
     "output_type": "stream",
     "text": [
      "1.5147776206334431\n"
     ]
    },
    {
     "name": "stderr",
     "output_type": "stream",
     "text": [
      "Validation:  17%|█▋        | 4/24 [00:00<00:02,  9.80valid_batch/s]"
     ]
    },
    {
     "name": "stdout",
     "output_type": "stream",
     "text": [
      "1.5600053369998932\n"
     ]
    },
    {
     "name": "stderr",
     "output_type": "stream",
     "text": [
      "Validation:  21%|██        | 5/24 [00:00<00:01,  9.63valid_batch/s]"
     ]
    },
    {
     "name": "stdout",
     "output_type": "stream",
     "text": [
      "1.5863160371780396\n"
     ]
    },
    {
     "name": "stderr",
     "output_type": "stream",
     "text": [
      "Validation:  25%|██▌       | 6/24 [00:00<00:01,  9.63valid_batch/s]"
     ]
    },
    {
     "name": "stdout",
     "output_type": "stream",
     "text": [
      "1.5497485995292664\n"
     ]
    },
    {
     "name": "stderr",
     "output_type": "stream",
     "text": [
      "Validation:  29%|██▉       | 7/24 [00:00<00:01,  9.53valid_batch/s]"
     ]
    },
    {
     "name": "stdout",
     "output_type": "stream",
     "text": [
      "1.5511635031018938\n"
     ]
    },
    {
     "name": "stderr",
     "output_type": "stream",
     "text": [
      "Validation:  33%|███▎      | 8/24 [00:00<00:01,  9.44valid_batch/s]"
     ]
    },
    {
     "name": "stdout",
     "output_type": "stream",
     "text": [
      "1.5417889058589935\n"
     ]
    },
    {
     "name": "stderr",
     "output_type": "stream",
     "text": [
      "Validation:  38%|███▊      | 9/24 [00:00<00:01,  9.31valid_batch/s]"
     ]
    },
    {
     "name": "stdout",
     "output_type": "stream",
     "text": [
      "1.5667352676391602\n"
     ]
    },
    {
     "name": "stderr",
     "output_type": "stream",
     "text": [
      "Validation:  42%|████▏     | 10/24 [00:01<00:01,  8.67valid_batch/s]"
     ]
    },
    {
     "name": "stdout",
     "output_type": "stream",
     "text": [
      "1.557651901245117\n"
     ]
    },
    {
     "name": "stderr",
     "output_type": "stream",
     "text": [
      "Validation:  46%|████▌     | 11/24 [00:01<00:01,  8.79valid_batch/s]"
     ]
    },
    {
     "name": "stdout",
     "output_type": "stream",
     "text": [
      "1.5678146969188342\n",
      "EVAL: [10/24] Elapsed 0m 1s (remain 0m 1s) Loss: 1.5678 \n"
     ]
    },
    {
     "name": "stderr",
     "output_type": "stream",
     "text": [
      "Validation:  50%|█████     | 12/24 [00:01<00:01,  8.89valid_batch/s]"
     ]
    },
    {
     "name": "stdout",
     "output_type": "stream",
     "text": [
      "1.5882327755292256\n"
     ]
    },
    {
     "name": "stderr",
     "output_type": "stream",
     "text": [
      "Validation:  54%|█████▍    | 13/24 [00:01<00:01,  9.01valid_batch/s]"
     ]
    },
    {
     "name": "stdout",
     "output_type": "stream",
     "text": [
      "1.589173775452834\n"
     ]
    },
    {
     "name": "stderr",
     "output_type": "stream",
     "text": [
      "Validation:  58%|█████▊    | 14/24 [00:01<00:01,  9.14valid_batch/s]"
     ]
    },
    {
     "name": "stdout",
     "output_type": "stream",
     "text": [
      "1.5988085610525948\n"
     ]
    },
    {
     "name": "stderr",
     "output_type": "stream",
     "text": [
      "Validation:  62%|██████▎   | 15/24 [00:01<00:00,  9.18valid_batch/s]"
     ]
    },
    {
     "name": "stdout",
     "output_type": "stream",
     "text": [
      "1.5816385587056478\n"
     ]
    },
    {
     "name": "stderr",
     "output_type": "stream",
     "text": [
      "Validation:  67%|██████▋   | 16/24 [00:01<00:00,  9.28valid_batch/s]"
     ]
    },
    {
     "name": "stdout",
     "output_type": "stream",
     "text": [
      "1.579781860113144\n"
     ]
    },
    {
     "name": "stderr",
     "output_type": "stream",
     "text": [
      "Validation:  71%|███████   | 17/24 [00:01<00:00,  9.32valid_batch/s]"
     ]
    },
    {
     "name": "stdout",
     "output_type": "stream",
     "text": [
      "1.5796810458688175\n"
     ]
    },
    {
     "name": "stderr",
     "output_type": "stream",
     "text": [
      "Validation:  75%|███████▌  | 18/24 [00:01<00:00,  9.35valid_batch/s]"
     ]
    },
    {
     "name": "stdout",
     "output_type": "stream",
     "text": [
      "1.5718734794192843\n"
     ]
    },
    {
     "name": "stderr",
     "output_type": "stream",
     "text": [
      "Validation:  79%|███████▉  | 19/24 [00:02<00:00,  9.32valid_batch/s]"
     ]
    },
    {
     "name": "stdout",
     "output_type": "stream",
     "text": [
      "1.573368003493861\n"
     ]
    },
    {
     "name": "stderr",
     "output_type": "stream",
     "text": [
      "Validation:  83%|████████▎ | 20/24 [00:02<00:00,  9.29valid_batch/s]"
     ]
    },
    {
     "name": "stdout",
     "output_type": "stream",
     "text": [
      "1.571477657556534\n"
     ]
    },
    {
     "name": "stderr",
     "output_type": "stream",
     "text": [
      "Validation:  88%|████████▊ | 21/24 [00:02<00:00,  9.03valid_batch/s]"
     ]
    },
    {
     "name": "stdout",
     "output_type": "stream",
     "text": [
      "1.5618287097840082\n",
      "EVAL: [20/24] Elapsed 0m 2s (remain 0m 0s) Loss: 1.5618 \n"
     ]
    },
    {
     "name": "stderr",
     "output_type": "stream",
     "text": [
      "Validation:  92%|█████████▏| 22/24 [00:02<00:00,  8.80valid_batch/s]"
     ]
    },
    {
     "name": "stdout",
     "output_type": "stream",
     "text": [
      "1.5649060932072727\n"
     ]
    },
    {
     "name": "stderr",
     "output_type": "stream",
     "text": [
      "Validation:  96%|█████████▌| 23/24 [00:02<00:00,  8.64valid_batch/s]"
     ]
    },
    {
     "name": "stdout",
     "output_type": "stream",
     "text": [
      "1.5572943635608838\n"
     ]
    },
    {
     "name": "stderr",
     "output_type": "stream",
     "text": [
      "Validation: 100%|██████████| 24/24 [00:02<00:00,  9.12valid_batch/s]\n",
      "2024-02-27 10:48:03,648 - utils.training_utils - INFO - Average Training Loss: 0.8735\n",
      "2024-02-27 10:48:03,649 - utils.training_utils - INFO - Average Validation Loss: 1.5658\n",
      "2024-02-27 10:48:03,650 - utils.training_utils - INFO - Epoch 4/20\n"
     ]
    },
    {
     "name": "stdout",
     "output_type": "stream",
     "text": [
      "1.5657508025566738\n",
      "EVAL: [23/24] Elapsed 0m 2s (remain 0m 0s) Loss: 1.5658 \n"
     ]
    },
    {
     "name": "stderr",
     "output_type": "stream",
     "text": [
      "Train:   4%|▍         | 1/24 [00:05<02:09,  5.63s/train_batch]"
     ]
    },
    {
     "name": "stdout",
     "output_type": "stream",
     "text": [
      "Epoch: [4][0/24] Elapsed 0m 3s (remain 1m 18s) Loss: 0.7699 Grad: 1.5999  LR: 0.00097064  \n"
     ]
    },
    {
     "name": "stderr",
     "output_type": "stream",
     "text": [
      "Train:  46%|████▌     | 11/24 [00:59<01:17,  5.97s/train_batch]"
     ]
    },
    {
     "name": "stdout",
     "output_type": "stream",
     "text": [
      "Epoch: [4][10/24] Elapsed 0m 56s (remain 1m 7s) Loss: 0.7608 Grad: 1.7052  LR: 0.00095790  \n"
     ]
    },
    {
     "name": "stderr",
     "output_type": "stream",
     "text": [
      "Train:  88%|████████▊ | 21/24 [01:52<00:17,  5.97s/train_batch]"
     ]
    },
    {
     "name": "stdout",
     "output_type": "stream",
     "text": [
      "Epoch: [4][20/24] Elapsed 1m 50s (remain 0m 15s) Loss: 0.7792 Grad: 1.9027  LR: 0.00094300  \n"
     ]
    },
    {
     "name": "stderr",
     "output_type": "stream",
     "text": [
      "Train: 100%|██████████| 24/24 [02:08<00:00,  5.36s/train_batch]\n"
     ]
    },
    {
     "name": "stdout",
     "output_type": "stream",
     "text": [
      "Epoch: [4][23/24] Elapsed 2m 6s (remain 0m 0s) Loss: 0.7790 Grad: 1.9921  LR: 0.00093811  \n"
     ]
    },
    {
     "name": "stderr",
     "output_type": "stream",
     "text": [
      "Validation:   4%|▍         | 1/24 [00:00<00:02,  9.74valid_batch/s]"
     ]
    },
    {
     "name": "stdout",
     "output_type": "stream",
     "text": [
      "1.2431538105010986\n",
      "EVAL: [0/24] Elapsed 0m 0s (remain 0m 2s) Loss: 1.2432 \n"
     ]
    },
    {
     "name": "stderr",
     "output_type": "stream",
     "text": [
      "Validation:   8%|▊         | 2/24 [00:00<00:02,  9.68valid_batch/s]"
     ]
    },
    {
     "name": "stdout",
     "output_type": "stream",
     "text": [
      "1.2664839029312134\n"
     ]
    },
    {
     "name": "stderr",
     "output_type": "stream",
     "text": [
      "Validation:  12%|█▎        | 3/24 [00:00<00:02,  9.75valid_batch/s]"
     ]
    },
    {
     "name": "stdout",
     "output_type": "stream",
     "text": [
      "1.3344022830327351\n"
     ]
    },
    {
     "name": "stderr",
     "output_type": "stream",
     "text": [
      "Validation:  17%|█▋        | 4/24 [00:00<00:02,  9.70valid_batch/s]"
     ]
    },
    {
     "name": "stdout",
     "output_type": "stream",
     "text": [
      "1.2561741471290588\n"
     ]
    },
    {
     "name": "stderr",
     "output_type": "stream",
     "text": [
      "Validation:  21%|██        | 5/24 [00:00<00:01,  9.52valid_batch/s]"
     ]
    },
    {
     "name": "stdout",
     "output_type": "stream",
     "text": [
      "1.2698163747787476\n"
     ]
    },
    {
     "name": "stderr",
     "output_type": "stream",
     "text": [
      "Validation:  25%|██▌       | 6/24 [00:00<00:01,  9.54valid_batch/s]"
     ]
    },
    {
     "name": "stdout",
     "output_type": "stream",
     "text": [
      "1.2641788522402446\n"
     ]
    },
    {
     "name": "stderr",
     "output_type": "stream",
     "text": [
      "Validation:  29%|██▉       | 7/24 [00:00<00:01,  9.59valid_batch/s]"
     ]
    },
    {
     "name": "stdout",
     "output_type": "stream",
     "text": [
      "1.2417679343904768\n"
     ]
    },
    {
     "name": "stderr",
     "output_type": "stream",
     "text": [
      "Validation:  33%|███▎      | 8/24 [00:00<00:01,  9.62valid_batch/s]"
     ]
    },
    {
     "name": "stdout",
     "output_type": "stream",
     "text": [
      "1.2337174862623215\n"
     ]
    },
    {
     "name": "stderr",
     "output_type": "stream",
     "text": [
      "Validation:  38%|███▊      | 9/24 [00:00<00:01,  9.48valid_batch/s]"
     ]
    },
    {
     "name": "stdout",
     "output_type": "stream",
     "text": [
      "1.2490152650409274\n"
     ]
    },
    {
     "name": "stderr",
     "output_type": "stream",
     "text": [
      "Validation:  42%|████▏     | 10/24 [00:01<00:01,  9.55valid_batch/s]"
     ]
    },
    {
     "name": "stdout",
     "output_type": "stream",
     "text": [
      "1.2571884751319886\n",
      "1.2677341591228137\n",
      "EVAL: [10/24] Elapsed 0m 1s (remain 0m 1s) Loss: 1.2677 \n"
     ]
    },
    {
     "name": "stderr",
     "output_type": "stream",
     "text": [
      "Validation:  50%|█████     | 12/24 [00:01<00:01,  9.60valid_batch/s]"
     ]
    },
    {
     "name": "stdout",
     "output_type": "stream",
     "text": [
      "1.2643050054709117\n"
     ]
    },
    {
     "name": "stderr",
     "output_type": "stream",
     "text": [
      "Validation:  54%|█████▍    | 13/24 [00:01<00:01,  9.38valid_batch/s]"
     ]
    },
    {
     "name": "stdout",
     "output_type": "stream",
     "text": [
      "1.2591147697888887\n"
     ]
    },
    {
     "name": "stderr",
     "output_type": "stream",
     "text": [
      "Validation:  58%|█████▊    | 14/24 [00:01<00:01,  9.28valid_batch/s]"
     ]
    },
    {
     "name": "stdout",
     "output_type": "stream",
     "text": [
      "1.2609530431883675\n"
     ]
    },
    {
     "name": "stderr",
     "output_type": "stream",
     "text": [
      "Validation:  62%|██████▎   | 15/24 [00:01<00:00,  9.12valid_batch/s]"
     ]
    },
    {
     "name": "stdout",
     "output_type": "stream",
     "text": [
      "1.269062860806783\n"
     ]
    },
    {
     "name": "stderr",
     "output_type": "stream",
     "text": [
      "Validation:  67%|██████▋   | 16/24 [00:01<00:00,  9.02valid_batch/s]"
     ]
    },
    {
     "name": "stdout",
     "output_type": "stream",
     "text": [
      "1.270639292895794\n"
     ]
    },
    {
     "name": "stderr",
     "output_type": "stream",
     "text": [
      "Validation:  71%|███████   | 17/24 [00:01<00:00,  9.06valid_batch/s]"
     ]
    },
    {
     "name": "stdout",
     "output_type": "stream",
     "text": [
      "1.2570755271350635\n"
     ]
    },
    {
     "name": "stderr",
     "output_type": "stream",
     "text": [
      "Validation:  75%|███████▌  | 18/24 [00:01<00:00,  9.28valid_batch/s]"
     ]
    },
    {
     "name": "stdout",
     "output_type": "stream",
     "text": [
      "1.2609168489774067\n"
     ]
    },
    {
     "name": "stderr",
     "output_type": "stream",
     "text": [
      "Validation:  79%|███████▉  | 19/24 [00:02<00:00,  9.42valid_batch/s]"
     ]
    },
    {
     "name": "stdout",
     "output_type": "stream",
     "text": [
      "1.2655928574110333\n"
     ]
    },
    {
     "name": "stderr",
     "output_type": "stream",
     "text": [
      "Validation:  83%|████████▎ | 20/24 [00:02<00:00,  9.48valid_batch/s]"
     ]
    },
    {
     "name": "stdout",
     "output_type": "stream",
     "text": [
      "1.2751531898975372\n"
     ]
    },
    {
     "name": "stderr",
     "output_type": "stream",
     "text": [
      "Validation:  88%|████████▊ | 21/24 [00:02<00:00,  9.35valid_batch/s]"
     ]
    },
    {
     "name": "stdout",
     "output_type": "stream",
     "text": [
      "1.2749145201274328\n",
      "EVAL: [20/24] Elapsed 0m 2s (remain 0m 0s) Loss: 1.2749 \n"
     ]
    },
    {
     "name": "stderr",
     "output_type": "stream",
     "text": [
      "Validation:  92%|█████████▏| 22/24 [00:02<00:00,  9.36valid_batch/s]"
     ]
    },
    {
     "name": "stdout",
     "output_type": "stream",
     "text": [
      "1.280955054543235\n"
     ]
    },
    {
     "name": "stderr",
     "output_type": "stream",
     "text": [
      "Validation:  96%|█████████▌| 23/24 [00:02<00:00,  9.32valid_batch/s]"
     ]
    },
    {
     "name": "stdout",
     "output_type": "stream",
     "text": [
      "1.289765565291695\n"
     ]
    },
    {
     "name": "stderr",
     "output_type": "stream",
     "text": [
      "Validation: 100%|██████████| 24/24 [00:02<00:00,  9.37valid_batch/s]\n",
      "2024-02-27 10:50:14,811 - utils.training_utils - INFO - Average Training Loss: 0.7790\n",
      "2024-02-27 10:50:14,812 - utils.training_utils - INFO - Average Validation Loss: 1.2854\n"
     ]
    },
    {
     "name": "stdout",
     "output_type": "stream",
     "text": [
      "1.2854083627462387\n",
      "EVAL: [23/24] Elapsed 0m 2s (remain 0m 0s) Loss: 1.2854 \n"
     ]
    },
    {
     "name": "stderr",
     "output_type": "stream",
     "text": [
      "2024-02-27 10:50:14,909 - utils.training_utils - INFO - Epoch 5/20\n",
      "Train:   4%|▍         | 1/24 [00:05<02:09,  5.62s/train_batch]"
     ]
    },
    {
     "name": "stdout",
     "output_type": "stream",
     "text": [
      "Epoch: [5][0/24] Elapsed 0m 3s (remain 1m 17s) Loss: 0.7041 Grad: 1.9210  LR: 0.00093644  \n"
     ]
    },
    {
     "name": "stderr",
     "output_type": "stream",
     "text": [
      "Train:  46%|████▌     | 11/24 [00:58<01:17,  5.97s/train_batch]"
     ]
    },
    {
     "name": "stdout",
     "output_type": "stream",
     "text": [
      "Epoch: [5][10/24] Elapsed 0m 56s (remain 1m 7s) Loss: 0.6749 Grad: 2.5228  LR: 0.00091862  \n"
     ]
    },
    {
     "name": "stderr",
     "output_type": "stream",
     "text": [
      "Train:  88%|████████▊ | 21/24 [01:52<00:17,  5.97s/train_batch]"
     ]
    },
    {
     "name": "stdout",
     "output_type": "stream",
     "text": [
      "Epoch: [5][20/24] Elapsed 1m 50s (remain 0m 15s) Loss: 0.7047 Grad: 2.4345  LR: 0.00089880  \n"
     ]
    },
    {
     "name": "stderr",
     "output_type": "stream",
     "text": [
      "Train: 100%|██████████| 24/24 [02:08<00:00,  5.36s/train_batch]\n"
     ]
    },
    {
     "name": "stdout",
     "output_type": "stream",
     "text": [
      "Epoch: [5][23/24] Elapsed 2m 6s (remain 0m 0s) Loss: 0.7140 Grad: 1.8553  LR: 0.00089249  \n"
     ]
    },
    {
     "name": "stderr",
     "output_type": "stream",
     "text": [
      "Validation:   4%|▍         | 1/24 [00:00<00:02,  9.72valid_batch/s]"
     ]
    },
    {
     "name": "stdout",
     "output_type": "stream",
     "text": [
      "1.3745734691619873\n",
      "EVAL: [0/24] Elapsed 0m 0s (remain 0m 2s) Loss: 1.3746 \n"
     ]
    },
    {
     "name": "stderr",
     "output_type": "stream",
     "text": [
      "Validation:   8%|▊         | 2/24 [00:00<00:02,  9.78valid_batch/s]"
     ]
    },
    {
     "name": "stdout",
     "output_type": "stream",
     "text": [
      "1.45710951089859\n"
     ]
    },
    {
     "name": "stderr",
     "output_type": "stream",
     "text": [
      "Validation:  12%|█▎        | 3/24 [00:00<00:02,  9.73valid_batch/s]"
     ]
    },
    {
     "name": "stdout",
     "output_type": "stream",
     "text": [
      "1.4954595963160198\n"
     ]
    },
    {
     "name": "stderr",
     "output_type": "stream",
     "text": [
      "Validation:  21%|██        | 5/24 [00:00<00:01,  9.95valid_batch/s]"
     ]
    },
    {
     "name": "stdout",
     "output_type": "stream",
     "text": [
      "1.4719936549663544\n",
      "1.441266083717346\n"
     ]
    },
    {
     "name": "stderr",
     "output_type": "stream",
     "text": [
      "Validation:  25%|██▌       | 6/24 [00:00<00:01,  9.95valid_batch/s]"
     ]
    },
    {
     "name": "stdout",
     "output_type": "stream",
     "text": [
      "1.4536487857500713\n"
     ]
    },
    {
     "name": "stderr",
     "output_type": "stream",
     "text": [
      "Validation:  29%|██▉       | 7/24 [00:00<00:01,  9.84valid_batch/s]"
     ]
    },
    {
     "name": "stdout",
     "output_type": "stream",
     "text": [
      "1.466311982699803\n"
     ]
    },
    {
     "name": "stderr",
     "output_type": "stream",
     "text": [
      "Validation:  33%|███▎      | 8/24 [00:00<00:01,  9.78valid_batch/s]"
     ]
    },
    {
     "name": "stdout",
     "output_type": "stream",
     "text": [
      "1.4658211469650269\n"
     ]
    },
    {
     "name": "stderr",
     "output_type": "stream",
     "text": [
      "Validation:  38%|███▊      | 9/24 [00:00<00:01,  9.78valid_batch/s]"
     ]
    },
    {
     "name": "stdout",
     "output_type": "stream",
     "text": [
      "1.4758981333838568\n"
     ]
    },
    {
     "name": "stderr",
     "output_type": "stream",
     "text": [
      "Validation:  42%|████▏     | 10/24 [00:01<00:01,  9.82valid_batch/s]"
     ]
    },
    {
     "name": "stdout",
     "output_type": "stream",
     "text": [
      "1.4698113918304443\n"
     ]
    },
    {
     "name": "stderr",
     "output_type": "stream",
     "text": [
      "Validation:  46%|████▌     | 11/24 [00:01<00:01,  9.65valid_batch/s]"
     ]
    },
    {
     "name": "stdout",
     "output_type": "stream",
     "text": [
      "1.4610448533838445\n",
      "EVAL: [10/24] Elapsed 0m 1s (remain 0m 1s) Loss: 1.4610 \n"
     ]
    },
    {
     "name": "stderr",
     "output_type": "stream",
     "text": [
      "Validation:  50%|█████     | 12/24 [00:01<00:01,  9.67valid_batch/s]"
     ]
    },
    {
     "name": "stdout",
     "output_type": "stream",
     "text": [
      "1.4760926961898804\n"
     ]
    },
    {
     "name": "stderr",
     "output_type": "stream",
     "text": [
      "Validation:  54%|█████▍    | 13/24 [00:01<00:01,  9.49valid_batch/s]"
     ]
    },
    {
     "name": "stdout",
     "output_type": "stream",
     "text": [
      "1.4891792627481313\n"
     ]
    },
    {
     "name": "stderr",
     "output_type": "stream",
     "text": [
      "Validation:  58%|█████▊    | 14/24 [00:01<00:01,  9.53valid_batch/s]"
     ]
    },
    {
     "name": "stdout",
     "output_type": "stream",
     "text": [
      "1.4869344404765539\n"
     ]
    },
    {
     "name": "stderr",
     "output_type": "stream",
     "text": [
      "Validation:  62%|██████▎   | 15/24 [00:01<00:00,  9.64valid_batch/s]"
     ]
    },
    {
     "name": "stdout",
     "output_type": "stream",
     "text": [
      "1.4877293427785239\n"
     ]
    },
    {
     "name": "stderr",
     "output_type": "stream",
     "text": [
      "Validation:  67%|██████▋   | 16/24 [00:01<00:00,  9.70valid_batch/s]"
     ]
    },
    {
     "name": "stdout",
     "output_type": "stream",
     "text": [
      "1.4849663823843002\n"
     ]
    },
    {
     "name": "stderr",
     "output_type": "stream",
     "text": [
      "Validation:  71%|███████   | 17/24 [00:01<00:00,  9.74valid_batch/s]"
     ]
    },
    {
     "name": "stdout",
     "output_type": "stream",
     "text": [
      "1.4830687326543472\n"
     ]
    },
    {
     "name": "stderr",
     "output_type": "stream",
     "text": [
      "Validation:  75%|███████▌  | 18/24 [00:01<00:00,  9.66valid_batch/s]"
     ]
    },
    {
     "name": "stdout",
     "output_type": "stream",
     "text": [
      "1.4823191232151456\n"
     ]
    },
    {
     "name": "stderr",
     "output_type": "stream",
     "text": [
      "Validation:  79%|███████▉  | 19/24 [00:01<00:00,  9.64valid_batch/s]"
     ]
    },
    {
     "name": "stdout",
     "output_type": "stream",
     "text": [
      "1.4805904626846313\n"
     ]
    },
    {
     "name": "stderr",
     "output_type": "stream",
     "text": [
      "Validation:  83%|████████▎ | 20/24 [00:02<00:00,  9.58valid_batch/s]"
     ]
    },
    {
     "name": "stdout",
     "output_type": "stream",
     "text": [
      "1.477859514951706\n"
     ]
    },
    {
     "name": "stderr",
     "output_type": "stream",
     "text": [
      "Validation:  88%|████████▊ | 21/24 [00:02<00:00,  9.52valid_batch/s]"
     ]
    },
    {
     "name": "stdout",
     "output_type": "stream",
     "text": [
      "1.4698578005745297\n",
      "EVAL: [20/24] Elapsed 0m 2s (remain 0m 0s) Loss: 1.4699 \n"
     ]
    },
    {
     "name": "stderr",
     "output_type": "stream",
     "text": [
      "Validation:  92%|█████████▏| 22/24 [00:02<00:00,  9.58valid_batch/s]"
     ]
    },
    {
     "name": "stdout",
     "output_type": "stream",
     "text": [
      "1.4596302942796187\n"
     ]
    },
    {
     "name": "stderr",
     "output_type": "stream",
     "text": [
      "Validation:  96%|█████████▌| 23/24 [00:02<00:00,  9.55valid_batch/s]"
     ]
    },
    {
     "name": "stdout",
     "output_type": "stream",
     "text": [
      "1.4539447141730266\n"
     ]
    },
    {
     "name": "stderr",
     "output_type": "stream",
     "text": [
      "Validation: 100%|██████████| 24/24 [00:02<00:00,  9.69valid_batch/s]\n",
      "2024-02-27 10:52:26,033 - utils.training_utils - INFO - Average Training Loss: 0.7140\n",
      "2024-02-27 10:52:26,034 - utils.training_utils - INFO - Average Validation Loss: 1.4522\n",
      "2024-02-27 10:52:26,034 - utils.training_utils - INFO - Epoch 6/20\n"
     ]
    },
    {
     "name": "stdout",
     "output_type": "stream",
     "text": [
      "1.452179233233134\n",
      "EVAL: [23/24] Elapsed 0m 2s (remain 0m 0s) Loss: 1.4522 \n"
     ]
    },
    {
     "name": "stderr",
     "output_type": "stream",
     "text": [
      "Train:   4%|▍         | 1/24 [00:05<02:09,  5.62s/train_batch]"
     ]
    },
    {
     "name": "stdout",
     "output_type": "stream",
     "text": [
      "Epoch: [6][0/24] Elapsed 0m 3s (remain 1m 17s) Loss: 0.6781 Grad: 2.0352  LR: 0.00089035  \n"
     ]
    },
    {
     "name": "stderr",
     "output_type": "stream",
     "text": [
      "Train:  46%|████▌     | 11/24 [00:59<01:17,  5.97s/train_batch]"
     ]
    },
    {
     "name": "stdout",
     "output_type": "stream",
     "text": [
      "Epoch: [6][10/24] Elapsed 0m 56s (remain 1m 7s) Loss: 0.6325 Grad: 2.1123  LR: 0.00086791  \n"
     ]
    },
    {
     "name": "stderr",
     "output_type": "stream",
     "text": [
      "Train:  88%|████████▊ | 21/24 [01:52<00:17,  5.98s/train_batch]"
     ]
    },
    {
     "name": "stdout",
     "output_type": "stream",
     "text": [
      "Epoch: [6][20/24] Elapsed 1m 50s (remain 0m 15s) Loss: 0.6474 Grad: 2.5588  LR: 0.00084374  \n"
     ]
    },
    {
     "name": "stderr",
     "output_type": "stream",
     "text": [
      "Train: 100%|██████████| 24/24 [02:08<00:00,  5.36s/train_batch]\n"
     ]
    },
    {
     "name": "stdout",
     "output_type": "stream",
     "text": [
      "Epoch: [6][23/24] Elapsed 2m 6s (remain 0m 0s) Loss: 0.6459 Grad: 2.4640  LR: 0.00083616  \n"
     ]
    },
    {
     "name": "stderr",
     "output_type": "stream",
     "text": [
      "Validation:   4%|▍         | 1/24 [00:00<00:02,  9.60valid_batch/s]"
     ]
    },
    {
     "name": "stdout",
     "output_type": "stream",
     "text": [
      "1.7359278202056885\n",
      "EVAL: [0/24] Elapsed 0m 0s (remain 0m 2s) Loss: 1.7359 \n"
     ]
    },
    {
     "name": "stderr",
     "output_type": "stream",
     "text": [
      "Validation:   8%|▊         | 2/24 [00:00<00:02,  9.64valid_batch/s]"
     ]
    },
    {
     "name": "stdout",
     "output_type": "stream",
     "text": [
      "1.7764812707901\n"
     ]
    },
    {
     "name": "stderr",
     "output_type": "stream",
     "text": [
      "Validation:  12%|█▎        | 3/24 [00:00<00:02,  9.79valid_batch/s]"
     ]
    },
    {
     "name": "stdout",
     "output_type": "stream",
     "text": [
      "1.593354304631551\n",
      "1.6628204584121704\n"
     ]
    },
    {
     "name": "stderr",
     "output_type": "stream",
     "text": [
      "Validation:  25%|██▌       | 6/24 [00:00<00:01,  9.83valid_batch/s]"
     ]
    },
    {
     "name": "stdout",
     "output_type": "stream",
     "text": [
      "1.662754726409912\n",
      "1.5874605973561604\n",
      "1.5756994145257133\n"
     ]
    },
    {
     "name": "stderr",
     "output_type": "stream",
     "text": [
      "Validation:  38%|███▊      | 9/24 [00:00<00:01,  9.85valid_batch/s]"
     ]
    },
    {
     "name": "stdout",
     "output_type": "stream",
     "text": [
      "1.5411905199289322\n",
      "1.5165603690677218\n"
     ]
    },
    {
     "name": "stderr",
     "output_type": "stream",
     "text": [
      "Validation:  46%|████▌     | 11/24 [00:01<00:01,  9.73valid_batch/s]"
     ]
    },
    {
     "name": "stdout",
     "output_type": "stream",
     "text": [
      "1.5121728658676148\n",
      "1.4895936467430808\n",
      "EVAL: [10/24] Elapsed 0m 1s (remain 0m 1s) Loss: 1.4896 \n"
     ]
    },
    {
     "name": "stderr",
     "output_type": "stream",
     "text": [
      "Validation:  54%|█████▍    | 13/24 [00:01<00:01,  9.60valid_batch/s]"
     ]
    },
    {
     "name": "stdout",
     "output_type": "stream",
     "text": [
      "1.4878781139850616\n",
      "1.4897650663669293\n"
     ]
    },
    {
     "name": "stderr",
     "output_type": "stream",
     "text": [
      "Validation:  62%|██████▎   | 15/24 [00:01<00:00,  9.63valid_batch/s]"
     ]
    },
    {
     "name": "stdout",
     "output_type": "stream",
     "text": [
      "1.4979553137506758\n",
      "1.497350017229716\n"
     ]
    },
    {
     "name": "stderr",
     "output_type": "stream",
     "text": [
      "Validation:  71%|███████   | 17/24 [00:01<00:00,  9.49valid_batch/s]"
     ]
    },
    {
     "name": "stdout",
     "output_type": "stream",
     "text": [
      "1.4906264320015907\n",
      "1.5096362618839039\n"
     ]
    },
    {
     "name": "stderr",
     "output_type": "stream",
     "text": [
      "Validation:  79%|███████▉  | 19/24 [00:01<00:00,  9.52valid_batch/s]"
     ]
    },
    {
     "name": "stdout",
     "output_type": "stream",
     "text": [
      "1.5070357587602403\n",
      "1.5058278661025197\n"
     ]
    },
    {
     "name": "stderr",
     "output_type": "stream",
     "text": [
      "Validation:  88%|████████▊ | 21/24 [00:02<00:00,  9.49valid_batch/s]"
     ]
    },
    {
     "name": "stdout",
     "output_type": "stream",
     "text": [
      "1.5240909099578857\n",
      "1.521997230393546\n",
      "EVAL: [20/24] Elapsed 0m 2s (remain 0m 0s) Loss: 1.5220 \n"
     ]
    },
    {
     "name": "stderr",
     "output_type": "stream",
     "text": [
      "Validation:  96%|█████████▌| 23/24 [00:02<00:00,  9.52valid_batch/s]"
     ]
    },
    {
     "name": "stdout",
     "output_type": "stream",
     "text": [
      "1.5282077247446233\n",
      "1.5356732036756433\n"
     ]
    },
    {
     "name": "stderr",
     "output_type": "stream",
     "text": [
      "Validation: 100%|██████████| 24/24 [00:02<00:00,  9.59valid_batch/s]\n",
      "2024-02-27 10:54:37,189 - utils.training_utils - INFO - Average Training Loss: 0.6459\n",
      "2024-02-27 10:54:37,190 - utils.training_utils - INFO - Average Validation Loss: 1.5391\n",
      "2024-02-27 10:54:37,191 - utils.training_utils - INFO - Epoch 7/20\n"
     ]
    },
    {
     "name": "stdout",
     "output_type": "stream",
     "text": [
      "1.5390548606713612\n",
      "EVAL: [23/24] Elapsed 0m 2s (remain 0m 0s) Loss: 1.5391 \n"
     ]
    },
    {
     "name": "stderr",
     "output_type": "stream",
     "text": [
      "Train:   4%|▍         | 1/24 [00:05<02:09,  5.61s/train_batch]"
     ]
    },
    {
     "name": "stdout",
     "output_type": "stream",
     "text": [
      "Epoch: [7][0/24] Elapsed 0m 3s (remain 1m 17s) Loss: 0.5767 Grad: 2.4040  LR: 0.00083361  \n"
     ]
    },
    {
     "name": "stderr",
     "output_type": "stream",
     "text": [
      "Train:  46%|████▌     | 11/24 [00:58<01:17,  5.97s/train_batch]"
     ]
    },
    {
     "name": "stdout",
     "output_type": "stream",
     "text": [
      "Epoch: [7][10/24] Elapsed 0m 56s (remain 1m 7s) Loss: 0.5085 Grad: 2.7398  LR: 0.00080718  \n"
     ]
    },
    {
     "name": "stderr",
     "output_type": "stream",
     "text": [
      "Train:  88%|████████▊ | 21/24 [01:52<00:17,  5.97s/train_batch]"
     ]
    },
    {
     "name": "stdout",
     "output_type": "stream",
     "text": [
      "Epoch: [7][20/24] Elapsed 1m 50s (remain 0m 15s) Loss: 0.5806 Grad: 2.5215  LR: 0.00077930  \n"
     ]
    },
    {
     "name": "stderr",
     "output_type": "stream",
     "text": [
      "Train: 100%|██████████| 24/24 [02:08<00:00,  5.36s/train_batch]\n"
     ]
    },
    {
     "name": "stdout",
     "output_type": "stream",
     "text": [
      "Epoch: [7][23/24] Elapsed 2m 6s (remain 0m 0s) Loss: 0.5942 Grad: 2.2050  LR: 0.00077068  \n"
     ]
    },
    {
     "name": "stderr",
     "output_type": "stream",
     "text": [
      "Validation:   4%|▍         | 1/24 [00:00<00:02,  9.28valid_batch/s]"
     ]
    },
    {
     "name": "stdout",
     "output_type": "stream",
     "text": [
      "1.8275096416473389\n",
      "EVAL: [0/24] Elapsed 0m 0s (remain 0m 2s) Loss: 1.8275 \n"
     ]
    },
    {
     "name": "stderr",
     "output_type": "stream",
     "text": [
      "Validation:   8%|▊         | 2/24 [00:00<00:02,  9.47valid_batch/s]"
     ]
    },
    {
     "name": "stdout",
     "output_type": "stream",
     "text": [
      "1.7296392917633057\n"
     ]
    },
    {
     "name": "stderr",
     "output_type": "stream",
     "text": [
      "Validation:  12%|█▎        | 3/24 [00:00<00:02,  9.60valid_batch/s]"
     ]
    },
    {
     "name": "stdout",
     "output_type": "stream",
     "text": [
      "1.7220147450764973\n"
     ]
    },
    {
     "name": "stderr",
     "output_type": "stream",
     "text": [
      "Validation:  17%|█▋        | 4/24 [00:00<00:02,  9.70valid_batch/s]"
     ]
    },
    {
     "name": "stdout",
     "output_type": "stream",
     "text": [
      "1.681101679801941\n"
     ]
    },
    {
     "name": "stderr",
     "output_type": "stream",
     "text": [
      "Validation:  21%|██        | 5/24 [00:00<00:01,  9.66valid_batch/s]"
     ]
    },
    {
     "name": "stdout",
     "output_type": "stream",
     "text": [
      "1.6702144861221313\n"
     ]
    },
    {
     "name": "stderr",
     "output_type": "stream",
     "text": [
      "Validation:  25%|██▌       | 6/24 [00:00<00:01,  9.70valid_batch/s]"
     ]
    },
    {
     "name": "stdout",
     "output_type": "stream",
     "text": [
      "1.6043551762898762\n"
     ]
    },
    {
     "name": "stderr",
     "output_type": "stream",
     "text": [
      "Validation:  29%|██▉       | 7/24 [00:00<00:01,  9.72valid_batch/s]"
     ]
    },
    {
     "name": "stdout",
     "output_type": "stream",
     "text": [
      "1.6129590272903442\n"
     ]
    },
    {
     "name": "stderr",
     "output_type": "stream",
     "text": [
      "Validation:  33%|███▎      | 8/24 [00:00<00:01,  9.78valid_batch/s]"
     ]
    },
    {
     "name": "stdout",
     "output_type": "stream",
     "text": [
      "1.6041942685842514\n"
     ]
    },
    {
     "name": "stderr",
     "output_type": "stream",
     "text": [
      "Validation:  38%|███▊      | 9/24 [00:00<00:01,  9.82valid_batch/s]"
     ]
    },
    {
     "name": "stdout",
     "output_type": "stream",
     "text": [
      "1.609901785850525\n",
      "1.6343530297279358\n",
      "1.6566493186083706\n"
     ]
    },
    {
     "name": "stderr",
     "output_type": "stream",
     "text": [
      "Validation:  50%|█████     | 12/24 [00:01<00:01,  9.88valid_batch/s]"
     ]
    },
    {
     "name": "stdout",
     "output_type": "stream",
     "text": [
      "EVAL: [10/24] Elapsed 0m 1s (remain 0m 1s) Loss: 1.6566 \n",
      "1.6449929773807526\n"
     ]
    },
    {
     "name": "stderr",
     "output_type": "stream",
     "text": [
      "Validation:  62%|██████▎   | 15/24 [00:01<00:00,  9.97valid_batch/s]"
     ]
    },
    {
     "name": "stdout",
     "output_type": "stream",
     "text": [
      "1.6290461191764245\n",
      "1.6725390723773412\n",
      "1.6532068411509195\n"
     ]
    },
    {
     "name": "stderr",
     "output_type": "stream",
     "text": [
      "Validation:  71%|███████   | 17/24 [00:01<00:00,  9.72valid_batch/s]"
     ]
    },
    {
     "name": "stdout",
     "output_type": "stream",
     "text": [
      "1.6651401743292809\n",
      "1.6683411528082455\n"
     ]
    },
    {
     "name": "stderr",
     "output_type": "stream",
     "text": [
      "Validation:  79%|███████▉  | 19/24 [00:01<00:00,  9.02valid_batch/s]"
     ]
    },
    {
     "name": "stdout",
     "output_type": "stream",
     "text": [
      "1.6654796534114413\n",
      "1.6732238782079596\n"
     ]
    },
    {
     "name": "stderr",
     "output_type": "stream",
     "text": [
      "Validation:  88%|████████▊ | 21/24 [00:02<00:00,  8.36valid_batch/s]"
     ]
    },
    {
     "name": "stdout",
     "output_type": "stream",
     "text": [
      "1.6628510653972626\n",
      "1.671041556767055\n",
      "EVAL: [20/24] Elapsed 0m 2s (remain 0m 0s) Loss: 1.6710 \n"
     ]
    },
    {
     "name": "stderr",
     "output_type": "stream",
     "text": [
      "Validation:  96%|█████████▌| 23/24 [00:02<00:00,  8.69valid_batch/s]"
     ]
    },
    {
     "name": "stdout",
     "output_type": "stream",
     "text": [
      "1.688771291212602\n",
      "1.6890647255856057\n"
     ]
    },
    {
     "name": "stderr",
     "output_type": "stream",
     "text": [
      "Validation: 100%|██████████| 24/24 [00:02<00:00,  9.34valid_batch/s]\n",
      "2024-02-27 10:56:48,330 - utils.training_utils - INFO - Average Training Loss: 0.5942\n",
      "2024-02-27 10:56:48,331 - utils.training_utils - INFO - Average Validation Loss: 1.6971\n",
      "2024-02-27 10:56:48,332 - utils.training_utils - INFO - Epoch 8/20\n"
     ]
    },
    {
     "name": "stdout",
     "output_type": "stream",
     "text": [
      "1.6970729927221935\n",
      "EVAL: [23/24] Elapsed 0m 2s (remain 0m 0s) Loss: 1.6971 \n"
     ]
    },
    {
     "name": "stderr",
     "output_type": "stream",
     "text": [
      "Train:   4%|▍         | 1/24 [00:05<02:09,  5.63s/train_batch]"
     ]
    },
    {
     "name": "stdout",
     "output_type": "stream",
     "text": [
      "Epoch: [8][0/24] Elapsed 0m 3s (remain 1m 18s) Loss: 0.5358 Grad: 1.9659  LR: 0.00076777  \n"
     ]
    },
    {
     "name": "stderr",
     "output_type": "stream",
     "text": [
      "Train:  46%|████▌     | 11/24 [00:58<01:17,  5.97s/train_batch]"
     ]
    },
    {
     "name": "stdout",
     "output_type": "stream",
     "text": [
      "Epoch: [8][10/24] Elapsed 0m 56s (remain 1m 7s) Loss: 0.5891 Grad: 2.5912  LR: 0.00073808  \n"
     ]
    },
    {
     "name": "stderr",
     "output_type": "stream",
     "text": [
      "Train:  88%|████████▊ | 21/24 [01:52<00:17,  5.97s/train_batch]"
     ]
    },
    {
     "name": "stdout",
     "output_type": "stream",
     "text": [
      "Epoch: [8][20/24] Elapsed 1m 50s (remain 0m 15s) Loss: 0.5772 Grad: 3.2522  LR: 0.00070725  \n"
     ]
    },
    {
     "name": "stderr",
     "output_type": "stream",
     "text": [
      "Train: 100%|██████████| 24/24 [02:08<00:00,  5.36s/train_batch]\n"
     ]
    },
    {
     "name": "stdout",
     "output_type": "stream",
     "text": [
      "Epoch: [8][23/24] Elapsed 2m 6s (remain 0m 0s) Loss: 0.5804 Grad: 2.4007  LR: 0.00069781  \n"
     ]
    },
    {
     "name": "stderr",
     "output_type": "stream",
     "text": [
      "Validation:   4%|▍         | 1/24 [00:00<00:02,  8.54valid_batch/s]"
     ]
    },
    {
     "name": "stdout",
     "output_type": "stream",
     "text": [
      "1.1258033514022827\n",
      "EVAL: [0/24] Elapsed 0m 0s (remain 0m 2s) Loss: 1.1258 \n"
     ]
    },
    {
     "name": "stderr",
     "output_type": "stream",
     "text": [
      "Validation:   8%|▊         | 2/24 [00:00<00:02,  8.54valid_batch/s]"
     ]
    },
    {
     "name": "stdout",
     "output_type": "stream",
     "text": [
      "1.2312164902687073\n"
     ]
    },
    {
     "name": "stderr",
     "output_type": "stream",
     "text": [
      "Validation:  12%|█▎        | 3/24 [00:00<00:02,  8.78valid_batch/s]"
     ]
    },
    {
     "name": "stdout",
     "output_type": "stream",
     "text": [
      "1.4047192335128784\n"
     ]
    },
    {
     "name": "stderr",
     "output_type": "stream",
     "text": [
      "Validation:  17%|█▋        | 4/24 [00:00<00:02,  9.07valid_batch/s]"
     ]
    },
    {
     "name": "stdout",
     "output_type": "stream",
     "text": [
      "1.5668267905712128\n"
     ]
    },
    {
     "name": "stderr",
     "output_type": "stream",
     "text": [
      "Validation:  21%|██        | 5/24 [00:00<00:02,  9.17valid_batch/s]"
     ]
    },
    {
     "name": "stdout",
     "output_type": "stream",
     "text": [
      "1.4763387441635132\n"
     ]
    },
    {
     "name": "stderr",
     "output_type": "stream",
     "text": [
      "Validation:  25%|██▌       | 6/24 [00:00<00:01,  9.22valid_batch/s]"
     ]
    },
    {
     "name": "stdout",
     "output_type": "stream",
     "text": [
      "1.560281256834666\n"
     ]
    },
    {
     "name": "stderr",
     "output_type": "stream",
     "text": [
      "Validation:  29%|██▉       | 7/24 [00:00<00:01,  9.40valid_batch/s]"
     ]
    },
    {
     "name": "stdout",
     "output_type": "stream",
     "text": [
      "1.590140734400068\n"
     ]
    },
    {
     "name": "stderr",
     "output_type": "stream",
     "text": [
      "Validation:  33%|███▎      | 8/24 [00:00<00:01,  9.43valid_batch/s]"
     ]
    },
    {
     "name": "stdout",
     "output_type": "stream",
     "text": [
      "1.5652147829532623\n"
     ]
    },
    {
     "name": "stderr",
     "output_type": "stream",
     "text": [
      "Validation:  38%|███▊      | 9/24 [00:00<00:01,  9.46valid_batch/s]"
     ]
    },
    {
     "name": "stdout",
     "output_type": "stream",
     "text": [
      "1.5755786895751953\n"
     ]
    },
    {
     "name": "stderr",
     "output_type": "stream",
     "text": [
      "Validation:  42%|████▏     | 10/24 [00:01<00:01,  9.48valid_batch/s]"
     ]
    },
    {
     "name": "stdout",
     "output_type": "stream",
     "text": [
      "1.6103989601135253\n"
     ]
    },
    {
     "name": "stderr",
     "output_type": "stream",
     "text": [
      "Validation:  46%|████▌     | 11/24 [00:01<00:01,  9.44valid_batch/s]"
     ]
    },
    {
     "name": "stdout",
     "output_type": "stream",
     "text": [
      "1.6369744430888782\n",
      "EVAL: [10/24] Elapsed 0m 1s (remain 0m 1s) Loss: 1.6370 \n"
     ]
    },
    {
     "name": "stderr",
     "output_type": "stream",
     "text": [
      "Validation:  50%|█████     | 12/24 [00:01<00:01,  9.43valid_batch/s]"
     ]
    },
    {
     "name": "stdout",
     "output_type": "stream",
     "text": [
      "1.632605363925298\n"
     ]
    },
    {
     "name": "stderr",
     "output_type": "stream",
     "text": [
      "Validation:  54%|█████▍    | 13/24 [00:01<00:01,  9.51valid_batch/s]"
     ]
    },
    {
     "name": "stdout",
     "output_type": "stream",
     "text": [
      "1.6217445501914391\n"
     ]
    },
    {
     "name": "stderr",
     "output_type": "stream",
     "text": [
      "Validation:  58%|█████▊    | 14/24 [00:01<00:01,  9.57valid_batch/s]"
     ]
    },
    {
     "name": "stdout",
     "output_type": "stream",
     "text": [
      "1.6452513337135315\n"
     ]
    },
    {
     "name": "stderr",
     "output_type": "stream",
     "text": [
      "Validation:  62%|██████▎   | 15/24 [00:01<00:00,  9.62valid_batch/s]"
     ]
    },
    {
     "name": "stdout",
     "output_type": "stream",
     "text": [
      "1.6530654986699422\n"
     ]
    },
    {
     "name": "stderr",
     "output_type": "stream",
     "text": [
      "Validation:  67%|██████▋   | 16/24 [00:01<00:00,  9.70valid_batch/s]"
     ]
    },
    {
     "name": "stdout",
     "output_type": "stream",
     "text": [
      "1.6474236473441124\n"
     ]
    },
    {
     "name": "stderr",
     "output_type": "stream",
     "text": [
      "Validation:  71%|███████   | 17/24 [00:01<00:00,  9.66valid_batch/s]"
     ]
    },
    {
     "name": "stdout",
     "output_type": "stream",
     "text": [
      "1.6724908983006197\n"
     ]
    },
    {
     "name": "stderr",
     "output_type": "stream",
     "text": [
      "Validation:  75%|███████▌  | 18/24 [00:01<00:00,  9.71valid_batch/s]"
     ]
    },
    {
     "name": "stdout",
     "output_type": "stream",
     "text": [
      "1.655500802728865\n"
     ]
    },
    {
     "name": "stderr",
     "output_type": "stream",
     "text": [
      "Validation:  79%|███████▉  | 19/24 [00:02<00:00,  9.72valid_batch/s]"
     ]
    },
    {
     "name": "stdout",
     "output_type": "stream",
     "text": [
      "1.639297554367467\n"
     ]
    },
    {
     "name": "stderr",
     "output_type": "stream",
     "text": [
      "Validation:  83%|████████▎ | 20/24 [00:02<00:00,  9.71valid_batch/s]"
     ]
    },
    {
     "name": "stdout",
     "output_type": "stream",
     "text": [
      "1.6468437731266021\n"
     ]
    },
    {
     "name": "stderr",
     "output_type": "stream",
     "text": [
      "Validation:  88%|████████▊ | 21/24 [00:02<00:00,  9.68valid_batch/s]"
     ]
    },
    {
     "name": "stdout",
     "output_type": "stream",
     "text": [
      "1.6426366113481068\n",
      "EVAL: [20/24] Elapsed 0m 2s (remain 0m 0s) Loss: 1.6426 \n",
      "1.6445142789320513\n"
     ]
    },
    {
     "name": "stderr",
     "output_type": "stream",
     "text": [
      "Validation:  96%|█████████▌| 23/24 [00:02<00:00,  9.78valid_batch/s]"
     ]
    },
    {
     "name": "stdout",
     "output_type": "stream",
     "text": [
      "1.6284961389458699\n"
     ]
    },
    {
     "name": "stderr",
     "output_type": "stream",
     "text": [
      "Validation: 100%|██████████| 24/24 [00:02<00:00,  9.49valid_batch/s]\n",
      "2024-02-27 10:58:59,461 - utils.training_utils - INFO - Average Training Loss: 0.5804\n",
      "2024-02-27 10:58:59,462 - utils.training_utils - INFO - Average Validation Loss: 1.6097\n",
      "2024-02-27 10:58:59,462 - utils.training_utils - INFO - Epoch 9/20\n"
     ]
    },
    {
     "name": "stdout",
     "output_type": "stream",
     "text": [
      "1.6096943020820618\n",
      "EVAL: [23/24] Elapsed 0m 2s (remain 0m 0s) Loss: 1.6097 \n"
     ]
    },
    {
     "name": "stderr",
     "output_type": "stream",
     "text": [
      "Train:   4%|▍         | 1/24 [00:05<02:08,  5.60s/train_batch]"
     ]
    },
    {
     "name": "stdout",
     "output_type": "stream",
     "text": [
      "Epoch: [9][0/24] Elapsed 0m 3s (remain 1m 17s) Loss: 0.4638 Grad: 2.1617  LR: 0.00069464  \n"
     ]
    },
    {
     "name": "stderr",
     "output_type": "stream",
     "text": [
      "Train:  46%|████▌     | 11/24 [00:58<01:17,  5.97s/train_batch]"
     ]
    },
    {
     "name": "stdout",
     "output_type": "stream",
     "text": [
      "Epoch: [9][10/24] Elapsed 0m 56s (remain 1m 7s) Loss: 0.4574 Grad: 2.3231  LR: 0.00066248  \n"
     ]
    },
    {
     "name": "stderr",
     "output_type": "stream",
     "text": [
      "Train:  88%|████████▊ | 21/24 [01:52<00:17,  5.98s/train_batch]"
     ]
    },
    {
     "name": "stdout",
     "output_type": "stream",
     "text": [
      "Epoch: [9][20/24] Elapsed 1m 50s (remain 0m 15s) Loss: 0.4542 Grad: 2.7754  LR: 0.00062956  \n"
     ]
    },
    {
     "name": "stderr",
     "output_type": "stream",
     "text": [
      "Train: 100%|██████████| 24/24 [02:08<00:00,  5.36s/train_batch]\n"
     ]
    },
    {
     "name": "stdout",
     "output_type": "stream",
     "text": [
      "Epoch: [9][23/24] Elapsed 2m 6s (remain 0m 0s) Loss: 0.4738 Grad: 3.6104  LR: 0.00061955  \n"
     ]
    },
    {
     "name": "stderr",
     "output_type": "stream",
     "text": [
      "Validation:   4%|▍         | 1/24 [00:00<00:02,  9.48valid_batch/s]"
     ]
    },
    {
     "name": "stdout",
     "output_type": "stream",
     "text": [
      "1.6801564693450928\n",
      "EVAL: [0/24] Elapsed 0m 0s (remain 0m 2s) Loss: 1.6802 \n"
     ]
    },
    {
     "name": "stderr",
     "output_type": "stream",
     "text": [
      "Validation:   8%|▊         | 2/24 [00:00<00:02,  9.61valid_batch/s]"
     ]
    },
    {
     "name": "stdout",
     "output_type": "stream",
     "text": [
      "1.5854239463806152\n"
     ]
    },
    {
     "name": "stderr",
     "output_type": "stream",
     "text": [
      "Validation:  12%|█▎        | 3/24 [00:00<00:02,  9.35valid_batch/s]"
     ]
    },
    {
     "name": "stdout",
     "output_type": "stream",
     "text": [
      "1.5521056652069092\n"
     ]
    },
    {
     "name": "stderr",
     "output_type": "stream",
     "text": [
      "Validation:  17%|█▋        | 4/24 [00:00<00:02,  9.42valid_batch/s]"
     ]
    },
    {
     "name": "stdout",
     "output_type": "stream",
     "text": [
      "1.6014078259468079\n"
     ]
    },
    {
     "name": "stderr",
     "output_type": "stream",
     "text": [
      "Validation:  21%|██        | 5/24 [00:00<00:02,  9.40valid_batch/s]"
     ]
    },
    {
     "name": "stdout",
     "output_type": "stream",
     "text": [
      "1.568932580947876\n"
     ]
    },
    {
     "name": "stderr",
     "output_type": "stream",
     "text": [
      "Validation:  25%|██▌       | 6/24 [00:00<00:01,  9.35valid_batch/s]"
     ]
    },
    {
     "name": "stdout",
     "output_type": "stream",
     "text": [
      "1.5659218430519104\n"
     ]
    },
    {
     "name": "stderr",
     "output_type": "stream",
     "text": [
      "Validation:  29%|██▉       | 7/24 [00:00<00:01,  9.47valid_batch/s]"
     ]
    },
    {
     "name": "stdout",
     "output_type": "stream",
     "text": [
      "1.5701171500342233\n"
     ]
    },
    {
     "name": "stderr",
     "output_type": "stream",
     "text": [
      "Validation:  33%|███▎      | 8/24 [00:00<00:01,  9.45valid_batch/s]"
     ]
    },
    {
     "name": "stdout",
     "output_type": "stream",
     "text": [
      "1.5892907977104187\n"
     ]
    },
    {
     "name": "stderr",
     "output_type": "stream",
     "text": [
      "Validation:  38%|███▊      | 9/24 [00:00<00:01,  9.46valid_batch/s]"
     ]
    },
    {
     "name": "stdout",
     "output_type": "stream",
     "text": [
      "1.5917438003751967\n"
     ]
    },
    {
     "name": "stderr",
     "output_type": "stream",
     "text": [
      "Validation:  42%|████▏     | 10/24 [00:01<00:01,  9.44valid_batch/s]"
     ]
    },
    {
     "name": "stdout",
     "output_type": "stream",
     "text": [
      "1.5349417567253112\n"
     ]
    },
    {
     "name": "stderr",
     "output_type": "stream",
     "text": [
      "Validation:  46%|████▌     | 11/24 [00:01<00:01,  9.41valid_batch/s]"
     ]
    },
    {
     "name": "stdout",
     "output_type": "stream",
     "text": [
      "1.5648965076966719\n",
      "EVAL: [10/24] Elapsed 0m 1s (remain 0m 1s) Loss: 1.5649 \n"
     ]
    },
    {
     "name": "stderr",
     "output_type": "stream",
     "text": [
      "Validation:  50%|█████     | 12/24 [00:01<00:01,  9.38valid_batch/s]"
     ]
    },
    {
     "name": "stdout",
     "output_type": "stream",
     "text": [
      "1.5402792394161224\n"
     ]
    },
    {
     "name": "stderr",
     "output_type": "stream",
     "text": [
      "Validation:  54%|█████▍    | 13/24 [00:01<00:01,  9.47valid_batch/s]"
     ]
    },
    {
     "name": "stdout",
     "output_type": "stream",
     "text": [
      "1.5318792874996479\n"
     ]
    },
    {
     "name": "stderr",
     "output_type": "stream",
     "text": [
      "Validation:  58%|█████▊    | 14/24 [00:01<00:01,  9.60valid_batch/s]"
     ]
    },
    {
     "name": "stdout",
     "output_type": "stream",
     "text": [
      "1.535346737929753\n"
     ]
    },
    {
     "name": "stderr",
     "output_type": "stream",
     "text": [
      "Validation:  62%|██████▎   | 15/24 [00:01<00:00,  9.54valid_batch/s]"
     ]
    },
    {
     "name": "stdout",
     "output_type": "stream",
     "text": [
      "1.5354772965113321\n"
     ]
    },
    {
     "name": "stderr",
     "output_type": "stream",
     "text": [
      "Validation:  67%|██████▋   | 16/24 [00:01<00:00,  9.58valid_batch/s]"
     ]
    },
    {
     "name": "stdout",
     "output_type": "stream",
     "text": [
      "1.527137115597725\n"
     ]
    },
    {
     "name": "stderr",
     "output_type": "stream",
     "text": [
      "Validation:  71%|███████   | 17/24 [00:01<00:00,  9.58valid_batch/s]"
     ]
    },
    {
     "name": "stdout",
     "output_type": "stream",
     "text": [
      "1.5536040698780733\n"
     ]
    },
    {
     "name": "stderr",
     "output_type": "stream",
     "text": [
      "Validation:  75%|███████▌  | 18/24 [00:01<00:00,  9.50valid_batch/s]"
     ]
    },
    {
     "name": "stdout",
     "output_type": "stream",
     "text": [
      "1.5751849545372858\n"
     ]
    },
    {
     "name": "stderr",
     "output_type": "stream",
     "text": [
      "Validation:  79%|███████▉  | 19/24 [00:02<00:00,  9.52valid_batch/s]"
     ]
    },
    {
     "name": "stdout",
     "output_type": "stream",
     "text": [
      "1.5759174823760986\n"
     ]
    },
    {
     "name": "stderr",
     "output_type": "stream",
     "text": [
      "Validation:  83%|████████▎ | 20/24 [00:02<00:00,  9.55valid_batch/s]"
     ]
    },
    {
     "name": "stdout",
     "output_type": "stream",
     "text": [
      "1.5790526509284972\n"
     ]
    },
    {
     "name": "stderr",
     "output_type": "stream",
     "text": [
      "Validation:  88%|████████▊ | 21/24 [00:02<00:00,  9.49valid_batch/s]"
     ]
    },
    {
     "name": "stdout",
     "output_type": "stream",
     "text": [
      "1.5839611916314988\n",
      "EVAL: [20/24] Elapsed 0m 2s (remain 0m 0s) Loss: 1.5840 \n"
     ]
    },
    {
     "name": "stderr",
     "output_type": "stream",
     "text": [
      "Validation:  92%|█████████▏| 22/24 [00:02<00:00,  9.49valid_batch/s]"
     ]
    },
    {
     "name": "stdout",
     "output_type": "stream",
     "text": [
      "1.5985912409695713\n"
     ]
    },
    {
     "name": "stderr",
     "output_type": "stream",
     "text": [
      "Validation:  96%|█████████▌| 23/24 [00:02<00:00,  9.42valid_batch/s]"
     ]
    },
    {
     "name": "stdout",
     "output_type": "stream",
     "text": [
      "1.5970538647278496\n"
     ]
    },
    {
     "name": "stderr",
     "output_type": "stream",
     "text": [
      "Validation: 100%|██████████| 24/24 [00:02<00:00,  9.48valid_batch/s]\n",
      "2024-02-27 11:01:10,603 - utils.training_utils - INFO - Average Training Loss: 0.4738\n",
      "2024-02-27 11:01:10,604 - utils.training_utils - INFO - Average Validation Loss: 1.5931\n",
      "2024-02-27 11:01:10,605 - utils.training_utils - INFO - Epoch 10/20\n"
     ]
    },
    {
     "name": "stdout",
     "output_type": "stream",
     "text": [
      "1.5930589735507965\n",
      "EVAL: [23/24] Elapsed 0m 2s (remain 0m 0s) Loss: 1.5931 \n"
     ]
    },
    {
     "name": "stderr",
     "output_type": "stream",
     "text": [
      "Train:   4%|▍         | 1/24 [00:05<02:09,  5.61s/train_batch]"
     ]
    },
    {
     "name": "stdout",
     "output_type": "stream",
     "text": [
      "Epoch: [10][0/24] Elapsed 0m 3s (remain 1m 17s) Loss: 0.4431 Grad: 3.0823  LR: 0.00061621  \n"
     ]
    },
    {
     "name": "stderr",
     "output_type": "stream",
     "text": [
      "Train:  46%|████▌     | 11/24 [00:58<01:17,  5.97s/train_batch]"
     ]
    },
    {
     "name": "stdout",
     "output_type": "stream",
     "text": [
      "Epoch: [10][10/24] Elapsed 0m 56s (remain 1m 7s) Loss: 0.4358 Grad: 2.3414  LR: 0.00058246  \n"
     ]
    },
    {
     "name": "stderr",
     "output_type": "stream",
     "text": [
      "Train:  88%|████████▊ | 21/24 [01:52<00:17,  5.97s/train_batch]"
     ]
    },
    {
     "name": "stdout",
     "output_type": "stream",
     "text": [
      "Epoch: [10][20/24] Elapsed 1m 50s (remain 0m 15s) Loss: 0.4375 Grad: 2.4422  LR: 0.00054833  \n"
     ]
    },
    {
     "name": "stderr",
     "output_type": "stream",
     "text": [
      "Train: 100%|██████████| 24/24 [02:08<00:00,  5.36s/train_batch]\n"
     ]
    },
    {
     "name": "stdout",
     "output_type": "stream",
     "text": [
      "Epoch: [10][23/24] Elapsed 2m 6s (remain 0m 0s) Loss: 0.4349 Grad: 2.0651  LR: 0.00053804  \n"
     ]
    },
    {
     "name": "stderr",
     "output_type": "stream",
     "text": [
      "Validation:   4%|▍         | 1/24 [00:00<00:02,  9.34valid_batch/s]"
     ]
    },
    {
     "name": "stdout",
     "output_type": "stream",
     "text": [
      "1.2768621444702148\n",
      "EVAL: [0/24] Elapsed 0m 0s (remain 0m 2s) Loss: 1.2769 \n"
     ]
    },
    {
     "name": "stderr",
     "output_type": "stream",
     "text": [
      "Validation:   8%|▊         | 2/24 [00:00<00:02,  9.55valid_batch/s]"
     ]
    },
    {
     "name": "stdout",
     "output_type": "stream",
     "text": [
      "1.198684573173523\n"
     ]
    },
    {
     "name": "stderr",
     "output_type": "stream",
     "text": [
      "Validation:  12%|█▎        | 3/24 [00:00<00:02,  9.65valid_batch/s]"
     ]
    },
    {
     "name": "stdout",
     "output_type": "stream",
     "text": [
      "1.2080709139506023\n"
     ]
    },
    {
     "name": "stderr",
     "output_type": "stream",
     "text": [
      "Validation:  17%|█▋        | 4/24 [00:00<00:02,  9.74valid_batch/s]"
     ]
    },
    {
     "name": "stdout",
     "output_type": "stream",
     "text": [
      "1.2526172399520874\n"
     ]
    },
    {
     "name": "stderr",
     "output_type": "stream",
     "text": [
      "Validation:  21%|██        | 5/24 [00:00<00:01,  9.74valid_batch/s]"
     ]
    },
    {
     "name": "stdout",
     "output_type": "stream",
     "text": [
      "1.2460608005523681\n"
     ]
    },
    {
     "name": "stderr",
     "output_type": "stream",
     "text": [
      "Validation:  25%|██▌       | 6/24 [00:00<00:01,  9.82valid_batch/s]"
     ]
    },
    {
     "name": "stdout",
     "output_type": "stream",
     "text": [
      "1.2089452942212422\n"
     ]
    },
    {
     "name": "stderr",
     "output_type": "stream",
     "text": [
      "Validation:  29%|██▉       | 7/24 [00:00<00:01,  9.72valid_batch/s]"
     ]
    },
    {
     "name": "stdout",
     "output_type": "stream",
     "text": [
      "1.2649129288537162\n",
      "1.2615395337343216\n"
     ]
    },
    {
     "name": "stderr",
     "output_type": "stream",
     "text": [
      "Validation:  38%|███▊      | 9/24 [00:00<00:01,  9.80valid_batch/s]"
     ]
    },
    {
     "name": "stdout",
     "output_type": "stream",
     "text": [
      "1.2479606337017484\n"
     ]
    },
    {
     "name": "stderr",
     "output_type": "stream",
     "text": [
      "Validation:  42%|████▏     | 10/24 [00:01<00:01,  9.67valid_batch/s]"
     ]
    },
    {
     "name": "stdout",
     "output_type": "stream",
     "text": [
      "1.2453789353370666\n"
     ]
    },
    {
     "name": "stderr",
     "output_type": "stream",
     "text": [
      "Validation:  46%|████▌     | 11/24 [00:01<00:01,  9.68valid_batch/s]"
     ]
    },
    {
     "name": "stdout",
     "output_type": "stream",
     "text": [
      "1.2403540828011252\n",
      "EVAL: [10/24] Elapsed 0m 1s (remain 0m 1s) Loss: 1.2404 \n"
     ]
    },
    {
     "name": "stderr",
     "output_type": "stream",
     "text": [
      "Validation:  50%|█████     | 12/24 [00:01<00:01,  9.68valid_batch/s]"
     ]
    },
    {
     "name": "stdout",
     "output_type": "stream",
     "text": [
      "1.2298008004824321\n"
     ]
    },
    {
     "name": "stderr",
     "output_type": "stream",
     "text": [
      "Validation:  54%|█████▍    | 13/24 [00:01<00:01,  9.65valid_batch/s]"
     ]
    },
    {
     "name": "stdout",
     "output_type": "stream",
     "text": [
      "1.2571395910703218\n"
     ]
    },
    {
     "name": "stderr",
     "output_type": "stream",
     "text": [
      "Validation:  58%|█████▊    | 14/24 [00:01<00:01,  9.63valid_batch/s]"
     ]
    },
    {
     "name": "stdout",
     "output_type": "stream",
     "text": [
      "1.2520287122045244\n"
     ]
    },
    {
     "name": "stderr",
     "output_type": "stream",
     "text": [
      "Validation:  62%|██████▎   | 15/24 [00:01<00:00,  9.57valid_batch/s]"
     ]
    },
    {
     "name": "stdout",
     "output_type": "stream",
     "text": [
      "1.2606544256210328\n"
     ]
    },
    {
     "name": "stderr",
     "output_type": "stream",
     "text": [
      "Validation:  67%|██████▋   | 16/24 [00:01<00:00,  9.62valid_batch/s]"
     ]
    },
    {
     "name": "stdout",
     "output_type": "stream",
     "text": [
      "1.2455340176820755\n"
     ]
    },
    {
     "name": "stderr",
     "output_type": "stream",
     "text": [
      "Validation:  71%|███████   | 17/24 [00:01<00:00,  9.58valid_batch/s]"
     ]
    },
    {
     "name": "stdout",
     "output_type": "stream",
     "text": [
      "1.235868299708647\n"
     ]
    },
    {
     "name": "stderr",
     "output_type": "stream",
     "text": [
      "Validation:  75%|███████▌  | 18/24 [00:01<00:00,  9.64valid_batch/s]"
     ]
    },
    {
     "name": "stdout",
     "output_type": "stream",
     "text": [
      "1.2248938348558214\n"
     ]
    },
    {
     "name": "stderr",
     "output_type": "stream",
     "text": [
      "Validation:  79%|███████▉  | 19/24 [00:01<00:00,  9.50valid_batch/s]"
     ]
    },
    {
     "name": "stdout",
     "output_type": "stream",
     "text": [
      "1.2109107500628422\n"
     ]
    },
    {
     "name": "stderr",
     "output_type": "stream",
     "text": [
      "Validation:  83%|████████▎ | 20/24 [00:02<00:00,  9.52valid_batch/s]"
     ]
    },
    {
     "name": "stdout",
     "output_type": "stream",
     "text": [
      "1.2068373054265975\n"
     ]
    },
    {
     "name": "stderr",
     "output_type": "stream",
     "text": [
      "Validation:  88%|████████▊ | 21/24 [00:02<00:00,  9.47valid_batch/s]"
     ]
    },
    {
     "name": "stdout",
     "output_type": "stream",
     "text": [
      "1.2129061307225908\n",
      "EVAL: [20/24] Elapsed 0m 2s (remain 0m 0s) Loss: 1.2129 \n"
     ]
    },
    {
     "name": "stderr",
     "output_type": "stream",
     "text": [
      "Validation:  92%|█████████▏| 22/24 [00:02<00:00,  9.39valid_batch/s]"
     ]
    },
    {
     "name": "stdout",
     "output_type": "stream",
     "text": [
      "1.214333033019846\n"
     ]
    },
    {
     "name": "stderr",
     "output_type": "stream",
     "text": [
      "Validation:  96%|█████████▌| 23/24 [00:02<00:00,  9.31valid_batch/s]"
     ]
    },
    {
     "name": "stdout",
     "output_type": "stream",
     "text": [
      "1.214984777181045\n"
     ]
    },
    {
     "name": "stderr",
     "output_type": "stream",
     "text": [
      "Validation: 100%|██████████| 24/24 [00:02<00:00,  9.56valid_batch/s]\n",
      "2024-02-27 11:03:21,740 - utils.training_utils - INFO - Average Training Loss: 0.4349\n",
      "2024-02-27 11:03:21,741 - utils.training_utils - INFO - Average Validation Loss: 1.2321\n"
     ]
    },
    {
     "name": "stdout",
     "output_type": "stream",
     "text": [
      "1.2321467027068138\n",
      "EVAL: [23/24] Elapsed 0m 2s (remain 0m 0s) Loss: 1.2321 \n"
     ]
    },
    {
     "name": "stderr",
     "output_type": "stream",
     "text": [
      "2024-02-27 11:03:21,835 - utils.training_utils - INFO - Epoch 11/20\n",
      "Train:   4%|▍         | 1/24 [00:05<02:10,  5.66s/train_batch]"
     ]
    },
    {
     "name": "stdout",
     "output_type": "stream",
     "text": [
      "Epoch: [11][0/24] Elapsed 0m 3s (remain 1m 18s) Loss: 0.2442 Grad: 1.9157  LR: 0.00053461  \n"
     ]
    },
    {
     "name": "stderr",
     "output_type": "stream",
     "text": [
      "Train:  46%|████▌     | 11/24 [00:59<01:17,  5.97s/train_batch]"
     ]
    },
    {
     "name": "stdout",
     "output_type": "stream",
     "text": [
      "Epoch: [11][10/24] Elapsed 0m 56s (remain 1m 7s) Loss: 0.2991 Grad: 2.0719  LR: 0.00050020  \n"
     ]
    },
    {
     "name": "stderr",
     "output_type": "stream",
     "text": [
      "Train:  88%|████████▊ | 21/24 [01:52<00:17,  5.97s/train_batch]"
     ]
    },
    {
     "name": "stdout",
     "output_type": "stream",
     "text": [
      "Epoch: [11][20/24] Elapsed 1m 50s (remain 0m 15s) Loss: 0.3069 Grad: 2.9681  LR: 0.00046579  \n"
     ]
    },
    {
     "name": "stderr",
     "output_type": "stream",
     "text": [
      "Train: 100%|██████████| 24/24 [02:08<00:00,  5.36s/train_batch]\n"
     ]
    },
    {
     "name": "stdout",
     "output_type": "stream",
     "text": [
      "Epoch: [11][23/24] Elapsed 2m 6s (remain 0m 0s) Loss: 0.3069 Grad: 2.0991  LR: 0.00045550  \n"
     ]
    },
    {
     "name": "stderr",
     "output_type": "stream",
     "text": [
      "Validation:   4%|▍         | 1/24 [00:00<00:02,  7.98valid_batch/s]"
     ]
    },
    {
     "name": "stdout",
     "output_type": "stream",
     "text": [
      "0.8701387643814087\n",
      "EVAL: [0/24] Elapsed 0m 0s (remain 0m 2s) Loss: 0.8701 \n"
     ]
    },
    {
     "name": "stderr",
     "output_type": "stream",
     "text": [
      "Validation:   8%|▊         | 2/24 [00:00<00:02,  8.91valid_batch/s]"
     ]
    },
    {
     "name": "stdout",
     "output_type": "stream",
     "text": [
      "1.269984781742096\n"
     ]
    },
    {
     "name": "stderr",
     "output_type": "stream",
     "text": [
      "Validation:  17%|█▋        | 4/24 [00:00<00:02,  9.62valid_batch/s]"
     ]
    },
    {
     "name": "stdout",
     "output_type": "stream",
     "text": [
      "1.2557562589645386\n",
      "1.4405365586280823\n"
     ]
    },
    {
     "name": "stderr",
     "output_type": "stream",
     "text": [
      "Validation:  25%|██▌       | 6/24 [00:00<00:01,  9.58valid_batch/s]"
     ]
    },
    {
     "name": "stdout",
     "output_type": "stream",
     "text": [
      "1.520754599571228\n",
      "1.4533923864364624\n"
     ]
    },
    {
     "name": "stderr",
     "output_type": "stream",
     "text": [
      "Validation:  33%|███▎      | 8/24 [00:00<00:01,  9.65valid_batch/s]"
     ]
    },
    {
     "name": "stdout",
     "output_type": "stream",
     "text": [
      "1.4133764845984322\n",
      "1.464026391506195\n"
     ]
    },
    {
     "name": "stderr",
     "output_type": "stream",
     "text": [
      "Validation:  42%|████▏     | 10/24 [00:01<00:01,  9.72valid_batch/s]"
     ]
    },
    {
     "name": "stdout",
     "output_type": "stream",
     "text": [
      "1.466098838382297\n",
      "1.4932076573371886\n"
     ]
    },
    {
     "name": "stderr",
     "output_type": "stream",
     "text": [
      "Validation:  50%|█████     | 12/24 [00:01<00:01,  9.67valid_batch/s]"
     ]
    },
    {
     "name": "stdout",
     "output_type": "stream",
     "text": [
      "1.4859437075528232\n",
      "EVAL: [10/24] Elapsed 0m 1s (remain 0m 1s) Loss: 1.4859 \n",
      "1.4777381618817647\n"
     ]
    },
    {
     "name": "stderr",
     "output_type": "stream",
     "text": [
      "Validation:  58%|█████▊    | 14/24 [00:01<00:01,  9.76valid_batch/s]"
     ]
    },
    {
     "name": "stdout",
     "output_type": "stream",
     "text": [
      "1.4883237435267522\n",
      "1.494051797049386\n"
     ]
    },
    {
     "name": "stderr",
     "output_type": "stream",
     "text": [
      "Validation:  67%|██████▋   | 16/24 [00:01<00:00,  9.30valid_batch/s]"
     ]
    },
    {
     "name": "stdout",
     "output_type": "stream",
     "text": [
      "1.4721583366394042\n",
      "1.463898554444313\n"
     ]
    },
    {
     "name": "stderr",
     "output_type": "stream",
     "text": [
      "Validation:  79%|███████▉  | 19/24 [00:01<00:00,  9.77valid_batch/s]"
     ]
    },
    {
     "name": "stdout",
     "output_type": "stream",
     "text": [
      "1.46955626151141\n",
      "1.4687880012724135\n",
      "1.4865495154732151\n"
     ]
    },
    {
     "name": "stderr",
     "output_type": "stream",
     "text": [
      "Validation:  88%|████████▊ | 21/24 [00:02<00:00,  9.66valid_batch/s]"
     ]
    },
    {
     "name": "stdout",
     "output_type": "stream",
     "text": [
      "1.4952429831027985\n",
      "1.4885117610295613\n",
      "EVAL: [20/24] Elapsed 0m 2s (remain 0m 0s) Loss: 1.4885 \n"
     ]
    },
    {
     "name": "stderr",
     "output_type": "stream",
     "text": [
      "Validation:  96%|█████████▌| 23/24 [00:02<00:00,  9.68valid_batch/s]"
     ]
    },
    {
     "name": "stdout",
     "output_type": "stream",
     "text": [
      "1.4995701963251287\n",
      "1.4941486172054126\n"
     ]
    },
    {
     "name": "stderr",
     "output_type": "stream",
     "text": [
      "Validation: 100%|██████████| 24/24 [00:02<00:00,  9.60valid_batch/s]\n",
      "2024-02-27 11:05:33,012 - utils.training_utils - INFO - Average Training Loss: 0.3069\n",
      "2024-02-27 11:05:33,013 - utils.training_utils - INFO - Average Validation Loss: 1.4901\n",
      "2024-02-27 11:05:33,014 - utils.training_utils - INFO - Epoch 12/20\n"
     ]
    },
    {
     "name": "stdout",
     "output_type": "stream",
     "text": [
      "1.4900835504134495\n",
      "EVAL: [23/24] Elapsed 0m 2s (remain 0m 0s) Loss: 1.4901 \n"
     ]
    },
    {
     "name": "stderr",
     "output_type": "stream",
     "text": [
      "Train:   4%|▍         | 1/24 [00:05<02:09,  5.62s/train_batch]"
     ]
    },
    {
     "name": "stdout",
     "output_type": "stream",
     "text": [
      "Epoch: [12][0/24] Elapsed 0m 3s (remain 1m 17s) Loss: 0.2915 Grad: 2.4416  LR: 0.00045207  \n"
     ]
    },
    {
     "name": "stderr",
     "output_type": "stream",
     "text": [
      "Train:  46%|████▌     | 11/24 [00:58<01:17,  5.97s/train_batch]"
     ]
    },
    {
     "name": "stdout",
     "output_type": "stream",
     "text": [
      "Epoch: [12][10/24] Elapsed 0m 56s (remain 1m 7s) Loss: 0.2376 Grad: 1.8908  LR: 0.00041794  \n"
     ]
    },
    {
     "name": "stderr",
     "output_type": "stream",
     "text": [
      "Train:  88%|████████▊ | 21/24 [01:52<00:17,  5.97s/train_batch]"
     ]
    },
    {
     "name": "stdout",
     "output_type": "stream",
     "text": [
      "Epoch: [12][20/24] Elapsed 1m 50s (remain 0m 15s) Loss: 0.2410 Grad: 2.1384  LR: 0.00038419  \n"
     ]
    },
    {
     "name": "stderr",
     "output_type": "stream",
     "text": [
      "Train: 100%|██████████| 24/24 [02:08<00:00,  5.36s/train_batch]\n"
     ]
    },
    {
     "name": "stdout",
     "output_type": "stream",
     "text": [
      "Epoch: [12][23/24] Elapsed 2m 6s (remain 0m 0s) Loss: 0.2379 Grad: 1.5752  LR: 0.00037417  \n"
     ]
    },
    {
     "name": "stderr",
     "output_type": "stream",
     "text": [
      "Validation:   4%|▍         | 1/24 [00:00<00:02,  9.07valid_batch/s]"
     ]
    },
    {
     "name": "stdout",
     "output_type": "stream",
     "text": [
      "1.1768591403961182\n",
      "EVAL: [0/24] Elapsed 0m 0s (remain 0m 2s) Loss: 1.1769 \n"
     ]
    },
    {
     "name": "stderr",
     "output_type": "stream",
     "text": [
      "Validation:   8%|▊         | 2/24 [00:00<00:02,  9.28valid_batch/s]"
     ]
    },
    {
     "name": "stdout",
     "output_type": "stream",
     "text": [
      "1.1560503244400024\n"
     ]
    },
    {
     "name": "stderr",
     "output_type": "stream",
     "text": [
      "Validation:  12%|█▎        | 3/24 [00:00<00:02,  8.74valid_batch/s]"
     ]
    },
    {
     "name": "stdout",
     "output_type": "stream",
     "text": [
      "1.0950816869735718\n"
     ]
    },
    {
     "name": "stderr",
     "output_type": "stream",
     "text": [
      "Validation:  17%|█▋        | 4/24 [00:00<00:02,  8.43valid_batch/s]"
     ]
    },
    {
     "name": "stdout",
     "output_type": "stream",
     "text": [
      "1.1587377190589905\n",
      "1.1168850898742675\n"
     ]
    },
    {
     "name": "stderr",
     "output_type": "stream",
     "text": [
      "Validation:  25%|██▌       | 6/24 [00:00<00:01,  9.14valid_batch/s]"
     ]
    },
    {
     "name": "stdout",
     "output_type": "stream",
     "text": [
      "1.108784278233846\n"
     ]
    },
    {
     "name": "stderr",
     "output_type": "stream",
     "text": [
      "Validation:  29%|██▉       | 7/24 [00:00<00:01,  9.33valid_batch/s]"
     ]
    },
    {
     "name": "stdout",
     "output_type": "stream",
     "text": [
      "1.1211456571306502\n"
     ]
    },
    {
     "name": "stderr",
     "output_type": "stream",
     "text": [
      "Validation:  33%|███▎      | 8/24 [00:00<00:01,  9.47valid_batch/s]"
     ]
    },
    {
     "name": "stdout",
     "output_type": "stream",
     "text": [
      "1.1392223834991455\n"
     ]
    },
    {
     "name": "stderr",
     "output_type": "stream",
     "text": [
      "Validation:  38%|███▊      | 9/24 [00:00<00:01,  9.57valid_batch/s]"
     ]
    },
    {
     "name": "stdout",
     "output_type": "stream",
     "text": [
      "1.233180496427748\n"
     ]
    },
    {
     "name": "stderr",
     "output_type": "stream",
     "text": [
      "Validation:  42%|████▏     | 10/24 [00:01<00:01,  9.60valid_batch/s]"
     ]
    },
    {
     "name": "stdout",
     "output_type": "stream",
     "text": [
      "1.2228953838348389\n"
     ]
    },
    {
     "name": "stderr",
     "output_type": "stream",
     "text": [
      "Validation:  46%|████▌     | 11/24 [00:01<00:01,  9.66valid_batch/s]"
     ]
    },
    {
     "name": "stdout",
     "output_type": "stream",
     "text": [
      "1.1944831555539912\n",
      "EVAL: [10/24] Elapsed 0m 1s (remain 0m 1s) Loss: 1.1945 \n"
     ]
    },
    {
     "name": "stderr",
     "output_type": "stream",
     "text": [
      "Validation:  50%|█████     | 12/24 [00:01<00:01,  9.71valid_batch/s]"
     ]
    },
    {
     "name": "stdout",
     "output_type": "stream",
     "text": [
      "1.2103505978981655\n"
     ]
    },
    {
     "name": "stderr",
     "output_type": "stream",
     "text": [
      "Validation:  54%|█████▍    | 13/24 [00:01<00:01,  9.78valid_batch/s]"
     ]
    },
    {
     "name": "stdout",
     "output_type": "stream",
     "text": [
      "1.2372779525243318\n"
     ]
    },
    {
     "name": "stderr",
     "output_type": "stream",
     "text": [
      "Validation:  58%|█████▊    | 14/24 [00:01<00:01,  9.72valid_batch/s]"
     ]
    },
    {
     "name": "stdout",
     "output_type": "stream",
     "text": [
      "1.2571566658360618\n"
     ]
    },
    {
     "name": "stderr",
     "output_type": "stream",
     "text": [
      "Validation:  62%|██████▎   | 15/24 [00:01<00:00,  9.71valid_batch/s]"
     ]
    },
    {
     "name": "stdout",
     "output_type": "stream",
     "text": [
      "1.2442875425020854\n"
     ]
    },
    {
     "name": "stderr",
     "output_type": "stream",
     "text": [
      "Validation:  67%|██████▋   | 16/24 [00:01<00:00,  9.65valid_batch/s]"
     ]
    },
    {
     "name": "stdout",
     "output_type": "stream",
     "text": [
      "1.2253884114325047\n"
     ]
    },
    {
     "name": "stderr",
     "output_type": "stream",
     "text": [
      "Validation:  71%|███████   | 17/24 [00:01<00:00,  9.67valid_batch/s]"
     ]
    },
    {
     "name": "stdout",
     "output_type": "stream",
     "text": [
      "1.2148353387327755\n"
     ]
    },
    {
     "name": "stderr",
     "output_type": "stream",
     "text": [
      "Validation:  75%|███████▌  | 18/24 [00:01<00:00,  9.70valid_batch/s]"
     ]
    },
    {
     "name": "stdout",
     "output_type": "stream",
     "text": [
      "1.214139809211095\n"
     ]
    },
    {
     "name": "stderr",
     "output_type": "stream",
     "text": [
      "Validation:  79%|███████▉  | 19/24 [00:01<00:00,  9.76valid_batch/s]"
     ]
    },
    {
     "name": "stdout",
     "output_type": "stream",
     "text": [
      "1.2083242347365932\n"
     ]
    },
    {
     "name": "stderr",
     "output_type": "stream",
     "text": [
      "Validation:  83%|████████▎ | 20/24 [00:02<00:00,  9.66valid_batch/s]"
     ]
    },
    {
     "name": "stdout",
     "output_type": "stream",
     "text": [
      "1.2153536409139634\n"
     ]
    },
    {
     "name": "stderr",
     "output_type": "stream",
     "text": [
      "Validation:  88%|████████▊ | 21/24 [00:02<00:00,  9.68valid_batch/s]"
     ]
    },
    {
     "name": "stdout",
     "output_type": "stream",
     "text": [
      "1.2208852569262187\n",
      "EVAL: [20/24] Elapsed 0m 2s (remain 0m 0s) Loss: 1.2209 \n"
     ]
    },
    {
     "name": "stderr",
     "output_type": "stream",
     "text": [
      "Validation:  92%|█████████▏| 22/24 [00:02<00:00,  9.64valid_batch/s]"
     ]
    },
    {
     "name": "stdout",
     "output_type": "stream",
     "text": [
      "1.2176937271248212\n"
     ]
    },
    {
     "name": "stderr",
     "output_type": "stream",
     "text": [
      "Validation:  96%|█████████▌| 23/24 [00:02<00:00,  9.70valid_batch/s]"
     ]
    },
    {
     "name": "stdout",
     "output_type": "stream",
     "text": [
      "1.2202172201612722\n"
     ]
    },
    {
     "name": "stderr",
     "output_type": "stream",
     "text": [
      "Validation: 100%|██████████| 24/24 [00:02<00:00,  9.54valid_batch/s]\n",
      "2024-02-27 11:07:44,127 - utils.training_utils - INFO - Average Training Loss: 0.2379\n",
      "2024-02-27 11:07:44,127 - utils.training_utils - INFO - Average Validation Loss: 1.2115\n",
      "2024-02-27 11:07:44,219 - utils.training_utils - INFO - Epoch 13/20\n"
     ]
    },
    {
     "name": "stdout",
     "output_type": "stream",
     "text": [
      "1.2114588643113773\n",
      "EVAL: [23/24] Elapsed 0m 2s (remain 0m 0s) Loss: 1.2115 \n"
     ]
    },
    {
     "name": "stderr",
     "output_type": "stream",
     "text": [
      "Train:   4%|▍         | 1/24 [00:05<02:09,  5.65s/train_batch]"
     ]
    },
    {
     "name": "stdout",
     "output_type": "stream",
     "text": [
      "Epoch: [13][0/24] Elapsed 0m 3s (remain 1m 18s) Loss: 0.2135 Grad: 2.1978  LR: 0.00037084  \n"
     ]
    },
    {
     "name": "stderr",
     "output_type": "stream",
     "text": [
      "Train:  46%|████▌     | 11/24 [00:59<01:17,  5.98s/train_batch]"
     ]
    },
    {
     "name": "stdout",
     "output_type": "stream",
     "text": [
      "Epoch: [13][10/24] Elapsed 0m 56s (remain 1m 7s) Loss: 0.2315 Grad: 1.5765  LR: 0.00033792  \n"
     ]
    },
    {
     "name": "stderr",
     "output_type": "stream",
     "text": [
      "Train:  88%|████████▊ | 21/24 [01:52<00:17,  5.98s/train_batch]"
     ]
    },
    {
     "name": "stdout",
     "output_type": "stream",
     "text": [
      "Epoch: [13][20/24] Elapsed 1m 50s (remain 0m 15s) Loss: 0.2258 Grad: 1.7406  LR: 0.00030576  \n"
     ]
    },
    {
     "name": "stderr",
     "output_type": "stream",
     "text": [
      "Train: 100%|██████████| 24/24 [02:08<00:00,  5.36s/train_batch]\n"
     ]
    },
    {
     "name": "stdout",
     "output_type": "stream",
     "text": [
      "Epoch: [13][23/24] Elapsed 2m 6s (remain 0m 0s) Loss: 0.2236 Grad: 2.2996  LR: 0.00029628  \n"
     ]
    },
    {
     "name": "stderr",
     "output_type": "stream",
     "text": [
      "Validation:   4%|▍         | 1/24 [00:00<00:02,  9.47valid_batch/s]"
     ]
    },
    {
     "name": "stdout",
     "output_type": "stream",
     "text": [
      "1.1896553039550781\n",
      "EVAL: [0/24] Elapsed 0m 0s (remain 0m 2s) Loss: 1.1897 \n"
     ]
    },
    {
     "name": "stderr",
     "output_type": "stream",
     "text": [
      "Validation:   8%|▊         | 2/24 [00:00<00:02,  9.62valid_batch/s]"
     ]
    },
    {
     "name": "stdout",
     "output_type": "stream",
     "text": [
      "1.2831133604049683\n"
     ]
    },
    {
     "name": "stderr",
     "output_type": "stream",
     "text": [
      "Validation:  12%|█▎        | 3/24 [00:00<00:02,  9.76valid_batch/s]"
     ]
    },
    {
     "name": "stdout",
     "output_type": "stream",
     "text": [
      "1.141922612984975\n"
     ]
    },
    {
     "name": "stderr",
     "output_type": "stream",
     "text": [
      "Validation:  17%|█▋        | 4/24 [00:00<00:02,  9.83valid_batch/s]"
     ]
    },
    {
     "name": "stdout",
     "output_type": "stream",
     "text": [
      "1.238420769572258\n",
      "1.2402446627616883\n"
     ]
    },
    {
     "name": "stderr",
     "output_type": "stream",
     "text": [
      "Validation:  25%|██▌       | 6/24 [00:00<00:01,  9.96valid_batch/s]"
     ]
    },
    {
     "name": "stdout",
     "output_type": "stream",
     "text": [
      "1.295934687058131\n"
     ]
    },
    {
     "name": "stderr",
     "output_type": "stream",
     "text": [
      "Validation:  29%|██▉       | 7/24 [00:00<00:01,  9.93valid_batch/s]"
     ]
    },
    {
     "name": "stdout",
     "output_type": "stream",
     "text": [
      "1.3636976735932487\n"
     ]
    },
    {
     "name": "stderr",
     "output_type": "stream",
     "text": [
      "Validation:  33%|███▎      | 8/24 [00:00<00:01,  9.76valid_batch/s]"
     ]
    },
    {
     "name": "stdout",
     "output_type": "stream",
     "text": [
      "1.4146313294768333\n"
     ]
    },
    {
     "name": "stderr",
     "output_type": "stream",
     "text": [
      "Validation:  38%|███▊      | 9/24 [00:00<00:01,  9.40valid_batch/s]"
     ]
    },
    {
     "name": "stdout",
     "output_type": "stream",
     "text": [
      "1.4171957108709548\n"
     ]
    },
    {
     "name": "stderr",
     "output_type": "stream",
     "text": [
      "Validation:  42%|████▏     | 10/24 [00:01<00:01,  9.49valid_batch/s]"
     ]
    },
    {
     "name": "stdout",
     "output_type": "stream",
     "text": [
      "1.4037548005580902\n"
     ]
    },
    {
     "name": "stderr",
     "output_type": "stream",
     "text": [
      "Validation:  46%|████▌     | 11/24 [00:01<00:01,  9.63valid_batch/s]"
     ]
    },
    {
     "name": "stdout",
     "output_type": "stream",
     "text": [
      "1.4764093214815313\n",
      "EVAL: [10/24] Elapsed 0m 1s (remain 0m 1s) Loss: 1.4764 \n"
     ]
    },
    {
     "name": "stderr",
     "output_type": "stream",
     "text": [
      "Validation:  50%|█████     | 12/24 [00:01<00:01,  9.68valid_batch/s]"
     ]
    },
    {
     "name": "stdout",
     "output_type": "stream",
     "text": [
      "1.4987605561812718\n"
     ]
    },
    {
     "name": "stderr",
     "output_type": "stream",
     "text": [
      "Validation:  54%|█████▍    | 13/24 [00:01<00:01,  9.76valid_batch/s]"
     ]
    },
    {
     "name": "stdout",
     "output_type": "stream",
     "text": [
      "1.496584713459015\n"
     ]
    },
    {
     "name": "stderr",
     "output_type": "stream",
     "text": [
      "Validation:  58%|█████▊    | 14/24 [00:01<00:01,  9.71valid_batch/s]"
     ]
    },
    {
     "name": "stdout",
     "output_type": "stream",
     "text": [
      "1.4991044189248766\n"
     ]
    },
    {
     "name": "stderr",
     "output_type": "stream",
     "text": [
      "Validation:  62%|██████▎   | 15/24 [00:01<00:00,  9.70valid_batch/s]"
     ]
    },
    {
     "name": "stdout",
     "output_type": "stream",
     "text": [
      "1.5500661730766296\n"
     ]
    },
    {
     "name": "stderr",
     "output_type": "stream",
     "text": [
      "Validation:  67%|██████▋   | 16/24 [00:01<00:00,  9.62valid_batch/s]"
     ]
    },
    {
     "name": "stdout",
     "output_type": "stream",
     "text": [
      "1.5479732044041157\n"
     ]
    },
    {
     "name": "stderr",
     "output_type": "stream",
     "text": [
      "Validation:  71%|███████   | 17/24 [00:01<00:00,  9.52valid_batch/s]"
     ]
    },
    {
     "name": "stdout",
     "output_type": "stream",
     "text": [
      "1.5251255771693062\n"
     ]
    },
    {
     "name": "stderr",
     "output_type": "stream",
     "text": [
      "Validation:  75%|███████▌  | 18/24 [00:01<00:00,  9.52valid_batch/s]"
     ]
    },
    {
     "name": "stdout",
     "output_type": "stream",
     "text": [
      "1.496973603963852\n"
     ]
    },
    {
     "name": "stderr",
     "output_type": "stream",
     "text": [
      "Validation:  79%|███████▉  | 19/24 [00:01<00:00,  9.48valid_batch/s]"
     ]
    },
    {
     "name": "stdout",
     "output_type": "stream",
     "text": [
      "1.543409984362753\n"
     ]
    },
    {
     "name": "stderr",
     "output_type": "stream",
     "text": [
      "Validation:  83%|████████▎ | 20/24 [00:02<00:00,  9.49valid_batch/s]"
     ]
    },
    {
     "name": "stdout",
     "output_type": "stream",
     "text": [
      "1.5106415838003158\n"
     ]
    },
    {
     "name": "stderr",
     "output_type": "stream",
     "text": [
      "Validation:  88%|████████▊ | 21/24 [00:02<00:00,  9.51valid_batch/s]"
     ]
    },
    {
     "name": "stdout",
     "output_type": "stream",
     "text": [
      "1.500139472030458\n",
      "EVAL: [20/24] Elapsed 0m 2s (remain 0m 0s) Loss: 1.5001 \n"
     ]
    },
    {
     "name": "stderr",
     "output_type": "stream",
     "text": [
      "Validation:  92%|█████████▏| 22/24 [00:02<00:00,  9.43valid_batch/s]"
     ]
    },
    {
     "name": "stdout",
     "output_type": "stream",
     "text": [
      "1.476463713429191\n"
     ]
    },
    {
     "name": "stderr",
     "output_type": "stream",
     "text": [
      "Validation:  96%|█████████▌| 23/24 [00:02<00:00,  9.50valid_batch/s]"
     ]
    },
    {
     "name": "stdout",
     "output_type": "stream",
     "text": [
      "1.457537749539251\n"
     ]
    },
    {
     "name": "stderr",
     "output_type": "stream",
     "text": [
      "Validation: 100%|██████████| 24/24 [00:02<00:00,  9.62valid_batch/s]\n",
      "2024-02-27 11:09:55,381 - utils.training_utils - INFO - Average Training Loss: 0.2236\n",
      "2024-02-27 11:09:55,382 - utils.training_utils - INFO - Average Validation Loss: 1.4642\n",
      "2024-02-27 11:09:55,383 - utils.training_utils - INFO - Epoch 14/20\n"
     ]
    },
    {
     "name": "stdout",
     "output_type": "stream",
     "text": [
      "1.4642157802979152\n",
      "EVAL: [23/24] Elapsed 0m 2s (remain 0m 0s) Loss: 1.4642 \n"
     ]
    },
    {
     "name": "stderr",
     "output_type": "stream",
     "text": [
      "Train:   4%|▍         | 1/24 [00:05<02:09,  5.61s/train_batch]"
     ]
    },
    {
     "name": "stdout",
     "output_type": "stream",
     "text": [
      "Epoch: [14][0/24] Elapsed 0m 3s (remain 1m 17s) Loss: 0.1561 Grad: 1.7451  LR: 0.00029315  \n"
     ]
    },
    {
     "name": "stderr",
     "output_type": "stream",
     "text": [
      "Train:  46%|████▌     | 11/24 [00:58<01:17,  5.97s/train_batch]"
     ]
    },
    {
     "name": "stdout",
     "output_type": "stream",
     "text": [
      "Epoch: [14][10/24] Elapsed 0m 56s (remain 1m 7s) Loss: 0.1690 Grad: 1.8098  LR: 0.00026232  \n"
     ]
    },
    {
     "name": "stderr",
     "output_type": "stream",
     "text": [
      "Train:  88%|████████▊ | 21/24 [01:52<00:17,  5.97s/train_batch]"
     ]
    },
    {
     "name": "stdout",
     "output_type": "stream",
     "text": [
      "Epoch: [14][20/24] Elapsed 1m 50s (remain 0m 15s) Loss: 0.1745 Grad: 1.9867  LR: 0.00023263  \n"
     ]
    },
    {
     "name": "stderr",
     "output_type": "stream",
     "text": [
      "Train: 100%|██████████| 24/24 [02:08<00:00,  5.36s/train_batch]\n"
     ]
    },
    {
     "name": "stdout",
     "output_type": "stream",
     "text": [
      "Epoch: [14][23/24] Elapsed 2m 6s (remain 0m 0s) Loss: 0.1796 Grad: 2.1572  LR: 0.00022396  \n"
     ]
    },
    {
     "name": "stderr",
     "output_type": "stream",
     "text": [
      "Validation:   4%|▍         | 1/24 [00:00<00:02,  8.98valid_batch/s]"
     ]
    },
    {
     "name": "stdout",
     "output_type": "stream",
     "text": [
      "1.9660260677337646\n",
      "EVAL: [0/24] Elapsed 0m 0s (remain 0m 2s) Loss: 1.9660 \n"
     ]
    },
    {
     "name": "stderr",
     "output_type": "stream",
     "text": [
      "Validation:   8%|▊         | 2/24 [00:00<00:02,  9.29valid_batch/s]"
     ]
    },
    {
     "name": "stdout",
     "output_type": "stream",
     "text": [
      "1.6593286991119385\n"
     ]
    },
    {
     "name": "stderr",
     "output_type": "stream",
     "text": [
      "Validation:  12%|█▎        | 3/24 [00:00<00:02,  9.45valid_batch/s]"
     ]
    },
    {
     "name": "stdout",
     "output_type": "stream",
     "text": [
      "1.6011462211608887\n"
     ]
    },
    {
     "name": "stderr",
     "output_type": "stream",
     "text": [
      "Validation:  17%|█▋        | 4/24 [00:00<00:02,  9.61valid_batch/s]"
     ]
    },
    {
     "name": "stdout",
     "output_type": "stream",
     "text": [
      "1.4653155505657196\n"
     ]
    },
    {
     "name": "stderr",
     "output_type": "stream",
     "text": [
      "Validation:  21%|██        | 5/24 [00:00<00:01,  9.65valid_batch/s]"
     ]
    },
    {
     "name": "stdout",
     "output_type": "stream",
     "text": [
      "1.3653727650642395\n"
     ]
    },
    {
     "name": "stderr",
     "output_type": "stream",
     "text": [
      "Validation:  25%|██▌       | 6/24 [00:00<00:01,  9.67valid_batch/s]"
     ]
    },
    {
     "name": "stdout",
     "output_type": "stream",
     "text": [
      "1.3951699435710907\n"
     ]
    },
    {
     "name": "stderr",
     "output_type": "stream",
     "text": [
      "Validation:  29%|██▉       | 7/24 [00:00<00:01,  9.52valid_batch/s]"
     ]
    },
    {
     "name": "stdout",
     "output_type": "stream",
     "text": [
      "1.3832430924688066\n"
     ]
    },
    {
     "name": "stderr",
     "output_type": "stream",
     "text": [
      "Validation:  33%|███▎      | 8/24 [00:00<00:01,  9.54valid_batch/s]"
     ]
    },
    {
     "name": "stdout",
     "output_type": "stream",
     "text": [
      "1.3523872271180153\n"
     ]
    },
    {
     "name": "stderr",
     "output_type": "stream",
     "text": [
      "Validation:  38%|███▊      | 9/24 [00:00<00:01,  9.59valid_batch/s]"
     ]
    },
    {
     "name": "stdout",
     "output_type": "stream",
     "text": [
      "1.3410179018974304\n"
     ]
    },
    {
     "name": "stderr",
     "output_type": "stream",
     "text": [
      "Validation:  42%|████▏     | 10/24 [00:01<00:01,  9.70valid_batch/s]"
     ]
    },
    {
     "name": "stdout",
     "output_type": "stream",
     "text": [
      "1.3673730552196504\n"
     ]
    },
    {
     "name": "stderr",
     "output_type": "stream",
     "text": [
      "Validation:  46%|████▌     | 11/24 [00:01<00:01,  9.72valid_batch/s]"
     ]
    },
    {
     "name": "stdout",
     "output_type": "stream",
     "text": [
      "1.3250051736831665\n",
      "EVAL: [10/24] Elapsed 0m 1s (remain 0m 1s) Loss: 1.3250 \n"
     ]
    },
    {
     "name": "stderr",
     "output_type": "stream",
     "text": [
      "Validation:  50%|█████     | 12/24 [00:01<00:01,  9.52valid_batch/s]"
     ]
    },
    {
     "name": "stdout",
     "output_type": "stream",
     "text": [
      "1.3799589773019154\n"
     ]
    },
    {
     "name": "stderr",
     "output_type": "stream",
     "text": [
      "Validation:  54%|█████▍    | 13/24 [00:01<00:01,  9.59valid_batch/s]"
     ]
    },
    {
     "name": "stdout",
     "output_type": "stream",
     "text": [
      "1.366337281007033\n"
     ]
    },
    {
     "name": "stderr",
     "output_type": "stream",
     "text": [
      "Validation:  58%|█████▊    | 14/24 [00:01<00:01,  9.46valid_batch/s]"
     ]
    },
    {
     "name": "stdout",
     "output_type": "stream",
     "text": [
      "1.37171014717647\n"
     ]
    },
    {
     "name": "stderr",
     "output_type": "stream",
     "text": [
      "Validation:  62%|██████▎   | 15/24 [00:01<00:00,  9.33valid_batch/s]"
     ]
    },
    {
     "name": "stdout",
     "output_type": "stream",
     "text": [
      "1.3782013257344563\n"
     ]
    },
    {
     "name": "stderr",
     "output_type": "stream",
     "text": [
      "Validation:  67%|██████▋   | 16/24 [00:01<00:00,  9.29valid_batch/s]"
     ]
    },
    {
     "name": "stdout",
     "output_type": "stream",
     "text": [
      "1.3741557374596596\n"
     ]
    },
    {
     "name": "stderr",
     "output_type": "stream",
     "text": [
      "Validation:  71%|███████   | 17/24 [00:01<00:00,  9.28valid_batch/s]"
     ]
    },
    {
     "name": "stdout",
     "output_type": "stream",
     "text": [
      "1.4078028202056885\n"
     ]
    },
    {
     "name": "stderr",
     "output_type": "stream",
     "text": [
      "Validation:  75%|███████▌  | 18/24 [00:01<00:00,  9.39valid_batch/s]"
     ]
    },
    {
     "name": "stdout",
     "output_type": "stream",
     "text": [
      "1.4130141337712605\n"
     ]
    },
    {
     "name": "stderr",
     "output_type": "stream",
     "text": [
      "Validation:  79%|███████▉  | 19/24 [00:02<00:00,  9.42valid_batch/s]"
     ]
    },
    {
     "name": "stdout",
     "output_type": "stream",
     "text": [
      "1.4111483097076416\n"
     ]
    },
    {
     "name": "stderr",
     "output_type": "stream",
     "text": [
      "Validation:  83%|████████▎ | 20/24 [00:02<00:00,  9.52valid_batch/s]"
     ]
    },
    {
     "name": "stdout",
     "output_type": "stream",
     "text": [
      "1.4107816576957704\n"
     ]
    },
    {
     "name": "stderr",
     "output_type": "stream",
     "text": [
      "Validation:  88%|████████▊ | 21/24 [00:02<00:00,  9.65valid_batch/s]"
     ]
    },
    {
     "name": "stdout",
     "output_type": "stream",
     "text": [
      "1.3907850980758667\n",
      "EVAL: [20/24] Elapsed 0m 2s (remain 0m 0s) Loss: 1.3908 \n"
     ]
    },
    {
     "name": "stderr",
     "output_type": "stream",
     "text": [
      "Validation:  92%|█████████▏| 22/24 [00:02<00:00,  9.63valid_batch/s]"
     ]
    },
    {
     "name": "stdout",
     "output_type": "stream",
     "text": [
      "1.3860550143501975\n"
     ]
    },
    {
     "name": "stderr",
     "output_type": "stream",
     "text": [
      "Validation:  96%|█████████▌| 23/24 [00:02<00:00,  9.72valid_batch/s]"
     ]
    },
    {
     "name": "stdout",
     "output_type": "stream",
     "text": [
      "1.3895961720010508\n"
     ]
    },
    {
     "name": "stderr",
     "output_type": "stream",
     "text": [
      "Validation: 100%|██████████| 24/24 [00:02<00:00,  9.54valid_batch/s]\n",
      "2024-02-27 11:12:06,471 - utils.training_utils - INFO - Average Training Loss: 0.1796\n",
      "2024-02-27 11:12:06,471 - utils.training_utils - INFO - Average Validation Loss: 1.4200\n",
      "2024-02-27 11:12:06,472 - utils.training_utils - INFO - Epoch 15/20\n"
     ]
    },
    {
     "name": "stdout",
     "output_type": "stream",
     "text": [
      "1.419968883196513\n",
      "EVAL: [23/24] Elapsed 0m 2s (remain 0m 0s) Loss: 1.4200 \n"
     ]
    },
    {
     "name": "stderr",
     "output_type": "stream",
     "text": [
      "Train:   4%|▍         | 1/24 [00:05<02:08,  5.60s/train_batch]"
     ]
    },
    {
     "name": "stdout",
     "output_type": "stream",
     "text": [
      "Epoch: [15][0/24] Elapsed 0m 3s (remain 1m 17s) Loss: 0.1446 Grad: 1.4610  LR: 0.00022110  \n"
     ]
    },
    {
     "name": "stderr",
     "output_type": "stream",
     "text": [
      "Train:  46%|████▌     | 11/24 [00:58<01:17,  5.96s/train_batch]"
     ]
    },
    {
     "name": "stdout",
     "output_type": "stream",
     "text": [
      "Epoch: [15][10/24] Elapsed 0m 56s (remain 1m 7s) Loss: 0.1425 Grad: 1.3802  LR: 0.00019322  \n"
     ]
    },
    {
     "name": "stderr",
     "output_type": "stream",
     "text": [
      "Train:  88%|████████▊ | 21/24 [01:52<00:17,  5.98s/train_batch]"
     ]
    },
    {
     "name": "stdout",
     "output_type": "stream",
     "text": [
      "Epoch: [15][20/24] Elapsed 1m 50s (remain 0m 15s) Loss: 0.1491 Grad: 1.6564  LR: 0.00016679  \n"
     ]
    },
    {
     "name": "stderr",
     "output_type": "stream",
     "text": [
      "Train: 100%|██████████| 24/24 [02:08<00:00,  5.36s/train_batch]\n"
     ]
    },
    {
     "name": "stdout",
     "output_type": "stream",
     "text": [
      "Epoch: [15][23/24] Elapsed 2m 6s (remain 0m 0s) Loss: 0.1477 Grad: 2.0992  LR: 0.00015917  \n"
     ]
    },
    {
     "name": "stderr",
     "output_type": "stream",
     "text": [
      "Validation:   4%|▍         | 1/24 [00:00<00:02,  8.86valid_batch/s]"
     ]
    },
    {
     "name": "stdout",
     "output_type": "stream",
     "text": [
      "1.568915843963623\n",
      "EVAL: [0/24] Elapsed 0m 0s (remain 0m 2s) Loss: 1.5689 \n"
     ]
    },
    {
     "name": "stderr",
     "output_type": "stream",
     "text": [
      "Validation:   8%|▊         | 2/24 [00:00<00:02,  9.00valid_batch/s]"
     ]
    },
    {
     "name": "stdout",
     "output_type": "stream",
     "text": [
      "1.4921799898147583\n"
     ]
    },
    {
     "name": "stderr",
     "output_type": "stream",
     "text": [
      "Validation:  12%|█▎        | 3/24 [00:00<00:02,  9.10valid_batch/s]"
     ]
    },
    {
     "name": "stdout",
     "output_type": "stream",
     "text": [
      "1.3343499104181926\n"
     ]
    },
    {
     "name": "stderr",
     "output_type": "stream",
     "text": [
      "Validation:  17%|█▋        | 4/24 [00:00<00:02,  9.33valid_batch/s]"
     ]
    },
    {
     "name": "stdout",
     "output_type": "stream",
     "text": [
      "1.3972072899341583\n"
     ]
    },
    {
     "name": "stderr",
     "output_type": "stream",
     "text": [
      "Validation:  21%|██        | 5/24 [00:00<00:02,  9.49valid_batch/s]"
     ]
    },
    {
     "name": "stdout",
     "output_type": "stream",
     "text": [
      "1.4203998565673828\n"
     ]
    },
    {
     "name": "stderr",
     "output_type": "stream",
     "text": [
      "Validation:  25%|██▌       | 6/24 [00:00<00:01,  9.39valid_batch/s]"
     ]
    },
    {
     "name": "stdout",
     "output_type": "stream",
     "text": [
      "1.47727370262146\n"
     ]
    },
    {
     "name": "stderr",
     "output_type": "stream",
     "text": [
      "Validation:  29%|██▉       | 7/24 [00:00<00:01,  9.49valid_batch/s]"
     ]
    },
    {
     "name": "stdout",
     "output_type": "stream",
     "text": [
      "1.395041014466967\n"
     ]
    },
    {
     "name": "stderr",
     "output_type": "stream",
     "text": [
      "Validation:  33%|███▎      | 8/24 [00:00<00:01,  9.50valid_batch/s]"
     ]
    },
    {
     "name": "stdout",
     "output_type": "stream",
     "text": [
      "1.3479975834488869\n"
     ]
    },
    {
     "name": "stderr",
     "output_type": "stream",
     "text": [
      "Validation:  38%|███▊      | 9/24 [00:00<00:01,  9.46valid_batch/s]"
     ]
    },
    {
     "name": "stdout",
     "output_type": "stream",
     "text": [
      "1.3321980834007263\n"
     ]
    },
    {
     "name": "stderr",
     "output_type": "stream",
     "text": [
      "Validation:  42%|████▏     | 10/24 [00:01<00:01,  9.52valid_batch/s]"
     ]
    },
    {
     "name": "stdout",
     "output_type": "stream",
     "text": [
      "1.3250798881053925\n"
     ]
    },
    {
     "name": "stderr",
     "output_type": "stream",
     "text": [
      "Validation:  46%|████▌     | 11/24 [00:01<00:01,  9.40valid_batch/s]"
     ]
    },
    {
     "name": "stdout",
     "output_type": "stream",
     "text": [
      "1.3016723015091636\n",
      "EVAL: [10/24] Elapsed 0m 1s (remain 0m 1s) Loss: 1.3017 \n"
     ]
    },
    {
     "name": "stderr",
     "output_type": "stream",
     "text": [
      "Validation:  50%|█████     | 12/24 [00:01<00:01,  9.34valid_batch/s]"
     ]
    },
    {
     "name": "stdout",
     "output_type": "stream",
     "text": [
      "1.2897428224484127\n"
     ]
    },
    {
     "name": "stderr",
     "output_type": "stream",
     "text": [
      "Validation:  54%|█████▍    | 13/24 [00:01<00:01,  9.30valid_batch/s]"
     ]
    },
    {
     "name": "stdout",
     "output_type": "stream",
     "text": [
      "1.2731709251037011\n"
     ]
    },
    {
     "name": "stderr",
     "output_type": "stream",
     "text": [
      "Validation:  58%|█████▊    | 14/24 [00:01<00:01,  9.29valid_batch/s]"
     ]
    },
    {
     "name": "stdout",
     "output_type": "stream",
     "text": [
      "1.2645122621740614\n"
     ]
    },
    {
     "name": "stderr",
     "output_type": "stream",
     "text": [
      "Validation:  62%|██████▎   | 15/24 [00:01<00:00,  9.35valid_batch/s]"
     ]
    },
    {
     "name": "stdout",
     "output_type": "stream",
     "text": [
      "1.2752184351285298\n"
     ]
    },
    {
     "name": "stderr",
     "output_type": "stream",
     "text": [
      "Validation:  71%|███████   | 17/24 [00:01<00:00,  9.75valid_batch/s]"
     ]
    },
    {
     "name": "stdout",
     "output_type": "stream",
     "text": [
      "1.2632581479847431\n",
      "1.2614919964004965\n",
      "1.2386834820111592\n"
     ]
    },
    {
     "name": "stderr",
     "output_type": "stream",
     "text": [
      "Validation:  79%|███████▉  | 19/24 [00:02<00:00,  9.70valid_batch/s]"
     ]
    },
    {
     "name": "stdout",
     "output_type": "stream",
     "text": [
      "1.264796213099831\n"
     ]
    },
    {
     "name": "stderr",
     "output_type": "stream",
     "text": [
      "Validation:  83%|████████▎ | 20/24 [00:02<00:00,  9.73valid_batch/s]"
     ]
    },
    {
     "name": "stdout",
     "output_type": "stream",
     "text": [
      "1.2566174685955047\n"
     ]
    },
    {
     "name": "stderr",
     "output_type": "stream",
     "text": [
      "Validation:  88%|████████▊ | 21/24 [00:02<00:00,  9.62valid_batch/s]"
     ]
    },
    {
     "name": "stdout",
     "output_type": "stream",
     "text": [
      "1.248313205582755\n",
      "EVAL: [20/24] Elapsed 0m 2s (remain 0m 0s) Loss: 1.2483 \n"
     ]
    },
    {
     "name": "stderr",
     "output_type": "stream",
     "text": [
      "Validation:  92%|█████████▏| 22/24 [00:02<00:00,  9.62valid_batch/s]"
     ]
    },
    {
     "name": "stdout",
     "output_type": "stream",
     "text": [
      "1.240756712176583\n"
     ]
    },
    {
     "name": "stderr",
     "output_type": "stream",
     "text": [
      "Validation:  96%|█████████▌| 23/24 [00:02<00:00,  9.52valid_batch/s]"
     ]
    },
    {
     "name": "stdout",
     "output_type": "stream",
     "text": [
      "1.2247320905975674\n"
     ]
    },
    {
     "name": "stderr",
     "output_type": "stream",
     "text": [
      "Validation: 100%|██████████| 24/24 [00:02<00:00,  9.47valid_batch/s]\n",
      "2024-02-27 11:14:17,575 - utils.training_utils - INFO - Average Training Loss: 0.1477\n",
      "2024-02-27 11:14:17,575 - utils.training_utils - INFO - Average Validation Loss: 1.2213\n",
      "2024-02-27 11:14:17,576 - utils.training_utils - INFO - Epoch 16/20\n"
     ]
    },
    {
     "name": "stdout",
     "output_type": "stream",
     "text": [
      "1.2213323985536892\n",
      "EVAL: [23/24] Elapsed 0m 2s (remain 0m 0s) Loss: 1.2213 \n"
     ]
    },
    {
     "name": "stderr",
     "output_type": "stream",
     "text": [
      "Train:   4%|▍         | 1/24 [00:05<02:09,  5.62s/train_batch]"
     ]
    },
    {
     "name": "stdout",
     "output_type": "stream",
     "text": [
      "Epoch: [16][0/24] Elapsed 0m 3s (remain 1m 17s) Loss: 0.1301 Grad: 1.6303  LR: 0.00015666  \n"
     ]
    },
    {
     "name": "stderr",
     "output_type": "stream",
     "text": [
      "Train:  46%|████▌     | 11/24 [00:59<01:17,  5.98s/train_batch]"
     ]
    },
    {
     "name": "stdout",
     "output_type": "stream",
     "text": [
      "Epoch: [16][10/24] Elapsed 0m 56s (remain 1m 7s) Loss: 0.1289 Grad: 1.9439  LR: 0.00013249  \n"
     ]
    },
    {
     "name": "stderr",
     "output_type": "stream",
     "text": [
      "Train:  88%|████████▊ | 21/24 [01:52<00:17,  5.98s/train_batch]"
     ]
    },
    {
     "name": "stdout",
     "output_type": "stream",
     "text": [
      "Epoch: [16][20/24] Elapsed 1m 50s (remain 0m 15s) Loss: 0.1286 Grad: 1.2518  LR: 0.00011005  \n"
     ]
    },
    {
     "name": "stderr",
     "output_type": "stream",
     "text": [
      "Train: 100%|██████████| 24/24 [02:08<00:00,  5.36s/train_batch]\n"
     ]
    },
    {
     "name": "stdout",
     "output_type": "stream",
     "text": [
      "Epoch: [16][23/24] Elapsed 2m 6s (remain 0m 0s) Loss: 0.1288 Grad: 1.3565  LR: 0.00010368  \n"
     ]
    },
    {
     "name": "stderr",
     "output_type": "stream",
     "text": [
      "Validation:   0%|          | 0/24 [00:00<?, ?valid_batch/s]"
     ]
    },
    {
     "name": "stdout",
     "output_type": "stream",
     "text": [
      "1.196012258529663\n",
      "EVAL: [0/24] Elapsed 0m 0s (remain 0m 2s) Loss: 1.1960 \n"
     ]
    },
    {
     "name": "stderr",
     "output_type": "stream",
     "text": [
      "Validation:   8%|▊         | 2/24 [00:00<00:02, 10.03valid_batch/s]"
     ]
    },
    {
     "name": "stdout",
     "output_type": "stream",
     "text": [
      "1.1853615045547485\n",
      "1.3082408905029297\n"
     ]
    },
    {
     "name": "stderr",
     "output_type": "stream",
     "text": [
      "Validation:  17%|█▋        | 4/24 [00:00<00:02,  9.59valid_batch/s]"
     ]
    },
    {
     "name": "stdout",
     "output_type": "stream",
     "text": [
      "1.3310676217079163\n"
     ]
    },
    {
     "name": "stderr",
     "output_type": "stream",
     "text": [
      "Validation:  21%|██        | 5/24 [00:00<00:01,  9.52valid_batch/s]"
     ]
    },
    {
     "name": "stdout",
     "output_type": "stream",
     "text": [
      "1.2833893299102783\n"
     ]
    },
    {
     "name": "stderr",
     "output_type": "stream",
     "text": [
      "Validation:  25%|██▌       | 6/24 [00:00<00:01,  9.46valid_batch/s]"
     ]
    },
    {
     "name": "stdout",
     "output_type": "stream",
     "text": [
      "1.2334171136220295\n"
     ]
    },
    {
     "name": "stderr",
     "output_type": "stream",
     "text": [
      "Validation:  29%|██▉       | 7/24 [00:00<00:01,  9.48valid_batch/s]"
     ]
    },
    {
     "name": "stdout",
     "output_type": "stream",
     "text": [
      "1.288942473275321\n"
     ]
    },
    {
     "name": "stderr",
     "output_type": "stream",
     "text": [
      "Validation:  33%|███▎      | 8/24 [00:00<00:01,  9.46valid_batch/s]"
     ]
    },
    {
     "name": "stdout",
     "output_type": "stream",
     "text": [
      "1.202942781150341\n"
     ]
    },
    {
     "name": "stderr",
     "output_type": "stream",
     "text": [
      "Validation:  38%|███▊      | 9/24 [00:00<00:01,  9.43valid_batch/s]"
     ]
    },
    {
     "name": "stdout",
     "output_type": "stream",
     "text": [
      "1.1770885851648119\n"
     ]
    },
    {
     "name": "stderr",
     "output_type": "stream",
     "text": [
      "Validation:  42%|████▏     | 10/24 [00:01<00:01,  9.45valid_batch/s]"
     ]
    },
    {
     "name": "stdout",
     "output_type": "stream",
     "text": [
      "1.1555294215679168\n"
     ]
    },
    {
     "name": "stderr",
     "output_type": "stream",
     "text": [
      "Validation:  46%|████▌     | 11/24 [00:01<00:01,  9.46valid_batch/s]"
     ]
    },
    {
     "name": "stdout",
     "output_type": "stream",
     "text": [
      "1.1516660939563403\n",
      "EVAL: [10/24] Elapsed 0m 1s (remain 0m 1s) Loss: 1.1517 \n"
     ]
    },
    {
     "name": "stderr",
     "output_type": "stream",
     "text": [
      "Validation:  50%|█████     | 12/24 [00:01<00:01,  9.50valid_batch/s]"
     ]
    },
    {
     "name": "stdout",
     "output_type": "stream",
     "text": [
      "1.1291014552116394\n"
     ]
    },
    {
     "name": "stderr",
     "output_type": "stream",
     "text": [
      "Validation:  54%|█████▍    | 13/24 [00:01<00:01,  9.47valid_batch/s]"
     ]
    },
    {
     "name": "stdout",
     "output_type": "stream",
     "text": [
      "1.1249431004891028\n"
     ]
    },
    {
     "name": "stderr",
     "output_type": "stream",
     "text": [
      "Validation:  58%|█████▊    | 14/24 [00:01<00:01,  9.43valid_batch/s]"
     ]
    },
    {
     "name": "stdout",
     "output_type": "stream",
     "text": [
      "1.096051927123751\n"
     ]
    },
    {
     "name": "stderr",
     "output_type": "stream",
     "text": [
      "Validation:  62%|██████▎   | 15/24 [00:01<00:00,  9.48valid_batch/s]"
     ]
    },
    {
     "name": "stdout",
     "output_type": "stream",
     "text": [
      "1.1121247251828512\n"
     ]
    },
    {
     "name": "stderr",
     "output_type": "stream",
     "text": [
      "Validation:  67%|██████▋   | 16/24 [00:01<00:00,  9.48valid_batch/s]"
     ]
    },
    {
     "name": "stdout",
     "output_type": "stream",
     "text": [
      "1.1100177429616451\n"
     ]
    },
    {
     "name": "stderr",
     "output_type": "stream",
     "text": [
      "Validation:  71%|███████   | 17/24 [00:01<00:00,  9.60valid_batch/s]"
     ]
    },
    {
     "name": "stdout",
     "output_type": "stream",
     "text": [
      "1.0934759308310116\n"
     ]
    },
    {
     "name": "stderr",
     "output_type": "stream",
     "text": [
      "Validation:  75%|███████▌  | 18/24 [00:01<00:00,  9.71valid_batch/s]"
     ]
    },
    {
     "name": "stdout",
     "output_type": "stream",
     "text": [
      "1.081848469045427\n"
     ]
    },
    {
     "name": "stderr",
     "output_type": "stream",
     "text": [
      "Validation:  79%|███████▉  | 19/24 [00:01<00:00,  9.67valid_batch/s]"
     ]
    },
    {
     "name": "stdout",
     "output_type": "stream",
     "text": [
      "1.09745328677328\n"
     ]
    },
    {
     "name": "stderr",
     "output_type": "stream",
     "text": [
      "Validation:  83%|████████▎ | 20/24 [00:02<00:00,  9.58valid_batch/s]"
     ]
    },
    {
     "name": "stdout",
     "output_type": "stream",
     "text": [
      "1.0763217628002166\n"
     ]
    },
    {
     "name": "stderr",
     "output_type": "stream",
     "text": [
      "Validation:  88%|████████▊ | 21/24 [00:02<00:00,  9.62valid_batch/s]"
     ]
    },
    {
     "name": "stdout",
     "output_type": "stream",
     "text": [
      "1.0597505001794725\n",
      "EVAL: [20/24] Elapsed 0m 2s (remain 0m 0s) Loss: 1.0598 \n"
     ]
    },
    {
     "name": "stderr",
     "output_type": "stream",
     "text": [
      "Validation:  92%|█████████▏| 22/24 [00:02<00:00,  9.59valid_batch/s]"
     ]
    },
    {
     "name": "stdout",
     "output_type": "stream",
     "text": [
      "1.0822972492738203\n"
     ]
    },
    {
     "name": "stderr",
     "output_type": "stream",
     "text": [
      "Validation:  96%|█████████▌| 23/24 [00:02<00:00,  9.53valid_batch/s]"
     ]
    },
    {
     "name": "stdout",
     "output_type": "stream",
     "text": [
      "1.1169099341268125\n"
     ]
    },
    {
     "name": "stderr",
     "output_type": "stream",
     "text": [
      "Validation: 100%|██████████| 24/24 [00:02<00:00,  9.52valid_batch/s]\n",
      "2024-02-27 11:16:28,775 - utils.training_utils - INFO - Average Training Loss: 0.1288\n",
      "2024-02-27 11:16:28,776 - utils.training_utils - INFO - Average Validation Loss: 1.1322\n"
     ]
    },
    {
     "name": "stdout",
     "output_type": "stream",
     "text": [
      "1.1322443236907322\n",
      "EVAL: [23/24] Elapsed 0m 2s (remain 0m 0s) Loss: 1.1322 \n"
     ]
    },
    {
     "name": "stderr",
     "output_type": "stream",
     "text": [
      "2024-02-27 11:16:28,871 - utils.training_utils - INFO - Epoch 17/20\n",
      "Train:   4%|▍         | 1/24 [00:05<02:08,  5.58s/train_batch]"
     ]
    },
    {
     "name": "stdout",
     "output_type": "stream",
     "text": [
      "Epoch: [17][0/24] Elapsed 0m 3s (remain 1m 17s) Loss: 0.1207 Grad: 1.3216  LR: 0.00010160  \n"
     ]
    },
    {
     "name": "stderr",
     "output_type": "stream",
     "text": [
      "Train:  46%|████▌     | 11/24 [00:58<01:17,  5.98s/train_batch]"
     ]
    },
    {
     "name": "stdout",
     "output_type": "stream",
     "text": [
      "Epoch: [17][10/24] Elapsed 0m 56s (remain 1m 7s) Loss: 0.1044 Grad: 1.8270  LR: 0.00008178  \n"
     ]
    },
    {
     "name": "stderr",
     "output_type": "stream",
     "text": [
      "Train:  88%|████████▊ | 21/24 [01:52<00:17,  5.99s/train_batch]"
     ]
    },
    {
     "name": "stdout",
     "output_type": "stream",
     "text": [
      "Epoch: [17][20/24] Elapsed 1m 50s (remain 0m 15s) Loss: 0.1065 Grad: 1.2258  LR: 0.00006396  \n"
     ]
    },
    {
     "name": "stderr",
     "output_type": "stream",
     "text": [
      "Train: 100%|██████████| 24/24 [02:08<00:00,  5.36s/train_batch]\n"
     ]
    },
    {
     "name": "stdout",
     "output_type": "stream",
     "text": [
      "Epoch: [17][23/24] Elapsed 2m 6s (remain 0m 0s) Loss: 0.1068 Grad: 1.3351  LR: 0.00005901  \n"
     ]
    },
    {
     "name": "stderr",
     "output_type": "stream",
     "text": [
      "Validation:   4%|▍         | 1/24 [00:00<00:02,  9.82valid_batch/s]"
     ]
    },
    {
     "name": "stdout",
     "output_type": "stream",
     "text": [
      "1.3699254989624023\n",
      "EVAL: [0/24] Elapsed 0m 0s (remain 0m 2s) Loss: 1.3699 \n"
     ]
    },
    {
     "name": "stderr",
     "output_type": "stream",
     "text": [
      "Validation:   8%|▊         | 2/24 [00:00<00:02,  9.56valid_batch/s]"
     ]
    },
    {
     "name": "stdout",
     "output_type": "stream",
     "text": [
      "1.1070133447647095\n"
     ]
    },
    {
     "name": "stderr",
     "output_type": "stream",
     "text": [
      "Validation:  12%|█▎        | 3/24 [00:00<00:02,  9.53valid_batch/s]"
     ]
    },
    {
     "name": "stdout",
     "output_type": "stream",
     "text": [
      "1.1405323346455891\n"
     ]
    },
    {
     "name": "stderr",
     "output_type": "stream",
     "text": [
      "Validation:  17%|█▋        | 4/24 [00:00<00:02,  9.35valid_batch/s]"
     ]
    },
    {
     "name": "stdout",
     "output_type": "stream",
     "text": [
      "1.2148509323596954\n"
     ]
    },
    {
     "name": "stderr",
     "output_type": "stream",
     "text": [
      "Validation:  21%|██        | 5/24 [00:00<00:02,  9.46valid_batch/s]"
     ]
    },
    {
     "name": "stdout",
     "output_type": "stream",
     "text": [
      "1.246238112449646\n"
     ]
    },
    {
     "name": "stderr",
     "output_type": "stream",
     "text": [
      "Validation:  25%|██▌       | 6/24 [00:00<00:01,  9.59valid_batch/s]"
     ]
    },
    {
     "name": "stdout",
     "output_type": "stream",
     "text": [
      "1.3132139245669048\n"
     ]
    },
    {
     "name": "stderr",
     "output_type": "stream",
     "text": [
      "Validation:  29%|██▉       | 7/24 [00:00<00:01,  9.44valid_batch/s]"
     ]
    },
    {
     "name": "stdout",
     "output_type": "stream",
     "text": [
      "1.2441534059388297\n"
     ]
    },
    {
     "name": "stderr",
     "output_type": "stream",
     "text": [
      "Validation:  33%|███▎      | 8/24 [00:00<00:01,  9.49valid_batch/s]"
     ]
    },
    {
     "name": "stdout",
     "output_type": "stream",
     "text": [
      "1.2187475189566612\n"
     ]
    },
    {
     "name": "stderr",
     "output_type": "stream",
     "text": [
      "Validation:  38%|███▊      | 9/24 [00:00<00:01,  9.59valid_batch/s]"
     ]
    },
    {
     "name": "stdout",
     "output_type": "stream",
     "text": [
      "1.196989291244083\n"
     ]
    },
    {
     "name": "stderr",
     "output_type": "stream",
     "text": [
      "Validation:  42%|████▏     | 10/24 [00:01<00:01,  9.61valid_batch/s]"
     ]
    },
    {
     "name": "stdout",
     "output_type": "stream",
     "text": [
      "1.2241999089717865\n"
     ]
    },
    {
     "name": "stderr",
     "output_type": "stream",
     "text": [
      "Validation:  46%|████▌     | 11/24 [00:01<00:01,  9.55valid_batch/s]"
     ]
    },
    {
     "name": "stdout",
     "output_type": "stream",
     "text": [
      "1.2115715796297246\n",
      "EVAL: [10/24] Elapsed 0m 1s (remain 0m 1s) Loss: 1.2116 \n"
     ]
    },
    {
     "name": "stderr",
     "output_type": "stream",
     "text": [
      "Validation:  50%|█████     | 12/24 [00:01<00:01,  9.55valid_batch/s]"
     ]
    },
    {
     "name": "stdout",
     "output_type": "stream",
     "text": [
      "1.227128580212593\n"
     ]
    },
    {
     "name": "stderr",
     "output_type": "stream",
     "text": [
      "Validation:  54%|█████▍    | 13/24 [00:01<00:01,  9.51valid_batch/s]"
     ]
    },
    {
     "name": "stdout",
     "output_type": "stream",
     "text": [
      "1.2150797247886658\n"
     ]
    },
    {
     "name": "stderr",
     "output_type": "stream",
     "text": [
      "Validation:  58%|█████▊    | 14/24 [00:01<00:01,  9.44valid_batch/s]"
     ]
    },
    {
     "name": "stdout",
     "output_type": "stream",
     "text": [
      "1.215349908385958\n"
     ]
    },
    {
     "name": "stderr",
     "output_type": "stream",
     "text": [
      "Validation:  62%|██████▎   | 15/24 [00:01<00:00,  9.45valid_batch/s]"
     ]
    },
    {
     "name": "stdout",
     "output_type": "stream",
     "text": [
      "1.1947330474853515\n",
      "1.187059298157692\n"
     ]
    },
    {
     "name": "stderr",
     "output_type": "stream",
     "text": [
      "Validation:  71%|███████   | 17/24 [00:01<00:00,  9.65valid_batch/s]"
     ]
    },
    {
     "name": "stdout",
     "output_type": "stream",
     "text": [
      "1.2028028824750114\n"
     ]
    },
    {
     "name": "stderr",
     "output_type": "stream",
     "text": [
      "Validation:  75%|███████▌  | 18/24 [00:01<00:00,  9.70valid_batch/s]"
     ]
    },
    {
     "name": "stdout",
     "output_type": "stream",
     "text": [
      "1.1865156292915344\n"
     ]
    },
    {
     "name": "stderr",
     "output_type": "stream",
     "text": [
      "Validation:  79%|███████▉  | 19/24 [00:01<00:00,  9.74valid_batch/s]"
     ]
    },
    {
     "name": "stdout",
     "output_type": "stream",
     "text": [
      "1.2064697177786576\n"
     ]
    },
    {
     "name": "stderr",
     "output_type": "stream",
     "text": [
      "Validation:  83%|████████▎ | 20/24 [00:02<00:00,  9.72valid_batch/s]"
     ]
    },
    {
     "name": "stdout",
     "output_type": "stream",
     "text": [
      "1.1955333650112152\n"
     ]
    },
    {
     "name": "stderr",
     "output_type": "stream",
     "text": [
      "Validation:  88%|████████▊ | 21/24 [00:02<00:00,  9.66valid_batch/s]"
     ]
    },
    {
     "name": "stdout",
     "output_type": "stream",
     "text": [
      "1.16983129296984\n",
      "EVAL: [20/24] Elapsed 0m 2s (remain 0m 0s) Loss: 1.1698 \n"
     ]
    },
    {
     "name": "stderr",
     "output_type": "stream",
     "text": [
      "Validation:  92%|█████████▏| 22/24 [00:02<00:00,  9.68valid_batch/s]"
     ]
    },
    {
     "name": "stdout",
     "output_type": "stream",
     "text": [
      "1.1704257238994946\n"
     ]
    },
    {
     "name": "stderr",
     "output_type": "stream",
     "text": [
      "Validation:  96%|█████████▌| 23/24 [00:02<00:00,  9.52valid_batch/s]"
     ]
    },
    {
     "name": "stdout",
     "output_type": "stream",
     "text": [
      "1.167345782984858\n"
     ]
    },
    {
     "name": "stderr",
     "output_type": "stream",
     "text": [
      "Validation: 100%|██████████| 24/24 [00:02<00:00,  9.55valid_batch/s]\n",
      "2024-02-27 11:18:40,086 - utils.training_utils - INFO - Average Training Loss: 0.1068\n",
      "2024-02-27 11:18:40,087 - utils.training_utils - INFO - Average Validation Loss: 1.1681\n",
      "2024-02-27 11:18:40,087 - utils.training_utils - INFO - Epoch 18/20\n"
     ]
    },
    {
     "name": "stdout",
     "output_type": "stream",
     "text": [
      "1.1680915455023448\n",
      "EVAL: [23/24] Elapsed 0m 2s (remain 0m 0s) Loss: 1.1681 \n"
     ]
    },
    {
     "name": "stderr",
     "output_type": "stream",
     "text": [
      "Train:   4%|▍         | 1/24 [00:05<02:09,  5.61s/train_batch]"
     ]
    },
    {
     "name": "stdout",
     "output_type": "stream",
     "text": [
      "Epoch: [18][0/24] Elapsed 0m 3s (remain 1m 17s) Loss: 0.0894 Grad: 1.4438  LR: 0.00005740  \n"
     ]
    },
    {
     "name": "stderr",
     "output_type": "stream",
     "text": [
      "Train:  46%|████▌     | 11/24 [00:59<01:17,  5.97s/train_batch]"
     ]
    },
    {
     "name": "stdout",
     "output_type": "stream",
     "text": [
      "Epoch: [18][10/24] Elapsed 0m 56s (remain 1m 7s) Loss: 0.0919 Grad: 1.5239  LR: 0.00004250  \n"
     ]
    },
    {
     "name": "stderr",
     "output_type": "stream",
     "text": [
      "Train:  88%|████████▊ | 21/24 [01:52<00:17,  5.98s/train_batch]"
     ]
    },
    {
     "name": "stdout",
     "output_type": "stream",
     "text": [
      "Epoch: [18][20/24] Elapsed 1m 50s (remain 0m 15s) Loss: 0.0934 Grad: 1.3717  LR: 0.00002976  \n"
     ]
    },
    {
     "name": "stderr",
     "output_type": "stream",
     "text": [
      "Train: 100%|██████████| 24/24 [02:08<00:00,  5.36s/train_batch]\n"
     ]
    },
    {
     "name": "stdout",
     "output_type": "stream",
     "text": [
      "Epoch: [18][23/24] Elapsed 2m 6s (remain 0m 0s) Loss: 0.0948 Grad: 1.4384  LR: 0.00002637  \n"
     ]
    },
    {
     "name": "stderr",
     "output_type": "stream",
     "text": [
      "Validation:   4%|▍         | 1/24 [00:00<00:02,  9.75valid_batch/s]"
     ]
    },
    {
     "name": "stdout",
     "output_type": "stream",
     "text": [
      "0.8319336175918579\n",
      "EVAL: [0/24] Elapsed 0m 0s (remain 0m 2s) Loss: 0.8319 \n"
     ]
    },
    {
     "name": "stderr",
     "output_type": "stream",
     "text": [
      "Validation:   8%|▊         | 2/24 [00:00<00:02,  9.56valid_batch/s]"
     ]
    },
    {
     "name": "stdout",
     "output_type": "stream",
     "text": [
      "0.8516861796379089\n"
     ]
    },
    {
     "name": "stderr",
     "output_type": "stream",
     "text": [
      "Validation:  12%|█▎        | 3/24 [00:00<00:02,  9.53valid_batch/s]"
     ]
    },
    {
     "name": "stdout",
     "output_type": "stream",
     "text": [
      "0.9572955767313639\n"
     ]
    },
    {
     "name": "stderr",
     "output_type": "stream",
     "text": [
      "Validation:  17%|█▋        | 4/24 [00:00<00:02,  9.63valid_batch/s]"
     ]
    },
    {
     "name": "stdout",
     "output_type": "stream",
     "text": [
      "0.9894950985908508\n"
     ]
    },
    {
     "name": "stderr",
     "output_type": "stream",
     "text": [
      "Validation:  21%|██        | 5/24 [00:00<00:01,  9.52valid_batch/s]"
     ]
    },
    {
     "name": "stdout",
     "output_type": "stream",
     "text": [
      "1.0599067211151123\n"
     ]
    },
    {
     "name": "stderr",
     "output_type": "stream",
     "text": [
      "Validation:  25%|██▌       | 6/24 [00:00<00:01,  9.52valid_batch/s]"
     ]
    },
    {
     "name": "stdout",
     "output_type": "stream",
     "text": [
      "1.1042826374371846\n"
     ]
    },
    {
     "name": "stderr",
     "output_type": "stream",
     "text": [
      "Validation:  29%|██▉       | 7/24 [00:00<00:01,  9.46valid_batch/s]"
     ]
    },
    {
     "name": "stdout",
     "output_type": "stream",
     "text": [
      "1.0685213804244995\n"
     ]
    },
    {
     "name": "stderr",
     "output_type": "stream",
     "text": [
      "Validation:  33%|███▎      | 8/24 [00:00<00:01,  9.42valid_batch/s]"
     ]
    },
    {
     "name": "stdout",
     "output_type": "stream",
     "text": [
      "1.1216197460889816\n"
     ]
    },
    {
     "name": "stderr",
     "output_type": "stream",
     "text": [
      "Validation:  38%|███▊      | 9/24 [00:00<00:01,  9.53valid_batch/s]"
     ]
    },
    {
     "name": "stdout",
     "output_type": "stream",
     "text": [
      "1.1360176801681519\n"
     ]
    },
    {
     "name": "stderr",
     "output_type": "stream",
     "text": [
      "Validation:  42%|████▏     | 10/24 [00:01<00:01,  9.55valid_batch/s]"
     ]
    },
    {
     "name": "stdout",
     "output_type": "stream",
     "text": [
      "1.1648609519004822\n"
     ]
    },
    {
     "name": "stderr",
     "output_type": "stream",
     "text": [
      "Validation:  46%|████▌     | 11/24 [00:01<00:01,  9.57valid_batch/s]"
     ]
    },
    {
     "name": "stdout",
     "output_type": "stream",
     "text": [
      "1.12936410036954\n",
      "EVAL: [10/24] Elapsed 0m 1s (remain 0m 1s) Loss: 1.1294 \n"
     ]
    },
    {
     "name": "stderr",
     "output_type": "stream",
     "text": [
      "Validation:  50%|█████     | 12/24 [00:01<00:01,  9.58valid_batch/s]"
     ]
    },
    {
     "name": "stdout",
     "output_type": "stream",
     "text": [
      "1.113118549187978\n"
     ]
    },
    {
     "name": "stderr",
     "output_type": "stream",
     "text": [
      "Validation:  54%|█████▍    | 13/24 [00:01<00:01,  9.63valid_batch/s]"
     ]
    },
    {
     "name": "stdout",
     "output_type": "stream",
     "text": [
      "1.128977133677556\n"
     ]
    },
    {
     "name": "stderr",
     "output_type": "stream",
     "text": [
      "Validation:  58%|█████▊    | 14/24 [00:01<00:01,  9.68valid_batch/s]"
     ]
    },
    {
     "name": "stdout",
     "output_type": "stream",
     "text": [
      "1.1081242561340332\n"
     ]
    },
    {
     "name": "stderr",
     "output_type": "stream",
     "text": [
      "Validation:  62%|██████▎   | 15/24 [00:01<00:00,  9.61valid_batch/s]"
     ]
    },
    {
     "name": "stdout",
     "output_type": "stream",
     "text": [
      "1.092107355594635\n"
     ]
    },
    {
     "name": "stderr",
     "output_type": "stream",
     "text": [
      "Validation:  67%|██████▋   | 16/24 [00:01<00:00,  9.59valid_batch/s]"
     ]
    },
    {
     "name": "stdout",
     "output_type": "stream",
     "text": [
      "1.0813357159495354\n"
     ]
    },
    {
     "name": "stderr",
     "output_type": "stream",
     "text": [
      "Validation:  71%|███████   | 17/24 [00:01<00:00,  9.62valid_batch/s]"
     ]
    },
    {
     "name": "stdout",
     "output_type": "stream",
     "text": [
      "1.1164653932347017\n"
     ]
    },
    {
     "name": "stderr",
     "output_type": "stream",
     "text": [
      "Validation:  75%|███████▌  | 18/24 [00:01<00:00,  9.64valid_batch/s]"
     ]
    },
    {
     "name": "stdout",
     "output_type": "stream",
     "text": [
      "1.162163496017456\n"
     ]
    },
    {
     "name": "stderr",
     "output_type": "stream",
     "text": [
      "Validation:  79%|███████▉  | 19/24 [00:01<00:00,  9.68valid_batch/s]"
     ]
    },
    {
     "name": "stdout",
     "output_type": "stream",
     "text": [
      "1.160312113009001\n"
     ]
    },
    {
     "name": "stderr",
     "output_type": "stream",
     "text": [
      "Validation:  83%|████████▎ | 20/24 [00:02<00:00,  9.57valid_batch/s]"
     ]
    },
    {
     "name": "stdout",
     "output_type": "stream",
     "text": [
      "1.1533302307128905\n"
     ]
    },
    {
     "name": "stderr",
     "output_type": "stream",
     "text": [
      "Validation:  88%|████████▊ | 21/24 [00:02<00:00,  9.59valid_batch/s]"
     ]
    },
    {
     "name": "stdout",
     "output_type": "stream",
     "text": [
      "1.1878813334873743\n",
      "EVAL: [20/24] Elapsed 0m 2s (remain 0m 0s) Loss: 1.1879 \n"
     ]
    },
    {
     "name": "stderr",
     "output_type": "stream",
     "text": [
      "Validation:  92%|█████████▏| 22/24 [00:02<00:00,  9.62valid_batch/s]"
     ]
    },
    {
     "name": "stdout",
     "output_type": "stream",
     "text": [
      "1.1762621836228804\n"
     ]
    },
    {
     "name": "stderr",
     "output_type": "stream",
     "text": [
      "Validation: 100%|██████████| 24/24 [00:02<00:00,  9.62valid_batch/s]\n",
      "2024-02-27 11:20:51,179 - utils.training_utils - INFO - Average Training Loss: 0.0948\n"
     ]
    },
    {
     "name": "stdout",
     "output_type": "stream",
     "text": [
      "1.1645194499388984\n",
      "1.1510778665542603\n",
      "EVAL: [23/24] Elapsed 0m 2s (remain 0m 0s) Loss: 1.1511 \n"
     ]
    },
    {
     "name": "stderr",
     "output_type": "stream",
     "text": [
      "2024-02-27 11:20:51,180 - utils.training_utils - INFO - Average Validation Loss: 1.1511\n",
      "2024-02-27 11:20:51,181 - utils.training_utils - INFO - Epoch 19/20\n",
      "Train:   4%|▍         | 1/24 [00:05<02:08,  5.61s/train_batch]"
     ]
    },
    {
     "name": "stdout",
     "output_type": "stream",
     "text": [
      "Epoch: [19][0/24] Elapsed 0m 3s (remain 1m 17s) Loss: 0.0728 Grad: 1.1968  LR: 0.00002529  \n"
     ]
    },
    {
     "name": "stderr",
     "output_type": "stream",
     "text": [
      "Train:  46%|████▌     | 11/24 [00:59<01:17,  5.97s/train_batch]"
     ]
    },
    {
     "name": "stdout",
     "output_type": "stream",
     "text": [
      "Epoch: [19][10/24] Elapsed 0m 56s (remain 1m 7s) Loss: 0.0823 Grad: 1.0315  LR: 0.00001569  \n"
     ]
    },
    {
     "name": "stderr",
     "output_type": "stream",
     "text": [
      "Train:  88%|████████▊ | 21/24 [01:52<00:17,  5.97s/train_batch]"
     ]
    },
    {
     "name": "stdout",
     "output_type": "stream",
     "text": [
      "Epoch: [19][20/24] Elapsed 1m 50s (remain 0m 15s) Loss: 0.0870 Grad: 1.0460  LR: 0.00000840  \n"
     ]
    },
    {
     "name": "stderr",
     "output_type": "stream",
     "text": [
      "Train: 100%|██████████| 24/24 [02:08<00:00,  5.36s/train_batch]\n"
     ]
    },
    {
     "name": "stdout",
     "output_type": "stream",
     "text": [
      "Epoch: [19][23/24] Elapsed 2m 6s (remain 0m 0s) Loss: 0.0857 Grad: 1.1868  LR: 0.00000666  \n"
     ]
    },
    {
     "name": "stderr",
     "output_type": "stream",
     "text": [
      "Validation:   4%|▍         | 1/24 [00:00<00:03,  7.30valid_batch/s]"
     ]
    },
    {
     "name": "stdout",
     "output_type": "stream",
     "text": [
      "0.8369297385215759\n",
      "EVAL: [0/24] Elapsed 0m 0s (remain 0m 3s) Loss: 0.8369 \n"
     ]
    },
    {
     "name": "stderr",
     "output_type": "stream",
     "text": [
      "Validation:   8%|▊         | 2/24 [00:00<00:02,  8.34valid_batch/s]"
     ]
    },
    {
     "name": "stdout",
     "output_type": "stream",
     "text": [
      "0.9446152150630951\n"
     ]
    },
    {
     "name": "stderr",
     "output_type": "stream",
     "text": [
      "Validation:  17%|█▋        | 4/24 [00:00<00:02,  9.37valid_batch/s]"
     ]
    },
    {
     "name": "stdout",
     "output_type": "stream",
     "text": [
      "1.2181381980578105\n",
      "1.1118468791246414\n",
      "1.0514605283737182\n"
     ]
    },
    {
     "name": "stderr",
     "output_type": "stream",
     "text": [
      "Validation:  25%|██▌       | 6/24 [00:00<00:01,  9.68valid_batch/s]"
     ]
    },
    {
     "name": "stdout",
     "output_type": "stream",
     "text": [
      "1.0696348349253337\n"
     ]
    },
    {
     "name": "stderr",
     "output_type": "stream",
     "text": [
      "Validation:  29%|██▉       | 7/24 [00:00<00:01,  9.67valid_batch/s]"
     ]
    },
    {
     "name": "stdout",
     "output_type": "stream",
     "text": [
      "1.0244265283857072\n"
     ]
    },
    {
     "name": "stderr",
     "output_type": "stream",
     "text": [
      "Validation:  33%|███▎      | 8/24 [00:00<00:01,  9.57valid_batch/s]"
     ]
    },
    {
     "name": "stdout",
     "output_type": "stream",
     "text": [
      "1.0035572052001953\n"
     ]
    },
    {
     "name": "stderr",
     "output_type": "stream",
     "text": [
      "Validation:  38%|███▊      | 9/24 [00:00<00:01,  9.55valid_batch/s]"
     ]
    },
    {
     "name": "stdout",
     "output_type": "stream",
     "text": [
      "1.0207728544871013\n"
     ]
    },
    {
     "name": "stderr",
     "output_type": "stream",
     "text": [
      "Validation:  42%|████▏     | 10/24 [00:01<00:01,  9.51valid_batch/s]"
     ]
    },
    {
     "name": "stdout",
     "output_type": "stream",
     "text": [
      "1.1402512311935424\n",
      "1.1093528162349353\n",
      "EVAL: [10/24] Elapsed 0m 1s (remain 0m 1s) Loss: 1.1094 \n"
     ]
    },
    {
     "name": "stderr",
     "output_type": "stream",
     "text": [
      "Validation:  50%|█████     | 12/24 [00:01<00:01,  9.69valid_batch/s]"
     ]
    },
    {
     "name": "stdout",
     "output_type": "stream",
     "text": [
      "1.1278882722059886\n"
     ]
    },
    {
     "name": "stderr",
     "output_type": "stream",
     "text": [
      "Validation:  54%|█████▍    | 13/24 [00:01<00:01,  9.70valid_batch/s]"
     ]
    },
    {
     "name": "stdout",
     "output_type": "stream",
     "text": [
      "1.117471539057218\n",
      "1.1312687993049622\n"
     ]
    },
    {
     "name": "stderr",
     "output_type": "stream",
     "text": [
      "Validation:  62%|██████▎   | 15/24 [00:01<00:00,  9.78valid_batch/s]"
     ]
    },
    {
     "name": "stdout",
     "output_type": "stream",
     "text": [
      "1.1290255784988403\n"
     ]
    },
    {
     "name": "stderr",
     "output_type": "stream",
     "text": [
      "Validation:  67%|██████▋   | 16/24 [00:01<00:00,  9.74valid_batch/s]"
     ]
    },
    {
     "name": "stdout",
     "output_type": "stream",
     "text": [
      "1.1347294673323631\n"
     ]
    },
    {
     "name": "stderr",
     "output_type": "stream",
     "text": [
      "Validation:  71%|███████   | 17/24 [00:01<00:00,  9.70valid_batch/s]"
     ]
    },
    {
     "name": "stdout",
     "output_type": "stream",
     "text": [
      "1.1103230364182417\n"
     ]
    },
    {
     "name": "stderr",
     "output_type": "stream",
     "text": [
      "Validation:  75%|███████▌  | 18/24 [00:01<00:00,  9.65valid_batch/s]"
     ]
    },
    {
     "name": "stdout",
     "output_type": "stream",
     "text": [
      "1.0952252480718825\n"
     ]
    },
    {
     "name": "stderr",
     "output_type": "stream",
     "text": [
      "Validation:  79%|███████▉  | 19/24 [00:01<00:00,  9.65valid_batch/s]"
     ]
    },
    {
     "name": "stdout",
     "output_type": "stream",
     "text": [
      "1.0990963546853316\n"
     ]
    },
    {
     "name": "stderr",
     "output_type": "stream",
     "text": [
      "Validation:  83%|████████▎ | 20/24 [00:02<00:00,  9.45valid_batch/s]"
     ]
    },
    {
     "name": "stdout",
     "output_type": "stream",
     "text": [
      "1.1116506278514862\n"
     ]
    },
    {
     "name": "stderr",
     "output_type": "stream",
     "text": [
      "Validation:  88%|████████▊ | 21/24 [00:02<00:00,  9.22valid_batch/s]"
     ]
    },
    {
     "name": "stdout",
     "output_type": "stream",
     "text": [
      "1.1342562720889138\n",
      "EVAL: [20/24] Elapsed 0m 2s (remain 0m 0s) Loss: 1.1343 \n"
     ]
    },
    {
     "name": "stderr",
     "output_type": "stream",
     "text": [
      "Validation:  92%|█████████▏| 22/24 [00:02<00:00,  9.33valid_batch/s]"
     ]
    },
    {
     "name": "stdout",
     "output_type": "stream",
     "text": [
      "1.130719542503357\n"
     ]
    },
    {
     "name": "stderr",
     "output_type": "stream",
     "text": [
      "Validation:  96%|█████████▌| 23/24 [00:02<00:00,  9.50valid_batch/s]"
     ]
    },
    {
     "name": "stdout",
     "output_type": "stream",
     "text": [
      "1.1801582004712976\n"
     ]
    },
    {
     "name": "stderr",
     "output_type": "stream",
     "text": [
      "Validation: 100%|██████████| 24/24 [00:02<00:00,  9.49valid_batch/s]\n",
      "2024-02-27 11:23:02,360 - utils.training_utils - INFO - Average Training Loss: 0.0857\n",
      "2024-02-27 11:23:02,361 - utils.training_utils - INFO - Average Validation Loss: 1.1850\n",
      "2024-02-27 11:23:02,362 - utils.training_utils - INFO - Epoch 20/20\n"
     ]
    },
    {
     "name": "stdout",
     "output_type": "stream",
     "text": [
      "1.18496972322464\n",
      "EVAL: [23/24] Elapsed 0m 2s (remain 0m 0s) Loss: 1.1850 \n"
     ]
    },
    {
     "name": "stderr",
     "output_type": "stream",
     "text": [
      "Train:   4%|▍         | 1/24 [00:05<02:09,  5.63s/train_batch]"
     ]
    },
    {
     "name": "stdout",
     "output_type": "stream",
     "text": [
      "Epoch: [20][0/24] Elapsed 0m 3s (remain 1m 18s) Loss: 0.0799 Grad: 1.0921  LR: 0.00000613  \n"
     ]
    },
    {
     "name": "stderr",
     "output_type": "stream",
     "text": [
      "Train:  46%|████▌     | 11/24 [00:58<01:17,  5.97s/train_batch]"
     ]
    },
    {
     "name": "stdout",
     "output_type": "stream",
     "text": [
      "Epoch: [20][10/24] Elapsed 0m 56s (remain 1m 7s) Loss: 0.0877 Grad: 1.2387  LR: 0.00000211  \n"
     ]
    },
    {
     "name": "stderr",
     "output_type": "stream",
     "text": [
      "Train:  88%|████████▊ | 21/24 [01:52<00:17,  5.97s/train_batch]"
     ]
    },
    {
     "name": "stdout",
     "output_type": "stream",
     "text": [
      "Epoch: [20][20/24] Elapsed 1m 50s (remain 0m 15s) Loss: 0.0901 Grad: 0.9141  LR: 0.00000045  \n"
     ]
    },
    {
     "name": "stderr",
     "output_type": "stream",
     "text": [
      "Train: 100%|██████████| 24/24 [02:08<00:00,  5.36s/train_batch]\n"
     ]
    },
    {
     "name": "stdout",
     "output_type": "stream",
     "text": [
      "Epoch: [20][23/24] Elapsed 2m 6s (remain 0m 0s) Loss: 0.0897 Grad: 0.9668  LR: 0.00000041  \n"
     ]
    },
    {
     "name": "stderr",
     "output_type": "stream",
     "text": [
      "Validation:   4%|▍         | 1/24 [00:00<00:02,  9.12valid_batch/s]"
     ]
    },
    {
     "name": "stdout",
     "output_type": "stream",
     "text": [
      "1.3545434474945068\n",
      "EVAL: [0/24] Elapsed 0m 0s (remain 0m 2s) Loss: 1.3545 \n"
     ]
    },
    {
     "name": "stderr",
     "output_type": "stream",
     "text": [
      "Validation:   8%|▊         | 2/24 [00:00<00:02,  9.17valid_batch/s]"
     ]
    },
    {
     "name": "stdout",
     "output_type": "stream",
     "text": [
      "1.3422271013259888\n"
     ]
    },
    {
     "name": "stderr",
     "output_type": "stream",
     "text": [
      "Validation:  12%|█▎        | 3/24 [00:00<00:02,  9.15valid_batch/s]"
     ]
    },
    {
     "name": "stdout",
     "output_type": "stream",
     "text": [
      "1.4191865523656209\n"
     ]
    },
    {
     "name": "stderr",
     "output_type": "stream",
     "text": [
      "Validation:  17%|█▋        | 4/24 [00:00<00:02,  9.29valid_batch/s]"
     ]
    },
    {
     "name": "stdout",
     "output_type": "stream",
     "text": [
      "1.3250865638256073\n"
     ]
    },
    {
     "name": "stderr",
     "output_type": "stream",
     "text": [
      "Validation:  21%|██        | 5/24 [00:00<00:02,  9.45valid_batch/s]"
     ]
    },
    {
     "name": "stdout",
     "output_type": "stream",
     "text": [
      "1.222817349433899\n"
     ]
    },
    {
     "name": "stderr",
     "output_type": "stream",
     "text": [
      "Validation:  25%|██▌       | 6/24 [00:00<00:01,  9.57valid_batch/s]"
     ]
    },
    {
     "name": "stdout",
     "output_type": "stream",
     "text": [
      "1.2692247827847798\n"
     ]
    },
    {
     "name": "stderr",
     "output_type": "stream",
     "text": [
      "Validation:  29%|██▉       | 7/24 [00:00<00:01,  9.51valid_batch/s]"
     ]
    },
    {
     "name": "stdout",
     "output_type": "stream",
     "text": [
      "1.3320853539875575\n"
     ]
    },
    {
     "name": "stderr",
     "output_type": "stream",
     "text": [
      "Validation:  33%|███▎      | 8/24 [00:00<00:01,  9.54valid_batch/s]"
     ]
    },
    {
     "name": "stdout",
     "output_type": "stream",
     "text": [
      "1.305081456899643\n"
     ]
    },
    {
     "name": "stderr",
     "output_type": "stream",
     "text": [
      "Validation:  38%|███▊      | 9/24 [00:00<00:01,  9.48valid_batch/s]"
     ]
    },
    {
     "name": "stdout",
     "output_type": "stream",
     "text": [
      "1.2864607440100775\n"
     ]
    },
    {
     "name": "stderr",
     "output_type": "stream",
     "text": [
      "Validation:  42%|████▏     | 10/24 [00:01<00:01,  9.36valid_batch/s]"
     ]
    },
    {
     "name": "stdout",
     "output_type": "stream",
     "text": [
      "1.276467204093933\n"
     ]
    },
    {
     "name": "stderr",
     "output_type": "stream",
     "text": [
      "Validation:  46%|████▌     | 11/24 [00:01<00:01,  8.72valid_batch/s]"
     ]
    },
    {
     "name": "stdout",
     "output_type": "stream",
     "text": [
      "1.255186601118608\n",
      "EVAL: [10/24] Elapsed 0m 1s (remain 0m 1s) Loss: 1.2552 \n"
     ]
    },
    {
     "name": "stderr",
     "output_type": "stream",
     "text": [
      "Validation:  50%|█████     | 12/24 [00:01<00:01,  8.92valid_batch/s]"
     ]
    },
    {
     "name": "stdout",
     "output_type": "stream",
     "text": [
      "1.2281932731469472\n"
     ]
    },
    {
     "name": "stderr",
     "output_type": "stream",
     "text": [
      "Validation:  54%|█████▍    | 13/24 [00:01<00:01,  9.01valid_batch/s]"
     ]
    },
    {
     "name": "stdout",
     "output_type": "stream",
     "text": [
      "1.2609016803594737\n"
     ]
    },
    {
     "name": "stderr",
     "output_type": "stream",
     "text": [
      "Validation:  58%|█████▊    | 14/24 [00:01<00:01,  9.05valid_batch/s]"
     ]
    },
    {
     "name": "stdout",
     "output_type": "stream",
     "text": [
      "1.2771443384034293\n"
     ]
    },
    {
     "name": "stderr",
     "output_type": "stream",
     "text": [
      "Validation:  62%|██████▎   | 15/24 [00:01<00:00,  9.22valid_batch/s]"
     ]
    },
    {
     "name": "stdout",
     "output_type": "stream",
     "text": [
      "1.2383686661720277\n"
     ]
    },
    {
     "name": "stderr",
     "output_type": "stream",
     "text": [
      "Validation:  67%|██████▋   | 16/24 [00:01<00:00,  9.31valid_batch/s]"
     ]
    },
    {
     "name": "stdout",
     "output_type": "stream",
     "text": [
      "1.2101732157170773\n"
     ]
    },
    {
     "name": "stderr",
     "output_type": "stream",
     "text": [
      "Validation:  71%|███████   | 17/24 [00:01<00:00,  9.24valid_batch/s]"
     ]
    },
    {
     "name": "stdout",
     "output_type": "stream",
     "text": [
      "1.2088053962763619\n"
     ]
    },
    {
     "name": "stderr",
     "output_type": "stream",
     "text": [
      "Validation:  75%|███████▌  | 18/24 [00:01<00:00,  9.24valid_batch/s]"
     ]
    },
    {
     "name": "stdout",
     "output_type": "stream",
     "text": [
      "1.207536713944541\n"
     ]
    },
    {
     "name": "stderr",
     "output_type": "stream",
     "text": [
      "Validation:  79%|███████▉  | 19/24 [00:02<00:00,  9.26valid_batch/s]"
     ]
    },
    {
     "name": "stdout",
     "output_type": "stream",
     "text": [
      "1.2137944227770756\n"
     ]
    },
    {
     "name": "stderr",
     "output_type": "stream",
     "text": [
      "Validation:  83%|████████▎ | 20/24 [00:02<00:00,  9.42valid_batch/s]"
     ]
    },
    {
     "name": "stdout",
     "output_type": "stream",
     "text": [
      "1.2251703172922135\n"
     ]
    },
    {
     "name": "stderr",
     "output_type": "stream",
     "text": [
      "Validation:  88%|████████▊ | 21/24 [00:02<00:00,  9.48valid_batch/s]"
     ]
    },
    {
     "name": "stdout",
     "output_type": "stream",
     "text": [
      "1.220405360062917\n",
      "EVAL: [20/24] Elapsed 0m 2s (remain 0m 0s) Loss: 1.2204 \n"
     ]
    },
    {
     "name": "stderr",
     "output_type": "stream",
     "text": [
      "Validation:  92%|█████████▏| 22/24 [00:02<00:00,  9.46valid_batch/s]"
     ]
    },
    {
     "name": "stdout",
     "output_type": "stream",
     "text": [
      "1.2295611744577235\n"
     ]
    },
    {
     "name": "stderr",
     "output_type": "stream",
     "text": [
      "Validation:  96%|█████████▌| 23/24 [00:02<00:00,  9.52valid_batch/s]"
     ]
    },
    {
     "name": "stdout",
     "output_type": "stream",
     "text": [
      "1.22161189628684\n"
     ]
    },
    {
     "name": "stderr",
     "output_type": "stream",
     "text": [
      "Validation: 100%|██████████| 24/24 [00:02<00:00,  9.31valid_batch/s]\n",
      "2024-02-27 11:25:13,483 - utils.training_utils - INFO - Average Training Loss: 0.0897\n",
      "2024-02-27 11:25:13,484 - utils.training_utils - INFO - Average Validation Loss: 1.2040\n"
     ]
    },
    {
     "name": "stdout",
     "output_type": "stream",
     "text": [
      "1.2039699678619702\n",
      "EVAL: [23/24] Elapsed 0m 2s (remain 0m 0s) Loss: 1.2040 \n"
     ]
    },
    {
     "data": {
      "text/html": [
       "<div>\n",
       "<style scoped>\n",
       "    .dataframe tbody tr th:only-of-type {\n",
       "        vertical-align: middle;\n",
       "    }\n",
       "\n",
       "    .dataframe tbody tr th {\n",
       "        vertical-align: top;\n",
       "    }\n",
       "\n",
       "    .dataframe thead th {\n",
       "        text-align: right;\n",
       "    }\n",
       "</style>\n",
       "<table border=\"1\" class=\"dataframe\">\n",
       "  <thead>\n",
       "    <tr style=\"text-align: right;\">\n",
       "      <th></th>\n",
       "      <th>seizure_vote_pred</th>\n",
       "      <th>lpd_vote_pred</th>\n",
       "      <th>gpd_vote_pred</th>\n",
       "      <th>lrda_vote_pred</th>\n",
       "      <th>grda_vote_pred</th>\n",
       "      <th>other_vote_pred</th>\n",
       "      <th>seizure_vote</th>\n",
       "      <th>lpd_vote</th>\n",
       "      <th>gpd_vote</th>\n",
       "      <th>lrda_vote</th>\n",
       "      <th>grda_vote</th>\n",
       "      <th>other_vote</th>\n",
       "    </tr>\n",
       "  </thead>\n",
       "  <tbody>\n",
       "    <tr>\n",
       "      <th>0</th>\n",
       "      <td>0.800000</td>\n",
       "      <td>0.0</td>\n",
       "      <td>0.00</td>\n",
       "      <td>0.000000</td>\n",
       "      <td>0.0</td>\n",
       "      <td>0.200000</td>\n",
       "      <td>0.766595</td>\n",
       "      <td>0.002131</td>\n",
       "      <td>0.001167</td>\n",
       "      <td>0.005958</td>\n",
       "      <td>0.015679</td>\n",
       "      <td>0.208470</td>\n",
       "    </tr>\n",
       "    <tr>\n",
       "      <th>1</th>\n",
       "      <td>1.000000</td>\n",
       "      <td>0.0</td>\n",
       "      <td>0.00</td>\n",
       "      <td>0.000000</td>\n",
       "      <td>0.0</td>\n",
       "      <td>0.000000</td>\n",
       "      <td>0.199931</td>\n",
       "      <td>0.061032</td>\n",
       "      <td>0.014396</td>\n",
       "      <td>0.190258</td>\n",
       "      <td>0.470848</td>\n",
       "      <td>0.063535</td>\n",
       "    </tr>\n",
       "    <tr>\n",
       "      <th>2</th>\n",
       "      <td>0.000000</td>\n",
       "      <td>0.0</td>\n",
       "      <td>0.00</td>\n",
       "      <td>0.000000</td>\n",
       "      <td>0.0</td>\n",
       "      <td>1.000000</td>\n",
       "      <td>0.015103</td>\n",
       "      <td>0.009286</td>\n",
       "      <td>0.002677</td>\n",
       "      <td>0.668199</td>\n",
       "      <td>0.171733</td>\n",
       "      <td>0.133002</td>\n",
       "    </tr>\n",
       "    <tr>\n",
       "      <th>3</th>\n",
       "      <td>0.866667</td>\n",
       "      <td>0.0</td>\n",
       "      <td>0.00</td>\n",
       "      <td>0.000000</td>\n",
       "      <td>0.0</td>\n",
       "      <td>0.133333</td>\n",
       "      <td>0.034470</td>\n",
       "      <td>0.002495</td>\n",
       "      <td>0.000883</td>\n",
       "      <td>0.082940</td>\n",
       "      <td>0.821042</td>\n",
       "      <td>0.058169</td>\n",
       "    </tr>\n",
       "    <tr>\n",
       "      <th>4</th>\n",
       "      <td>0.000000</td>\n",
       "      <td>0.0</td>\n",
       "      <td>0.00</td>\n",
       "      <td>0.466667</td>\n",
       "      <td>0.0</td>\n",
       "      <td>0.533333</td>\n",
       "      <td>0.020899</td>\n",
       "      <td>0.013780</td>\n",
       "      <td>0.001336</td>\n",
       "      <td>0.406173</td>\n",
       "      <td>0.365299</td>\n",
       "      <td>0.192513</td>\n",
       "    </tr>\n",
       "    <tr>\n",
       "      <th>...</th>\n",
       "      <td>...</td>\n",
       "      <td>...</td>\n",
       "      <td>...</td>\n",
       "      <td>...</td>\n",
       "      <td>...</td>\n",
       "      <td>...</td>\n",
       "      <td>...</td>\n",
       "      <td>...</td>\n",
       "      <td>...</td>\n",
       "      <td>...</td>\n",
       "      <td>...</td>\n",
       "      <td>...</td>\n",
       "    </tr>\n",
       "    <tr>\n",
       "      <th>379</th>\n",
       "      <td>1.000000</td>\n",
       "      <td>0.0</td>\n",
       "      <td>0.00</td>\n",
       "      <td>0.000000</td>\n",
       "      <td>0.0</td>\n",
       "      <td>0.000000</td>\n",
       "      <td>0.032828</td>\n",
       "      <td>0.016473</td>\n",
       "      <td>0.003000</td>\n",
       "      <td>0.567369</td>\n",
       "      <td>0.153988</td>\n",
       "      <td>0.226342</td>\n",
       "    </tr>\n",
       "    <tr>\n",
       "      <th>380</th>\n",
       "      <td>1.000000</td>\n",
       "      <td>0.0</td>\n",
       "      <td>0.00</td>\n",
       "      <td>0.000000</td>\n",
       "      <td>0.0</td>\n",
       "      <td>0.000000</td>\n",
       "      <td>0.155743</td>\n",
       "      <td>0.018285</td>\n",
       "      <td>0.009157</td>\n",
       "      <td>0.108522</td>\n",
       "      <td>0.524028</td>\n",
       "      <td>0.184264</td>\n",
       "    </tr>\n",
       "    <tr>\n",
       "      <th>381</th>\n",
       "      <td>1.000000</td>\n",
       "      <td>0.0</td>\n",
       "      <td>0.00</td>\n",
       "      <td>0.000000</td>\n",
       "      <td>0.0</td>\n",
       "      <td>0.000000</td>\n",
       "      <td>0.959643</td>\n",
       "      <td>0.000392</td>\n",
       "      <td>0.000144</td>\n",
       "      <td>0.000353</td>\n",
       "      <td>0.000127</td>\n",
       "      <td>0.039341</td>\n",
       "    </tr>\n",
       "    <tr>\n",
       "      <th>382</th>\n",
       "      <td>0.913043</td>\n",
       "      <td>0.0</td>\n",
       "      <td>0.00</td>\n",
       "      <td>0.043478</td>\n",
       "      <td>0.0</td>\n",
       "      <td>0.043478</td>\n",
       "      <td>0.863092</td>\n",
       "      <td>0.007334</td>\n",
       "      <td>0.001210</td>\n",
       "      <td>0.025518</td>\n",
       "      <td>0.067812</td>\n",
       "      <td>0.035034</td>\n",
       "    </tr>\n",
       "    <tr>\n",
       "      <th>383</th>\n",
       "      <td>0.750000</td>\n",
       "      <td>0.0</td>\n",
       "      <td>0.25</td>\n",
       "      <td>0.000000</td>\n",
       "      <td>0.0</td>\n",
       "      <td>0.000000</td>\n",
       "      <td>0.894415</td>\n",
       "      <td>0.009730</td>\n",
       "      <td>0.084534</td>\n",
       "      <td>0.000917</td>\n",
       "      <td>0.000314</td>\n",
       "      <td>0.010089</td>\n",
       "    </tr>\n",
       "  </tbody>\n",
       "</table>\n",
       "<p>384 rows × 12 columns</p>\n",
       "</div>"
      ],
      "text/plain": [
       "     seizure_vote_pred  lpd_vote_pred  gpd_vote_pred  lrda_vote_pred  \\\n",
       "0             0.800000            0.0           0.00        0.000000   \n",
       "1             1.000000            0.0           0.00        0.000000   \n",
       "2             0.000000            0.0           0.00        0.000000   \n",
       "3             0.866667            0.0           0.00        0.000000   \n",
       "4             0.000000            0.0           0.00        0.466667   \n",
       "..                 ...            ...            ...             ...   \n",
       "379           1.000000            0.0           0.00        0.000000   \n",
       "380           1.000000            0.0           0.00        0.000000   \n",
       "381           1.000000            0.0           0.00        0.000000   \n",
       "382           0.913043            0.0           0.00        0.043478   \n",
       "383           0.750000            0.0           0.25        0.000000   \n",
       "\n",
       "     grda_vote_pred  other_vote_pred  seizure_vote  lpd_vote  gpd_vote  \\\n",
       "0               0.0         0.200000      0.766595  0.002131  0.001167   \n",
       "1               0.0         0.000000      0.199931  0.061032  0.014396   \n",
       "2               0.0         1.000000      0.015103  0.009286  0.002677   \n",
       "3               0.0         0.133333      0.034470  0.002495  0.000883   \n",
       "4               0.0         0.533333      0.020899  0.013780  0.001336   \n",
       "..              ...              ...           ...       ...       ...   \n",
       "379             0.0         0.000000      0.032828  0.016473  0.003000   \n",
       "380             0.0         0.000000      0.155743  0.018285  0.009157   \n",
       "381             0.0         0.000000      0.959643  0.000392  0.000144   \n",
       "382             0.0         0.043478      0.863092  0.007334  0.001210   \n",
       "383             0.0         0.000000      0.894415  0.009730  0.084534   \n",
       "\n",
       "     lrda_vote  grda_vote  other_vote  \n",
       "0     0.005958   0.015679    0.208470  \n",
       "1     0.190258   0.470848    0.063535  \n",
       "2     0.668199   0.171733    0.133002  \n",
       "3     0.082940   0.821042    0.058169  \n",
       "4     0.406173   0.365299    0.192513  \n",
       "..         ...        ...         ...  \n",
       "379   0.567369   0.153988    0.226342  \n",
       "380   0.108522   0.524028    0.184264  \n",
       "381   0.000353   0.000127    0.039341  \n",
       "382   0.025518   0.067812    0.035034  \n",
       "383   0.000917   0.000314    0.010089  \n",
       "\n",
       "[384 rows x 12 columns]"
      ]
     },
     "execution_count": 4,
     "metadata": {},
     "output_type": "execute_result"
    }
   ],
   "source": [
    "from datasets.data_loader import CustomDataset\n",
    "from datasets.data_loader_configs import (\n",
    "    BaseDataConfig,\n",
    "    ExtremelySmallBaseConfig,\n",
    "    Config_Normalize_Group_Raw_ICA,\n",
    ")\n",
    "from generics import Paths\n",
    "from models.CustomModel import CustomModel\n",
    "from models.custom_model_configs import BaseModelConfig\n",
    "from utils.inference_utils import perform_inference\n",
    "from utils.loader_utils import load_main_dfs\n",
    "from utils.training_utils import train\n",
    "\n",
    "\n",
    "class EfficientNetB0Config_Big_Weight_Decay(BaseModelConfig):\n",
    "    MODEL = \"tf_efficientnet_b0\"\n",
    "    FREEZE = False\n",
    "    EPOCHS = 20\n",
    "    GRADIENT_ACCUMULATION_STEPS = 1\n",
    "    WEIGHT_DECAY = 0.01\n",
    "    MAX_LEARNING_RATE_SCHEDULERER = 0.001\n",
    "    USE_KAGGLE_SPECTROGRAMS = False\n",
    "\n",
    "\n",
    "data_loader_config = Config_Normalize_Group_Raw_ICA\n",
    "model_config = EfficientNetB0Config_Big_Weight_Decay\n",
    "train_df, val_df, _ = load_main_dfs(data_loader_config, train_val_split=(0.8, 0.2))\n",
    "# Load datasets\n",
    "train_dataset = CustomDataset(\n",
    "    config=data_loader_config, main_df=train_df, mode=\"train\", cache=True\n",
    ")\n",
    "val_dataset = CustomDataset(\n",
    "    config=data_loader_config, main_df=val_df, mode=\"val\", cache=True\n",
    ")\n",
    "\n",
    "# Print summaries\n",
    "train_dataset.print_summary()\n",
    "val_dataset.print_summary()\n",
    "\n",
    "# Initialize and train the model\n",
    "model = CustomModel(model_config)\n",
    "print(\"starting training\")\n",
    "train(model=model, train_dataset=train_dataset, val_dataset=val_dataset)"
   ]
  },
  {
   "cell_type": "code",
   "execution_count": null,
   "id": "0072162d",
   "metadata": {
    "papermill": {
     "duration": 0.125622,
     "end_time": "2024-02-27T11:25:16.257199",
     "exception": false,
     "start_time": "2024-02-27T11:25:16.131577",
     "status": "completed"
    },
    "tags": []
   },
   "outputs": [],
   "source": []
  },
  {
   "cell_type": "code",
   "execution_count": null,
   "id": "eeb66ae6",
   "metadata": {
    "papermill": {
     "duration": 0.125251,
     "end_time": "2024-02-27T11:25:16.508715",
     "exception": false,
     "start_time": "2024-02-27T11:25:16.383464",
     "status": "completed"
    },
    "tags": []
   },
   "outputs": [],
   "source": []
  }
 ],
 "metadata": {
  "kaggle": {
   "accelerator": "gpu",
   "dataSources": [
    {
     "databundleVersionId": 7469972,
     "sourceId": 59093,
     "sourceType": "competition"
    },
    {
     "datasetId": 4297782,
     "sourceId": 7392775,
     "sourceType": "datasetVersion"
    },
    {
     "datasetId": 4334995,
     "sourceId": 7447509,
     "sourceType": "datasetVersion"
    },
    {
     "datasetId": 4503058,
     "sourceId": 7711591,
     "sourceType": "datasetVersion"
    },
    {
     "datasetId": 4503319,
     "sourceId": 7711918,
     "sourceType": "datasetVersion"
    }
   ],
   "dockerImageVersionId": 30646,
   "isGpuEnabled": true,
   "isInternetEnabled": true,
   "language": "python",
   "sourceType": "notebook"
  },
  "kernelspec": {
   "display_name": "Python 3",
   "language": "python",
   "name": "python3"
  },
  "language_info": {
   "codemirror_mode": {
    "name": "ipython",
    "version": 3
   },
   "file_extension": ".py",
   "mimetype": "text/x-python",
   "name": "python",
   "nbconvert_exporter": "python",
   "pygments_lexer": "ipython3",
   "version": "3.10.13"
  },
  "papermill": {
   "default_parameters": {},
   "duration": 2675.422815,
   "end_time": "2024-02-27T11:25:19.979351",
   "environment_variables": {},
   "exception": null,
   "input_path": "__notebook__.ipynb",
   "output_path": "__notebook__.ipynb",
   "parameters": {},
   "start_time": "2024-02-27T10:40:44.556536",
   "version": "2.5.0"
  },
  "widgets": {
   "application/vnd.jupyter.widget-state+json": {
    "state": {
     "0a5fbb1b6933429eaeb406382a30b887": {
      "model_module": "@jupyter-widgets/controls",
      "model_module_version": "1.5.0",
      "model_name": "DescriptionStyleModel",
      "state": {
       "_model_module": "@jupyter-widgets/controls",
       "_model_module_version": "1.5.0",
       "_model_name": "DescriptionStyleModel",
       "_view_count": null,
       "_view_module": "@jupyter-widgets/base",
       "_view_module_version": "1.2.0",
       "_view_name": "StyleView",
       "description_width": ""
      }
     },
     "414915a89155484c9e7c70d1382298d5": {
      "model_module": "@jupyter-widgets/base",
      "model_module_version": "1.2.0",
      "model_name": "LayoutModel",
      "state": {
       "_model_module": "@jupyter-widgets/base",
       "_model_module_version": "1.2.0",
       "_model_name": "LayoutModel",
       "_view_count": null,
       "_view_module": "@jupyter-widgets/base",
       "_view_module_version": "1.2.0",
       "_view_name": "LayoutView",
       "align_content": null,
       "align_items": null,
       "align_self": null,
       "border": null,
       "bottom": null,
       "display": null,
       "flex": null,
       "flex_flow": null,
       "grid_area": null,
       "grid_auto_columns": null,
       "grid_auto_flow": null,
       "grid_auto_rows": null,
       "grid_column": null,
       "grid_gap": null,
       "grid_row": null,
       "grid_template_areas": null,
       "grid_template_columns": null,
       "grid_template_rows": null,
       "height": null,
       "justify_content": null,
       "justify_items": null,
       "left": null,
       "margin": null,
       "max_height": null,
       "max_width": null,
       "min_height": null,
       "min_width": null,
       "object_fit": null,
       "object_position": null,
       "order": null,
       "overflow": null,
       "overflow_x": null,
       "overflow_y": null,
       "padding": null,
       "right": null,
       "top": null,
       "visibility": null,
       "width": null
      }
     },
     "557e245ede9341cda9aed08e47a826c4": {
      "model_module": "@jupyter-widgets/base",
      "model_module_version": "1.2.0",
      "model_name": "LayoutModel",
      "state": {
       "_model_module": "@jupyter-widgets/base",
       "_model_module_version": "1.2.0",
       "_model_name": "LayoutModel",
       "_view_count": null,
       "_view_module": "@jupyter-widgets/base",
       "_view_module_version": "1.2.0",
       "_view_name": "LayoutView",
       "align_content": null,
       "align_items": null,
       "align_self": null,
       "border": null,
       "bottom": null,
       "display": null,
       "flex": null,
       "flex_flow": null,
       "grid_area": null,
       "grid_auto_columns": null,
       "grid_auto_flow": null,
       "grid_auto_rows": null,
       "grid_column": null,
       "grid_gap": null,
       "grid_row": null,
       "grid_template_areas": null,
       "grid_template_columns": null,
       "grid_template_rows": null,
       "height": null,
       "justify_content": null,
       "justify_items": null,
       "left": null,
       "margin": null,
       "max_height": null,
       "max_width": null,
       "min_height": null,
       "min_width": null,
       "object_fit": null,
       "object_position": null,
       "order": null,
       "overflow": null,
       "overflow_x": null,
       "overflow_y": null,
       "padding": null,
       "right": null,
       "top": null,
       "visibility": null,
       "width": null
      }
     },
     "6f1b907d3b8d44f5aed776cffbb09d22": {
      "model_module": "@jupyter-widgets/controls",
      "model_module_version": "1.5.0",
      "model_name": "DescriptionStyleModel",
      "state": {
       "_model_module": "@jupyter-widgets/controls",
       "_model_module_version": "1.5.0",
       "_model_name": "DescriptionStyleModel",
       "_view_count": null,
       "_view_module": "@jupyter-widgets/base",
       "_view_module_version": "1.2.0",
       "_view_name": "StyleView",
       "description_width": ""
      }
     },
     "9a5b74e951e448aeaf3b3cfa60194c7b": {
      "model_module": "@jupyter-widgets/controls",
      "model_module_version": "1.5.0",
      "model_name": "HTMLModel",
      "state": {
       "_dom_classes": [],
       "_model_module": "@jupyter-widgets/controls",
       "_model_module_version": "1.5.0",
       "_model_name": "HTMLModel",
       "_view_count": null,
       "_view_module": "@jupyter-widgets/controls",
       "_view_module_version": "1.5.0",
       "_view_name": "HTMLView",
       "description": "",
       "description_tooltip": null,
       "layout": "IPY_MODEL_557e245ede9341cda9aed08e47a826c4",
       "placeholder": "​",
       "style": "IPY_MODEL_6f1b907d3b8d44f5aed776cffbb09d22",
       "value": "model.safetensors: 100%"
      }
     },
     "b31529cc59c8481ca63655954cf73236": {
      "model_module": "@jupyter-widgets/base",
      "model_module_version": "1.2.0",
      "model_name": "LayoutModel",
      "state": {
       "_model_module": "@jupyter-widgets/base",
       "_model_module_version": "1.2.0",
       "_model_name": "LayoutModel",
       "_view_count": null,
       "_view_module": "@jupyter-widgets/base",
       "_view_module_version": "1.2.0",
       "_view_name": "LayoutView",
       "align_content": null,
       "align_items": null,
       "align_self": null,
       "border": null,
       "bottom": null,
       "display": null,
       "flex": null,
       "flex_flow": null,
       "grid_area": null,
       "grid_auto_columns": null,
       "grid_auto_flow": null,
       "grid_auto_rows": null,
       "grid_column": null,
       "grid_gap": null,
       "grid_row": null,
       "grid_template_areas": null,
       "grid_template_columns": null,
       "grid_template_rows": null,
       "height": null,
       "justify_content": null,
       "justify_items": null,
       "left": null,
       "margin": null,
       "max_height": null,
       "max_width": null,
       "min_height": null,
       "min_width": null,
       "object_fit": null,
       "object_position": null,
       "order": null,
       "overflow": null,
       "overflow_x": null,
       "overflow_y": null,
       "padding": null,
       "right": null,
       "top": null,
       "visibility": null,
       "width": null
      }
     },
     "c814afafd8c44527b6bf61955862f5af": {
      "model_module": "@jupyter-widgets/controls",
      "model_module_version": "1.5.0",
      "model_name": "FloatProgressModel",
      "state": {
       "_dom_classes": [],
       "_model_module": "@jupyter-widgets/controls",
       "_model_module_version": "1.5.0",
       "_model_name": "FloatProgressModel",
       "_view_count": null,
       "_view_module": "@jupyter-widgets/controls",
       "_view_module_version": "1.5.0",
       "_view_name": "ProgressView",
       "bar_style": "success",
       "description": "",
       "description_tooltip": null,
       "layout": "IPY_MODEL_ce2d550c63024840804ba029056c60f1",
       "max": 21355344,
       "min": 0,
       "orientation": "horizontal",
       "style": "IPY_MODEL_fb8d5366db8a4253937e1c562ec76275",
       "value": 21355344
      }
     },
     "ce2d550c63024840804ba029056c60f1": {
      "model_module": "@jupyter-widgets/base",
      "model_module_version": "1.2.0",
      "model_name": "LayoutModel",
      "state": {
       "_model_module": "@jupyter-widgets/base",
       "_model_module_version": "1.2.0",
       "_model_name": "LayoutModel",
       "_view_count": null,
       "_view_module": "@jupyter-widgets/base",
       "_view_module_version": "1.2.0",
       "_view_name": "LayoutView",
       "align_content": null,
       "align_items": null,
       "align_self": null,
       "border": null,
       "bottom": null,
       "display": null,
       "flex": null,
       "flex_flow": null,
       "grid_area": null,
       "grid_auto_columns": null,
       "grid_auto_flow": null,
       "grid_auto_rows": null,
       "grid_column": null,
       "grid_gap": null,
       "grid_row": null,
       "grid_template_areas": null,
       "grid_template_columns": null,
       "grid_template_rows": null,
       "height": null,
       "justify_content": null,
       "justify_items": null,
       "left": null,
       "margin": null,
       "max_height": null,
       "max_width": null,
       "min_height": null,
       "min_width": null,
       "object_fit": null,
       "object_position": null,
       "order": null,
       "overflow": null,
       "overflow_x": null,
       "overflow_y": null,
       "padding": null,
       "right": null,
       "top": null,
       "visibility": null,
       "width": null
      }
     },
     "dc1ba7e7e25a4202951b6c9b3e304ec1": {
      "model_module": "@jupyter-widgets/controls",
      "model_module_version": "1.5.0",
      "model_name": "HBoxModel",
      "state": {
       "_dom_classes": [],
       "_model_module": "@jupyter-widgets/controls",
       "_model_module_version": "1.5.0",
       "_model_name": "HBoxModel",
       "_view_count": null,
       "_view_module": "@jupyter-widgets/controls",
       "_view_module_version": "1.5.0",
       "_view_name": "HBoxView",
       "box_style": "",
       "children": [
        "IPY_MODEL_9a5b74e951e448aeaf3b3cfa60194c7b",
        "IPY_MODEL_c814afafd8c44527b6bf61955862f5af",
        "IPY_MODEL_ef8770e65f50456eba2a8b29c7372c8c"
       ],
       "layout": "IPY_MODEL_b31529cc59c8481ca63655954cf73236"
      }
     },
     "ef8770e65f50456eba2a8b29c7372c8c": {
      "model_module": "@jupyter-widgets/controls",
      "model_module_version": "1.5.0",
      "model_name": "HTMLModel",
      "state": {
       "_dom_classes": [],
       "_model_module": "@jupyter-widgets/controls",
       "_model_module_version": "1.5.0",
       "_model_name": "HTMLModel",
       "_view_count": null,
       "_view_module": "@jupyter-widgets/controls",
       "_view_module_version": "1.5.0",
       "_view_name": "HTMLView",
       "description": "",
       "description_tooltip": null,
       "layout": "IPY_MODEL_414915a89155484c9e7c70d1382298d5",
       "placeholder": "​",
       "style": "IPY_MODEL_0a5fbb1b6933429eaeb406382a30b887",
       "value": " 21.4M/21.4M [00:00&lt;00:00, 65.7MB/s]"
      }
     },
     "fb8d5366db8a4253937e1c562ec76275": {
      "model_module": "@jupyter-widgets/controls",
      "model_module_version": "1.5.0",
      "model_name": "ProgressStyleModel",
      "state": {
       "_model_module": "@jupyter-widgets/controls",
       "_model_module_version": "1.5.0",
       "_model_name": "ProgressStyleModel",
       "_view_count": null,
       "_view_module": "@jupyter-widgets/base",
       "_view_module_version": "1.2.0",
       "_view_name": "StyleView",
       "bar_color": null,
       "description_width": ""
      }
     }
    },
    "version_major": 2,
    "version_minor": 0
   }
  }
 },
 "nbformat": 4,
 "nbformat_minor": 5
}
