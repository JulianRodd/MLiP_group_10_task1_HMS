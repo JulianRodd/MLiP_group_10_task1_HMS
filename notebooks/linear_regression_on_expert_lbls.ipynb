{
 "cells": [
  {
   "cell_type": "code",
   "execution_count": 4,
   "metadata": {},
   "outputs": [
    {
     "name": "stdout",
     "output_type": "stream",
     "text": [
      "/home/janneke/Documents/Master/Machine_Learning_in_Practice/HMS/MLiP_group_10_task1_HMS\n"
     ]
    }
   ],
   "source": [
    "# %cd ..\n",
    "%cd /home/janneke/Documents/Master/Machine_Learning_in_Practice/HMS/MLiP_group_10_task1_HMS/"
   ]
  },
  {
   "cell_type": "code",
   "execution_count": 5,
   "metadata": {},
   "outputs": [],
   "source": [
    "import pandas as pd\n",
    "import numpy as np\n",
    "from logging import getLogger, basicConfig, INFO\n",
    "from sklearn.model_selection import train_test_split\n",
    "from sklearn.linear_model import LinearRegression\n",
    "\n",
    "from datasets.raw_data_loader import CustomRawDataset\n",
    "from generics.configs import DataConfig\n",
    "from utils.evaluation_utis import score_kl_divergence"
   ]
  },
  {
   "cell_type": "code",
   "execution_count": 6,
   "metadata": {},
   "outputs": [],
   "source": [
    "basicConfig(level=INFO)\n",
    "logger = getLogger('main')\n",
    "config = DataConfig()"
   ]
  },
  {
   "cell_type": "code",
   "execution_count": 7,
   "metadata": {},
   "outputs": [
    {
     "name": "stderr",
     "output_type": "stream",
     "text": [
      "2024-02-12 12:10:30,362 - utils.general_utils - INFO - Processing and caching new dataset\n",
      "INFO:utils.general_utils:Processing and caching new dataset\n",
      "2024-02-12 12:10:30,504 - utils.general_utils - INFO - train DataFrame shape: (100, 15)\n",
      "INFO:utils.general_utils:train DataFrame shape: (100, 15)\n",
      "2024-02-12 12:10:30,505 - utils.general_utils - INFO - Labels: ['seizure_vote', 'lpd_vote', 'gpd_vote', 'lrda_vote', 'grda_vote', 'other_vote']\n",
      "INFO:utils.general_utils:Labels: ['seizure_vote', 'lpd_vote', 'gpd_vote', 'lrda_vote', 'grda_vote', 'other_vote']\n",
      "100%|██████████| 17300/17300 [00:02<00:00, 6272.43it/s]\n",
      "100it [00:02, 36.23it/s]\n",
      "2024-02-12 12:10:33,348 - utils.general_utils - INFO - Dataset cached at ./data/cache/CustomRawDataset_100_train.npz\n",
      "INFO:utils.general_utils:Dataset cached at ./data/cache/CustomRawDataset_100_train.npz\n"
     ]
    },
    {
     "name": "stdout",
     "output_type": "stream",
     "text": [
      "Dataset Summary:\n",
      "Mode: train\n",
      "Total Samples: 100\n",
      "Unique Patients: 100\n",
      "Unique EEGs: 100\n",
      "Unique Spectrograms: 100\n",
      "Label Distribution:\n",
      "seizure_vote    145\n",
      "lpd_vote         60\n",
      "gpd_vote         46\n",
      "lrda_vote        50\n",
      "grda_vote        57\n",
      "other_vote      258\n",
      "dtype: int64\n",
      "\n",
      "Vote Statistics:\n",
      "        seizure_vote  lpd_vote  gpd_vote  lrda_vote  grda_vote  other_vote\n",
      "mean        1.450000  0.600000  0.460000   0.500000   0.570000    2.580000\n",
      "median      0.000000  0.000000  0.000000   0.000000   0.000000    0.000000\n",
      "var         2.775253  4.525253  4.149899   1.141414   1.378889   25.114747\n",
      "Probabilities Loaded: 100\n",
      "Features Loaded: 100\n",
      "\n",
      "Configuration Summary:\n",
      "+---------------------+--------------------------------------------------------------------------------------------------------------------------------------+\n",
      "| Configuration       | Value                                                                                                                                |\n",
      "+---------------------+--------------------------------------------------------------------------------------------------------------------------------------+\n",
      "| EKG_FEAT            | EKG                                                                                                                                  |\n",
      "| FEATS               | [['Fp1', 'F7', 'T3', 'T5', 'O1'], ['Fp1', 'F3', 'C3', 'P3', 'O1'], ['Fp2', 'F8', 'T4', 'T6', 'O2'], ['Fp2', 'F4', 'C4', 'P4', 'O2']] |\n",
      "| NAMES               | ['LL', 'LP', 'RP', 'RR']                                                                                                             |\n",
      "| ONE_CROP_PER_PERSON | True                                                                                                                                 |\n",
      "| USE_WAVELET         | None                                                                                                                                 |\n",
      "+---------------------+--------------------------------------------------------------------------------------------------------------------------------------+\n"
     ]
    }
   ],
   "source": [
    "dataset = CustomRawDataset(config, subset_sample_count=100, mode=\"train\", cache=True)\n",
    "dataset.print_summary()"
   ]
  },
  {
   "cell_type": "code",
   "execution_count": 8,
   "metadata": {},
   "outputs": [],
   "source": [
    "x_train, x_test, y_train, y_test = train_test_split(dataset.features_per_sample, dataset.lbl_probabilities, test_size=0.33, random_state=42)\n",
    "y0, y1, y2, y3, y4, y5 = zip(*y_train)"
   ]
  },
  {
   "cell_type": "markdown",
   "metadata": {},
   "source": [
    "Let multiple separate models regress on one label each"
   ]
  },
  {
   "cell_type": "code",
   "execution_count": 9,
   "metadata": {},
   "outputs": [],
   "source": [
    "y_pred = np.zeros(y_test.shape)\n",
    "\n",
    "for i, lbl_group in enumerate([y0, y1, y2, y3, y4, y5]):\n",
    "\ty_train_group = lbl_group\n",
    "\tmodel = LinearRegression()\n",
    "\tmodel.fit(x_train, y_train_group)\n",
    "\ty_pred_group = model.predict(x_test)\n",
    "\ty_pred[:,i] = y_pred_group\n",
    "\n",
    "y_pred[y_pred < 0] = 0\n",
    "y_pred_probabilities = y_pred / np.sum(y_pred, axis=1)[:,None]"
   ]
  },
  {
   "cell_type": "code",
   "execution_count": 11,
   "metadata": {},
   "outputs": [
    {
     "data": {
      "text/plain": [
       "15.650261556623274"
      ]
     },
     "execution_count": 11,
     "metadata": {},
     "output_type": "execute_result"
    }
   ],
   "source": [
    "submission = pd.DataFrame(y_pred_probabilities, columns=dataset.label_cols)\n",
    "solution = pd.DataFrame(y_test, columns=dataset.label_cols)\n",
    "\n",
    "# Need to be added for score calculation, but are removed at the start of the function\n",
    "submission.insert(0, \"id\", range(len(submission)))\n",
    "solution.insert(0, \"id\", range(len(solution)))\n",
    "\n",
    "score_kl_divergence(solution=solution, submission=submission, row_id_column_name=\"id\")"
   ]
  }
 ],
 "metadata": {
  "kernelspec": {
   "display_name": "MLiP",
   "language": "python",
   "name": "python3"
  },
  "language_info": {
   "codemirror_mode": {
    "name": "ipython",
    "version": 3
   },
   "file_extension": ".py",
   "mimetype": "text/x-python",
   "name": "python",
   "nbconvert_exporter": "python",
   "pygments_lexer": "ipython3",
   "version": "3.11.7"
  }
 },
 "nbformat": 4,
 "nbformat_minor": 2
}
