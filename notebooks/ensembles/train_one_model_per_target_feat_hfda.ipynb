{
 "cells": [
  {
   "cell_type": "code",
   "execution_count": 1,
   "metadata": {},
   "outputs": [
    {
     "name": "stdout",
     "output_type": "stream",
     "text": [
      "/home/janneke/Documents/Master/Machine_Learning_in_Practice/HMS/MLiP_group_10_task1_HMS\n"
     ]
    }
   ],
   "source": [
    "# %cd ..\n",
    "%cd /home/janneke/Documents/Master/Machine_Learning_in_Practice/HMS/MLiP_group_10_task1_HMS/"
   ]
  },
  {
   "cell_type": "code",
   "execution_count": 2,
   "metadata": {},
   "outputs": [],
   "source": [
    "from copy import deepcopy\n",
    "\n",
    "import pandas as pd\n",
    "import numpy as np\n",
    "from logging import getLogger, basicConfig, INFO\n",
    "from sklearn.model_selection import train_test_split\n",
    "from sklearn.ensemble import GradientBoostingRegressor\n",
    "import pickle\n",
    "\n",
    "from datasets.raw_data_loader import CustomRawDataset\n",
    "from datasets.data_loader_configs import BaseDataConfig\n",
    "from utils.evaluation_utils import score_kl_divergence\n",
    "from utils.feature_extraction_utils import get_hfda"
   ]
  },
  {
   "cell_type": "code",
   "execution_count": 3,
   "metadata": {},
   "outputs": [],
   "source": [
    "basicConfig(level=INFO)\n",
    "logger = getLogger(\"main\")\n",
    "config = BaseDataConfig()"
   ]
  },
  {
   "cell_type": "code",
   "execution_count": 4,
   "metadata": {},
   "outputs": [],
   "source": [
    "feature_list = [\"hfda\"]\n",
    "normalize = True\n",
    "subset_sample_count = 5000"
   ]
  },
  {
   "cell_type": "code",
   "execution_count": 5,
   "metadata": {},
   "outputs": [],
   "source": [
    "import subprocess\n",
    "import re\n",
    "\n",
    "out = subprocess.run([\"lscpu\"], capture_output=True)\n",
    "num_cores = int(re.findall(r\"CPU\\(s\\):\\s+(?P<cores>[0-9]+)\\\\n\", str(out))[0])\n",
    "num_threads = int(num_cores * 0.75)"
   ]
  },
  {
   "cell_type": "code",
   "execution_count": 6,
   "metadata": {},
   "outputs": [
    {
     "name": "stderr",
     "output_type": "stream",
     "text": [
      "2024-02-26 12:06:25,245 - data_loader.log - INFO - Loading dataset from cache: ./data/cache/CustomRawDataset_5000_train_feats(hfda).npz\n",
      "INFO:data_loader.log:Loading dataset from cache: ./data/cache/CustomRawDataset_5000_train_feats(hfda).npz\n"
     ]
    },
    {
     "name": "stdout",
     "output_type": "stream",
     "text": [
      "Dataset Summary:\n",
      "Mode: train\n",
      "Total Samples: 1950\n",
      "Unique Patients: 1950\n",
      "Unique EEGs: 1950\n",
      "Unique Spectrograms: 1950\n",
      "Label Distribution:\n",
      "seizure_vote    2404\n",
      "lpd_vote         897\n",
      "gpd_vote        1086\n",
      "lrda_vote        906\n",
      "grda_vote       2006\n",
      "other_vote      5207\n",
      "dtype: int64\n",
      "\n",
      "Vote Statistics:\n",
      "        seizure_vote  lpd_vote  gpd_vote  lrda_vote  grda_vote  other_vote\n",
      "mean        1.232821   0.46000  0.556923   0.464615   1.028718    2.670256\n",
      "median      0.000000   0.00000  0.000000   0.000000   0.000000    0.000000\n",
      "var         2.792355   3.59178  4.609123   1.901005   3.309590   25.045138\n",
      "Probabilities Loaded: 1950\n",
      "Features Loaded: 1950\n",
      "\n",
      "Configuration Summary:\n",
      "+---------------------+--------------------------------------------------------------------------------------------------------------------------------------+\n",
      "| Configuration       | Value                                                                                                                                |\n",
      "+---------------------+--------------------------------------------------------------------------------------------------------------------------------------+\n",
      "| BATCH_SIZE_TEST     | 16                                                                                                                                   |\n",
      "| BATCH_SIZE_TRAIN    | 64                                                                                                                                   |\n",
      "| BATCH_SIZE_VAL      | 16                                                                                                                                   |\n",
      "| DROP_LAST           | True                                                                                                                                 |\n",
      "| EKG_FEAT            | EKG                                                                                                                                  |\n",
      "| FEATS               | [['Fp1', 'F7', 'T3', 'T5', 'O1'], ['Fp1', 'F3', 'C3', 'P3', 'O1'], ['Fp2', 'F8', 'T4', 'T6', 'O2'], ['Fp2', 'F4', 'C4', 'P4', 'O2']] |\n",
      "| NAME                | BaseDataConfig                                                                                                                       |\n",
      "| NAMES               | ['LL', 'LP', 'RP', 'RR']                                                                                                             |\n",
      "| NUM_WORKERS         | 0                                                                                                                                    |\n",
      "| ONE_CROP_PER_PERSON | True                                                                                                                                 |\n",
      "| PIN_MEMORY          | True                                                                                                                                 |\n",
      "| SHUFFLE_TRAIN       | True                                                                                                                                 |\n",
      "| SUBSET_SAMPLE_COUNT | 0                                                                                                                                    |\n",
      "| USE_WAVELET         | None                                                                                                                                 |\n",
      "| VAL_SPLIT_RATIO     | 0.2                                                                                                                                  |\n",
      "+---------------------+--------------------------------------------------------------------------------------------------------------------------------------+\n"
     ]
    }
   ],
   "source": [
    "dataset = CustomRawDataset(\n",
    "    config,\n",
    "    mode=\"train\",\n",
    "    cache=True,\n",
    "    subset_sample_count=subset_sample_count,\n",
    "    feature_list=feature_list,\n",
    "    num_threads=num_threads,\n",
    ")\n",
    "dataset.print_summary()"
   ]
  },
  {
   "cell_type": "code",
   "execution_count": 7,
   "metadata": {},
   "outputs": [],
   "source": [
    "if normalize:\n",
    "    num_channels = 19\n",
    "    num_features = int(dataset.features_per_sample.shape[1] / num_channels)\n",
    "    one_hot_len = len(dataset.config.NAMES)\n",
    "\n",
    "    normalized_features = np.zeros(dataset.features_per_sample.shape)\n",
    "    means = np.zeros(dataset.features_per_sample.shape[1])\n",
    "    stds = np.zeros(dataset.features_per_sample.shape[1])\n",
    "\n",
    "    for i in range(num_channels):\n",
    "        features = dataset.features_per_sample[\n",
    "            :, i * num_features : i * num_features + num_features - one_hot_len\n",
    "        ]\n",
    "\n",
    "        mean = np.mean(features, axis=0)\n",
    "        means[i * num_features : i * num_features + num_features - one_hot_len] = mean\n",
    "        std = np.std(features, axis=0)\n",
    "        stds[i * num_features : i * num_features + num_features - one_hot_len] = std\n",
    "\n",
    "        normalized_features[\n",
    "            :, i * num_features : i * num_features + num_features - one_hot_len\n",
    "        ] = (features - mean) / std\n",
    "\n",
    "        one_hot = dataset.features_per_sample[\n",
    "            :,\n",
    "            i * num_features\n",
    "            + num_features\n",
    "            - one_hot_len : i * num_features\n",
    "            + num_features,\n",
    "        ]\n",
    "        normalized_features[\n",
    "            :,\n",
    "            i * num_features\n",
    "            + num_features\n",
    "            - one_hot_len : i * num_features\n",
    "            + num_features,\n",
    "        ] = one_hot\n",
    "\n",
    "    dataset.features_per_sample = normalized_features\n",
    "else:\n",
    "    means = None\n",
    "    stds = None\n",
    "# dataset.features_per_sample[0]"
   ]
  },
  {
   "cell_type": "code",
   "execution_count": 8,
   "metadata": {},
   "outputs": [],
   "source": [
    "if subset_sample_count == 1:\n",
    "    x_test = x_train = dataset.features_per_sample\n",
    "    y_test = y_train = dataset.lbl_probabilities\n",
    "else:\n",
    "    x_train, x_test, y_train, y_test = train_test_split(\n",
    "        dataset.features_per_sample,\n",
    "        dataset.lbl_probabilities,\n",
    "        test_size=0.33,\n",
    "        random_state=42,\n",
    "    )\n",
    "y0, y1, y2, y3, y4, y5 = zip(*y_train)"
   ]
  },
  {
   "cell_type": "code",
   "execution_count": 9,
   "metadata": {},
   "outputs": [
    {
     "data": {
      "text/plain": [
       "(1306, 152)"
      ]
     },
     "execution_count": 9,
     "metadata": {},
     "output_type": "execute_result"
    }
   ],
   "source": [
    "x_train.shape"
   ]
  },
  {
   "cell_type": "markdown",
   "metadata": {},
   "source": [
    "Let multiple separate models regress on one label each\n"
   ]
  },
  {
   "cell_type": "code",
   "execution_count": 10,
   "metadata": {},
   "outputs": [
    {
     "name": "stdout",
     "output_type": "stream",
     "text": [
      "seizure_vote\n",
      "      Iter       Train Loss   Remaining Time \n",
      "         1           0.2089            1.21s\n",
      "         2           0.2023            1.20s\n",
      "         3           0.1967            1.18s\n",
      "         4           0.1919            1.15s\n",
      "         5           0.1882            1.13s\n",
      "         6           0.1844            1.11s\n",
      "         7           0.1808            1.10s\n",
      "         8           0.1777            1.11s\n",
      "         9           0.1751            1.09s\n",
      "        10           0.1727            1.05s\n",
      "        20           0.1543            0.72s\n",
      "        30           0.1413            0.47s\n",
      "        40           0.1322            0.24s\n",
      "        50           0.1232            0.00s\n",
      "lpd_vote\n",
      "      Iter       Train Loss   Remaining Time \n",
      "         1           0.0223            1.19s\n",
      "         2           0.0220            1.17s\n",
      "         3           0.0216            1.13s\n",
      "         4           0.0213            1.12s\n",
      "         5           0.0210            1.09s\n",
      "         6           0.0208            1.05s\n",
      "         7           0.0204            1.02s\n",
      "         8           0.0199            0.98s\n",
      "         9           0.0197            0.95s\n",
      "        10           0.0194            0.92s\n",
      "        20           0.0174            0.68s\n",
      "        30           0.0149            0.46s\n",
      "        40           0.0133            0.23s\n",
      "        50           0.0120            0.00s\n",
      "gpd_vote\n",
      "      Iter       Train Loss   Remaining Time \n",
      "         1           0.0294            1.05s\n",
      "         2           0.0283            1.03s\n",
      "         3           0.0273            1.01s\n",
      "         4           0.0263            0.99s\n",
      "         5           0.0256            0.96s\n",
      "         6           0.0248            0.94s\n",
      "         7           0.0243            0.92s\n",
      "         8           0.0237            0.90s\n",
      "         9           0.0231            0.88s\n",
      "        10           0.0226            0.86s\n",
      "        20           0.0188            0.65s\n",
      "        30           0.0164            0.44s\n",
      "        40           0.0145            0.22s\n",
      "        50           0.0129            0.00s\n",
      "lrda_vote\n",
      "      Iter       Train Loss   Remaining Time \n",
      "         1           0.0564            1.05s\n",
      "         2           0.0557            1.03s\n",
      "         3           0.0548            1.03s\n",
      "         4           0.0540            1.00s\n",
      "         5           0.0533            0.99s\n",
      "         6           0.0526            0.97s\n",
      "         7           0.0523            0.96s\n",
      "         8           0.0517            0.94s\n",
      "         9           0.0514            0.92s\n",
      "        10           0.0509            0.90s\n",
      "        20           0.0458            0.68s\n",
      "        30           0.0414            0.46s\n",
      "        40           0.0373            0.24s\n",
      "        50           0.0339            0.00s\n",
      "grda_vote\n",
      "      Iter       Train Loss   Remaining Time \n",
      "         1           0.1461            1.06s\n",
      "         2           0.1436            1.05s\n",
      "         3           0.1415            1.01s\n",
      "         4           0.1391            0.99s\n",
      "         5           0.1374            0.98s\n",
      "         6           0.1353            0.95s\n",
      "         7           0.1341            0.93s\n",
      "         8           0.1324            0.92s\n",
      "         9           0.1313            0.90s\n",
      "        10           0.1302            0.88s\n",
      "        20           0.1194            0.66s\n",
      "        30           0.1096            0.45s\n",
      "        40           0.1018            0.23s\n",
      "        50           0.0957            0.00s\n",
      "other_vote\n",
      "      Iter       Train Loss   Remaining Time \n",
      "         1           0.1385            1.09s\n",
      "         2           0.1366            1.07s\n",
      "         3           0.1350            1.05s\n",
      "         4           0.1333            1.03s\n",
      "         5           0.1318            1.00s\n",
      "         6           0.1306            0.98s\n",
      "         7           0.1293            0.96s\n",
      "         8           0.1284            0.94s\n",
      "         9           0.1273            0.91s\n",
      "        10           0.1263            0.89s\n",
      "        20           0.1163            0.66s\n",
      "        30           0.1074            0.44s\n",
      "        40           0.0979            0.22s\n",
      "        50           0.0914            0.00s\n"
     ]
    }
   ],
   "source": [
    "y_pred = np.zeros(y_test.shape)\n",
    "y_pred_train = np.zeros(y_train.shape)\n",
    "\n",
    "models = {\"means\": means, \"stds\": stds}\n",
    "for i, lbl_group in enumerate([y0, y1, y2, y3, y4, y5]):\n",
    "    print(dataset.label_cols[i])\n",
    "    y_train_group = lbl_group\n",
    "    clf = GradientBoostingRegressor(\n",
    "        n_estimators=50, learning_rate=0.1, max_depth=3, random_state=0, verbose=1\n",
    "    )\n",
    "    clf.fit(x_train, y_train_group)\n",
    "\n",
    "    y_pred_group_train = clf.predict(x_train)\n",
    "    y_pred_train[:, i] = y_pred_group_train\n",
    "\n",
    "    y_pred_group = clf.predict(x_test)\n",
    "    y_pred[:, i] = y_pred_group\n",
    "\n",
    "    models[lbl_group] = clf\n",
    "\n",
    "y_pred_train[y_pred_train < 0] = 0\n",
    "y_pred_train_probabilities = y_pred_train / np.sum(y_pred_train, axis=1)[:, None]\n",
    "\n",
    "y_pred[y_pred < 0] = 0\n",
    "y_pred_probabilities = y_pred / np.sum(y_pred, axis=1)[:, None]"
   ]
  },
  {
   "cell_type": "code",
   "execution_count": 11,
   "metadata": {},
   "outputs": [],
   "source": [
    "with open(\n",
    "    f\"checkpoints/other_models/ensemble_one_model_per_target_{subset_sample_count}_{'norm_' if normalize else ''}feats({'_'.join(sorted(feature_list))}).pickle\",\n",
    "    \"wb\",\n",
    ") as pickle_file:\n",
    "    pickle.dump(models, pickle_file)"
   ]
  },
  {
   "cell_type": "code",
   "execution_count": 12,
   "metadata": {},
   "outputs": [
    {
     "name": "stdout",
     "output_type": "stream",
     "text": [
      "Train score: 0.7862103661614818\n"
     ]
    }
   ],
   "source": [
    "submission = pd.DataFrame(y_pred_train_probabilities, columns=dataset.label_cols)\n",
    "solution = pd.DataFrame(y_train, columns=dataset.label_cols)\n",
    "\n",
    "# Need to be added for score calculation, but are removed at the start of the function\n",
    "submission.insert(0, \"id\", range(len(submission)))\n",
    "solution.insert(0, \"id\", range(len(solution)))\n",
    "\n",
    "score = score_kl_divergence(\n",
    "    solution=deepcopy(solution),\n",
    "    submission=deepcopy(submission),\n",
    "    row_id_column_name=\"id\",\n",
    ")\n",
    "print(f\"Train score: {score}\")"
   ]
  },
  {
   "cell_type": "code",
   "execution_count": 13,
   "metadata": {},
   "outputs": [
    {
     "name": "stdout",
     "output_type": "stream",
     "text": [
      "Test score: 1.2269557579546024\n"
     ]
    }
   ],
   "source": [
    "submission = pd.DataFrame(y_pred_probabilities, columns=dataset.label_cols)\n",
    "solution = pd.DataFrame(y_test, columns=dataset.label_cols)\n",
    "\n",
    "# Need to be added for score calculation, but are removed at the start of the function\n",
    "submission.insert(0, \"id\", range(len(submission)))\n",
    "solution.insert(0, \"id\", range(len(solution)))\n",
    "\n",
    "score = score_kl_divergence(\n",
    "    solution=deepcopy(solution),\n",
    "    submission=deepcopy(submission),\n",
    "    row_id_column_name=\"id\",\n",
    ")\n",
    "print(f\"Test score: {score}\")"
   ]
  },
  {
   "cell_type": "code",
   "execution_count": 14,
   "metadata": {},
   "outputs": [
    {
     "data": {
      "text/plain": [
       "1.7973253839737193"
      ]
     },
     "execution_count": 14,
     "metadata": {},
     "output_type": "execute_result"
    }
   ],
   "source": [
    "# Random (compared to test df size)\n",
    "random_pred = np.random.rand(submission.shape[0], submission.shape[1] - 1)\n",
    "random_pred[random_pred < 0] = 0\n",
    "random_pred_probabilities = random_pred / np.sum(random_pred, axis=1)[:, None]\n",
    "random_submission = pd.DataFrame(random_pred_probabilities, columns=dataset.label_cols)\n",
    "\n",
    "random_submission.insert(0, \"id\", range(len(random_submission)))\n",
    "\n",
    "score_kl_divergence(\n",
    "    solution=deepcopy(solution),\n",
    "    submission=deepcopy(random_submission),\n",
    "    row_id_column_name=\"id\",\n",
    ")"
   ]
  }
 ],
 "metadata": {
  "kernelspec": {
   "display_name": "MLiP",
   "language": "python",
   "name": "python3"
  },
  "language_info": {
   "codemirror_mode": {
    "name": "ipython",
    "version": 3
   },
   "file_extension": ".py",
   "mimetype": "text/x-python",
   "name": "python",
   "nbconvert_exporter": "python",
   "pygments_lexer": "ipython3",
   "version": "3.11.7"
  }
 },
 "nbformat": 4,
 "nbformat_minor": 2
}
