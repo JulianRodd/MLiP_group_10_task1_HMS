{
 "cells": [
  {
   "cell_type": "code",
   "execution_count": 1,
   "metadata": {},
   "outputs": [
    {
     "name": "stdout",
     "output_type": "stream",
     "text": [
      "/home/janneke/Documents/Master/Machine_Learning_in_Practice/HMS/MLiP_group_10_task1_HMS\n"
     ]
    }
   ],
   "source": [
    "# %cd ..\n",
    "%cd /home/janneke/Documents/Master/Machine_Learning_in_Practice/HMS/MLiP_group_10_task1_HMS/"
   ]
  },
  {
   "cell_type": "code",
   "execution_count": 2,
   "metadata": {},
   "outputs": [],
   "source": [
    "from copy import deepcopy\n",
    "\n",
    "import pandas as pd\n",
    "import numpy as np\n",
    "from logging import getLogger, basicConfig, INFO\n",
    "from sklearn.model_selection import train_test_split\n",
    "from sklearn.ensemble import GradientBoostingRegressor\n",
    "import pickle\n",
    "\n",
    "from datasets.raw_data_loader import CustomRawDataset\n",
    "from datasets.data_loader_configs import BaseDataConfig\n",
    "from utils.evaluation_utils import score_kl_divergence\n",
    "from utils.feature_extraction_utils import get_hfda"
   ]
  },
  {
   "cell_type": "code",
   "execution_count": 3,
   "metadata": {},
   "outputs": [],
   "source": [
    "basicConfig(level=INFO)\n",
    "logger = getLogger('main')\n",
    "config = BaseDataConfig()"
   ]
  },
  {
   "cell_type": "code",
   "execution_count": 4,
   "metadata": {},
   "outputs": [],
   "source": [
    "feature_list = [\"desc\", \"hfda\", \"psd\"]\n",
    "normalize = True"
   ]
  },
  {
   "cell_type": "code",
   "execution_count": 5,
   "metadata": {},
   "outputs": [
    {
     "name": "stderr",
     "output_type": "stream",
     "text": [
      "2024-02-23 16:24:16,547 - data_loader.log - INFO - Loading dataset from cache: ./data/cache/CustomRawDataset_1000_train_feats:desc_hfda_psd.npz\n",
      "INFO:data_loader.log:Loading dataset from cache: ./data/cache/CustomRawDataset_1000_train_feats:desc_hfda_psd.npz\n"
     ]
    },
    {
     "name": "stdout",
     "output_type": "stream",
     "text": [
      "Dataset Summary:\n",
      "Mode: train\n",
      "Total Samples: 1000\n",
      "Unique Patients: 1000\n",
      "Unique EEGs: 1000\n",
      "Unique Spectrograms: 1000\n",
      "Label Distribution:\n",
      "seizure_vote    1246\n",
      "lpd_vote         479\n",
      "gpd_vote         610\n",
      "lrda_vote        438\n",
      "grda_vote       1053\n",
      "other_vote      2733\n",
      "dtype: int64\n",
      "\n",
      "Vote Statistics:\n",
      "        seizure_vote  lpd_vote  gpd_vote  lrda_vote  grda_vote  other_vote\n",
      "mean         1.24600  0.479000  0.610000   0.438000   1.053000    2.733000\n",
      "median       0.00000  0.000000  0.000000   0.000000   0.000000    0.000000\n",
      "var          2.70619  4.059619  5.531431   1.585742   3.459651   26.193905\n",
      "Probabilities Loaded: 1000\n",
      "Features Loaded: 1000\n",
      "\n",
      "Configuration Summary:\n",
      "+---------------------+--------------------------------------------------------------------------------------------------------------------------------------+\n",
      "| Configuration       | Value                                                                                                                                |\n",
      "+---------------------+--------------------------------------------------------------------------------------------------------------------------------------+\n",
      "| BATCH_SIZE_TEST     | 16                                                                                                                                   |\n",
      "| BATCH_SIZE_TRAIN    | 64                                                                                                                                   |\n",
      "| BATCH_SIZE_VAL      | 16                                                                                                                                   |\n",
      "| DROP_LAST           | True                                                                                                                                 |\n",
      "| EKG_FEAT            | EKG                                                                                                                                  |\n",
      "| FEATS               | [['Fp1', 'F7', 'T3', 'T5', 'O1'], ['Fp1', 'F3', 'C3', 'P3', 'O1'], ['Fp2', 'F8', 'T4', 'T6', 'O2'], ['Fp2', 'F4', 'C4', 'P4', 'O2']] |\n",
      "| NAME                | BaseDataConfig                                                                                                                       |\n",
      "| NAMES               | ['LL', 'LP', 'RP', 'RR']                                                                                                             |\n",
      "| NUM_WORKERS         | 0                                                                                                                                    |\n",
      "| ONE_CROP_PER_PERSON | True                                                                                                                                 |\n",
      "| PIN_MEMORY          | True                                                                                                                                 |\n",
      "| SHUFFLE_TRAIN       | True                                                                                                                                 |\n",
      "| SUBSET_SAMPLE_COUNT | 0                                                                                                                                    |\n",
      "| USE_WAVELET         | None                                                                                                                                 |\n",
      "| VAL_SPLIT_RATIO     | 0.2                                                                                                                                  |\n",
      "+---------------------+--------------------------------------------------------------------------------------------------------------------------------------+\n"
     ]
    }
   ],
   "source": [
    "subset_sample_count = 1000\n",
    "dataset = CustomRawDataset(config, mode=\"train\", cache=True, subset_sample_count=subset_sample_count, feature_list=feature_list)\n",
    "dataset.print_summary()"
   ]
  },
  {
   "cell_type": "code",
   "execution_count": 6,
   "metadata": {},
   "outputs": [],
   "source": [
    "if normalize:\n",
    "\tnum_channels = 19\n",
    "\tnum_features = int(dataset.features_per_sample.shape[1] / num_channels)\n",
    "\tone_hot_len = len(dataset.config.NAMES)\n",
    "\n",
    "\tnormalized_features = np.zeros(dataset.features_per_sample.shape)\n",
    "\tmeans = np.zeros(dataset.features_per_sample.shape[1])\n",
    "\tstds = np.zeros(dataset.features_per_sample.shape[1])\n",
    "\n",
    "\tfor i in range(num_channels):\n",
    "\t\tfeatures = dataset.features_per_sample[:,i * num_features : i * num_features + num_features - one_hot_len]\n",
    "\t\t\n",
    "\t\tmean = np.mean(features, axis=0)\n",
    "\t\tmeans[i * num_features : i * num_features + num_features - one_hot_len] = mean\n",
    "\t\tstd = np.std(features, axis=0)\n",
    "\t\tstds[i * num_features : i * num_features + num_features - one_hot_len] = std\n",
    "\n",
    "\t\tnormalized_features[:,i * num_features : i * num_features + num_features - one_hot_len] = (features - mean) / std\n",
    "\t\t\n",
    "\t\tone_hot = dataset.features_per_sample[:,i * num_features + num_features - one_hot_len: i * num_features + num_features]\n",
    "\t\tnormalized_features[:,i * num_features + num_features - one_hot_len : i * num_features + num_features] = one_hot\n",
    "\n",
    "\tdataset.features_per_sample = normalized_features\n",
    "else:\n",
    "\tmeans = None\n",
    "\tstds = None\n",
    "# dataset.features_per_sample[0]"
   ]
  },
  {
   "cell_type": "code",
   "execution_count": 7,
   "metadata": {},
   "outputs": [],
   "source": [
    "if subset_sample_count == 1:\n",
    "\tx_test = x_train = dataset.features_per_sample\n",
    "\ty_test = y_train = dataset.lbl_probabilities\n",
    "else:\n",
    "\tx_train, x_test, y_train, y_test = train_test_split(dataset.features_per_sample, dataset.lbl_probabilities, test_size=0.33, random_state=42)\n",
    "y0, y1, y2, y3, y4, y5 = zip(*y_train)"
   ]
  },
  {
   "cell_type": "markdown",
   "metadata": {},
   "source": [
    "Let multiple separate models regress on one label each"
   ]
  },
  {
   "cell_type": "code",
   "execution_count": 8,
   "metadata": {},
   "outputs": [
    {
     "name": "stdout",
     "output_type": "stream",
     "text": [
      "seizure_vote\n",
      "      Iter       Train Loss   Remaining Time \n",
      "         1           0.2019            2.33s\n",
      "         2           0.1914            2.27s\n",
      "         3           0.1824            2.20s\n",
      "         4           0.1744            2.12s\n",
      "         5           0.1674            2.05s\n",
      "         6           0.1608            1.99s\n",
      "         7           0.1553            1.93s\n",
      "         8           0.1497            1.89s\n",
      "         9           0.1449            1.85s\n",
      "        10           0.1409            1.81s\n",
      "        20           0.1093            1.34s\n",
      "        30           0.0937            0.90s\n",
      "        40           0.0813            0.45s\n",
      "        50           0.0701            0.00s\n",
      "lpd_vote\n",
      "      Iter       Train Loss   Remaining Time \n",
      "         1           0.0211            2.20s\n",
      "         2           0.0206            2.21s\n",
      "         3           0.0192            2.11s\n",
      "         4           0.0186            2.05s\n",
      "         5           0.0174            2.00s\n",
      "         6           0.0171            1.96s\n",
      "         7           0.0165            1.90s\n",
      "         8           0.0156            1.84s\n",
      "         9           0.0154            1.81s\n",
      "        10           0.0146            1.76s\n",
      "        20           0.0100            1.32s\n",
      "        30           0.0079            0.89s\n",
      "        40           0.0063            0.45s\n",
      "        50           0.0049            0.00s\n",
      "gpd_vote\n",
      "      Iter       Train Loss   Remaining Time \n",
      "         1           0.0273            2.25s\n",
      "         2           0.0262            2.24s\n",
      "         3           0.0254            2.19s\n",
      "         4           0.0237            2.13s\n",
      "         5           0.0224            2.07s\n",
      "         6           0.0219            2.03s\n",
      "         7           0.0210            1.98s\n",
      "         8           0.0200            1.94s\n",
      "         9           0.0191            1.90s\n",
      "        10           0.0181            1.84s\n",
      "        20           0.0131            1.35s\n",
      "        30           0.0098            0.91s\n",
      "        40           0.0076            0.45s\n",
      "        50           0.0061            0.00s\n",
      "lrda_vote\n",
      "      Iter       Train Loss   Remaining Time \n",
      "         1           0.0434            2.20s\n",
      "         2           0.0419            2.14s\n",
      "         3           0.0407            2.06s\n",
      "         4           0.0393            2.00s\n",
      "         5           0.0385            1.97s\n",
      "         6           0.0373            1.93s\n",
      "         7           0.0366            1.89s\n",
      "         8           0.0360            1.87s\n",
      "         9           0.0350            1.81s\n",
      "        10           0.0335            1.76s\n",
      "        20           0.0256            1.33s\n",
      "        30           0.0212            0.89s\n",
      "        40           0.0178            0.45s\n",
      "        50           0.0147            0.00s\n",
      "grda_vote\n",
      "      Iter       Train Loss   Remaining Time \n",
      "         1           0.1457            2.05s\n",
      "         2           0.1407            2.01s\n",
      "         3           0.1355            1.98s\n",
      "         4           0.1304            1.92s\n",
      "         5           0.1264            1.88s\n",
      "         6           0.1216            1.89s\n",
      "         7           0.1176            1.83s\n",
      "         8           0.1135            1.78s\n",
      "         9           0.1100            1.74s\n",
      "        10           0.1063            1.69s\n",
      "        20           0.0817            1.27s\n",
      "        30           0.0676            0.85s\n",
      "        40           0.0567            0.43s\n",
      "        50           0.0482            0.00s\n",
      "other_vote\n",
      "      Iter       Train Loss   Remaining Time \n",
      "         1           0.1342            2.11s\n",
      "         2           0.1298            2.08s\n",
      "         3           0.1255            2.03s\n",
      "         4           0.1220            1.97s\n",
      "         5           0.1186            1.95s\n",
      "         6           0.1155            1.91s\n",
      "         7           0.1125            1.86s\n",
      "         8           0.1097            1.82s\n",
      "         9           0.1068            1.77s\n",
      "        10           0.1044            1.73s\n",
      "        20           0.0817            1.30s\n",
      "        30           0.0689            0.86s\n",
      "        40           0.0594            0.43s\n",
      "        50           0.0524            0.00s\n"
     ]
    }
   ],
   "source": [
    "y_pred = np.zeros(y_test.shape)\n",
    "y_pred_train = np.zeros(y_train.shape)\n",
    "\n",
    "models = {\"means\": means, \"stds\": stds}\n",
    "for i, lbl_group in enumerate([y0, y1, y2, y3, y4, y5]):\n",
    "\tprint(dataset.label_cols[i])\n",
    "\ty_train_group = lbl_group\n",
    "\tclf = GradientBoostingRegressor(n_estimators=50, learning_rate=0.1, max_depth=3, random_state=0, verbose=1)\n",
    "\tclf.fit(x_train, y_train_group)\n",
    "\t\n",
    "\ty_pred_group_train = clf.predict(x_train)\n",
    "\ty_pred_train[:,i] = y_pred_group_train\n",
    "\t\n",
    "\ty_pred_group = clf.predict(x_test)\n",
    "\ty_pred[:,i] = y_pred_group\n",
    "\t\n",
    "\tmodels[lbl_group] = clf\n",
    "\n",
    "y_pred_train[y_pred_train < 0] = 0\n",
    "y_pred_train_probabilities = y_pred_train / np.sum(y_pred_train, axis=1)[:,None]\n",
    "\n",
    "y_pred[y_pred < 0] = 0\n",
    "y_pred_probabilities = y_pred / np.sum(y_pred, axis=1)[:,None]"
   ]
  },
  {
   "cell_type": "code",
   "execution_count": 9,
   "metadata": {},
   "outputs": [],
   "source": [
    "with open(f\"checkpoints/other_models/ensemble_one_model_per_target_{subset_sample_count}_{'norm_' if normalize else ''}feats:{'_'.join(sorted(feature_list))}.pickle\", \"wb\") as pickle_file:\n",
    "\tpickle.dump(models, pickle_file)"
   ]
  },
  {
   "cell_type": "code",
   "execution_count": 10,
   "metadata": {},
   "outputs": [
    {
     "name": "stdout",
     "output_type": "stream",
     "text": [
      "Train score: 0.47615149962474307\n"
     ]
    }
   ],
   "source": [
    "submission = pd.DataFrame(y_pred_train_probabilities, columns=dataset.label_cols)\n",
    "solution = pd.DataFrame(y_train, columns=dataset.label_cols)\n",
    "\n",
    "# Need to be added for score calculation, but are removed at the start of the function\n",
    "submission.insert(0, \"id\", range(len(submission)))\n",
    "solution.insert(0, \"id\", range(len(solution)))\n",
    "\n",
    "score = score_kl_divergence(solution=deepcopy(solution), submission=deepcopy(submission), row_id_column_name=\"id\")\n",
    "print(f\"Train score: {score}\")"
   ]
  },
  {
   "cell_type": "code",
   "execution_count": 11,
   "metadata": {},
   "outputs": [
    {
     "name": "stdout",
     "output_type": "stream",
     "text": [
      "Test score: 1.2474992408719408\n"
     ]
    }
   ],
   "source": [
    "submission = pd.DataFrame(y_pred_probabilities, columns=dataset.label_cols)\n",
    "solution = pd.DataFrame(y_test, columns=dataset.label_cols)\n",
    "\n",
    "# Need to be added for score calculation, but are removed at the start of the function\n",
    "submission.insert(0, \"id\", range(len(submission)))\n",
    "solution.insert(0, \"id\", range(len(solution)))\n",
    "\n",
    "score = score_kl_divergence(solution=deepcopy(solution), submission=deepcopy(submission), row_id_column_name=\"id\")\n",
    "print(f\"Test score: {score}\")"
   ]
  },
  {
   "cell_type": "code",
   "execution_count": 12,
   "metadata": {},
   "outputs": [
    {
     "data": {
      "text/plain": [
       "0.205705548549977"
      ]
     },
     "execution_count": 12,
     "metadata": {},
     "output_type": "execute_result"
    }
   ],
   "source": [
    "# Random\n",
    "random_pred = np.random.rand(33, 6)\n",
    "random_pred[random_pred < 0] = 0\n",
    "random_pred_probabilities = random_pred / np.sum(random_pred, axis=1)[:,None]\n",
    "random_submission = pd.DataFrame(random_pred_probabilities, columns=dataset.label_cols)\n",
    "\n",
    "random_submission.insert(0, \"id\", range(len(random_submission)))\n",
    "\n",
    "score_kl_divergence(solution=deepcopy(solution), submission=deepcopy(random_submission), row_id_column_name=\"id\")"
   ]
  }
 ],
 "metadata": {
  "kernelspec": {
   "display_name": "MLiP",
   "language": "python",
   "name": "python3"
  },
  "language_info": {
   "codemirror_mode": {
    "name": "ipython",
    "version": 3
   },
   "file_extension": ".py",
   "mimetype": "text/x-python",
   "name": "python",
   "nbconvert_exporter": "python",
   "pygments_lexer": "ipython3",
   "version": "3.11.7"
  }
 },
 "nbformat": 4,
 "nbformat_minor": 2
}
