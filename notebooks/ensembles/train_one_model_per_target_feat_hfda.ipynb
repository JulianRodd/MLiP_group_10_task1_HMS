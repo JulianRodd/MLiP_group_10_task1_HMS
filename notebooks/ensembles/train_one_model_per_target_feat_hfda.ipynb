{
 "cells": [
  {
   "cell_type": "code",
   "execution_count": 1,
   "metadata": {},
   "outputs": [
    {
     "name": "stdout",
     "output_type": "stream",
     "text": [
      "/home/janneke/Documents/Master/Machine_Learning_in_Practice/HMS/MLiP_group_10_task1_HMS\n"
     ]
    }
   ],
   "source": [
    "# %cd ..\n",
    "%cd /home/janneke/Documents/Master/Machine_Learning_in_Practice/HMS/MLiP_group_10_task1_HMS/"
   ]
  },
  {
   "cell_type": "code",
   "execution_count": 2,
   "metadata": {},
   "outputs": [],
   "source": [
    "from copy import deepcopy\n",
    "\n",
    "import pandas as pd\n",
    "import numpy as np\n",
    "from logging import getLogger, basicConfig, INFO\n",
    "from sklearn.model_selection import train_test_split\n",
    "from sklearn.ensemble import GradientBoostingRegressor\n",
    "import pickle\n",
    "\n",
    "from datasets.raw_data_loader import CustomRawDataset\n",
    "from datasets.data_loader_configs import BaseDataConfig\n",
    "from utils.evaluation_utils import score_kl_divergence\n",
    "from utils.feature_extraction_utils import get_hfda"
   ]
  },
  {
   "cell_type": "code",
   "execution_count": 3,
   "metadata": {},
   "outputs": [],
   "source": [
    "basicConfig(level=INFO)\n",
    "logger = getLogger('main')\n",
    "config = BaseDataConfig()"
   ]
  },
  {
   "cell_type": "code",
   "execution_count": 4,
   "metadata": {},
   "outputs": [],
   "source": [
    "feature_list = [\"psd\"]\n",
    "normalize = True"
   ]
  },
  {
   "cell_type": "code",
   "execution_count": 5,
   "metadata": {},
   "outputs": [],
   "source": [
    "import subprocess\n",
    "import re\n",
    "out = subprocess.run([\"lscpu\"], capture_output=True) \n",
    "num_cores = int(re.findall(r\"CPU\\(s\\):\\s+(?P<cores>[0-9]+)\\\\n\", str(out))[0])\n",
    "num_threads = int(num_cores * 0.75)"
   ]
  },
  {
   "cell_type": "code",
   "execution_count": 6,
   "metadata": {},
   "outputs": [
    {
     "name": "stderr",
     "output_type": "stream",
     "text": [
      "2024-02-24 15:00:43,577 - data_loader.log - INFO - Loading dataset from cache: ./data/cache/CustomRawDataset_5000_train_feats(psd).npz\n",
      "INFO:data_loader.log:Loading dataset from cache: ./data/cache/CustomRawDataset_5000_train_feats(psd).npz\n"
     ]
    },
    {
     "name": "stdout",
     "output_type": "stream",
     "text": [
      "Dataset Summary:\n",
      "Mode: train\n",
      "Total Samples: 1950\n",
      "Unique Patients: 1950\n",
      "Unique EEGs: 1950\n",
      "Unique Spectrograms: 1950\n",
      "Label Distribution:\n",
      "seizure_vote    2404\n",
      "lpd_vote         897\n",
      "gpd_vote        1086\n",
      "lrda_vote        906\n",
      "grda_vote       2006\n",
      "other_vote      5207\n",
      "dtype: int64\n",
      "\n",
      "Vote Statistics:\n",
      "        seizure_vote  lpd_vote  gpd_vote  lrda_vote  grda_vote  other_vote\n",
      "mean        1.232821   0.46000  0.556923   0.464615   1.028718    2.670256\n",
      "median      0.000000   0.00000  0.000000   0.000000   0.000000    0.000000\n",
      "var         2.792355   3.59178  4.609123   1.901005   3.309590   25.045138\n",
      "Probabilities Loaded: 1950\n",
      "Features Loaded: 1950\n",
      "\n",
      "Configuration Summary:\n",
      "+---------------------+--------------------------------------------------------------------------------------------------------------------------------------+\n",
      "| Configuration       | Value                                                                                                                                |\n",
      "+---------------------+--------------------------------------------------------------------------------------------------------------------------------------+\n",
      "| BATCH_SIZE_TEST     | 16                                                                                                                                   |\n",
      "| BATCH_SIZE_TRAIN    | 64                                                                                                                                   |\n",
      "| BATCH_SIZE_VAL      | 16                                                                                                                                   |\n",
      "| DROP_LAST           | True                                                                                                                                 |\n",
      "| EKG_FEAT            | EKG                                                                                                                                  |\n",
      "| FEATS               | [['Fp1', 'F7', 'T3', 'T5', 'O1'], ['Fp1', 'F3', 'C3', 'P3', 'O1'], ['Fp2', 'F8', 'T4', 'T6', 'O2'], ['Fp2', 'F4', 'C4', 'P4', 'O2']] |\n",
      "| NAME                | BaseDataConfig                                                                                                                       |\n",
      "| NAMES               | ['LL', 'LP', 'RP', 'RR']                                                                                                             |\n",
      "| NUM_WORKERS         | 0                                                                                                                                    |\n",
      "| ONE_CROP_PER_PERSON | True                                                                                                                                 |\n",
      "| PIN_MEMORY          | True                                                                                                                                 |\n",
      "| SHUFFLE_TRAIN       | True                                                                                                                                 |\n",
      "| SUBSET_SAMPLE_COUNT | 0                                                                                                                                    |\n",
      "| USE_WAVELET         | None                                                                                                                                 |\n",
      "| VAL_SPLIT_RATIO     | 0.2                                                                                                                                  |\n",
      "+---------------------+--------------------------------------------------------------------------------------------------------------------------------------+\n"
     ]
    }
   ],
   "source": [
    "subset_sample_count = 5000\n",
    "dataset = CustomRawDataset(config, mode=\"train\", cache=True, subset_sample_count=subset_sample_count, feature_list=feature_list, num_threads=num_threads)\n",
    "dataset.print_summary()"
   ]
  },
  {
   "cell_type": "code",
   "execution_count": 7,
   "metadata": {},
   "outputs": [],
   "source": [
    "if normalize:\n",
    "\tnum_channels = 19\n",
    "\tnum_features = int(dataset.features_per_sample.shape[1] / num_channels)\n",
    "\tone_hot_len = len(dataset.config.NAMES)\n",
    "\n",
    "\tnormalized_features = np.zeros(dataset.features_per_sample.shape)\n",
    "\tmeans = np.zeros(dataset.features_per_sample.shape[1])\n",
    "\tstds = np.zeros(dataset.features_per_sample.shape[1])\n",
    "\n",
    "\tfor i in range(num_channels):\n",
    "\t\tfeatures = dataset.features_per_sample[:,i * num_features : i * num_features + num_features - one_hot_len]\n",
    "\t\t\n",
    "\t\tmean = np.mean(features, axis=0)\n",
    "\t\tmeans[i * num_features : i * num_features + num_features - one_hot_len] = mean\n",
    "\t\tstd = np.std(features, axis=0)\n",
    "\t\tstds[i * num_features : i * num_features + num_features - one_hot_len] = std\n",
    "\n",
    "\t\tnormalized_features[:,i * num_features : i * num_features + num_features - one_hot_len] = (features - mean) / std\n",
    "\t\t\n",
    "\t\tone_hot = dataset.features_per_sample[:,i * num_features + num_features - one_hot_len: i * num_features + num_features]\n",
    "\t\tnormalized_features[:,i * num_features + num_features - one_hot_len : i * num_features + num_features] = one_hot\n",
    "\n",
    "\tdataset.features_per_sample = normalized_features\n",
    "else:\n",
    "\tmeans = None\n",
    "\tstds = None\n",
    "# dataset.features_per_sample[0]"
   ]
  },
  {
   "cell_type": "code",
   "execution_count": 8,
   "metadata": {},
   "outputs": [],
   "source": [
    "if subset_sample_count == 1:\n",
    "\tx_test = x_train = dataset.features_per_sample\n",
    "\ty_test = y_train = dataset.lbl_probabilities\n",
    "else:\n",
    "\tx_train, x_test, y_train, y_test = train_test_split(dataset.features_per_sample, dataset.lbl_probabilities, test_size=0.33, random_state=42)\n",
    "y0, y1, y2, y3, y4, y5 = zip(*y_train)"
   ]
  },
  {
   "cell_type": "markdown",
   "metadata": {},
   "source": [
    "Let multiple separate models regress on one label each"
   ]
  },
  {
   "cell_type": "code",
   "execution_count": 21,
   "metadata": {},
   "outputs": [
    {
     "name": "stdout",
     "output_type": "stream",
     "text": [
      "seizure_vote\n",
      "      Iter       Train Loss   Remaining Time \n",
      "         1           0.2094            0.96s\n",
      "         2           0.2041            0.95s\n",
      "         3           0.1992            0.93s\n",
      "         4           0.1958            0.91s\n",
      "         5           0.1923            0.89s\n",
      "         6           0.1894            0.87s\n",
      "         7           0.1864            0.85s\n",
      "         8           0.1832            0.82s\n",
      "         9           0.1811            0.80s\n",
      "        10           0.1785            0.78s\n",
      "        20           0.1611            0.60s\n",
      "        30           0.1500            0.40s\n",
      "        40           0.1402            0.20s\n",
      "        50           0.1331            0.00s\n",
      "lpd_vote\n",
      "      Iter       Train Loss   Remaining Time \n",
      "         1           0.0225            0.99s\n",
      "         2           0.0222            0.97s\n",
      "         3           0.0219            0.96s\n",
      "         4           0.0217            0.95s\n",
      "         5           0.0215            0.93s\n",
      "         6           0.0212            0.90s\n",
      "         7           0.0209            0.88s\n",
      "         8           0.0206            0.86s\n",
      "         9           0.0202            0.84s\n",
      "        10           0.0200            0.82s\n",
      "        20           0.0171            0.61s\n",
      "        30           0.0146            0.41s\n",
      "        40           0.0128            0.20s\n",
      "        50           0.0111            0.00s\n",
      "gpd_vote\n",
      "      Iter       Train Loss   Remaining Time \n",
      "         1           0.0302            1.02s\n",
      "         2           0.0298            0.99s\n",
      "         3           0.0295            0.96s\n",
      "         4           0.0293            0.94s\n",
      "         5           0.0289            0.92s\n",
      "         6           0.0287            0.90s\n",
      "         7           0.0285            0.88s\n",
      "         8           0.0279            0.85s\n",
      "         9           0.0274            0.83s\n",
      "        10           0.0272            0.81s\n",
      "        20           0.0235            0.60s\n",
      "        30           0.0206            0.40s\n",
      "        40           0.0180            0.20s\n",
      "        50           0.0161            0.00s\n",
      "lrda_vote\n",
      "      Iter       Train Loss   Remaining Time \n",
      "         1           0.0567            0.95s\n",
      "         2           0.0561            0.94s\n",
      "         3           0.0552            0.92s\n",
      "         4           0.0547            0.90s\n",
      "         5           0.0543            0.89s\n",
      "         6           0.0535            0.87s\n",
      "         7           0.0528            0.85s\n",
      "         8           0.0521            0.83s\n",
      "         9           0.0515            0.82s\n",
      "        10           0.0503            0.80s\n",
      "        20           0.0452            0.60s\n",
      "        30           0.0411            0.40s\n",
      "        40           0.0368            0.20s\n",
      "        50           0.0335            0.00s\n",
      "grda_vote\n",
      "      Iter       Train Loss   Remaining Time \n",
      "         1           0.1458            0.97s\n",
      "         2           0.1429            0.94s\n",
      "         3           0.1404            0.92s\n",
      "         4           0.1376            0.90s\n",
      "         5           0.1353            0.88s\n",
      "         6           0.1332            0.86s\n",
      "         7           0.1316            0.84s\n",
      "         8           0.1298            0.82s\n",
      "         9           0.1282            0.80s\n",
      "        10           0.1264            0.78s\n",
      "        20           0.1144            0.62s\n",
      "        30           0.1063            0.41s\n",
      "        40           0.0986            0.20s\n",
      "        50           0.0911            0.00s\n",
      "other_vote\n",
      "      Iter       Train Loss   Remaining Time \n",
      "         1           0.1386            1.02s\n",
      "         2           0.1369            1.00s\n",
      "         3           0.1353            0.96s\n",
      "         4           0.1342            0.94s\n",
      "         5           0.1330            0.92s\n",
      "         6           0.1314            0.89s\n",
      "         7           0.1304            0.87s\n",
      "         8           0.1291            0.85s\n",
      "         9           0.1276            0.83s\n",
      "        10           0.1264            0.81s\n",
      "        20           0.1183            0.60s\n",
      "        30           0.1096            0.40s\n",
      "        40           0.1022            0.20s\n",
      "        50           0.0962            0.00s\n"
     ]
    }
   ],
   "source": [
    "y_pred = np.zeros(y_test.shape)\n",
    "y_pred_train = np.zeros(y_train.shape)\n",
    "\n",
    "models = {\"means\": means, \"stds\": stds}\n",
    "for i, lbl_group in enumerate([y0, y1, y2, y3, y4, y5]):\n",
    "\tprint(dataset.label_cols[i])\n",
    "\ty_train_group = lbl_group\n",
    "\tclf = GradientBoostingRegressor(n_estimators=50, learning_rate=0.1, max_depth=3, random_state=0, verbose=1)\n",
    "\tclf.fit(x_train, y_train_group)\n",
    "\t\n",
    "\ty_pred_group_train = clf.predict(x_train)\n",
    "\ty_pred_train[:,i] = y_pred_group_train\n",
    "\t\n",
    "\ty_pred_group = clf.predict(x_test)\n",
    "\ty_pred[:,i] = y_pred_group\n",
    "\t\n",
    "\tmodels[lbl_group] = clf\n",
    "\n",
    "y_pred_train[y_pred_train < 0] = 0\n",
    "y_pred_train_probabilities = y_pred_train / np.sum(y_pred_train, axis=1)[:,None]\n",
    "\n",
    "y_pred[y_pred < 0] = 0\n",
    "y_pred_probabilities = y_pred / np.sum(y_pred, axis=1)[:,None]"
   ]
  },
  {
   "cell_type": "code",
   "execution_count": 22,
   "metadata": {},
   "outputs": [],
   "source": [
    "with open(f\"checkpoints/other_models/ensemble_one_model_per_target_{subset_sample_count}_{'norm_' if normalize else ''}feats({'_'.join(sorted(feature_list))}).pickle\", \"wb\") as pickle_file:\n",
    "\tpickle.dump(models, pickle_file)"
   ]
  },
  {
   "cell_type": "code",
   "execution_count": 23,
   "metadata": {},
   "outputs": [
    {
     "name": "stdout",
     "output_type": "stream",
     "text": [
      "Train score: 0.8047813917658148\n"
     ]
    }
   ],
   "source": [
    "submission = pd.DataFrame(y_pred_train_probabilities, columns=dataset.label_cols)\n",
    "solution = pd.DataFrame(y_train, columns=dataset.label_cols)\n",
    "\n",
    "# Need to be added for score calculation, but are removed at the start of the function\n",
    "submission.insert(0, \"id\", range(len(submission)))\n",
    "solution.insert(0, \"id\", range(len(solution)))\n",
    "\n",
    "score = score_kl_divergence(solution=deepcopy(solution), submission=deepcopy(submission), row_id_column_name=\"id\")\n",
    "print(f\"Train score: {score}\")"
   ]
  },
  {
   "cell_type": "code",
   "execution_count": 24,
   "metadata": {},
   "outputs": [
    {
     "name": "stdout",
     "output_type": "stream",
     "text": [
      "Test score: 1.2997095566273134\n"
     ]
    }
   ],
   "source": [
    "submission = pd.DataFrame(y_pred_probabilities, columns=dataset.label_cols)\n",
    "solution = pd.DataFrame(y_test, columns=dataset.label_cols)\n",
    "\n",
    "# Need to be added for score calculation, but are removed at the start of the function\n",
    "submission.insert(0, \"id\", range(len(submission)))\n",
    "solution.insert(0, \"id\", range(len(solution)))\n",
    "\n",
    "score = score_kl_divergence(solution=deepcopy(solution), submission=deepcopy(submission), row_id_column_name=\"id\")\n",
    "print(f\"Test score: {score}\")"
   ]
  },
  {
   "cell_type": "code",
   "execution_count": 25,
   "metadata": {},
   "outputs": [
    {
     "data": {
      "text/plain": [
       "1.8237684591365666"
      ]
     },
     "execution_count": 25,
     "metadata": {},
     "output_type": "execute_result"
    }
   ],
   "source": [
    "# Random (compared to test df size)\n",
    "random_pred = np.random.rand(submission.shape[0], submission.shape[1]-1)\n",
    "random_pred[random_pred < 0] = 0\n",
    "random_pred_probabilities = random_pred / np.sum(random_pred, axis=1)[:,None]\n",
    "random_submission = pd.DataFrame(random_pred_probabilities, columns=dataset.label_cols)\n",
    "\n",
    "random_submission.insert(0, \"id\", range(len(random_submission)))\n",
    "\n",
    "score_kl_divergence(solution=deepcopy(solution), submission=deepcopy(random_submission), row_id_column_name=\"id\")"
   ]
  }
 ],
 "metadata": {
  "kernelspec": {
   "display_name": "MLiP",
   "language": "python",
   "name": "python3"
  },
  "language_info": {
   "codemirror_mode": {
    "name": "ipython",
    "version": 3
   },
   "file_extension": ".py",
   "mimetype": "text/x-python",
   "name": "python",
   "nbconvert_exporter": "python",
   "pygments_lexer": "ipython3",
   "version": "3.11.7"
  }
 },
 "nbformat": 4,
 "nbformat_minor": 2
}
