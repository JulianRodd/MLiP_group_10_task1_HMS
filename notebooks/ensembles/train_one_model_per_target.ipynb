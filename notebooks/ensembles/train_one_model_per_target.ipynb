{
 "cells": [
  {
   "cell_type": "code",
   "execution_count": 43,
   "metadata": {},
   "outputs": [
    {
     "name": "stdout",
     "output_type": "stream",
     "text": [
      "/home/janneke/Documents/Master/Machine_Learning_in_Practice/HMS/MLiP_group_10_task1_HMS\n"
     ]
    }
   ],
   "source": [
    "# %cd ..\n",
    "%cd /home/janneke/Documents/Master/Machine_Learning_in_Practice/HMS/MLiP_group_10_task1_HMS/"
   ]
  },
  {
   "cell_type": "code",
   "execution_count": 44,
   "metadata": {},
   "outputs": [],
   "source": [
    "from copy import deepcopy\n",
    "\n",
    "import pandas as pd\n",
    "import numpy as np\n",
    "from logging import getLogger, basicConfig, INFO\n",
    "from sklearn.model_selection import train_test_split\n",
    "from sklearn.ensemble import GradientBoostingRegressor\n",
    "import pickle\n",
    "\n",
    "from datasets.raw_data_loader import CustomRawDataset\n",
    "from datasets.data_loader_configs import BaseDataConfig\n",
    "from utils.evaluation_utils import score_kl_divergence"
   ]
  },
  {
   "cell_type": "code",
   "execution_count": 45,
   "metadata": {},
   "outputs": [],
   "source": [
    "basicConfig(level=INFO)\n",
    "logger = getLogger(\"main\")\n",
    "config = BaseDataConfig()"
   ]
  },
  {
   "cell_type": "code",
   "execution_count": 46,
   "metadata": {},
   "outputs": [
    {
     "name": "stderr",
     "output_type": "stream",
     "text": [
      "2024-02-17 13:35:36,166 - data_loader.log - INFO - Loading dataset from cache: ./data/cache/CustomRawDataset_0_train.npz\n",
      "2024-02-17 13:35:36,166 - data_loader.log - INFO - Loading dataset from cache: ./data/cache/CustomRawDataset_0_train.npz\n",
      "2024-02-17 13:35:36,166 - data_loader.log - INFO - Loading dataset from cache: ./data/cache/CustomRawDataset_0_train.npz\n",
      "2024-02-17 13:35:36,166 - data_loader.log - INFO - Loading dataset from cache: ./data/cache/CustomRawDataset_0_train.npz\n",
      "2024-02-17 13:35:36,166 - data_loader.log - INFO - Loading dataset from cache: ./data/cache/CustomRawDataset_0_train.npz\n",
      "2024-02-17 13:35:36,166 - data_loader.log - INFO - Loading dataset from cache: ./data/cache/CustomRawDataset_0_train.npz\n",
      "INFO:data_loader.log:Loading dataset from cache: ./data/cache/CustomRawDataset_0_train.npz\n"
     ]
    },
    {
     "name": "stdout",
     "output_type": "stream",
     "text": [
      "Dataset Summary:\n",
      "Mode: train\n",
      "Total Samples: 106799\n",
      "Unique Patients: 1950\n",
      "Unique EEGs: 17088\n",
      "Unique Spectrograms: 11138\n",
      "Label Distribution:\n",
      "seizure_vote     93773\n",
      "lpd_vote        121622\n",
      "gpd_vote        135094\n",
      "lrda_vote       101278\n",
      "grda_vote       113121\n",
      "other_vote      209986\n",
      "dtype: int64\n",
      "\n",
      "Vote Statistics:\n",
      "        seizure_vote  lpd_vote  gpd_vote  lrda_vote  grda_vote  other_vote\n",
      "mean        0.878033  1.138793  1.264937   0.948305   1.059195    1.966179\n",
      "median      0.000000  0.000000  0.000000   0.000000   0.000000    0.000000\n",
      "var         2.368146  7.945951  9.808804   4.565943   4.966214   13.111929\n",
      "Probabilities Loaded: 106799\n",
      "Features Loaded: 106799\n",
      "\n",
      "Configuration Summary:\n",
      "+---------------------+--------------------------------------------------------------------------------------------------------------------------------------+\n",
      "| Configuration       | Value                                                                                                                                |\n",
      "+---------------------+--------------------------------------------------------------------------------------------------------------------------------------+\n",
      "| BATCH_SIZE_TEST     | 16                                                                                                                                   |\n",
      "| BATCH_SIZE_TRAIN    | 64                                                                                                                                   |\n",
      "| BATCH_SIZE_VAL      | 16                                                                                                                                   |\n",
      "| DROP_LAST           | True                                                                                                                                 |\n",
      "| FEATS               | [['Fp1', 'F7', 'T3', 'T5', 'O1'], ['Fp1', 'F3', 'C3', 'P3', 'O1'], ['Fp2', 'F8', 'T4', 'T6', 'O2'], ['Fp2', 'F4', 'C4', 'P4', 'O2']] |\n",
      "| NAME                | BaseDataConfig                                                                                                                       |\n",
      "| NAMES               | ['LL', 'LP', 'RP', 'RR']                                                                                                             |\n",
      "| NUM_WORKERS         | 0                                                                                                                                    |\n",
      "| ONE_CROP_PER_PERSON | True                                                                                                                                 |\n",
      "| PIN_MEMORY          | True                                                                                                                                 |\n",
      "| SHUFFLE_TRAIN       | True                                                                                                                                 |\n",
      "| SUBSET_SAMPLE_COUNT | 0                                                                                                                                    |\n",
      "| USE_WAVELET         | None                                                                                                                                 |\n",
      "| VAL_SPLIT_RATIO     | 0.2                                                                                                                                  |\n",
      "+---------------------+--------------------------------------------------------------------------------------------------------------------------------------+\n"
     ]
    }
   ],
   "source": [
    "subset_sample_count = 0\n",
    "dataset = CustomRawDataset(\n",
    "    config, mode=\"train\", cache=True, subset_sample_count=subset_sample_count\n",
    ")\n",
    "dataset.print_summary()"
   ]
  },
  {
   "cell_type": "code",
   "execution_count": 47,
   "metadata": {},
   "outputs": [],
   "source": [
    "x_train, x_test, y_train, y_test = train_test_split(\n",
    "    dataset.features_per_sample,\n",
    "    dataset.lbl_probabilities,\n",
    "    test_size=0.33,\n",
    "    random_state=42,\n",
    ")\n",
    "y0, y1, y2, y3, y4, y5 = zip(*y_train)"
   ]
  },
  {
   "cell_type": "markdown",
   "metadata": {},
   "source": [
    "Let multiple separate models regress on one label each\n"
   ]
  },
  {
   "cell_type": "code",
   "execution_count": 48,
   "metadata": {},
   "outputs": [],
   "source": [
    "y_pred = np.zeros(y_test.shape)\n",
    "\n",
    "models = {}\n",
    "for i, lbl_group in enumerate([y0, y1, y2, y3, y4, y5]):\n",
    "    y_train_group = lbl_group\n",
    "    clf = GradientBoostingRegressor(\n",
    "        n_estimators=100, learning_rate=1.0, max_depth=1, random_state=0\n",
    "    ).fit(x_train, y_train_group)\n",
    "    clf.fit(x_train, y_train_group)\n",
    "    y_pred_group = clf.predict(x_test)\n",
    "    y_pred[:, i] = y_pred_group\n",
    "    models[lbl_group] = clf\n",
    "\n",
    "y_pred[y_pred < 0] = 0\n",
    "y_pred_probabilities = y_pred / np.sum(y_pred, axis=1)[:, None]"
   ]
  },
  {
   "cell_type": "code",
   "execution_count": 49,
   "metadata": {},
   "outputs": [],
   "source": [
    "with open(\n",
    "    f\"checkpoints/other_models/ensemble_one_model_per_target_{subset_sample_count}.pickle\",\n",
    "    \"wb\",\n",
    ") as pickle_file:\n",
    "    pickle.dump(models, pickle_file)"
   ]
  },
  {
   "cell_type": "code",
   "execution_count": 50,
   "metadata": {},
   "outputs": [
    {
     "data": {
      "text/plain": [
       "1.529194744430282"
      ]
     },
     "execution_count": 50,
     "metadata": {},
     "output_type": "execute_result"
    }
   ],
   "source": [
    "submission = pd.DataFrame(y_pred_probabilities, columns=dataset.label_cols)\n",
    "solution = pd.DataFrame(y_test, columns=dataset.label_cols)\n",
    "\n",
    "# Need to be added for score calculation, but are removed at the start of the function\n",
    "submission.insert(0, \"id\", range(len(submission)))\n",
    "solution.insert(0, \"id\", range(len(solution)))\n",
    "\n",
    "score_kl_divergence(\n",
    "    solution=deepcopy(solution),\n",
    "    submission=deepcopy(submission),\n",
    "    row_id_column_name=\"id\",\n",
    ")"
   ]
  },
  {
   "cell_type": "code",
   "execution_count": 51,
   "metadata": {},
   "outputs": [
    {
     "data": {
      "text/plain": [
       "0.0014772346517872553"
      ]
     },
     "execution_count": 51,
     "metadata": {},
     "output_type": "execute_result"
    }
   ],
   "source": [
    "# Random\n",
    "random_pred = np.random.rand(33, 6)\n",
    "random_pred[random_pred < 0] = 0\n",
    "random_pred_probabilities = random_pred / np.sum(random_pred, axis=1)[:, None]\n",
    "random_submission = pd.DataFrame(random_pred_probabilities, columns=dataset.label_cols)\n",
    "\n",
    "random_submission.insert(0, \"id\", range(len(random_submission)))\n",
    "\n",
    "score_kl_divergence(\n",
    "    solution=deepcopy(solution),\n",
    "    submission=deepcopy(random_submission),\n",
    "    row_id_column_name=\"id\",\n",
    ")"
   ]
  }
 ],
 "metadata": {
  "kernelspec": {
   "display_name": "MLiP",
   "language": "python",
   "name": "python3"
  },
  "language_info": {
   "codemirror_mode": {
    "name": "ipython",
    "version": 3
   },
   "file_extension": ".py",
   "mimetype": "text/x-python",
   "name": "python",
   "nbconvert_exporter": "python",
   "pygments_lexer": "ipython3",
   "version": "3.11.7"
  }
 },
 "nbformat": 4,
 "nbformat_minor": 2
}
