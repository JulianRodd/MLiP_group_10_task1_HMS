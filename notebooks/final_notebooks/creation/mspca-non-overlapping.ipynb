{
 "cells": [
  {
   "cell_type": "markdown",
   "id": "fd96b334",
   "metadata": {
    "papermill": {
     "duration": 0.004778,
     "end_time": "2024-03-13T07:07:19.286466",
     "exception": false,
     "start_time": "2024-03-13T07:07:19.281688",
     "status": "completed"
    },
    "tags": []
   },
   "source": [
    "# How To Make Spectrograms from EEG\n",
    "\n",
    "In this notebook, we learn how to make spectrograms from EEG. The EEGs are waveforms and the Spectrograms are images. There is a discussion about this notebook [here][1].\n",
    "\n",
    "In version 1-3, we also train a simple model using our EEG spectrograms to confirm that they work well. We observe that a model trained with EEG spectrograms performs better than baseline models using only train means.\n",
    "\n",
    "# Exciting UPDATE!\n",
    "\n",
    "Version 4 of this notebook uses a different formula to make spectrograms than earlier versions. I trained an EfficientNet model using the old version eeg spectrograms, new version spectrograms, and Kaggle spectrograms. We can see that the new version eeg spectrograms are **powerful**!\n",
    "\n",
    "| Spectrogram             | 5-Fold CV      | LB   |\n",
    "| ----------------------- | -------------- | ---- |\n",
    "| Kaggle spectrogram      | 0.73           | 0.57 |\n",
    "| Old EEG formula         | 0.84 on fold 1 | ??   |\n",
    "| New EEG formula         | 0.70 on fold 1 | ??   |\n",
    "| Use both Kaggle and New | 0.64           | 0.44 |\n",
    "\n",
    "From the results above, we conclude that our new formula is probably similar or better than the true formula used to create the Kaggle spectrograms. Details about the old and new formula are in the next notebook section.\n",
    "\n",
    "# How To Use EEG Spectrograms\n",
    "\n",
    "Examples of how to use new EEG spectrograms to boost CV score and LB score will be (or already are) published in recent versions of my EfficientNet starter notebook [here][2] and CatBoost starter notebook [here][3]\n",
    "\n",
    "# Kaggle Dataset\n",
    "\n",
    "The new EEG spectrograms from version 4 of this notebook have been uploaded to a Kaggle dataset [here][4]. We can attach this Kaggle dataset to our future notebooks to boost our CV scores and LB scores! Thank you everyone for upvoting my new EEG spectrogram Kaggle dataset!\n",
    "\n",
    "[1]: https://www.kaggle.com/competitions/hms-harmful-brain-activity-classification/discussion/467877\n",
    "[2]: https://www.kaggle.com/code/cdeotte/efficientnetb2-starter-lb-0-57\n",
    "[3]: https://www.kaggle.com/code/cdeotte/catboost-starter-lb-0-67\n",
    "[4]: https://www.kaggle.com/datasets/cdeotte/brain-eeg-spectrograms\n"
   ]
  },
  {
   "cell_type": "code",
   "execution_count": 1,
   "id": "8a0bb824",
   "metadata": {
    "_cell_guid": "b1076dfc-b9ad-4769-8c92-a6c4dae69d19",
    "_uuid": "8f2839f25d086af736a60e9eeb907d3b93b6e0e5",
    "execution": {
     "iopub.execute_input": "2024-03-13T07:07:19.298211Z",
     "iopub.status.busy": "2024-03-13T07:07:19.297596Z",
     "iopub.status.idle": "2024-03-13T07:07:20.581645Z",
     "shell.execute_reply": "2024-03-13T07:07:20.580722Z"
    },
    "papermill": {
     "duration": 1.292734,
     "end_time": "2024-03-13T07:07:20.583438",
     "exception": false,
     "start_time": "2024-03-13T07:07:19.290704",
     "status": "completed"
    },
    "tags": []
   },
   "outputs": [
    {
     "name": "stdout",
     "output_type": "stream",
     "text": [
      "Train shape (106800, 15)\n"
     ]
    },
    {
     "data": {
      "text/html": [
       "<div>\n",
       "<style scoped>\n",
       "    .dataframe tbody tr th:only-of-type {\n",
       "        vertical-align: middle;\n",
       "    }\n",
       "\n",
       "    .dataframe tbody tr th {\n",
       "        vertical-align: top;\n",
       "    }\n",
       "\n",
       "    .dataframe thead th {\n",
       "        text-align: right;\n",
       "    }\n",
       "</style>\n",
       "<table border=\"1\" class=\"dataframe\">\n",
       "  <thead>\n",
       "    <tr style=\"text-align: right;\">\n",
       "      <th></th>\n",
       "      <th>eeg_id</th>\n",
       "      <th>eeg_sub_id</th>\n",
       "      <th>eeg_label_offset_seconds</th>\n",
       "      <th>spectrogram_id</th>\n",
       "      <th>spectrogram_sub_id</th>\n",
       "      <th>spectrogram_label_offset_seconds</th>\n",
       "      <th>label_id</th>\n",
       "      <th>patient_id</th>\n",
       "      <th>expert_consensus</th>\n",
       "      <th>seizure_vote</th>\n",
       "      <th>lpd_vote</th>\n",
       "      <th>gpd_vote</th>\n",
       "      <th>lrda_vote</th>\n",
       "      <th>grda_vote</th>\n",
       "      <th>other_vote</th>\n",
       "    </tr>\n",
       "  </thead>\n",
       "  <tbody>\n",
       "    <tr>\n",
       "      <th>0</th>\n",
       "      <td>1628180742</td>\n",
       "      <td>0</td>\n",
       "      <td>0.0</td>\n",
       "      <td>353733</td>\n",
       "      <td>0</td>\n",
       "      <td>0.0</td>\n",
       "      <td>127492639</td>\n",
       "      <td>42516</td>\n",
       "      <td>Seizure</td>\n",
       "      <td>3</td>\n",
       "      <td>0</td>\n",
       "      <td>0</td>\n",
       "      <td>0</td>\n",
       "      <td>0</td>\n",
       "      <td>0</td>\n",
       "    </tr>\n",
       "    <tr>\n",
       "      <th>1</th>\n",
       "      <td>1628180742</td>\n",
       "      <td>1</td>\n",
       "      <td>6.0</td>\n",
       "      <td>353733</td>\n",
       "      <td>1</td>\n",
       "      <td>6.0</td>\n",
       "      <td>3887563113</td>\n",
       "      <td>42516</td>\n",
       "      <td>Seizure</td>\n",
       "      <td>3</td>\n",
       "      <td>0</td>\n",
       "      <td>0</td>\n",
       "      <td>0</td>\n",
       "      <td>0</td>\n",
       "      <td>0</td>\n",
       "    </tr>\n",
       "    <tr>\n",
       "      <th>2</th>\n",
       "      <td>1628180742</td>\n",
       "      <td>2</td>\n",
       "      <td>8.0</td>\n",
       "      <td>353733</td>\n",
       "      <td>2</td>\n",
       "      <td>8.0</td>\n",
       "      <td>1142670488</td>\n",
       "      <td>42516</td>\n",
       "      <td>Seizure</td>\n",
       "      <td>3</td>\n",
       "      <td>0</td>\n",
       "      <td>0</td>\n",
       "      <td>0</td>\n",
       "      <td>0</td>\n",
       "      <td>0</td>\n",
       "    </tr>\n",
       "    <tr>\n",
       "      <th>3</th>\n",
       "      <td>1628180742</td>\n",
       "      <td>3</td>\n",
       "      <td>18.0</td>\n",
       "      <td>353733</td>\n",
       "      <td>3</td>\n",
       "      <td>18.0</td>\n",
       "      <td>2718991173</td>\n",
       "      <td>42516</td>\n",
       "      <td>Seizure</td>\n",
       "      <td>3</td>\n",
       "      <td>0</td>\n",
       "      <td>0</td>\n",
       "      <td>0</td>\n",
       "      <td>0</td>\n",
       "      <td>0</td>\n",
       "    </tr>\n",
       "    <tr>\n",
       "      <th>4</th>\n",
       "      <td>1628180742</td>\n",
       "      <td>4</td>\n",
       "      <td>24.0</td>\n",
       "      <td>353733</td>\n",
       "      <td>4</td>\n",
       "      <td>24.0</td>\n",
       "      <td>3080632009</td>\n",
       "      <td>42516</td>\n",
       "      <td>Seizure</td>\n",
       "      <td>3</td>\n",
       "      <td>0</td>\n",
       "      <td>0</td>\n",
       "      <td>0</td>\n",
       "      <td>0</td>\n",
       "      <td>0</td>\n",
       "    </tr>\n",
       "  </tbody>\n",
       "</table>\n",
       "</div>"
      ],
      "text/plain": [
       "       eeg_id  eeg_sub_id  eeg_label_offset_seconds  spectrogram_id  \\\n",
       "0  1628180742           0                       0.0          353733   \n",
       "1  1628180742           1                       6.0          353733   \n",
       "2  1628180742           2                       8.0          353733   \n",
       "3  1628180742           3                      18.0          353733   \n",
       "4  1628180742           4                      24.0          353733   \n",
       "\n",
       "   spectrogram_sub_id  spectrogram_label_offset_seconds    label_id  \\\n",
       "0                   0                               0.0   127492639   \n",
       "1                   1                               6.0  3887563113   \n",
       "2                   2                               8.0  1142670488   \n",
       "3                   3                              18.0  2718991173   \n",
       "4                   4                              24.0  3080632009   \n",
       "\n",
       "   patient_id expert_consensus  seizure_vote  lpd_vote  gpd_vote  lrda_vote  \\\n",
       "0       42516          Seizure             3         0         0          0   \n",
       "1       42516          Seizure             3         0         0          0   \n",
       "2       42516          Seizure             3         0         0          0   \n",
       "3       42516          Seizure             3         0         0          0   \n",
       "4       42516          Seizure             3         0         0          0   \n",
       "\n",
       "   grda_vote  other_vote  \n",
       "0          0           0  \n",
       "1          0           0  \n",
       "2          0           0  \n",
       "3          0           0  \n",
       "4          0           0  "
      ]
     },
     "metadata": {},
     "output_type": "display_data"
    }
   ],
   "source": [
    "import pandas as pd, numpy as np, os\n",
    "import matplotlib.pyplot as plt, gc\n",
    "\n",
    "train = pd.read_csv(\"/kaggle/input/hms-harmful-brain-activity-classification/train.csv\")\n",
    "print(\"Train shape\", train.shape)\n",
    "display(train.head())\n",
    "label_cols = [\n",
    "    \"seizure_vote\",\n",
    "    \"lpd_vote\",\n",
    "    \"gpd_vote\",\n",
    "    \"lrda_vote\",\n",
    "    \"grda_vote\",\n",
    "    \"other_vote\",\n",
    "]"
   ]
  },
  {
   "cell_type": "code",
   "execution_count": 2,
   "id": "b1809b16",
   "metadata": {
    "execution": {
     "iopub.execute_input": "2024-03-13T07:07:20.594975Z",
     "iopub.status.busy": "2024-03-13T07:07:20.594570Z",
     "iopub.status.idle": "2024-03-13T07:07:20.703119Z",
     "shell.execute_reply": "2024-03-13T07:07:20.701133Z"
    },
    "papermill": {
     "duration": 0.116953,
     "end_time": "2024-03-13T07:07:20.705281",
     "exception": false,
     "start_time": "2024-03-13T07:07:20.588328",
     "status": "completed"
    },
    "tags": []
   },
   "outputs": [
    {
     "name": "stdout",
     "output_type": "stream",
     "text": [
      "Train non-overlapp eeg_id shape: (17089, 13)\n"
     ]
    },
    {
     "data": {
      "text/html": [
       "<div>\n",
       "<style scoped>\n",
       "    .dataframe tbody tr th:only-of-type {\n",
       "        vertical-align: middle;\n",
       "    }\n",
       "\n",
       "    .dataframe tbody tr th {\n",
       "        vertical-align: top;\n",
       "    }\n",
       "\n",
       "    .dataframe thead th {\n",
       "        text-align: right;\n",
       "    }\n",
       "</style>\n",
       "<table border=\"1\" class=\"dataframe\">\n",
       "  <thead>\n",
       "    <tr style=\"text-align: right;\">\n",
       "      <th></th>\n",
       "      <th>eeg_id</th>\n",
       "      <th>spectogram_id</th>\n",
       "      <th>min</th>\n",
       "      <th>max</th>\n",
       "      <th>patient_id</th>\n",
       "      <th>seizure_vote</th>\n",
       "      <th>lpd_vote</th>\n",
       "      <th>gpd_vote</th>\n",
       "      <th>lrda_vote</th>\n",
       "      <th>grda_vote</th>\n",
       "      <th>other_vote</th>\n",
       "      <th>n_annot</th>\n",
       "      <th>target</th>\n",
       "    </tr>\n",
       "  </thead>\n",
       "  <tbody>\n",
       "    <tr>\n",
       "      <th>0</th>\n",
       "      <td>568657</td>\n",
       "      <td>789577333</td>\n",
       "      <td>0.0</td>\n",
       "      <td>16.0</td>\n",
       "      <td>20654</td>\n",
       "      <td>0.0</td>\n",
       "      <td>0.000000</td>\n",
       "      <td>0.25</td>\n",
       "      <td>0.000000</td>\n",
       "      <td>0.166667</td>\n",
       "      <td>0.583333</td>\n",
       "      <td>48</td>\n",
       "      <td>Other</td>\n",
       "    </tr>\n",
       "    <tr>\n",
       "      <th>1</th>\n",
       "      <td>582999</td>\n",
       "      <td>1552638400</td>\n",
       "      <td>0.0</td>\n",
       "      <td>38.0</td>\n",
       "      <td>20230</td>\n",
       "      <td>0.0</td>\n",
       "      <td>0.857143</td>\n",
       "      <td>0.00</td>\n",
       "      <td>0.071429</td>\n",
       "      <td>0.000000</td>\n",
       "      <td>0.071429</td>\n",
       "      <td>154</td>\n",
       "      <td>LPD</td>\n",
       "    </tr>\n",
       "    <tr>\n",
       "      <th>2</th>\n",
       "      <td>642382</td>\n",
       "      <td>14960202</td>\n",
       "      <td>1008.0</td>\n",
       "      <td>1032.0</td>\n",
       "      <td>5955</td>\n",
       "      <td>0.0</td>\n",
       "      <td>0.000000</td>\n",
       "      <td>0.00</td>\n",
       "      <td>0.000000</td>\n",
       "      <td>0.000000</td>\n",
       "      <td>1.000000</td>\n",
       "      <td>2</td>\n",
       "      <td>Other</td>\n",
       "    </tr>\n",
       "    <tr>\n",
       "      <th>3</th>\n",
       "      <td>751790</td>\n",
       "      <td>618728447</td>\n",
       "      <td>908.0</td>\n",
       "      <td>908.0</td>\n",
       "      <td>38549</td>\n",
       "      <td>0.0</td>\n",
       "      <td>0.000000</td>\n",
       "      <td>1.00</td>\n",
       "      <td>0.000000</td>\n",
       "      <td>0.000000</td>\n",
       "      <td>0.000000</td>\n",
       "      <td>1</td>\n",
       "      <td>GPD</td>\n",
       "    </tr>\n",
       "    <tr>\n",
       "      <th>4</th>\n",
       "      <td>778705</td>\n",
       "      <td>52296320</td>\n",
       "      <td>0.0</td>\n",
       "      <td>0.0</td>\n",
       "      <td>40955</td>\n",
       "      <td>0.0</td>\n",
       "      <td>0.000000</td>\n",
       "      <td>0.00</td>\n",
       "      <td>0.000000</td>\n",
       "      <td>0.000000</td>\n",
       "      <td>1.000000</td>\n",
       "      <td>2</td>\n",
       "      <td>Other</td>\n",
       "    </tr>\n",
       "  </tbody>\n",
       "</table>\n",
       "</div>"
      ],
      "text/plain": [
       "   eeg_id  spectogram_id     min     max  patient_id  seizure_vote  lpd_vote  \\\n",
       "0  568657      789577333     0.0    16.0       20654           0.0  0.000000   \n",
       "1  582999     1552638400     0.0    38.0       20230           0.0  0.857143   \n",
       "2  642382       14960202  1008.0  1032.0        5955           0.0  0.000000   \n",
       "3  751790      618728447   908.0   908.0       38549           0.0  0.000000   \n",
       "4  778705       52296320     0.0     0.0       40955           0.0  0.000000   \n",
       "\n",
       "   gpd_vote  lrda_vote  grda_vote  other_vote  n_annot target  \n",
       "0      0.25   0.000000   0.166667    0.583333       48  Other  \n",
       "1      0.00   0.071429   0.000000    0.071429      154    LPD  \n",
       "2      0.00   0.000000   0.000000    1.000000        2  Other  \n",
       "3      1.00   0.000000   0.000000    0.000000        1    GPD  \n",
       "4      0.00   0.000000   0.000000    1.000000        2  Other  "
      ]
     },
     "execution_count": 2,
     "metadata": {},
     "output_type": "execute_result"
    }
   ],
   "source": [
    "train_df = train.groupby(\"eeg_id\")[\n",
    "    [\"spectrogram_id\", \"spectrogram_label_offset_seconds\"]\n",
    "].agg({\"spectrogram_id\": \"first\", \"spectrogram_label_offset_seconds\": \"min\"})\n",
    "train_df.columns = [\"spectogram_id\", \"min\"]\n",
    "\n",
    "aux = train.groupby(\"eeg_id\")[\n",
    "    [\"spectrogram_id\", \"spectrogram_label_offset_seconds\"]\n",
    "].agg({\"spectrogram_label_offset_seconds\": \"max\"})\n",
    "train_df[\"max\"] = aux\n",
    "\n",
    "aux = train.groupby(\"eeg_id\")[[\"patient_id\"]].agg(\"first\")\n",
    "train_df[\"patient_id\"] = aux\n",
    "\n",
    "aux = train.groupby(\"eeg_id\")[label_cols].agg(\"sum\")\n",
    "for label in label_cols:\n",
    "    train_df[label] = aux[label].values\n",
    "\n",
    "\n",
    "y_data = train_df[label_cols].values\n",
    "train_df[\"n_annot\"] = y_data.sum(axis=1, keepdims=True)\n",
    "y_data = y_data / y_data.sum(axis=1, keepdims=True)\n",
    "train_df[label_cols] = y_data\n",
    "\n",
    "aux = train.groupby(\"eeg_id\")[[\"expert_consensus\"]].agg(\"first\")\n",
    "train_df[\"target\"] = aux\n",
    "\n",
    "train_df = train_df.reset_index()\n",
    "print(\"Train non-overlapp eeg_id shape:\", train_df.shape)\n",
    "train_df.head()"
   ]
  },
  {
   "cell_type": "code",
   "execution_count": 3,
   "id": "edcbfe87",
   "metadata": {
    "execution": {
     "iopub.execute_input": "2024-03-13T07:07:20.717379Z",
     "iopub.status.busy": "2024-03-13T07:07:20.717005Z",
     "iopub.status.idle": "2024-03-13T07:07:20.723704Z",
     "shell.execute_reply": "2024-03-13T07:07:20.721634Z"
    },
    "papermill": {
     "duration": 0.016504,
     "end_time": "2024-03-13T07:07:20.726787",
     "exception": false,
     "start_time": "2024-03-13T07:07:20.710283",
     "status": "completed"
    },
    "tags": []
   },
   "outputs": [],
   "source": [
    "train = train_df"
   ]
  },
  {
   "cell_type": "code",
   "execution_count": 4,
   "id": "847b540c",
   "metadata": {
    "execution": {
     "iopub.execute_input": "2024-03-13T07:07:20.739638Z",
     "iopub.status.busy": "2024-03-13T07:07:20.739262Z",
     "iopub.status.idle": "2024-03-13T07:07:33.587064Z",
     "shell.execute_reply": "2024-03-13T07:07:33.585823Z"
    },
    "papermill": {
     "duration": 12.857662,
     "end_time": "2024-03-13T07:07:33.589528",
     "exception": false,
     "start_time": "2024-03-13T07:07:20.731866",
     "status": "completed"
    },
    "tags": []
   },
   "outputs": [
    {
     "name": "stdout",
     "output_type": "stream",
     "text": [
      "Looking in links: /kaggle/input/mspca-wheel/mspca-0.0.4-py3-none-any.whl\r\n",
      "Processing /kaggle/input/mspca-wheel/mspca-0.0.4-py3-none-any.whl\r\n",
      "Requirement already satisfied: PyWavelets in /opt/conda/lib/python3.10/site-packages (from mspca) (1.4.1)\r\n",
      "Requirement already satisfied: numpy>=1.17.3 in /opt/conda/lib/python3.10/site-packages (from PyWavelets->mspca) (1.24.3)\r\n",
      "Installing collected packages: mspca\r\n",
      "Successfully installed mspca-0.0.4\r\n"
     ]
    }
   ],
   "source": [
    "!pip install mspca --find-links \"/kaggle/input/mspca-wheel/mspca-0.0.4-py3-none-any.whl\" --no-index"
   ]
  },
  {
   "cell_type": "code",
   "execution_count": 5,
   "id": "9133dc8d",
   "metadata": {
    "execution": {
     "iopub.execute_input": "2024-03-13T07:07:33.601855Z",
     "iopub.status.busy": "2024-03-13T07:07:33.601448Z",
     "iopub.status.idle": "2024-03-13T07:07:33.608099Z",
     "shell.execute_reply": "2024-03-13T07:07:33.606829Z"
    },
    "papermill": {
     "duration": 0.015464,
     "end_time": "2024-03-13T07:07:33.610332",
     "exception": false,
     "start_time": "2024-03-13T07:07:33.594868",
     "status": "completed"
    },
    "tags": []
   },
   "outputs": [
    {
     "name": "stdout",
     "output_type": "stream",
     "text": [
      "17089\n",
      "17089\n"
     ]
    }
   ],
   "source": [
    "print(len(train))\n",
    "train_nine_sample = train\n",
    "print(len(train_nine_sample))"
   ]
  },
  {
   "cell_type": "markdown",
   "id": "13369bd1",
   "metadata": {
    "papermill": {
     "duration": 0.004852,
     "end_time": "2024-03-13T07:07:33.621352",
     "exception": false,
     "start_time": "2024-03-13T07:07:33.616500",
     "status": "completed"
    },
    "tags": []
   },
   "source": [
    "# The Bipolar Double Banana Montage\n",
    "\n",
    "In the Kaggle discussion [here][1], we learn what information we need to make spectrograms from eegs. The following website [here][2] is helpful also. To build 1 spectrogram, we need 1 time series signal. Kaggle provides us with 19 eeg time signals, so we must combine them into 4 time signals to make 4 spectrograms.\n",
    "\n",
    "In the diagram below, we see which electrode signals are needed to make the `LL, LP, RP, RR` spectrograms. Furthermore Kaggle discussions imply that most likely we create differences between consecutive electrodes and average the differences. For example, we create `LL spectrogram` with the formula:\n",
    "\n",
    "    LL = ( (Fp1 - F7) + (F7 - T3) + (T3 - T5) + (T5 - O1) )/4.\n",
    "\n",
    "I am not positive that this is the correct formula. I also tried the formula below but it produced a worse CV score than the above formula, so perhaps the above is correct. I am confident that we only use these 5 electrodes to create `LL spectrogram`. I'm just a little unsure about the formula:\n",
    "\n",
    "    LL = ( Fp1 + F7 + T3 + T5 + O1 )/5.\n",
    "\n",
    "# Exciting UPDATE!\n",
    "\n",
    "I believe the above two formulas are wrong. Many Kagglers have pointed out that the above formula reduces to `LL = ( Fp1 - O1 )/4` which means that it does not use all the EEG signals. The new formula below utilizes all the EEG signals and produces EEG spectrograms that achieve better CV score and LB score than the Kaggle spectrograms. Therefore I think the following formula is the correct one:\n",
    "\n",
    "    LL Spec = ( spec(Fp1 - F7) + spec(F7 - T3) + spec(T3 - T5) + spec(T5 - O1) )/4.\n",
    "\n",
    "Since creating a spectrogram is a non-linear operation, the above formula which computes 4 spectrograms and then takes the average is different than the formula below which computes 1 spectrogam. And the above formula does utilize all EEG signals and cannot be reduced to a shorter formula (like the one below).\n",
    "\n",
    "    LL Spec = spec( ( (Fp1 - F7) + (F7 - T3) + (T3 - T5) + (T5 - O1) )/4. )\n",
    "\n",
    "![](https://raw.githubusercontent.com/cdeotte/Kaggle_Images/main/Jan-2024/montage.png)\n",
    "\n",
    "[1]: https://www.kaggle.com/competitions/hms-harmful-brain-activity-classification/discussion/467877\n",
    "[2]: https://www.learningeeg.com/montages-and-technical-components\n"
   ]
  },
  {
   "cell_type": "code",
   "execution_count": 6,
   "id": "7e8469e5",
   "metadata": {
    "execution": {
     "iopub.execute_input": "2024-03-13T07:07:33.633147Z",
     "iopub.status.busy": "2024-03-13T07:07:33.632795Z",
     "iopub.status.idle": "2024-03-13T07:07:33.638864Z",
     "shell.execute_reply": "2024-03-13T07:07:33.637932Z"
    },
    "papermill": {
     "duration": 0.014633,
     "end_time": "2024-03-13T07:07:33.640991",
     "exception": false,
     "start_time": "2024-03-13T07:07:33.626358",
     "status": "completed"
    },
    "tags": []
   },
   "outputs": [],
   "source": [
    "NAMES = [\"LL\", \"LP\", \"RP\", \"RR\"]\n",
    "\n",
    "FEATS = [\n",
    "    [\"Fp1\", \"F7\", \"T3\", \"T5\", \"O1\"],\n",
    "    [\"Fp1\", \"F3\", \"C3\", \"P3\", \"O1\"],\n",
    "    [\"Fp2\", \"F8\", \"T4\", \"T6\", \"O2\"],\n",
    "    [\"Fp2\", \"F4\", \"C4\", \"P4\", \"O2\"],\n",
    "]\n",
    "\n",
    "directory_path = \"EEG_Spectrograms/\"\n",
    "if not os.path.exists(directory_path):\n",
    "    os.makedirs(directory_path)"
   ]
  },
  {
   "cell_type": "markdown",
   "id": "3ec37820",
   "metadata": {
    "papermill": {
     "duration": 0.004871,
     "end_time": "2024-03-13T07:07:33.651349",
     "exception": false,
     "start_time": "2024-03-13T07:07:33.646478",
     "status": "completed"
    },
    "tags": []
   },
   "source": [
    "# Optional Signal Denoising with Wavelet transform\n",
    "\n",
    "We can optionally denoise the signal before creating the spectrogram. I'm not sure yet if this creates better or worse spectrograms. We can experiment with this. This code comes from Yusaku5738 notebook [here][1] and was suggested by SeshuRajuP in the comments. We have many parent functions to use for denoising. Yusaku5738 suggests using `wavelet = db8`.\n",
    "\n",
    "[1]: https://www.kaggle.com/code/yusaku5739/eeg-signal-denosing-using-wavelet-transform\n"
   ]
  },
  {
   "cell_type": "code",
   "execution_count": 7,
   "id": "03bf2321",
   "metadata": {
    "execution": {
     "iopub.execute_input": "2024-03-13T07:07:33.663059Z",
     "iopub.status.busy": "2024-03-13T07:07:33.662727Z",
     "iopub.status.idle": "2024-03-13T07:07:34.141665Z",
     "shell.execute_reply": "2024-03-13T07:07:34.140149Z"
    },
    "papermill": {
     "duration": 0.487786,
     "end_time": "2024-03-13T07:07:34.144195",
     "exception": false,
     "start_time": "2024-03-13T07:07:33.656409",
     "status": "completed"
    },
    "tags": []
   },
   "outputs": [
    {
     "name": "stdout",
     "output_type": "stream",
     "text": [
      "The wavelet functions we can use:\n",
      "['bior1.1', 'bior1.3', 'bior1.5', 'bior2.2', 'bior2.4', 'bior2.6', 'bior2.8', 'bior3.1', 'bior3.3', 'bior3.5', 'bior3.7', 'bior3.9', 'bior4.4', 'bior5.5', 'bior6.8', 'cgau1', 'cgau2', 'cgau3', 'cgau4', 'cgau5', 'cgau6', 'cgau7', 'cgau8', 'cmor', 'coif1', 'coif2', 'coif3', 'coif4', 'coif5', 'coif6', 'coif7', 'coif8', 'coif9', 'coif10', 'coif11', 'coif12', 'coif13', 'coif14', 'coif15', 'coif16', 'coif17', 'db1', 'db2', 'db3', 'db4', 'db5', 'db6', 'db7', 'db8', 'db9', 'db10', 'db11', 'db12', 'db13', 'db14', 'db15', 'db16', 'db17', 'db18', 'db19', 'db20', 'db21', 'db22', 'db23', 'db24', 'db25', 'db26', 'db27', 'db28', 'db29', 'db30', 'db31', 'db32', 'db33', 'db34', 'db35', 'db36', 'db37', 'db38', 'dmey', 'fbsp', 'gaus1', 'gaus2', 'gaus3', 'gaus4', 'gaus5', 'gaus6', 'gaus7', 'gaus8', 'haar', 'mexh', 'morl', 'rbio1.1', 'rbio1.3', 'rbio1.5', 'rbio2.2', 'rbio2.4', 'rbio2.6', 'rbio2.8', 'rbio3.1', 'rbio3.3', 'rbio3.5', 'rbio3.7', 'rbio3.9', 'rbio4.4', 'rbio5.5', 'rbio6.8', 'shan', 'sym2', 'sym3', 'sym4', 'sym5', 'sym6', 'sym7', 'sym8', 'sym9', 'sym10', 'sym11', 'sym12', 'sym13', 'sym14', 'sym15', 'sym16', 'sym17', 'sym18', 'sym19', 'sym20']\n"
     ]
    }
   ],
   "source": [
    "import pywt\n",
    "\n",
    "print(\"The wavelet functions we can use:\")\n",
    "print(pywt.wavelist())\n",
    "\n",
    "USE_WAVELET = None  # or \"db8\" or anything below"
   ]
  },
  {
   "cell_type": "code",
   "execution_count": 8,
   "id": "415b6f45",
   "metadata": {
    "execution": {
     "iopub.execute_input": "2024-03-13T07:07:34.157727Z",
     "iopub.status.busy": "2024-03-13T07:07:34.156516Z",
     "iopub.status.idle": "2024-03-13T07:07:34.163587Z",
     "shell.execute_reply": "2024-03-13T07:07:34.162886Z"
    },
    "papermill": {
     "duration": 0.015582,
     "end_time": "2024-03-13T07:07:34.165504",
     "exception": false,
     "start_time": "2024-03-13T07:07:34.149922",
     "status": "completed"
    },
    "tags": []
   },
   "outputs": [],
   "source": [
    "# DENOISE FUNCTION\n",
    "def maddest(d, axis=None):\n",
    "    return np.mean(np.absolute(d - np.mean(d, axis)), axis)\n",
    "\n",
    "\n",
    "def denoise(x, wavelet=\"haar\", level=1):\n",
    "    coeff = pywt.wavedec(x, wavelet, mode=\"per\")\n",
    "    sigma = (1 / 0.6745) * maddest(coeff[-level])\n",
    "\n",
    "    uthresh = sigma * np.sqrt(2 * np.log(len(x)))\n",
    "    coeff[1:] = (pywt.threshold(i, value=uthresh, mode=\"hard\") for i in coeff[1:])\n",
    "\n",
    "    ret = pywt.waverec(coeff, wavelet, mode=\"per\")\n",
    "\n",
    "    return ret"
   ]
  },
  {
   "cell_type": "markdown",
   "id": "99dd56ad",
   "metadata": {
    "papermill": {
     "duration": 0.004991,
     "end_time": "2024-03-13T07:07:34.175870",
     "exception": false,
     "start_time": "2024-03-13T07:07:34.170879",
     "status": "completed"
    },
    "tags": []
   },
   "source": [
    "# Create Spectrograms with Librosa\n",
    "\n",
    "We can use library librosa to create spectrograms. We will save them to disk. For each `eeg_id` we will make 1 spectrogram from the middle 50 seconds. We don't want to use more information than 50 seconds at a time because during test inference, we only have access to 50 seconds of EEG for each test `eeg_id`. We will create spectrograms of `size = 128x256 (freq x time)`.\n",
    "\n",
    "The main function is\n",
    "\n",
    "    mel_spec = librosa.feature.melspectrogram(y=x, sr=200, hop_length=len(x)//256,\n",
    "              n_fft=1024, n_mels=128, fmin=0, fmax=20, win_length=128)\n",
    "\n",
    "\n",
    "Let's explain these variables.\n",
    "\n",
    "- `y` is the input time series signal\n",
    "- `sr` is the sampling frequency. In this competition EEG is sample 200 times per sec\n",
    "- `hop_length` produces image with `width = len(x)/hop_length`\n",
    "- `n_fft` controls vertical resolution and quality of spectrogram\n",
    "- `n_mels` produces image with `height = n_mels`\n",
    "- `fmin` is smallest frequency in our spectrogram\n",
    "- `fmax` is largest frequency in our spectrogram\n",
    "- `win_length` controls hortizonal resolution and quality of spectrogram\n"
   ]
  },
  {
   "cell_type": "code",
   "execution_count": 9,
   "id": "00b8cbf8",
   "metadata": {
    "execution": {
     "iopub.execute_input": "2024-03-13T07:07:34.189200Z",
     "iopub.status.busy": "2024-03-13T07:07:34.188612Z",
     "iopub.status.idle": "2024-03-13T07:07:35.505454Z",
     "shell.execute_reply": "2024-03-13T07:07:35.503669Z"
    },
    "papermill": {
     "duration": 1.326382,
     "end_time": "2024-03-13T07:07:35.508264",
     "exception": false,
     "start_time": "2024-03-13T07:07:34.181882",
     "status": "completed"
    },
    "tags": []
   },
   "outputs": [],
   "source": [
    "import librosa\n",
    "from mspca import mspca\n",
    "\n",
    "\n",
    "def spectrogram_from_eeg(parquet_path, eeg_id, display=False):\n",
    "    # LOAD MIDDLE 50 SECONDS OF EEG SERIES\n",
    "    eeg = pd.read_parquet(parquet_path)\n",
    "    middle = (len(eeg) - 10_000) // 2\n",
    "    eeg = eeg.iloc[middle : middle + 10_000]\n",
    "\n",
    "    # VARIABLE TO HOLD SPECTROGRAM\n",
    "    img = np.zeros((128, 256, 4), dtype=\"float32\")\n",
    "\n",
    "    if display:\n",
    "        plt.figure(figsize=(10, 7))\n",
    "    signals = []\n",
    "    mymodel = mspca.MultiscalePCA()\n",
    "    for k in range(4):\n",
    "        COLS = FEATS[k]\n",
    "\n",
    "        for kk in range(4):\n",
    "\n",
    "            # COMPUTE PAIR DIFFERENCES\n",
    "            x = eeg[COLS[kk]].values - eeg[COLS[kk + 1]].values\n",
    "\n",
    "            # FILL NANS\n",
    "            m = np.nanmean(x)\n",
    "            if np.isnan(x).mean() < 1:\n",
    "                x = np.nan_to_num(x, nan=m)\n",
    "            else:\n",
    "                x[:] = 0\n",
    "\n",
    "            # DENOISE\n",
    "            if USE_WAVELET:\n",
    "                x = denoise(x, wavelet=USE_WAVELET)\n",
    "\n",
    "            x = x.flatten()  # Flatten back to 1D if necessary\n",
    "\n",
    "            # Apply MSPCA after reshaping x to 2D\n",
    "            x_2d = x.reshape(-1, 1)  # Required 2D shape\n",
    "\n",
    "            x_transformed = mymodel.fit_transform(\n",
    "                x_2d, wavelet_func=\"db4\", threshold=0.4\n",
    "            )\n",
    "            x_transformed = x_transformed.flatten()\n",
    "\n",
    "            signals.append(x_transformed)\n",
    "\n",
    "            # RAW SPECTROGRAM\n",
    "            mel_spec = librosa.feature.melspectrogram(\n",
    "                y=x,\n",
    "                sr=200,\n",
    "                hop_length=len(x) // 256,\n",
    "                n_fft=1024,\n",
    "                n_mels=128,\n",
    "                fmin=0,\n",
    "                fmax=20,\n",
    "                win_length=128,\n",
    "            )\n",
    "\n",
    "            # LOG TRANSFORM\n",
    "            width = (mel_spec.shape[1] // 32) * 32\n",
    "            mel_spec_db = librosa.power_to_db(mel_spec, ref=np.max).astype(np.float32)[\n",
    "                :, :width\n",
    "            ]\n",
    "\n",
    "            # STANDARDIZE TO -1 TO 1\n",
    "            mel_spec_db = (mel_spec_db + 40) / 40\n",
    "            img[:, :, k] += mel_spec_db\n",
    "\n",
    "        # AVERAGE THE 4 MONTAGE DIFFERENCES\n",
    "        img[:, :, k] /= 4.0\n",
    "\n",
    "        if display:\n",
    "            plt.subplot(2, 2, k + 1)\n",
    "            plt.imshow(img[:, :, k], aspect=\"auto\", origin=\"lower\")\n",
    "            plt.title(f\"EEG {eeg_id} - Spectrogram {NAMES[k]}\")\n",
    "\n",
    "    if display:\n",
    "        plt.show()\n",
    "        plt.figure(figsize=(10, 5))\n",
    "        offset = 0\n",
    "        for k in range(4):\n",
    "            if k > 0:\n",
    "                offset -= signals[3 - k].min()\n",
    "            plt.plot(range(10_000), signals[k] + offset, label=NAMES[3 - k])\n",
    "            offset += signals[3 - k].max()\n",
    "        plt.legend()\n",
    "        plt.title(f\"EEG {eeg_id} Signals\")\n",
    "        plt.show()\n",
    "        print()\n",
    "        print(\"#\" * 25)\n",
    "        print()\n",
    "\n",
    "    return img"
   ]
  },
  {
   "cell_type": "code",
   "execution_count": 10,
   "id": "8159ff2c",
   "metadata": {
    "execution": {
     "iopub.execute_input": "2024-03-13T07:07:35.520611Z",
     "iopub.status.busy": "2024-03-13T07:07:35.520180Z",
     "iopub.status.idle": "2024-03-13T07:07:35.724034Z",
     "shell.execute_reply": "2024-03-13T07:07:35.723130Z"
    },
    "papermill": {
     "duration": 0.212553,
     "end_time": "2024-03-13T07:07:35.726195",
     "exception": false,
     "start_time": "2024-03-13T07:07:35.513642",
     "status": "completed"
    },
    "tags": []
   },
   "outputs": [
    {
     "name": "stdout",
     "output_type": "stream",
     "text": [
      "There are 9647 EEG spectograms\n"
     ]
    }
   ],
   "source": [
    "from glob import glob\n",
    "\n",
    "eeg_spectrograms_loc = (\n",
    "    \"/kaggle/input/brain-eeg-spectrogram-23-sample-pp-mspca/EEG_Spectrograms/\"\n",
    ")\n",
    "paths_eegs = glob(eeg_spectrograms_loc + \"*.npy\")\n",
    "print(f\"There are {len(paths_eegs)} EEG spectograms\")\n",
    "path_eeg_ids_only = [file_path.split(\"/\")[-1].split(\".\")[0] for file_path in paths_eegs]"
   ]
  },
  {
   "cell_type": "code",
   "execution_count": 11,
   "id": "037392c4",
   "metadata": {
    "execution": {
     "iopub.execute_input": "2024-03-13T07:07:35.738830Z",
     "iopub.status.busy": "2024-03-13T07:07:35.738422Z",
     "iopub.status.idle": "2024-03-13T12:47:57.915030Z",
     "shell.execute_reply": "2024-03-13T12:47:57.913118Z"
    },
    "papermill": {
     "duration": 20422.277712,
     "end_time": "2024-03-13T12:47:58.009326",
     "exception": false,
     "start_time": "2024-03-13T07:07:35.731614",
     "status": "completed"
    },
    "tags": []
   },
   "outputs": [
    {
     "name": "stdout",
     "output_type": "stream",
     "text": [
      "Creating and writing 17089 spectrograms to disk... 1100, 2200, 3300, 100, 1200, 2300, 3400, 200, 1300, 2400, 3500, 300, 1400, 2500, 400, 3600, 1500, 2600, 500, 3700, 1600, 2700, 600, 3800, 1700, 2800, 700, 3900, 1800, 2900, 800, 4000, 1900, 3000, 900, 4100, 2000, 3100, 1000, 4200, 2100, 3200, 4300, 4400, 4500, 4600, 4700, 5400, 4800, 5500, 4900, 5600, 5000, 5700, 5100, 5800, 6500, 5200, "
     ]
    },
    {
     "name": "stderr",
     "output_type": "stream",
     "text": [
      "/opt/conda/lib/python3.10/site-packages/sklearn/decomposition/_pca.py:545: RuntimeWarning: invalid value encountered in divide\n",
      "  explained_variance_ratio_ = explained_variance_ / total_var\n",
      "/opt/conda/lib/python3.10/site-packages/sklearn/decomposition/_pca.py:545: RuntimeWarning: invalid value encountered in divide\n",
      "  explained_variance_ratio_ = explained_variance_ / total_var\n",
      "/opt/conda/lib/python3.10/site-packages/sklearn/decomposition/_pca.py:545: RuntimeWarning: invalid value encountered in divide\n",
      "  explained_variance_ratio_ = explained_variance_ / total_var\n",
      "/opt/conda/lib/python3.10/site-packages/sklearn/decomposition/_pca.py:545: RuntimeWarning: invalid value encountered in divide\n",
      "  explained_variance_ratio_ = explained_variance_ / total_var\n",
      "/opt/conda/lib/python3.10/site-packages/sklearn/decomposition/_pca.py:545: RuntimeWarning: invalid value encountered in divide\n",
      "  explained_variance_ratio_ = explained_variance_ / total_var\n",
      "/opt/conda/lib/python3.10/site-packages/sklearn/decomposition/_pca.py:545: RuntimeWarning: invalid value encountered in divide\n",
      "  explained_variance_ratio_ = explained_variance_ / total_var\n",
      "/opt/conda/lib/python3.10/site-packages/sklearn/decomposition/_pca.py:545: RuntimeWarning: invalid value encountered in divide\n",
      "  explained_variance_ratio_ = explained_variance_ / total_var\n",
      "/opt/conda/lib/python3.10/site-packages/sklearn/decomposition/_pca.py:545: RuntimeWarning: invalid value encountered in divide\n",
      "  explained_variance_ratio_ = explained_variance_ / total_var\n",
      "/opt/conda/lib/python3.10/site-packages/sklearn/decomposition/_pca.py:545: RuntimeWarning: invalid value encountered in divide\n",
      "  explained_variance_ratio_ = explained_variance_ / total_var\n",
      "/opt/conda/lib/python3.10/site-packages/sklearn/decomposition/_pca.py:545: RuntimeWarning: invalid value encountered in divide\n",
      "  explained_variance_ratio_ = explained_variance_ / total_var\n",
      "/opt/conda/lib/python3.10/site-packages/sklearn/decomposition/_pca.py:545: RuntimeWarning: invalid value encountered in divide\n",
      "  explained_variance_ratio_ = explained_variance_ / total_var\n",
      "/opt/conda/lib/python3.10/site-packages/pywt/_thresholding.py:23: RuntimeWarning: invalid value encountered in divide\n",
      "  thresholded = (1 - value/magnitude)\n"
     ]
    },
    {
     "name": "stdout",
     "output_type": "stream",
     "text": [
      "Error processing 1457334423: Input X contains NaN.\n",
      "PCA does not accept missing values encoded as NaN natively. For supervised learning, you might want to consider sklearn.ensemble.HistGradientBoostingClassifier and Regressor which accept missing values encoded as NaNs natively. Alternatively, it is possible to preprocess the data, for instance by using an imputer transformer in a pipeline or drop samples with missing values. See https://scikit-learn.org/stable/modules/impute.html You can find a list of all estimators that handle NaN values at the following page: https://scikit-learn.org/stable/modules/impute.html#estimators-that-handle-nan-values\n",
      "6600, 5900, 5300, 6700, 6000, 6800, 6100, 7500, 6900, 6200, 7600, 7000, 6300, 7700, 7100, 6400, 7800, 7200, 7900, 8600, 8000, 8700, 8100, 8800, 8200, 9700, 8300, 9800, 8400, 9900, 8500, 10700, 10800, 10900, 7300, 7400, 11800, 11900, 12000, 11000, 8900, 12100, 10000, 11100, 9000, 12200, 10100, 11200, 9100, 12300, 10200, 11300, 9200, 12400, 10300, 11400, 9300, 12500, 10400, 11500, 9400, 12600, 10500, 11600, 9500, 12700, 10600, 11700, 9600, 13900, 12800, 12900, 15000, 14000, 16100, 13000, 15100, 14100, 16200, 13100, 15200, 14200, 16300, 13200, 15300, 14300, 16400, 13300, 15400, 14400, 16500, 13400, 15500, 14500, 16600, 13500, 15600, 14600, 16700, 13600, 15700, 14700, 16800, 13700, 15800, 14800, 16900, 13800, 15900, 14900, 17000, 16000, Failed EEG IDs: [1457334423]\n"
     ]
    }
   ],
   "source": [
    "import numpy as np\n",
    "import multiprocessing\n",
    "\n",
    "\n",
    "def process_eeg(args):\n",
    "    i, eeg_id = args\n",
    "    try:\n",
    "        if (i % 100 == 0) & (i != 0):\n",
    "            print(f\"{i}, \", end=\"\")\n",
    "\n",
    "        if str(eeg_id) in path_eeg_ids_only:\n",
    "            img = np.load(eeg_spectrograms_loc + str(eeg_id) + \".npy\")\n",
    "        else:\n",
    "            # CREATE SPECTROGRAM FROM EEG PARQUET\n",
    "            # Assuming spectrogram_from_eeg is defined elsewhere and may raise exceptions\n",
    "            img = spectrogram_from_eeg(f\"{PATH}{eeg_id}.parquet\", eeg_id, i < DISPLAY)\n",
    "\n",
    "        # SAVE TO DISK\n",
    "        if i == DISPLAY:\n",
    "            print(\n",
    "                f\"Creating and writing {len(EEG_IDS)} spectrograms to disk... \", end=\"\"\n",
    "            )\n",
    "        np.save(f\"{directory_path}{eeg_id}\", img)\n",
    "        return eeg_id, img\n",
    "    except Exception as e:\n",
    "        print(f\"Error processing {eeg_id}: {e}\")\n",
    "        return eeg_id, None\n",
    "\n",
    "\n",
    "# Setup your variables\n",
    "PATH = \"/kaggle/input/hms-harmful-brain-activity-classification/train_eegs/\"\n",
    "DISPLAY = 4\n",
    "EEG_IDS = train_nine_sample.eeg_id.unique()\n",
    "\n",
    "# Prepare the arguments for multiprocessing\n",
    "args = [(i, eeg_id) for i, eeg_id in enumerate(EEG_IDS)]\n",
    "\n",
    "if __name__ == \"__main__\":\n",
    "    with multiprocessing.Pool(processes=4) as pool:\n",
    "        results = pool.map(process_eeg, args)\n",
    "\n",
    "    # Filter results to separate successful and failed ones\n",
    "    successful_results = {eeg_id: img for eeg_id, img in results if img is not None}\n",
    "    failed_eeg_ids = [eeg_id for eeg_id, img in results if img is None]\n",
    "\n",
    "    # Convert the successful results back to a dictionary and save\n",
    "    np.save(\"eeg_specs\", successful_results)\n",
    "\n",
    "    print(f\"Failed EEG IDs: {failed_eeg_ids}\")\n",
    "    train_nine_sample_filtered = train_nine_sample[\n",
    "        ~train_nine_sample.eeg_id.isin(failed_eeg_ids)\n",
    "    ]\n",
    "\n",
    "    # Save the filtered DataFrame\n",
    "    train_nine_sample_filtered.to_csv(\"train.csv\")"
   ]
  },
  {
   "cell_type": "markdown",
   "id": "acdc4d1d",
   "metadata": {
    "papermill": {
     "duration": 0.113701,
     "end_time": "2024-03-13T12:47:58.239269",
     "exception": false,
     "start_time": "2024-03-13T12:47:58.125568",
     "status": "completed"
    },
    "tags": []
   },
   "source": [
    "# Kaggle Dataset\n",
    "\n",
    "The new EEG spectrograms from version 4 of this notebook have been uploaded to a Kaggle dataset [here][4]. We can attach this Kaggle dataset to our future notebooks to boost our CV scores and LB scores! Thank you everyone for upvoting my new EEG spectrogram Kaggle dataset!\n",
    "\n",
    "Examples of how to use EEG spectrograms to boost CV score and LB score will be (or already are) published in recent versions of my EfficientNet starter notebook [here][2] and CatBoost starter notebook [here][3]\n",
    "\n",
    "Enjoy! Happy Kaggling!\n",
    "\n",
    "[2]: https://www.kaggle.com/code/cdeotte/efficientnetb2-starter-lb-0-57\n",
    "[3]: https://www.kaggle.com/code/cdeotte/catboost-starter-lb-0-67\n",
    "[4]: https://www.kaggle.com/datasets/cdeotte/brain-eeg-spectrograms\n"
   ]
  },
  {
   "cell_type": "code",
   "execution_count": null,
   "id": "657591c8",
   "metadata": {
    "papermill": {
     "duration": 0.074613,
     "end_time": "2024-03-13T12:47:58.428105",
     "exception": false,
     "start_time": "2024-03-13T12:47:58.353492",
     "status": "completed"
    },
    "tags": []
   },
   "outputs": [],
   "source": []
  }
 ],
 "metadata": {
  "kaggle": {
   "accelerator": "none",
   "dataSources": [
    {
     "databundleVersionId": 7469972,
     "sourceId": 59093,
     "sourceType": "competition"
    },
    {
     "datasetId": 4562857,
     "sourceId": 7794167,
     "sourceType": "datasetVersion"
    },
    {
     "datasetId": 4586837,
     "sourceId": 7830869,
     "sourceType": "datasetVersion"
    }
   ],
   "dockerImageVersionId": 30635,
   "isGpuEnabled": false,
   "isInternetEnabled": true,
   "language": "python",
   "sourceType": "notebook"
  },
  "kernelspec": {
   "display_name": "Python 3",
   "language": "python",
   "name": "python3"
  },
  "language_info": {
   "codemirror_mode": {
    "name": "ipython",
    "version": 3
   },
   "file_extension": ".py",
   "mimetype": "text/x-python",
   "name": "python",
   "nbconvert_exporter": "python",
   "pygments_lexer": "ipython3",
   "version": "3.10.12"
  },
  "papermill": {
   "default_parameters": {},
   "duration": 20445.423909,
   "end_time": "2024-03-13T12:48:00.669378",
   "environment_variables": {},
   "exception": null,
   "input_path": "__notebook__.ipynb",
   "output_path": "__notebook__.ipynb",
   "parameters": {},
   "start_time": "2024-03-13T07:07:15.245469",
   "version": "2.4.0"
  }
 },
 "nbformat": 4,
 "nbformat_minor": 5
}
