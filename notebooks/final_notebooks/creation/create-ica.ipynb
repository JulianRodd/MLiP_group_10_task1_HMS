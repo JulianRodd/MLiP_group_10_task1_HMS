{
 "cells": [
  {
   "cell_type": "code",
   "execution_count": null,
   "id": "3e8fa07f",
   "metadata": {
    "_cell_guid": "b1076dfc-b9ad-4769-8c92-a6c4dae69d19",
    "_uuid": "8f2839f25d086af736a60e9eeb907d3b93b6e0e5",
    "execution": {
     "iopub.execute_input": "2024-03-09T08:55:39.627277Z",
     "iopub.status.busy": "2024-03-09T08:55:39.626353Z",
     "iopub.status.idle": "2024-03-09T08:55:41.062924Z",
     "shell.execute_reply": "2024-03-09T08:55:41.061110Z"
    },
    "papermill": {
     "duration": 1.44926,
     "end_time": "2024-03-09T08:55:41.066440",
     "exception": false,
     "start_time": "2024-03-09T08:55:39.617180",
     "status": "completed"
    },
    "tags": []
   },
   "outputs": [],
   "source": [
    "import pandas as pd, numpy as np, os\n",
    "import matplotlib.pyplot as plt, gc\n",
    "\n",
    "train = pd.read_csv(\"/kaggle/input/hms-harmful-brain-activity-classification/train.csv\")\n",
    "print(\"Train shape\", train.shape)\n",
    "display(train.head())"
   ]
  },
  {
   "cell_type": "markdown",
   "id": "391b4f72",
   "metadata": {
    "papermill": {
     "duration": 0.009076,
     "end_time": "2024-03-09T08:55:41.082874",
     "exception": false,
     "start_time": "2024-03-09T08:55:41.073798",
     "status": "completed"
    },
    "tags": []
   },
   "source": [
    "# The Bipolar Double Banana Montage\n",
    "\n",
    "In the Kaggle discussion [here][1], we learn what information we need to make spectrograms from eegs. The following website [here][2] is helpful also. To build 1 spectrogram, we need 1 time series signal. Kaggle provides us with 19 eeg time signals, so we must combine them into 4 time signals to make 4 spectrograms.\n",
    "\n",
    "In the diagram below, we see which electrode signals are needed to make the `LL, LP, RP, RR` spectrograms. Furthermore Kaggle discussions imply that most likely we create differences between consecutive electrodes and average the differences. For example, we create `LL spectrogram` with the formula:\n",
    "\n",
    "    LL = ( (Fp1 - F7) + (F7 - T3) + (T3 - T5) + (T5 - O1) )/4.\n",
    "\n",
    "I am not positive that this is the correct formula. I also tried the formula below but it produced a worse CV score than the above formula, so perhaps the above is correct. I am confident that we only use these 5 electrodes to create `LL spectrogram`. I'm just a little unsure about the formula:\n",
    "\n",
    "    LL = ( Fp1 + F7 + T3 + T5 + O1 )/5.\n",
    "\n",
    "# Exciting UPDATE!\n",
    "\n",
    "I believe the above two formulas are wrong. Many Kagglers have pointed out that the above formula reduces to `LL = ( Fp1 - O1 )/4` which means that it does not use all the EEG signals. The new formula below utilizes all the EEG signals and produces EEG spectrograms that achieve better CV score and LB score than the Kaggle spectrograms. Therefore I think the following formula is the correct one:\n",
    "\n",
    "    LL Spec = ( spec(Fp1 - F7) + spec(F7 - T3) + spec(T3 - T5) + spec(T5 - O1) )/4.\n",
    "\n",
    "Since creating a spectrogram is a non-linear operation, the above formula which computes 4 spectrograms and then takes the average is different than the formula below which computes 1 spectrogam. And the above formula does utilize all EEG signals and cannot be reduced to a shorter formula (like the one below).\n",
    "\n",
    "    LL Spec = spec( ( (Fp1 - F7) + (F7 - T3) + (T3 - T5) + (T5 - O1) )/4. )\n",
    "\n",
    "![](https://raw.githubusercontent.com/cdeotte/Kaggle_Images/main/Jan-2024/montage.png)\n",
    "\n",
    "[1]: https://www.kaggle.com/competitions/hms-harmful-brain-activity-classification/discussion/467877\n",
    "[2]: https://www.learningeeg.com/montages-and-technical-components\n"
   ]
  },
  {
   "cell_type": "code",
   "execution_count": null,
   "id": "494462a8",
   "metadata": {
    "execution": {
     "iopub.execute_input": "2024-03-09T08:55:41.100967Z",
     "iopub.status.busy": "2024-03-09T08:55:41.100518Z",
     "iopub.status.idle": "2024-03-09T08:55:41.110785Z",
     "shell.execute_reply": "2024-03-09T08:55:41.109359Z"
    },
    "papermill": {
     "duration": 0.021739,
     "end_time": "2024-03-09T08:55:41.113406",
     "exception": false,
     "start_time": "2024-03-09T08:55:41.091667",
     "status": "completed"
    },
    "tags": []
   },
   "outputs": [],
   "source": [
    "NAMES = [\"LL\", \"LP\", \"RP\", \"RR\"]\n",
    "\n",
    "FEATS = [\n",
    "    [\"Fp1\", \"F7\", \"T3\", \"T5\", \"O1\"],\n",
    "    [\"Fp1\", \"F3\", \"C3\", \"P3\", \"O1\"],\n",
    "    [\"Fp2\", \"F8\", \"T4\", \"T6\", \"O2\"],\n",
    "    [\"Fp2\", \"F4\", \"C4\", \"P4\", \"O2\"],\n",
    "]\n",
    "\n",
    "directory_path = \"EEG_Spectrograms/\"\n",
    "if not os.path.exists(directory_path):\n",
    "    os.makedirs(directory_path)"
   ]
  },
  {
   "cell_type": "markdown",
   "id": "7fda1be8",
   "metadata": {
    "papermill": {
     "duration": 0.008564,
     "end_time": "2024-03-09T08:55:41.131191",
     "exception": false,
     "start_time": "2024-03-09T08:55:41.122627",
     "status": "completed"
    },
    "tags": []
   },
   "source": [
    "# Optional Signal Denoising with Wavelet transform\n",
    "\n",
    "We can optionally denoise the signal before creating the spectrogram. I'm not sure yet if this creates better or worse spectrograms. We can experiment with this. This code comes from Yusaku5738 notebook [here][1] and was suggested by SeshuRajuP in the comments. We have many parent functions to use for denoising. Yusaku5738 suggests using `wavelet = db8`.\n",
    "\n",
    "[1]: https://www.kaggle.com/code/yusaku5739/eeg-signal-denosing-using-wavelet-transform\n"
   ]
  },
  {
   "cell_type": "code",
   "execution_count": null,
   "id": "bbec33a4",
   "metadata": {
    "execution": {
     "iopub.execute_input": "2024-03-09T08:55:41.150554Z",
     "iopub.status.busy": "2024-03-09T08:55:41.149340Z",
     "iopub.status.idle": "2024-03-09T08:55:41.665946Z",
     "shell.execute_reply": "2024-03-09T08:55:41.664374Z"
    },
    "papermill": {
     "duration": 0.529099,
     "end_time": "2024-03-09T08:55:41.669212",
     "exception": false,
     "start_time": "2024-03-09T08:55:41.140113",
     "status": "completed"
    },
    "tags": []
   },
   "outputs": [],
   "source": [
    "import pywt\n",
    "\n",
    "print(\"The wavelet functions we can use:\")\n",
    "print(pywt.wavelist())\n",
    "\n",
    "USE_WAVELET = None  # or \"db8\" or anything below"
   ]
  },
  {
   "cell_type": "code",
   "execution_count": null,
   "id": "fdb557d6",
   "metadata": {
    "execution": {
     "iopub.execute_input": "2024-03-09T08:55:41.685026Z",
     "iopub.status.busy": "2024-03-09T08:55:41.684595Z",
     "iopub.status.idle": "2024-03-09T08:55:58.531881Z",
     "shell.execute_reply": "2024-03-09T08:55:58.530455Z"
    },
    "papermill": {
     "duration": 16.859084,
     "end_time": "2024-03-09T08:55:58.535246",
     "exception": false,
     "start_time": "2024-03-09T08:55:41.676162",
     "status": "completed"
    },
    "tags": []
   },
   "outputs": [],
   "source": [
    "!pip install mspca --find-links \"/kaggle/input/mspca-wheel/mspca-0.0.4-py3-none-any.whl\" --no-index"
   ]
  },
  {
   "cell_type": "code",
   "execution_count": null,
   "id": "d149d970",
   "metadata": {
    "execution": {
     "iopub.execute_input": "2024-03-09T08:55:58.552551Z",
     "iopub.status.busy": "2024-03-09T08:55:58.551147Z",
     "iopub.status.idle": "2024-03-09T08:55:59.970259Z",
     "shell.execute_reply": "2024-03-09T08:55:59.968428Z"
    },
    "papermill": {
     "duration": 1.431425,
     "end_time": "2024-03-09T08:55:59.973770",
     "exception": false,
     "start_time": "2024-03-09T08:55:58.542345",
     "status": "completed"
    },
    "tags": []
   },
   "outputs": [],
   "source": [
    "from mspca import mspca"
   ]
  },
  {
   "cell_type": "code",
   "execution_count": null,
   "id": "e4cb199c",
   "metadata": {
    "execution": {
     "iopub.execute_input": "2024-03-09T08:55:59.990810Z",
     "iopub.status.busy": "2024-03-09T08:55:59.990296Z",
     "iopub.status.idle": "2024-03-09T08:56:00.000561Z",
     "shell.execute_reply": "2024-03-09T08:55:59.998975Z"
    },
    "papermill": {
     "duration": 0.022243,
     "end_time": "2024-03-09T08:56:00.003376",
     "exception": false,
     "start_time": "2024-03-09T08:55:59.981133",
     "status": "completed"
    },
    "tags": []
   },
   "outputs": [],
   "source": [
    "# DENOISE FUNCTION\n",
    "def maddest(d, axis=None):\n",
    "    return np.mean(np.absolute(d - np.mean(d, axis)), axis)\n",
    "\n",
    "\n",
    "def denoise(x, wavelet=\"haar\", level=1):\n",
    "    coeff = pywt.wavedec(x, wavelet, mode=\"per\")\n",
    "    sigma = (1 / 0.6745) * maddest(coeff[-level])\n",
    "\n",
    "    uthresh = sigma * np.sqrt(2 * np.log(len(x)))\n",
    "    coeff[1:] = (pywt.threshold(i, value=uthresh, mode=\"hard\") for i in coeff[1:])\n",
    "\n",
    "    ret = pywt.waverec(coeff, wavelet, mode=\"per\")\n",
    "\n",
    "    return ret"
   ]
  },
  {
   "cell_type": "markdown",
   "id": "d7a263a3",
   "metadata": {
    "papermill": {
     "duration": 0.006747,
     "end_time": "2024-03-09T08:56:00.017252",
     "exception": false,
     "start_time": "2024-03-09T08:56:00.010505",
     "status": "completed"
    },
    "tags": []
   },
   "source": [
    "# How To Make Spectrograms from EEG\n",
    "\n",
    "In this notebook, we learn how to make spectrograms from EEG. The EEGs are waveforms and the Spectrograms are images. There is a discussion about this notebook [here][1].\n",
    "\n",
    "In version 1-3, we also train a simple model using our EEG spectrograms to confirm that they work well. We observe that a model trained with EEG spectrograms performs better than baseline models using only train means.\n",
    "\n",
    "# Exciting UPDATE!\n",
    "\n",
    "Version 4 of this notebook uses a different formula to make spectrograms than earlier versions. I trained an EfficientNet model using the old version eeg spectrograms, new version spectrograms, and Kaggle spectrograms. We can see that the new version eeg spectrograms are **powerful**!\n",
    "\n",
    "| Spectrogram             | 5-Fold CV      | LB   |\n",
    "| ----------------------- | -------------- | ---- |\n",
    "| Kaggle spectrogram      | 0.73           | 0.57 |\n",
    "| Old EEG formula         | 0.84 on fold 1 | ??   |\n",
    "| New EEG formula         | 0.70 on fold 1 | ??   |\n",
    "| Use both Kaggle and New | 0.64           | 0.44 |\n",
    "\n",
    "From the results above, we conclude that our new formula is probably similar or better than the true formula used to create the Kaggle spectrograms. Details about the old and new formula are in the next notebook section.\n",
    "\n",
    "# How To Use EEG Spectrograms\n",
    "\n",
    "Examples of how to use new EEG spectrograms to boost CV score and LB score will be (or already are) published in recent versions of my EfficientNet starter notebook [here][2] and CatBoost starter notebook [here][3]\n",
    "\n",
    "# Kaggle Dataset\n",
    "\n",
    "The new EEG spectrograms from version 4 of this notebook have been uploaded to a Kaggle dataset [here][4]. We can attach this Kaggle dataset to our future notebooks to boost our CV scores and LB scores! Thank you everyone for upvoting my new EEG spectrogram Kaggle dataset!\n",
    "\n",
    "[1]: https://www.kaggle.com/competitions/hms-harmful-brain-activity-classification/discussion/467877\n",
    "[2]: https://www.kaggle.com/code/cdeotte/efficientnetb2-starter-lb-0-57\n",
    "[3]: https://www.kaggle.com/code/cdeotte/catboost-starter-lb-0-67\n",
    "[4]: https://www.kaggle.com/datasets/cdeotte/brain-eeg-spectrograms\n"
   ]
  },
  {
   "cell_type": "markdown",
   "id": "7293a3a8",
   "metadata": {
    "papermill": {
     "duration": 0.006584,
     "end_time": "2024-03-09T08:56:00.031008",
     "exception": false,
     "start_time": "2024-03-09T08:56:00.024424",
     "status": "completed"
    },
    "tags": []
   },
   "source": [
    "# Create Spectrograms with Librosa\n",
    "\n",
    "We can use library librosa to create spectrograms. We will save them to disk. For each `eeg_id` we will make 1 spectrogram from the middle 50 seconds. We don't want to use more information than 50 seconds at a time because during test inference, we only have access to 50 seconds of EEG for each test `eeg_id`. We will create spectrograms of `size = 128x256 (freq x time)`.\n",
    "\n",
    "The main function is\n",
    "\n",
    "    mel_spec = librosa.feature.melspectrogram(y=x, sr=200, hop_length=len(x)//256,\n",
    "              n_fft=1024, n_mels=128, fmin=0, fmax=20, win_length=128)\n",
    "\n",
    "\n",
    "Let's explain these variables.\n",
    "\n",
    "- `y` is the input time series signal\n",
    "- `sr` is the sampling frequency. In this competition EEG is sample 200 times per sec\n",
    "- `hop_length` produces image with `width = len(x)/hop_length`\n",
    "- `n_fft` controls vertical resolution and quality of spectrogram\n",
    "- `n_mels` produces image with `height = n_mels`\n",
    "- `fmin` is smallest frequency in our spectrogram\n",
    "- `fmax` is largest frequency in our spectrogram\n",
    "- `win_length` controls hortizonal resolution and quality of spectrogram\n"
   ]
  },
  {
   "cell_type": "code",
   "execution_count": null,
   "id": "3b616928",
   "metadata": {
    "execution": {
     "iopub.execute_input": "2024-03-09T08:56:00.047108Z",
     "iopub.status.busy": "2024-03-09T08:56:00.046601Z",
     "iopub.status.idle": "2024-03-09T08:56:01.442084Z",
     "shell.execute_reply": "2024-03-09T08:56:01.440666Z"
    },
    "papermill": {
     "duration": 1.407303,
     "end_time": "2024-03-09T08:56:01.445350",
     "exception": false,
     "start_time": "2024-03-09T08:56:00.038047",
     "status": "completed"
    },
    "tags": []
   },
   "outputs": [],
   "source": [
    "import librosa\n",
    "import numpy as np\n",
    "import pandas as pd\n",
    "from sklearn.decomposition import FastICA\n",
    "from sklearn.impute import SimpleImputer\n",
    "from sklearn.feature_selection import VarianceThreshold\n",
    "import albumentations as A\n",
    "\n",
    "\n",
    "def apply_ica_raw_eeg(eeg_data: pd.DataFrame, n_components=4) -> pd.DataFrame:\n",
    "    try:\n",
    "        # Impute NaN values\n",
    "        imputer = SimpleImputer(strategy=\"mean\")\n",
    "        eeg_data_imputed = imputer.fit_transform(eeg_data)\n",
    "\n",
    "        # Remove constant features but preserve columns\n",
    "        sel = VarianceThreshold(threshold=0)\n",
    "        eeg_data_non_constant = sel.fit_transform(eeg_data_imputed)\n",
    "        non_constant_cols = eeg_data.columns[sel.get_support()]\n",
    "\n",
    "        if n_components > len(non_constant_cols):\n",
    "            raise ValueError(\n",
    "                \"Number of components for ICA cannot be greater than the number of non-constant features in eeg_data\"\n",
    "            )\n",
    "\n",
    "        # Perform ICA\n",
    "        ica = FastICA(\n",
    "            n_components=n_components, whiten=\"unit-variance\", max_iter=1500, tol=0.01\n",
    "        )\n",
    "        S_ = ica.fit_transform(eeg_data_non_constant)  # Get the independent components\n",
    "\n",
    "        # Transform back to the original space\n",
    "        reconstructed_eeg = ica.inverse_transform(S_)\n",
    "\n",
    "        # Create a DataFrame with the original column names\n",
    "        reconstructed_df = pd.DataFrame(\n",
    "            reconstructed_eeg, columns=non_constant_cols, index=eeg_data.index\n",
    "        )\n",
    "\n",
    "        # Re-add any dropped columns as NaNs to maintain the original DataFrame structure\n",
    "        for col in eeg_data.columns:\n",
    "            if col not in reconstructed_df.columns:\n",
    "                reconstructed_df[col] = np.nan\n",
    "\n",
    "        # Explicit memory cleanup\n",
    "        del eeg_data_imputed, eeg_data_non_constant, S_, reconstructed_eeg\n",
    "        gc.collect()\n",
    "\n",
    "        return reconstructed_df\n",
    "    except Exception as e:\n",
    "        print(f\"An error occurred during ICA: {e}\")\n",
    "        return eeg_data\n",
    "\n",
    "\n",
    "def z_score_normalize(eeg):\n",
    "    return (eeg - eeg.mean()) / eeg.std()\n",
    "\n",
    "\n",
    "def spectrogram_from_eeg(parquet_path, display=False):\n",
    "    # LOAD MIDDLE 50 SECONDS OF EEG SERIES\n",
    "    eeg = pd.read_parquet(parquet_path)\n",
    "    middle = (len(eeg) - 10_000) // 2\n",
    "    eeg = eeg.iloc[middle : middle + 10_000]\n",
    "\n",
    "    eeg = apply_ica_raw_eeg(eeg)\n",
    "\n",
    "    for column in eeg.columns:\n",
    "        eeg[column] = z_score_normalize(eeg[column])\n",
    "\n",
    "    # VARIABLE TO HOLD SPECTROGRAM\n",
    "    img = np.zeros((128, 256, 4), dtype=\"float32\")\n",
    "\n",
    "    if display:\n",
    "        plt.figure(figsize=(10, 7))\n",
    "    signals = []\n",
    "    for k in range(4):\n",
    "        COLS = FEATS[k]\n",
    "\n",
    "        for kk in range(4):\n",
    "\n",
    "            # COMPUTE PAIR DIFFERENCES\n",
    "            x = eeg[COLS[kk]].values - eeg[COLS[kk + 1]].values\n",
    "\n",
    "            # FILL NANS\n",
    "            m = np.nanmean(x)\n",
    "            if np.isnan(x).mean() < 1:\n",
    "                x = np.nan_to_num(x, nan=m)\n",
    "            else:\n",
    "                x[:] = 0\n",
    "\n",
    "            # DENOISE\n",
    "            if USE_WAVELET:\n",
    "                x = denoise(x, wavelet=USE_WAVELET)\n",
    "            signals.append(x)\n",
    "\n",
    "            # RAW SPECTROGRAM\n",
    "            mel_spec = librosa.feature.melspectrogram(\n",
    "                y=x,\n",
    "                sr=200,\n",
    "                hop_length=len(x) // 256,\n",
    "                n_fft=1024,\n",
    "                n_mels=128,\n",
    "                fmin=0,\n",
    "                fmax=20,\n",
    "                win_length=128,\n",
    "            )\n",
    "\n",
    "            # LOG TRANSFORM\n",
    "            width = (mel_spec.shape[1] // 32) * 32\n",
    "            mel_spec_db = librosa.power_to_db(mel_spec, ref=np.max).astype(np.float32)[\n",
    "                :, :width\n",
    "            ]\n",
    "\n",
    "            # STANDARDIZE TO -1 TO 1\n",
    "            mel_spec_db = (mel_spec_db + 40) / 40\n",
    "            img[:, :, k] += mel_spec_db\n",
    "\n",
    "        # AVERAGE THE 4 MONTAGE DIFFERENCES\n",
    "        img[:, :, k] /= 4.0\n",
    "\n",
    "        if display:\n",
    "            plt.subplot(2, 2, k + 1)\n",
    "            plt.imshow(img[:, :, k], aspect=\"auto\", origin=\"lower\")\n",
    "            plt.title(f\"EEG {eeg_id} - Spectrogram {NAMES[k]}\")\n",
    "\n",
    "    if display:\n",
    "        plt.show()\n",
    "        plt.figure(figsize=(10, 5))\n",
    "        offset = 0\n",
    "        for k in range(4):\n",
    "            if k > 0:\n",
    "                offset -= signals[3 - k].min()\n",
    "            plt.plot(range(10_000), signals[k] + offset, label=NAMES[3 - k])\n",
    "            offset += signals[3 - k].max()\n",
    "        plt.legend()\n",
    "        plt.title(f\"EEG {eeg_id} Signals\")\n",
    "        plt.show()\n",
    "        print()\n",
    "        print(\"#\" * 25)\n",
    "        print()\n",
    "\n",
    "    return img"
   ]
  },
  {
   "cell_type": "code",
   "execution_count": null,
   "id": "ad19b659",
   "metadata": {
    "execution": {
     "iopub.execute_input": "2024-03-09T08:56:01.462524Z",
     "iopub.status.busy": "2024-03-09T08:56:01.461801Z",
     "iopub.status.idle": "2024-03-09T08:56:01.470262Z",
     "shell.execute_reply": "2024-03-09T08:56:01.468663Z"
    },
    "papermill": {
     "duration": 0.02041,
     "end_time": "2024-03-09T08:56:01.473358",
     "exception": false,
     "start_time": "2024-03-09T08:56:01.452948",
     "status": "completed"
    },
    "tags": []
   },
   "outputs": [],
   "source": [
    "def process_eeg(eeg_id):\n",
    "    \"\"\"\n",
    "    Function to process a single EEG file: load it, generate spectrogram, and save to disk.\n",
    "    \"\"\"\n",
    "    print(eeg_id)\n",
    "    # Path to the EEG file\n",
    "    filepath = f\"{PATH}{eeg_id}.parquet\"\n",
    "\n",
    "    # Generate spectrogram (you'll need to define this function)\n",
    "    img = spectrogram_from_eeg(filepath)\n",
    "\n",
    "    # Save spectrogram to disk (adjust the directory_path as necessary)\n",
    "    np.save(f\"{directory_path}{eeg_id}\", img)\n",
    "\n",
    "    # Return eeg_id and image for any further processing or aggregation\n",
    "    return eeg_id, img"
   ]
  },
  {
   "cell_type": "code",
   "execution_count": null,
   "id": "3fdb1120",
   "metadata": {
    "execution": {
     "iopub.execute_input": "2024-03-09T08:56:01.490225Z",
     "iopub.status.busy": "2024-03-09T08:56:01.489698Z",
     "iopub.status.idle": "2024-03-09T08:56:01.495908Z",
     "shell.execute_reply": "2024-03-09T08:56:01.494541Z"
    },
    "papermill": {
     "duration": 0.01769,
     "end_time": "2024-03-09T08:56:01.498489",
     "exception": false,
     "start_time": "2024-03-09T08:56:01.480799",
     "status": "completed"
    },
    "tags": []
   },
   "outputs": [],
   "source": [
    "import numpy as np\n",
    "import os\n",
    "from multiprocessing import Pool, cpu_count"
   ]
  },
  {
   "cell_type": "code",
   "execution_count": null,
   "id": "e700baa6",
   "metadata": {
    "execution": {
     "iopub.execute_input": "2024-03-09T08:56:01.514838Z",
     "iopub.status.busy": "2024-03-09T08:56:01.514364Z",
     "iopub.status.idle": "2024-03-09T11:51:12.829083Z",
     "shell.execute_reply": "2024-03-09T11:51:12.825357Z"
    },
    "papermill": {
     "duration": 10511.328717,
     "end_time": "2024-03-09T11:51:12.834346",
     "exception": false,
     "start_time": "2024-03-09T08:56:01.505629",
     "status": "completed"
    },
    "tags": []
   },
   "outputs": [],
   "source": [
    "%%time\n",
    "PATH = '/kaggle/input/hms-harmful-brain-activity-classification/train_eegs/'\n",
    "DISPLAY = 4\n",
    "EEG_IDS = train.eeg_id.unique()\n",
    "all_eegs = {}\n",
    "\n",
    "# Determine the number of processes to use\n",
    "num_processes = min(len(EEG_IDS), cpu_count())\n",
    "\n",
    "# Create a pool of workers\n",
    "with Pool(processes=num_processes) as pool:\n",
    "    # Map the process_eeg function to each EEG_ID\n",
    "    results = pool.map(process_eeg, EEG_IDS)\n",
    "\n",
    "# Collect all results (if necessary, for further processing)\n",
    "all_eegs = dict(results)\n",
    "\n",
    "# Optionally, save all results to disk\n",
    "np.save('eeg_specs.npy', all_eegs)"
   ]
  },
  {
   "cell_type": "markdown",
   "id": "1586a1d9",
   "metadata": {
    "papermill": {
     "duration": 3.489897,
     "end_time": "2024-03-09T11:51:25.781249",
     "exception": false,
     "start_time": "2024-03-09T11:51:22.291352",
     "status": "completed"
    },
    "tags": []
   },
   "source": [
    "# Kaggle Dataset\n",
    "\n",
    "The new EEG spectrograms from version 4 of this notebook have been uploaded to a Kaggle dataset [here][4]. We can attach this Kaggle dataset to our future notebooks to boost our CV scores and LB scores! Thank you everyone for upvoting my new EEG spectrogram Kaggle dataset!\n",
    "\n",
    "Examples of how to use EEG spectrograms to boost CV score and LB score will be (or already are) published in recent versions of my EfficientNet starter notebook [here][2] and CatBoost starter notebook [here][3]\n",
    "\n",
    "Enjoy! Happy Kaggling!\n",
    "\n",
    "[2]: https://www.kaggle.com/code/cdeotte/efficientnetb2-starter-lb-0-57\n",
    "[3]: https://www.kaggle.com/code/cdeotte/catboost-starter-lb-0-67\n",
    "[4]: https://www.kaggle.com/datasets/cdeotte/brain-eeg-spectrograms\n"
   ]
  }
 ],
 "metadata": {
  "kaggle": {
   "accelerator": "none",
   "dataSources": [
    {
     "databundleVersionId": 7469972,
     "sourceId": 59093,
     "sourceType": "competition"
    },
    {
     "datasetId": 4562857,
     "sourceId": 7794167,
     "sourceType": "datasetVersion"
    }
   ],
   "dockerImageVersionId": 30635,
   "isGpuEnabled": false,
   "isInternetEnabled": false,
   "language": "python",
   "sourceType": "notebook"
  },
  "kernelspec": {
   "display_name": "Python 3",
   "language": "python",
   "name": "python3"
  },
  "language_info": {
   "codemirror_mode": {
    "name": "ipython",
    "version": 3
   },
   "file_extension": ".py",
   "mimetype": "text/x-python",
   "name": "python",
   "nbconvert_exporter": "python",
   "pygments_lexer": "ipython3",
   "version": "3.10.12"
  },
  "papermill": {
   "default_parameters": {},
   "duration": 10557.740275,
   "end_time": "2024-03-09T11:51:32.708398",
   "environment_variables": {},
   "exception": null,
   "input_path": "__notebook__.ipynb",
   "output_path": "__notebook__.ipynb",
   "parameters": {},
   "start_time": "2024-03-09T08:55:34.968123",
   "version": "2.4.0"
  }
 },
 "nbformat": 4,
 "nbformat_minor": 5
}
