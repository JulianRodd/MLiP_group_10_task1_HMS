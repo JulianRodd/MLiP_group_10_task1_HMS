{
 "cells": [
  {
   "cell_type": "markdown",
   "id": "77097c3b",
   "metadata": {
    "papermill": {
     "duration": 0.007534,
     "end_time": "2024-03-13T15:10:12.996582",
     "exception": false,
     "start_time": "2024-03-13T15:10:12.989048",
     "status": "completed"
    },
    "tags": []
   },
   "source": [
    "# <b><span style='color:#F1A424'>|</span> HMS: <span style='color:#F1A424'>Harmful Brain Activity Classification</span><span style='color:#ABABAB'> [Inference]</span></b>\n",
    "\n",
    "---\n",
    "\n",
    "**Consider upvoting this notebook if you find it useful 🙌🏼**\n",
    "\n",
    "- [Train Notebook](https://www.kaggle.com/alejopaullier/hms-efficientnetb0-pytorch-train)\n",
    "\n",
    "Your goal in this competition is to detect and classify seizures and other types of harmful brain activity. You will develop a model trained on electroencephalography (EEG) signals recorded from critically ill hospital patients.\n",
    "\n",
    "In this notebook you will learn how to infer with an `efficientnet` model for image classification using PyTorch. Hope you enjoy it and find it useful.\n",
    "\n",
    "### <b><span style='color:#F1A424'>Table of Contents</span></b> <a class='anchor' id='top'></a>\n",
    "\n",
    "<div style=\" background-color:#3b3745; padding: 13px 13px; border-radius: 8px; color: white\">\n",
    "<li><a href=\"#import_libraries\">Import Libraries</a></li>\n",
    "<li><a href=\"#configuration\">Configuration</a></li>\n",
    "<li><a href=\"#utils\">Utils</a></li>\n",
    "<li><a href=\"#load_data\">Load Data</a></li>\n",
    "<li><a href=\"#dataset\">Dataset</a></li>\n",
    "<li><a href=\"#dataloader\">DataLoader</a></li>\n",
    "<li><a href=\"#model\">Model</a></li>\n",
    "<li><a href=\"#inference_function\">Inference Function</a></li>\n",
    "<li><a href=\"#infer\">Infer</a></li>\n",
    "<li><a href=\"#submission\">Save Submission</a></li>\n",
    "</div>\n"
   ]
  },
  {
   "cell_type": "markdown",
   "id": "5c6738fc",
   "metadata": {
    "papermill": {
     "duration": 0.00671,
     "end_time": "2024-03-13T15:10:13.010461",
     "exception": false,
     "start_time": "2024-03-13T15:10:13.003751",
     "status": "completed"
    },
    "tags": []
   },
   "source": [
    "# <b><span style='color:#F1A424'>|</span> Import Libraries</b><a class='anchor' id='import_libraries'></a> [↑](#top)\n",
    "\n",
    "---\n",
    "\n",
    "Import all the required libraries for this notebook.\n"
   ]
  },
  {
   "cell_type": "code",
   "execution_count": 1,
   "id": "31909406",
   "metadata": {
    "execution": {
     "iopub.execute_input": "2024-03-13T15:10:13.025781Z",
     "iopub.status.busy": "2024-03-13T15:10:13.025431Z",
     "iopub.status.idle": "2024-03-13T15:10:21.103202Z",
     "shell.execute_reply": "2024-03-13T15:10:21.102276Z"
    },
    "papermill": {
     "duration": 8.088125,
     "end_time": "2024-03-13T15:10:21.105456",
     "exception": false,
     "start_time": "2024-03-13T15:10:13.017331",
     "status": "completed"
    },
    "tags": []
   },
   "outputs": [
    {
     "name": "stderr",
     "output_type": "stream",
     "text": [
      "/opt/conda/lib/python3.10/site-packages/scipy/__init__.py:146: UserWarning: A NumPy version >=1.16.5 and <1.23.0 is required for this version of SciPy (detected version 1.24.3\n",
      "  warnings.warn(f\"A NumPy version >={np_minversion} and <{np_maxversion}\"\n"
     ]
    },
    {
     "name": "stdout",
     "output_type": "stream",
     "text": [
      "Using 1 GPU(s)\n"
     ]
    }
   ],
   "source": [
    "import albumentations as A\n",
    "import gc\n",
    "import librosa\n",
    "import matplotlib.pyplot as plt\n",
    "import math\n",
    "import multiprocessing\n",
    "import numpy as np\n",
    "import os\n",
    "import pandas as pd\n",
    "import pywt\n",
    "import random\n",
    "import time\n",
    "import timm\n",
    "import torch\n",
    "import torch.nn as nn\n",
    "\n",
    "import albumentations as A\n",
    "import gc\n",
    "import matplotlib.pyplot as plt\n",
    "import math\n",
    "import multiprocessing\n",
    "import numpy as np\n",
    "import os\n",
    "import pandas as pd\n",
    "import random\n",
    "import time\n",
    "import timm\n",
    "import torch\n",
    "import torch.nn as nn\n",
    "import numpy as np\n",
    "import pandas as pd\n",
    "from sklearn.decomposition import FastICA\n",
    "from sklearn.impute import SimpleImputer\n",
    "from sklearn.feature_selection import VarianceThreshold\n",
    "import albumentations as A\n",
    "import gc\n",
    "import librosa\n",
    "import matplotlib.pyplot as plt\n",
    "import math\n",
    "import multiprocessing\n",
    "import numpy as np\n",
    "import os\n",
    "import pandas as pd\n",
    "import pywt\n",
    "import random\n",
    "import time\n",
    "import timm\n",
    "import torch\n",
    "import torch.nn as nn\n",
    "from albumentations.pytorch import ToTensorV2\n",
    "from glob import glob\n",
    "from torch.utils.data import DataLoader, Dataset\n",
    "from tqdm import tqdm\n",
    "from typing import Dict, List\n",
    "from albumentations.pytorch import ToTensorV2\n",
    "from glob import glob\n",
    "from torch.utils.data import DataLoader, Dataset\n",
    "from tqdm import tqdm\n",
    "from typing import Dict, List\n",
    "\n",
    "from albumentations.pytorch import ToTensorV2\n",
    "from glob import glob\n",
    "from torch.utils.data import DataLoader, Dataset\n",
    "from tqdm import tqdm\n",
    "from typing import Dict, List\n",
    "\n",
    "os.environ[\"CUDA_VISIBLE_DEVICES\"] = \"0,1\"\n",
    "device = torch.device(\"cuda:0\" if torch.cuda.is_available() else \"cpu\")\n",
    "print(\"Using\", torch.cuda.device_count(), \"GPU(s)\")"
   ]
  },
  {
   "cell_type": "code",
   "execution_count": 2,
   "id": "5191ad1c",
   "metadata": {
    "execution": {
     "iopub.execute_input": "2024-03-13T15:10:21.121649Z",
     "iopub.status.busy": "2024-03-13T15:10:21.121372Z",
     "iopub.status.idle": "2024-03-13T15:10:33.617235Z",
     "shell.execute_reply": "2024-03-13T15:10:33.615968Z"
    },
    "papermill": {
     "duration": 12.506528,
     "end_time": "2024-03-13T15:10:33.619547",
     "exception": false,
     "start_time": "2024-03-13T15:10:21.113019",
     "status": "completed"
    },
    "tags": []
   },
   "outputs": [
    {
     "name": "stdout",
     "output_type": "stream",
     "text": [
      "Looking in links: /kaggle/input/mspca-wheel/mspca-0.0.4-py3-none-any.whl\r\n",
      "Processing /kaggle/input/mspca-wheel/mspca-0.0.4-py3-none-any.whl\r\n",
      "Requirement already satisfied: PyWavelets in /opt/conda/lib/python3.10/site-packages (from mspca) (1.4.1)\r\n",
      "Requirement already satisfied: numpy>=1.17.3 in /opt/conda/lib/python3.10/site-packages (from PyWavelets->mspca) (1.24.3)\r\n",
      "Installing collected packages: mspca\r\n",
      "Successfully installed mspca-0.0.4\r\n"
     ]
    }
   ],
   "source": [
    "!pip install mspca --find-links \"/kaggle/input/mspca-wheel/mspca-0.0.4-py3-none-any.whl\" --no-index"
   ]
  },
  {
   "cell_type": "markdown",
   "id": "7c3c30a4",
   "metadata": {
    "papermill": {
     "duration": 0.007433,
     "end_time": "2024-03-13T15:10:33.650027",
     "exception": false,
     "start_time": "2024-03-13T15:10:33.642594",
     "status": "completed"
    },
    "tags": []
   },
   "source": [
    "# <b><span style='color:#F1A424'>|</span> Configuration</b><a class='anchor' id='configuration'></a> [↑](#top)\n",
    "\n",
    "---\n"
   ]
  },
  {
   "cell_type": "code",
   "execution_count": 3,
   "id": "eb89b004",
   "metadata": {
    "execution": {
     "iopub.execute_input": "2024-03-13T15:10:33.666809Z",
     "iopub.status.busy": "2024-03-13T15:10:33.666071Z",
     "iopub.status.idle": "2024-03-13T15:10:33.672352Z",
     "shell.execute_reply": "2024-03-13T15:10:33.671392Z"
    },
    "papermill": {
     "duration": 0.016913,
     "end_time": "2024-03-13T15:10:33.674339",
     "exception": false,
     "start_time": "2024-03-13T15:10:33.657426",
     "status": "completed"
    },
    "tags": []
   },
   "outputs": [],
   "source": [
    "class config:\n",
    "    BATCH_SIZE = 64\n",
    "    MODEL = \"tf_efficientnet_b0\"\n",
    "    NUM_WORKERS = 0  # multiprocessing.cpu_count()\n",
    "    PRINT_FREQ = 20\n",
    "    SEED = 20\n",
    "    VISUALIZE = False\n",
    "\n",
    "\n",
    "class paths:\n",
    "    MODEL_WEIGHTS = \"/kaggle/input/hms-multi-class-image-classification-train/tf_efficientnet_b0_epoch_3.pth\"\n",
    "    OUTPUT_DIR = \"/kaggle/working/\"\n",
    "    TEST_CSV = \"/kaggle/input/hms-harmful-brain-activity-classification/test.csv\"\n",
    "    TEST_EEGS = \"/kaggle/input/hms-harmful-brain-activity-classification/test_eegs/\"\n",
    "    TEST_SPECTROGRAMS = (\n",
    "        \"/kaggle/input/hms-harmful-brain-activity-classification/test_spectrograms/\"\n",
    "    )\n",
    "\n",
    "\n",
    "model_weights = [\"/kaggle/input/mspca-23-effb0/tf_efficientnet_b0_fold_4_best_True.pth\"]"
   ]
  },
  {
   "cell_type": "markdown",
   "id": "f97215f1",
   "metadata": {
    "papermill": {
     "duration": 0.007355,
     "end_time": "2024-03-13T15:10:33.689148",
     "exception": false,
     "start_time": "2024-03-13T15:10:33.681793",
     "status": "completed"
    },
    "tags": []
   },
   "source": [
    "# <b><span style='color:#F1A424'>|</span> Utils</b><a class='anchor' id='utils'></a> [↑](#top)\n",
    "\n",
    "---\n",
    "\n",
    "Utility functions:\n",
    "\n",
    "- [pywt.wavedec][1]\n",
    "\n",
    "[1]: https://pywavelets.readthedocs.io/en/latest/ref/dwt-discrete-wavelet-transform.html#multilevel-decomposition-using-wavedec\n"
   ]
  },
  {
   "cell_type": "code",
   "execution_count": 4,
   "id": "bedd5855",
   "metadata": {
    "_kg_hide-input": true,
    "execution": {
     "iopub.execute_input": "2024-03-13T15:10:33.705474Z",
     "iopub.status.busy": "2024-03-13T15:10:33.705220Z",
     "iopub.status.idle": "2024-03-13T15:10:33.741998Z",
     "shell.execute_reply": "2024-03-13T15:10:33.741307Z"
    },
    "papermill": {
     "duration": 0.04732,
     "end_time": "2024-03-13T15:10:33.743911",
     "exception": false,
     "start_time": "2024-03-13T15:10:33.696591",
     "status": "completed"
    },
    "tags": []
   },
   "outputs": [],
   "source": [
    "import librosa\n",
    "from mspca import mspca\n",
    "\n",
    "USE_WAVELET = None\n",
    "\n",
    "NAMES = [\"LL\", \"LP\", \"RP\", \"RR\"]\n",
    "\n",
    "FEATS = [\n",
    "    [\"Fp1\", \"F7\", \"T3\", \"T5\", \"O1\"],\n",
    "    [\"Fp1\", \"F3\", \"C3\", \"P3\", \"O1\"],\n",
    "    [\"Fp2\", \"F8\", \"T4\", \"T6\", \"O2\"],\n",
    "    [\"Fp2\", \"F4\", \"C4\", \"P4\", \"O2\"],\n",
    "]\n",
    "\n",
    "\n",
    "def maddest(d, axis: int = None):\n",
    "    \"\"\"\n",
    "    Denoise function.\n",
    "    \"\"\"\n",
    "    return np.mean(np.absolute(d - np.mean(d, axis)), axis)\n",
    "\n",
    "\n",
    "def denoise(x: np.ndarray, wavelet: str = \"haar\", level: int = 1):\n",
    "    coeff = pywt.wavedec(\n",
    "        x, wavelet, mode=\"per\"\n",
    "    )  # multilevel 1D Discrete Wavelet Transform of data.\n",
    "    sigma = (1 / 0.6745) * maddest(coeff[-level])\n",
    "    uthresh = sigma * np.sqrt(2 * np.log(len(x)))\n",
    "    coeff[1:] = (pywt.threshold(i, value=uthresh, mode=\"hard\") for i in coeff[1:])\n",
    "    output = pywt.waverec(coeff, wavelet, mode=\"per\")\n",
    "    return output\n",
    "\n",
    "\n",
    "def spectrogram_from_eeg(parquet_path, eeg_id, display=False):\n",
    "\n",
    "    # LOAD MIDDLE 50 SECONDS OF EEG SERIES\n",
    "    eeg = pd.read_parquet(parquet_path)\n",
    "    middle = (len(eeg) - 10_000) // 2\n",
    "    eeg = eeg.iloc[middle : middle + 10_000]\n",
    "\n",
    "    # VARIABLE TO HOLD SPECTROGRAM\n",
    "    img = np.zeros((128, 256, 4), dtype=\"float32\")\n",
    "\n",
    "    if display:\n",
    "        plt.figure(figsize=(10, 7))\n",
    "    signals = []\n",
    "    mymodel = mspca.MultiscalePCA()\n",
    "    for k in range(4):\n",
    "        COLS = FEATS[k]\n",
    "\n",
    "        for kk in range(4):\n",
    "\n",
    "            # COMPUTE PAIR DIFFERENCES\n",
    "            x = eeg[COLS[kk]].values - eeg[COLS[kk + 1]].values\n",
    "\n",
    "            # FILL NANS\n",
    "            m = np.nanmean(x)\n",
    "            if np.isnan(x).mean() < 1:\n",
    "                x = np.nan_to_num(x, nan=m)\n",
    "            else:\n",
    "                x[:] = 0\n",
    "\n",
    "            # DENOISE\n",
    "            if USE_WAVELET:\n",
    "                x = denoise(x, wavelet=USE_WAVELET)\n",
    "\n",
    "            x = x.flatten()  # Flatten back to 1D if necessary\n",
    "\n",
    "            # Apply MSPCA after reshaping x to 2D\n",
    "            x_2d = x.reshape(-1, 1)  # Required 2D shape\n",
    "\n",
    "            x_transformed = mymodel.fit_transform(\n",
    "                x_2d, wavelet_func=\"db4\", threshold=0.4\n",
    "            )\n",
    "            x_transformed = x_transformed.flatten()\n",
    "\n",
    "            signals.append(x_transformed)\n",
    "\n",
    "            # RAW SPECTROGRAM\n",
    "            mel_spec = librosa.feature.melspectrogram(\n",
    "                y=x,\n",
    "                sr=200,\n",
    "                hop_length=len(x) // 256,\n",
    "                n_fft=1024,\n",
    "                n_mels=128,\n",
    "                fmin=0,\n",
    "                fmax=20,\n",
    "                win_length=128,\n",
    "            )\n",
    "\n",
    "            # LOG TRANSFORM\n",
    "            width = (mel_spec.shape[1] // 32) * 32\n",
    "            mel_spec_db = librosa.power_to_db(mel_spec, ref=np.max).astype(np.float32)[\n",
    "                :, :width\n",
    "            ]\n",
    "\n",
    "            # STANDARDIZE TO -1 TO 1\n",
    "            mel_spec_db = (mel_spec_db + 40) / 40\n",
    "            img[:, :, k] += mel_spec_db\n",
    "\n",
    "        # AVERAGE THE 4 MONTAGE DIFFERENCES\n",
    "        img[:, :, k] /= 4.0\n",
    "\n",
    "        if display:\n",
    "            plt.subplot(2, 2, k + 1)\n",
    "            plt.imshow(img[:, :, k], aspect=\"auto\", origin=\"lower\")\n",
    "            plt.title(f\"EEG {eeg_id} - Spectrogram {NAMES[k]}\")\n",
    "\n",
    "    if display:\n",
    "        plt.show()\n",
    "        plt.figure(figsize=(10, 5))\n",
    "        offset = 0\n",
    "        for k in range(4):\n",
    "            if k > 0:\n",
    "                offset -= signals[3 - k].min()\n",
    "            plt.plot(range(10_000), signals[k] + offset, label=NAMES[3 - k])\n",
    "            offset += signals[3 - k].max()\n",
    "        plt.legend()\n",
    "        plt.title(f\"EEG {eeg_id} Signals\")\n",
    "        plt.show()\n",
    "        print()\n",
    "        print(\"#\" * 25)\n",
    "        print()\n",
    "\n",
    "    return img\n",
    "\n",
    "\n",
    "def plot_spectrogram(spectrogram_path: str):\n",
    "    \"\"\"\n",
    "    Source: https://www.kaggle.com/code/mvvppp/hms-eda-and-domain-journey\n",
    "    Visualize spectrogram recordings from a parquet file.\n",
    "    :param spectrogram_path: path to the spectrogram parquet.\n",
    "    \"\"\"\n",
    "    sample_spect = pd.read_parquet(spectrogram_path)\n",
    "\n",
    "    split_spect = {\n",
    "        \"LL\": sample_spect.filter(regex=\"^LL\", axis=1),\n",
    "        \"RL\": sample_spect.filter(regex=\"^RL\", axis=1),\n",
    "        \"RP\": sample_spect.filter(regex=\"^RP\", axis=1),\n",
    "        \"LP\": sample_spect.filter(regex=\"^LP\", axis=1),\n",
    "    }\n",
    "\n",
    "    fig, axes = plt.subplots(nrows=2, ncols=2, figsize=(15, 12))\n",
    "    axes = axes.flatten()\n",
    "    label_interval = 5\n",
    "    for i, split_name in enumerate(split_spect.keys()):\n",
    "        ax = axes[i]\n",
    "        img = ax.imshow(\n",
    "            np.log(split_spect[split_name]).T,\n",
    "            cmap=\"viridis\",\n",
    "            aspect=\"auto\",\n",
    "            origin=\"lower\",\n",
    "        )\n",
    "        cbar = fig.colorbar(img, ax=ax)\n",
    "        cbar.set_label(\"Log(Value)\")\n",
    "        ax.set_title(split_name)\n",
    "        ax.set_ylabel(\"Frequency (Hz)\")\n",
    "        ax.set_xlabel(\"Time\")\n",
    "\n",
    "        ax.set_yticks(np.arange(len(split_spect[split_name].columns)))\n",
    "        ax.set_yticklabels(\n",
    "            [column_name[3:] for column_name in split_spect[split_name].columns]\n",
    "        )\n",
    "        frequencies = [\n",
    "            column_name[3:] for column_name in split_spect[split_name].columns\n",
    "        ]\n",
    "        ax.set_yticks(\n",
    "            np.arange(0, len(split_spect[split_name].columns), label_interval)\n",
    "        )\n",
    "        ax.set_yticklabels(frequencies[::label_interval])\n",
    "    plt.tight_layout()\n",
    "    plt.show()\n",
    "\n",
    "\n",
    "def seed_everything(seed: int):\n",
    "    random.seed(seed)\n",
    "    np.random.seed(seed)\n",
    "    torch.manual_seed(seed)\n",
    "    os.environ[\"PYTHONHASHSEED\"] = str(seed)\n",
    "\n",
    "\n",
    "def sep():\n",
    "    print(\"-\" * 100)\n",
    "\n",
    "\n",
    "label_to_num = {\"Seizure\": 0, \"LPD\": 1, \"GPD\": 2, \"LRDA\": 3, \"GRDA\": 4, \"Other\": 5}\n",
    "num_to_label = {v: k for k, v in label_to_num.items()}\n",
    "seed_everything(config.SEED)"
   ]
  },
  {
   "cell_type": "markdown",
   "id": "009682e2",
   "metadata": {
    "papermill": {
     "duration": 0.00739,
     "end_time": "2024-03-13T15:10:33.758738",
     "exception": false,
     "start_time": "2024-03-13T15:10:33.751348",
     "status": "completed"
    },
    "tags": []
   },
   "source": [
    "# <b><span style='color:#F1A424'>|</span> Load Data</b><a class='anchor' id='load_data'></a> [↑](#top)\n",
    "\n",
    "---\n",
    "\n",
    "Load the competition's data.\n"
   ]
  },
  {
   "cell_type": "code",
   "execution_count": 5,
   "id": "8468bc1b",
   "metadata": {
    "_cell_guid": "b1076dfc-b9ad-4769-8c92-a6c4dae69d19",
    "_uuid": "8f2839f25d086af736a60e9eeb907d3b93b6e0e5",
    "execution": {
     "iopub.execute_input": "2024-03-13T15:10:33.776354Z",
     "iopub.status.busy": "2024-03-13T15:10:33.775590Z",
     "iopub.status.idle": "2024-03-13T15:10:33.807806Z",
     "shell.execute_reply": "2024-03-13T15:10:33.806984Z"
    },
    "papermill": {
     "duration": 0.042628,
     "end_time": "2024-03-13T15:10:33.809709",
     "exception": false,
     "start_time": "2024-03-13T15:10:33.767081",
     "status": "completed"
    },
    "tags": []
   },
   "outputs": [
    {
     "name": "stdout",
     "output_type": "stream",
     "text": [
      "Test dataframe shape is: (1, 3)\n"
     ]
    },
    {
     "data": {
      "text/html": [
       "<div>\n",
       "<style scoped>\n",
       "    .dataframe tbody tr th:only-of-type {\n",
       "        vertical-align: middle;\n",
       "    }\n",
       "\n",
       "    .dataframe tbody tr th {\n",
       "        vertical-align: top;\n",
       "    }\n",
       "\n",
       "    .dataframe thead th {\n",
       "        text-align: right;\n",
       "    }\n",
       "</style>\n",
       "<table border=\"1\" class=\"dataframe\">\n",
       "  <thead>\n",
       "    <tr style=\"text-align: right;\">\n",
       "      <th></th>\n",
       "      <th>spectrogram_id</th>\n",
       "      <th>eeg_id</th>\n",
       "      <th>patient_id</th>\n",
       "    </tr>\n",
       "  </thead>\n",
       "  <tbody>\n",
       "    <tr>\n",
       "      <th>0</th>\n",
       "      <td>853520</td>\n",
       "      <td>3911565283</td>\n",
       "      <td>6885</td>\n",
       "    </tr>\n",
       "  </tbody>\n",
       "</table>\n",
       "</div>"
      ],
      "text/plain": [
       "   spectrogram_id      eeg_id  patient_id\n",
       "0          853520  3911565283        6885"
      ]
     },
     "execution_count": 5,
     "metadata": {},
     "output_type": "execute_result"
    }
   ],
   "source": [
    "test_df = pd.read_csv(paths.TEST_CSV)\n",
    "print(f\"Test dataframe shape is: {test_df.shape}\")\n",
    "test_df.head()"
   ]
  },
  {
   "cell_type": "markdown",
   "id": "c66d791f",
   "metadata": {
    "papermill": {
     "duration": 0.007583,
     "end_time": "2024-03-13T15:10:33.825176",
     "exception": false,
     "start_time": "2024-03-13T15:10:33.817593",
     "status": "completed"
    },
    "tags": []
   },
   "source": [
    "### <b><span style='color:#F1A424'>Read Spectrograms</span></b>\n"
   ]
  },
  {
   "cell_type": "code",
   "execution_count": 6,
   "id": "5dc081f6",
   "metadata": {
    "execution": {
     "iopub.execute_input": "2024-03-13T15:10:33.842274Z",
     "iopub.status.busy": "2024-03-13T15:10:33.841524Z",
     "iopub.status.idle": "2024-03-13T15:10:34.044428Z",
     "shell.execute_reply": "2024-03-13T15:10:34.043455Z"
    },
    "papermill": {
     "duration": 0.213437,
     "end_time": "2024-03-13T15:10:34.046453",
     "exception": false,
     "start_time": "2024-03-13T15:10:33.833016",
     "status": "completed"
    },
    "tags": []
   },
   "outputs": [
    {
     "name": "stdout",
     "output_type": "stream",
     "text": [
      "There are 1 spectrogram parquets\n"
     ]
    },
    {
     "name": "stderr",
     "output_type": "stream",
     "text": [
      "100%|██████████| 1/1 [00:00<00:00,  5.31it/s]"
     ]
    },
    {
     "name": "stdout",
     "output_type": "stream",
     "text": [
      "CPU times: user 111 ms, sys: 17.1 ms, total: 128 ms\n",
      "Wall time: 195 ms\n"
     ]
    },
    {
     "name": "stderr",
     "output_type": "stream",
     "text": [
      "\n"
     ]
    }
   ],
   "source": [
    "%%time\n",
    "\n",
    "paths_spectrograms = glob(paths.TEST_SPECTROGRAMS + \"*.parquet\")\n",
    "print(f'There are {len(paths_spectrograms)} spectrogram parquets')\n",
    "all_spectrograms = {}\n",
    "\n",
    "for file_path in tqdm(paths_spectrograms):\n",
    "    aux = pd.read_parquet(file_path)\n",
    "    name = int(file_path.split(\"/\")[-1].split('.')[0])\n",
    "    all_spectrograms[name] = aux.iloc[:,1:].values\n",
    "    del aux\n",
    "    \n",
    "if config.VISUALIZE:\n",
    "    idx = np.random.randint(0, len(paths_spectrograms))\n",
    "    spectrogram_path = paths_spectrograms[idx]\n",
    "    plot_spectrogram(spectrogram_path)"
   ]
  },
  {
   "cell_type": "markdown",
   "id": "53eaf593",
   "metadata": {
    "papermill": {
     "duration": 0.008188,
     "end_time": "2024-03-13T15:10:34.063243",
     "exception": false,
     "start_time": "2024-03-13T15:10:34.055055",
     "status": "completed"
    },
    "tags": []
   },
   "source": [
    "### <b><span style='color:#F1A424'>Read EEG Spectrograms</span></b>\n",
    "\n",
    "The resulting `all_eegs` dictionary contains `eeg_id` as keys (`int` keys) and the values are the eeg sequences (as 3-dimensional `np.array`) of shape `(128, 256, 4)`.\n"
   ]
  },
  {
   "cell_type": "code",
   "execution_count": 7,
   "id": "5e23ef29",
   "metadata": {
    "execution": {
     "iopub.execute_input": "2024-03-13T15:10:34.081346Z",
     "iopub.status.busy": "2024-03-13T15:10:34.081017Z",
     "iopub.status.idle": "2024-03-13T15:10:52.669573Z",
     "shell.execute_reply": "2024-03-13T15:10:52.663895Z"
    },
    "papermill": {
     "duration": 18.601711,
     "end_time": "2024-03-13T15:10:52.673249",
     "exception": false,
     "start_time": "2024-03-13T15:10:34.071538",
     "status": "completed"
    },
    "tags": []
   },
   "outputs": [
    {
     "name": "stdout",
     "output_type": "stream",
     "text": [
      "There are 1 EEG spectrograms\n"
     ]
    },
    {
     "name": "stderr",
     "output_type": "stream",
     "text": [
      "100%|██████████| 1/1 [00:18<00:00, 18.56s/it]"
     ]
    },
    {
     "name": "stdout",
     "output_type": "stream",
     "text": [
      "CPU times: user 20 s, sys: 3.85 s, total: 23.8 s\n",
      "Wall time: 18.6 s\n"
     ]
    },
    {
     "name": "stderr",
     "output_type": "stream",
     "text": [
      "\n"
     ]
    }
   ],
   "source": [
    "%%time\n",
    "\n",
    "paths_eegs = glob(paths.TEST_EEGS + \"*.parquet\")\n",
    "print(f'There are {len(paths_eegs)} EEG spectrograms')\n",
    "all_eegs = {}\n",
    "counter = 0\n",
    "\n",
    "for file_path in tqdm(paths_eegs):\n",
    "    eeg_id = file_path.split(\"/\")[-1].split(\".\")[0]\n",
    "    eeg_spectrogram = spectrogram_from_eeg(file_path, counter < 1)\n",
    "    all_eegs[int(eeg_id)] = eeg_spectrogram\n",
    "    counter += 1"
   ]
  },
  {
   "cell_type": "markdown",
   "id": "470c8a6d",
   "metadata": {
    "papermill": {
     "duration": 0.018481,
     "end_time": "2024-03-13T15:10:52.710677",
     "exception": false,
     "start_time": "2024-03-13T15:10:52.692196",
     "status": "completed"
    },
    "tags": []
   },
   "source": [
    "# <b><span style='color:#F1A424'>|</span> Dataset</b><a class='anchor' id='dataset'></a> [↑](#top)\n",
    "\n",
    "---\n",
    "\n",
    "Create a custom `Dataset` to load data.\n",
    "\n",
    "This dataloader outputs 4 spectrogram images as a 4 channel image of size 128x256x4 per train sample. This notebook version is not using data augmention but the code is available below to experiment with `albumentations` data augmention. Just add `augment = True` when creating the train data loader. And consider adding new transformations to the augment function below.\n",
    "\n",
    "A more detailed [explanation][1] of the `r` parameter inside the `__data_generation()` method.\n",
    "\n",
    "Our dataloader outputs both Kaggle spectrograms and EEG spectrogams as 8 channel image of size `(128, 256, 8)`\n",
    "\n",
    "[1]: https://www.kaggle.com/code/cdeotte/efficientnetb0-starter-lb-0-43/comments#2617811\n"
   ]
  },
  {
   "cell_type": "code",
   "execution_count": 8,
   "id": "8afe9683",
   "metadata": {
    "execution": {
     "iopub.execute_input": "2024-03-13T15:10:52.750122Z",
     "iopub.status.busy": "2024-03-13T15:10:52.749245Z",
     "iopub.status.idle": "2024-03-13T15:10:52.778093Z",
     "shell.execute_reply": "2024-03-13T15:10:52.776908Z"
    },
    "papermill": {
     "duration": 0.052316,
     "end_time": "2024-03-13T15:10:52.781346",
     "exception": false,
     "start_time": "2024-03-13T15:10:52.729030",
     "status": "completed"
    },
    "tags": []
   },
   "outputs": [],
   "source": [
    "class CustomDataset(Dataset):\n",
    "    def __init__(\n",
    "        self,\n",
    "        df: pd.DataFrame,\n",
    "        config,\n",
    "        augment: bool = False,\n",
    "        mode: str = \"train\",\n",
    "        specs: Dict[int, np.ndarray] = all_spectrograms,\n",
    "        eeg_specs: Dict[int, np.ndarray] = all_eegs,\n",
    "    ):\n",
    "        self.df = df\n",
    "        self.config = config\n",
    "        self.batch_size = self.config.BATCH_SIZE\n",
    "        self.augment = augment\n",
    "        self.mode = mode\n",
    "        self.spectrograms = all_spectrograms\n",
    "        self.eeg_spectrograms = all_eegs\n",
    "\n",
    "    def __len__(self):\n",
    "        \"\"\"\n",
    "        Denotes the number of batches per epoch.\n",
    "        \"\"\"\n",
    "        return len(self.df)\n",
    "\n",
    "    def __getitem__(self, index):\n",
    "        \"\"\"\n",
    "        Generate one batch of data.\n",
    "        \"\"\"\n",
    "        X, y = self.__data_generation(index)\n",
    "        if self.augment:\n",
    "            X = self.__transform(X)\n",
    "        return torch.tensor(X, dtype=torch.float32), torch.tensor(\n",
    "            y, dtype=torch.float32\n",
    "        )\n",
    "\n",
    "    def __data_generation(self, index):\n",
    "        \"\"\"\n",
    "        Generates data containing batch_size samples.\n",
    "        \"\"\"\n",
    "        X = np.zeros((128, 256, 8), dtype=\"float32\")\n",
    "        y = np.zeros(6, dtype=\"float32\")\n",
    "        img = np.ones((128, 256), dtype=\"float32\")\n",
    "        row = self.df.iloc[index]\n",
    "        if self.mode == \"test\":\n",
    "            r = 0\n",
    "        else:\n",
    "            r = int((row[\"min\"] + row[\"max\"]) // 4)\n",
    "\n",
    "        for region in range(4):\n",
    "            img = self.spectrograms[row.spectrogram_id][\n",
    "                r : r + 300, region * 100 : (region + 1) * 100\n",
    "            ].T\n",
    "\n",
    "            # Log transform spectrogram\n",
    "            img = np.clip(img, np.exp(-4), np.exp(8))\n",
    "            img = np.log(img)\n",
    "\n",
    "            # Standarize per image\n",
    "            ep = 1e-6\n",
    "            mu = np.nanmean(img.flatten())\n",
    "            std = np.nanstd(img.flatten())\n",
    "            img = (img - mu) / (std + ep)\n",
    "            img = np.nan_to_num(img, nan=0.0)\n",
    "            X[14:-14, :, region] = img[:, 22:-22] / 2.0\n",
    "            img = self.eeg_spectrograms[row.eeg_id]\n",
    "            X[:, :, 4:] = img\n",
    "\n",
    "            if self.mode != \"test\":\n",
    "                y = row[label_cols].values.astype(np.float32)\n",
    "\n",
    "        return X, y\n",
    "\n",
    "    def __transform(self, img):\n",
    "        transforms = A.Compose(\n",
    "            [\n",
    "                A.HorizontalFlip(p=0.5),\n",
    "            ]\n",
    "        )\n",
    "        return transforms(image=img)[\"image\"]"
   ]
  },
  {
   "cell_type": "markdown",
   "id": "e368d6c1",
   "metadata": {
    "papermill": {
     "duration": 0.008598,
     "end_time": "2024-03-13T15:10:52.801570",
     "exception": false,
     "start_time": "2024-03-13T15:10:52.792972",
     "status": "completed"
    },
    "tags": []
   },
   "source": [
    "# <b><span style='color:#F1A424'>|</span> DataLoader</b><a class='anchor' id='dataloader'></a> [↑](#top)\n",
    "\n",
    "---\n",
    "\n",
    "Below we display example dataloader spectrogram images.\n"
   ]
  },
  {
   "cell_type": "code",
   "execution_count": 9,
   "id": "994d58e9",
   "metadata": {
    "execution": {
     "iopub.execute_input": "2024-03-13T15:10:52.820322Z",
     "iopub.status.busy": "2024-03-13T15:10:52.820034Z",
     "iopub.status.idle": "2024-03-13T15:10:52.855689Z",
     "shell.execute_reply": "2024-03-13T15:10:52.854691Z"
    },
    "papermill": {
     "duration": 0.047416,
     "end_time": "2024-03-13T15:10:52.857708",
     "exception": false,
     "start_time": "2024-03-13T15:10:52.810292",
     "status": "completed"
    },
    "tags": []
   },
   "outputs": [
    {
     "name": "stdout",
     "output_type": "stream",
     "text": [
      "X shape: torch.Size([128, 256, 8])\n",
      "y shape: torch.Size([6])\n"
     ]
    }
   ],
   "source": [
    "test_dataset = CustomDataset(test_df, config, mode=\"test\")\n",
    "test_loader = DataLoader(\n",
    "    test_dataset,\n",
    "    batch_size=config.BATCH_SIZE,\n",
    "    shuffle=False,\n",
    "    num_workers=config.NUM_WORKERS,\n",
    "    pin_memory=True,\n",
    "    drop_last=False,\n",
    ")\n",
    "X, y = test_dataset[0]\n",
    "print(f\"X shape: {X.shape}\")\n",
    "print(f\"y shape: {y.shape}\")"
   ]
  },
  {
   "cell_type": "markdown",
   "id": "e7b6fdc7",
   "metadata": {
    "papermill": {
     "duration": 0.008595,
     "end_time": "2024-03-13T15:10:52.875102",
     "exception": false,
     "start_time": "2024-03-13T15:10:52.866507",
     "status": "completed"
    },
    "tags": []
   },
   "source": [
    "# <b><span style='color:#F1A424'>|</span> Model</b><a class='anchor' id='model'></a> [↑](#top)\n",
    "\n",
    "---\n",
    "\n",
    "We will be using the [timm](https://github.com/huggingface/pytorch-image-models) library for our models.\n",
    "\n",
    "Our models receives both Kaggle spectrograms and EEG spectrograms from our data loader. We then reshape these 8 spectrograms into 1 large flat image and feed it into EfficientNet.\n"
   ]
  },
  {
   "cell_type": "code",
   "execution_count": 10,
   "id": "b374b283",
   "metadata": {
    "_kg_hide-input": true,
    "execution": {
     "iopub.execute_input": "2024-03-13T15:10:52.894349Z",
     "iopub.status.busy": "2024-03-13T15:10:52.893582Z",
     "iopub.status.idle": "2024-03-13T15:10:52.904882Z",
     "shell.execute_reply": "2024-03-13T15:10:52.904100Z"
    },
    "papermill": {
     "duration": 0.023012,
     "end_time": "2024-03-13T15:10:52.906770",
     "exception": false,
     "start_time": "2024-03-13T15:10:52.883758",
     "status": "completed"
    },
    "tags": []
   },
   "outputs": [],
   "source": [
    "class CustomModel(nn.Module):\n",
    "    def __init__(self, config, num_classes: int = 6):\n",
    "        super(CustomModel, self).__init__()\n",
    "        self.USE_KAGGLE_SPECTROGRAMS = True\n",
    "        self.USE_EEG_SPECTROGRAMS = True\n",
    "        self.model = (\n",
    "            timm.create_model(\n",
    "                config.MODEL,\n",
    "                pretrained=False,\n",
    "                drop_rate=0.1,\n",
    "                drop_path_rate=0.2,\n",
    "            )\n",
    "            if config.MODEL.startswith(\"tf_\")\n",
    "            else torch.hub.load(\n",
    "                \"pytorch/vision:v0.10.0\", config.MODEL, pretrained=False\n",
    "            )\n",
    "        )\n",
    "        self.features = nn.Sequential(*list(self.model.children())[:-2])\n",
    "        self.custom_layers = nn.Sequential(\n",
    "            nn.AdaptiveAvgPool2d(1),\n",
    "            nn.Flatten(),\n",
    "            nn.Linear(self.model.num_features, num_classes),\n",
    "        )\n",
    "\n",
    "    def __reshape_input(self, x):\n",
    "        \"\"\"\n",
    "        Reshapes input (128, 256, 8) -> (512, 512, 3) monotone image.\n",
    "        \"\"\"\n",
    "        # === Get spectrograms ===\n",
    "        spectrograms = [x[:, :, :, i : i + 1] for i in range(4)]\n",
    "        spectrograms = torch.cat(spectrograms, dim=1)\n",
    "\n",
    "        # === Get EEG spectrograms ===\n",
    "        eegs = [x[:, :, :, i : i + 1] for i in range(4, 8)]\n",
    "        eegs = torch.cat(eegs, dim=1)\n",
    "\n",
    "        # === Reshape (512,512,3) ===\n",
    "        if self.USE_KAGGLE_SPECTROGRAMS & self.USE_EEG_SPECTROGRAMS:\n",
    "            x = torch.cat([spectrograms, eegs], dim=2)\n",
    "        elif self.USE_EEG_SPECTROGRAMS:\n",
    "            x = eegs\n",
    "        else:\n",
    "            x = spectrograms\n",
    "\n",
    "        x = torch.cat([x, x, x], dim=3)\n",
    "        x = x.permute(0, 3, 1, 2)\n",
    "        return x\n",
    "\n",
    "    def forward(self, x):\n",
    "        x = self.__reshape_input(x)\n",
    "        x = self.features(x)\n",
    "        x = self.custom_layers(x)\n",
    "        return x"
   ]
  },
  {
   "cell_type": "markdown",
   "id": "b08b8d5a",
   "metadata": {
    "papermill": {
     "duration": 0.008617,
     "end_time": "2024-03-13T15:10:52.924107",
     "exception": false,
     "start_time": "2024-03-13T15:10:52.915490",
     "status": "completed"
    },
    "tags": []
   },
   "source": [
    "# <b><span style='color:#F1A424'>|</span> Inference Function</b><a class='anchor' id='inference_function'></a> [↑](#top)\n",
    "\n",
    "---\n"
   ]
  },
  {
   "cell_type": "code",
   "execution_count": 11,
   "id": "33aa3b4b",
   "metadata": {
    "execution": {
     "iopub.execute_input": "2024-03-13T15:10:52.942562Z",
     "iopub.status.busy": "2024-03-13T15:10:52.942266Z",
     "iopub.status.idle": "2024-03-13T15:10:52.948921Z",
     "shell.execute_reply": "2024-03-13T15:10:52.948148Z"
    },
    "papermill": {
     "duration": 0.018086,
     "end_time": "2024-03-13T15:10:52.950818",
     "exception": false,
     "start_time": "2024-03-13T15:10:52.932732",
     "status": "completed"
    },
    "tags": []
   },
   "outputs": [],
   "source": [
    "def inference_function(test_loader, model, device):\n",
    "    model.eval()\n",
    "    softmax = nn.Softmax(dim=1)\n",
    "    prediction_dict = {}\n",
    "    preds = []\n",
    "    with tqdm(test_loader, unit=\"test_batch\", desc=\"Inference\") as tqdm_test_loader:\n",
    "        for step, (X, y) in enumerate(tqdm_test_loader):\n",
    "            X = X.to(device)\n",
    "            y = y.to(device)\n",
    "            batch_size = y.size(0)\n",
    "            with torch.no_grad():\n",
    "                y_preds = model(X)\n",
    "            y_preds = softmax(y_preds)\n",
    "            preds.append(y_preds.to(\"cpu\").numpy())\n",
    "\n",
    "    prediction_dict[\"predictions\"] = np.concatenate(preds)\n",
    "    return prediction_dict"
   ]
  },
  {
   "cell_type": "markdown",
   "id": "48c9e3e9",
   "metadata": {
    "papermill": {
     "duration": 0.008523,
     "end_time": "2024-03-13T15:10:52.967988",
     "exception": false,
     "start_time": "2024-03-13T15:10:52.959465",
     "status": "completed"
    },
    "tags": []
   },
   "source": [
    "# <b><span style='color:#F1A424'>|</span> Infer</b><a class='anchor' id='infer'></a> [↑](#top)\n",
    "\n",
    "---\n"
   ]
  },
  {
   "cell_type": "code",
   "execution_count": 12,
   "id": "22a4dc10",
   "metadata": {
    "execution": {
     "iopub.execute_input": "2024-03-13T15:10:52.986728Z",
     "iopub.status.busy": "2024-03-13T15:10:52.986143Z",
     "iopub.status.idle": "2024-03-13T15:10:54.898721Z",
     "shell.execute_reply": "2024-03-13T15:10:54.897798Z"
    },
    "papermill": {
     "duration": 1.924384,
     "end_time": "2024-03-13T15:10:54.900988",
     "exception": false,
     "start_time": "2024-03-13T15:10:52.976604",
     "status": "completed"
    },
    "tags": []
   },
   "outputs": [
    {
     "name": "stderr",
     "output_type": "stream",
     "text": [
      "Inference: 100%|██████████| 1/1 [00:00<00:00,  1.25test_batch/s]\n"
     ]
    }
   ],
   "source": [
    "predictions = []\n",
    "\n",
    "for model_weight in model_weights:\n",
    "    test_dataset = CustomDataset(test_df, config, mode=\"test\", augment=False)\n",
    "    train_loader = DataLoader(\n",
    "        test_dataset,\n",
    "        batch_size=config.BATCH_SIZE,\n",
    "        shuffle=False,\n",
    "        num_workers=config.NUM_WORKERS,\n",
    "        pin_memory=True,\n",
    "        drop_last=False,\n",
    "    )\n",
    "    model = CustomModel(config)\n",
    "    checkpoint = torch.load(model_weight)\n",
    "    model.load_state_dict(checkpoint[\"model\"])\n",
    "    model.to(device)\n",
    "    prediction_dict = inference_function(test_loader, model, device)\n",
    "    predictions.append(prediction_dict[\"predictions\"])\n",
    "    torch.cuda.empty_cache()\n",
    "    gc.collect()\n",
    "\n",
    "predictions = np.array(predictions)\n",
    "predictions = np.mean(predictions, axis=0)"
   ]
  },
  {
   "cell_type": "markdown",
   "id": "c84b1968",
   "metadata": {
    "papermill": {
     "duration": 0.009181,
     "end_time": "2024-03-13T15:10:54.920293",
     "exception": false,
     "start_time": "2024-03-13T15:10:54.911112",
     "status": "completed"
    },
    "tags": []
   },
   "source": [
    "# <b><span style='color:#F1A424'>|</span> Save Submission</b><a class='anchor' id='submission'></a> [↑](#top)\n",
    "\n",
    "---\n"
   ]
  },
  {
   "cell_type": "code",
   "execution_count": 13,
   "id": "039dd026",
   "metadata": {
    "execution": {
     "iopub.execute_input": "2024-03-13T15:10:54.940145Z",
     "iopub.status.busy": "2024-03-13T15:10:54.939476Z",
     "iopub.status.idle": "2024-03-13T15:10:54.958107Z",
     "shell.execute_reply": "2024-03-13T15:10:54.957136Z"
    },
    "papermill": {
     "duration": 0.030833,
     "end_time": "2024-03-13T15:10:54.960183",
     "exception": false,
     "start_time": "2024-03-13T15:10:54.929350",
     "status": "completed"
    },
    "tags": []
   },
   "outputs": [
    {
     "name": "stdout",
     "output_type": "stream",
     "text": [
      "Submissionn shape: (1, 7)\n"
     ]
    },
    {
     "data": {
      "text/html": [
       "<div>\n",
       "<style scoped>\n",
       "    .dataframe tbody tr th:only-of-type {\n",
       "        vertical-align: middle;\n",
       "    }\n",
       "\n",
       "    .dataframe tbody tr th {\n",
       "        vertical-align: top;\n",
       "    }\n",
       "\n",
       "    .dataframe thead th {\n",
       "        text-align: right;\n",
       "    }\n",
       "</style>\n",
       "<table border=\"1\" class=\"dataframe\">\n",
       "  <thead>\n",
       "    <tr style=\"text-align: right;\">\n",
       "      <th></th>\n",
       "      <th>eeg_id</th>\n",
       "      <th>seizure_vote</th>\n",
       "      <th>lpd_vote</th>\n",
       "      <th>gpd_vote</th>\n",
       "      <th>lrda_vote</th>\n",
       "      <th>grda_vote</th>\n",
       "      <th>other_vote</th>\n",
       "    </tr>\n",
       "  </thead>\n",
       "  <tbody>\n",
       "    <tr>\n",
       "      <th>0</th>\n",
       "      <td>3911565283</td>\n",
       "      <td>0.311224</td>\n",
       "      <td>0.052149</td>\n",
       "      <td>0.000227</td>\n",
       "      <td>0.356826</td>\n",
       "      <td>0.009442</td>\n",
       "      <td>0.270131</td>\n",
       "    </tr>\n",
       "  </tbody>\n",
       "</table>\n",
       "</div>"
      ],
      "text/plain": [
       "       eeg_id  seizure_vote  lpd_vote  gpd_vote  lrda_vote  grda_vote  \\\n",
       "0  3911565283      0.311224  0.052149  0.000227   0.356826   0.009442   \n",
       "\n",
       "   other_vote  \n",
       "0    0.270131  "
      ]
     },
     "execution_count": 13,
     "metadata": {},
     "output_type": "execute_result"
    }
   ],
   "source": [
    "TARGETS = [\n",
    "    \"seizure_vote\",\n",
    "    \"lpd_vote\",\n",
    "    \"gpd_vote\",\n",
    "    \"lrda_vote\",\n",
    "    \"grda_vote\",\n",
    "    \"other_vote\",\n",
    "]\n",
    "sub = pd.DataFrame({\"eeg_id\": test_df.eeg_id.values})\n",
    "sub[TARGETS] = predictions\n",
    "sub.to_csv(\"submission.csv\", index=False)\n",
    "print(f\"Submissionn shape: {sub.shape}\")\n",
    "sub.head()"
   ]
  }
 ],
 "metadata": {
  "kaggle": {
   "accelerator": "gpu",
   "dataSources": [
    {
     "databundleVersionId": 7469972,
     "sourceId": 59093,
     "sourceType": "competition"
    },
    {
     "datasetId": 4377463,
     "sourceId": 7515232,
     "sourceType": "datasetVersion"
    },
    {
     "datasetId": 4562857,
     "sourceId": 7794167,
     "sourceType": "datasetVersion"
    },
    {
     "datasetId": 4587295,
     "sourceId": 7834979,
     "sourceType": "datasetVersion"
    }
   ],
   "dockerImageVersionId": 30636,
   "isGpuEnabled": true,
   "isInternetEnabled": false,
   "language": "python",
   "sourceType": "notebook"
  },
  "kernelspec": {
   "display_name": "Python 3",
   "language": "python",
   "name": "python3"
  },
  "language_info": {
   "codemirror_mode": {
    "name": "ipython",
    "version": 3
   },
   "file_extension": ".py",
   "mimetype": "text/x-python",
   "name": "python",
   "nbconvert_exporter": "python",
   "pygments_lexer": "ipython3",
   "version": "3.10.12"
  },
  "papermill": {
   "default_parameters": {},
   "duration": 47.425461,
   "end_time": "2024-03-13T15:10:57.093876",
   "environment_variables": {},
   "exception": null,
   "input_path": "__notebook__.ipynb",
   "output_path": "__notebook__.ipynb",
   "parameters": {},
   "start_time": "2024-03-13T15:10:09.668415",
   "version": "2.4.0"
  }
 },
 "nbformat": 4,
 "nbformat_minor": 5
}
